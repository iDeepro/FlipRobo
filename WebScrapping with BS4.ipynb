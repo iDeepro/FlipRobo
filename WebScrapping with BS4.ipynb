{
 "cells": [
  {
   "cell_type": "markdown",
   "metadata": {},
   "source": [
    "# Web-Scrapping with Beautiful Soup"
   ]
  },
  {
   "cell_type": "markdown",
   "metadata": {},
   "source": [
    "#### Content\n",
    "\n",
    "1. [Wikipedia Home Page Headers](#wiki)\n",
    "2. [IMDB Top Rated 100 Movies](#imdb)\n",
    "3. [IMDB Top Rated 100 Indian Movies](#imdbInd)\n",
    "4. [Book Page Reviews](#bookpage)\n",
    "5. [ICC Cricket (Men)](#iccMen)\n",
    "6. [ICC Cricket (Women)](#iccWomen)\n",
    "7. [Amazon Mobiles under ₹20,000](#amazon)\n",
    "8. [San Francisco Weather Data](#sfWeather)"
   ]
  },
  {
   "cell_type": "code",
   "execution_count": 1,
   "metadata": {},
   "outputs": [],
   "source": [
    "import requests\n",
    "from bs4 import BeautifulSoup\n",
    "\n",
    "import pandas as pd"
   ]
  },
  {
   "cell_type": "markdown",
   "metadata": {},
   "source": [
    "##### 1. Wikipedia Home Page Headers <a name='wiki'></a>"
   ]
  },
  {
   "cell_type": "code",
   "execution_count": 2,
   "metadata": {},
   "outputs": [],
   "source": [
    "wikiPage = requests.get('http://en.wikipedia.org/wiki/Main_Page')"
   ]
  },
  {
   "cell_type": "code",
   "execution_count": 3,
   "metadata": {},
   "outputs": [],
   "source": [
    "wikiSoup = BeautifulSoup(wikiPage.content)"
   ]
  },
  {
   "cell_type": "code",
   "execution_count": 4,
   "metadata": {},
   "outputs": [],
   "source": [
    "wikiHeaders = wikiSoup.find_all('h2')"
   ]
  },
  {
   "cell_type": "code",
   "execution_count": 5,
   "metadata": {},
   "outputs": [
    {
     "data": {
      "text/plain": [
       "[\"From today's featured article\",\n",
       " 'Did you know\\xa0...',\n",
       " 'In the news',\n",
       " 'On this day',\n",
       " \"Today's featured picture\",\n",
       " 'Other areas of Wikipedia',\n",
       " \"Wikipedia's sister projects\",\n",
       " 'Wikipedia languages',\n",
       " 'Navigation menu']"
      ]
     },
     "execution_count": 5,
     "metadata": {},
     "output_type": "execute_result"
    }
   ],
   "source": [
    "headerList = []\n",
    "for index in range(len(wikiHeaders)):\n",
    "    headerList.append(wikiHeaders[index].text)\n",
    "    \n",
    "headerList"
   ]
  },
  {
   "cell_type": "code",
   "execution_count": 6,
   "metadata": {},
   "outputs": [],
   "source": [
    "#Saving the header list in a text file\n",
    "with open('header.txt', 'w') as h:\n",
    "    h.write('\\n'.join(headerList))"
   ]
  },
  {
   "cell_type": "markdown",
   "metadata": {},
   "source": [
    "##### 2. IMDB Top Rated 100 Movies <a name='imdb'></a>"
   ]
  },
  {
   "cell_type": "code",
   "execution_count": 7,
   "metadata": {},
   "outputs": [
    {
     "data": {
      "text/plain": [
       "<Response [200]>"
      ]
     },
     "execution_count": 7,
     "metadata": {},
     "output_type": "execute_result"
    }
   ],
   "source": [
    "imdbPage = requests.get('https://www.imdb.com/chart/top/')\n",
    "imdbPage"
   ]
  },
  {
   "cell_type": "code",
   "execution_count": 8,
   "metadata": {},
   "outputs": [],
   "source": [
    "imdbSoup = BeautifulSoup(imdbPage.content, 'html.parser')"
   ]
  },
  {
   "cell_type": "code",
   "execution_count": 9,
   "metadata": {},
   "outputs": [],
   "source": [
    "#Keeping the first 100 items from list returned by .find_all\n",
    "#This list contains all 'td' elements with the class 'titleColumn'\n",
    "imdbMovieTitle = imdbSoup.find_all('td', class_ = 'titleColumn')\n",
    "imdbMovieTitle = imdbMovieTitle[0:100]"
   ]
  },
  {
   "cell_type": "code",
   "execution_count": 10,
   "metadata": {},
   "outputs": [],
   "source": [
    "#Keeping the first 100 items from list returned by .find_all\n",
    "#This list contains all 'td' elements with the class 'ratingColumn imdbRating'\n",
    "imdbMovieRating = imdbSoup.find_all('td', class_ = 'ratingColumn imdbRating')\n",
    "imdbMovieRating = imdbMovieRating[0:100]"
   ]
  },
  {
   "cell_type": "code",
   "execution_count": 11,
   "metadata": {},
   "outputs": [],
   "source": [
    "#Extracting the Movie title, release year and rating \n",
    "\n",
    "movieTitles = []\n",
    "releaseYear = []\n",
    "rating = []\n",
    "for index in range(len(imdbMovieTitle)):\n",
    "    ls = imdbMovieTitle[index].text.split()[1:len(imdbMovieTitle[index].text.split())-1]\n",
    "    year = imdbMovieTitle[index].text.split()[-1]\n",
    "    movieTitles.append(\" \".join(ls))\n",
    "    releaseYear.append(year[year.find(\"(\")+1:year.find(\")\")])\n",
    "    rating.append(imdbMovieRating[index].text.split()[0])"
   ]
  },
  {
   "cell_type": "code",
   "execution_count": 12,
   "metadata": {},
   "outputs": [
    {
     "data": {
      "text/html": [
       "<div>\n",
       "<style scoped>\n",
       "    .dataframe tbody tr th:only-of-type {\n",
       "        vertical-align: middle;\n",
       "    }\n",
       "\n",
       "    .dataframe tbody tr th {\n",
       "        vertical-align: top;\n",
       "    }\n",
       "\n",
       "    .dataframe thead th {\n",
       "        text-align: right;\n",
       "    }\n",
       "</style>\n",
       "<table border=\"1\" class=\"dataframe\">\n",
       "  <thead>\n",
       "    <tr style=\"text-align: right;\">\n",
       "      <th></th>\n",
       "      <th>Movie Title</th>\n",
       "      <th>Year of Release</th>\n",
       "      <th>Ratings</th>\n",
       "    </tr>\n",
       "  </thead>\n",
       "  <tbody>\n",
       "    <tr>\n",
       "      <th>0</th>\n",
       "      <td>The Shawshank Redemption</td>\n",
       "      <td>1994</td>\n",
       "      <td>9.2</td>\n",
       "    </tr>\n",
       "    <tr>\n",
       "      <th>1</th>\n",
       "      <td>The Godfather</td>\n",
       "      <td>1972</td>\n",
       "      <td>9.1</td>\n",
       "    </tr>\n",
       "    <tr>\n",
       "      <th>2</th>\n",
       "      <td>The Godfather: Part II</td>\n",
       "      <td>1974</td>\n",
       "      <td>9.0</td>\n",
       "    </tr>\n",
       "    <tr>\n",
       "      <th>3</th>\n",
       "      <td>The Dark Knight</td>\n",
       "      <td>2008</td>\n",
       "      <td>9.0</td>\n",
       "    </tr>\n",
       "    <tr>\n",
       "      <th>4</th>\n",
       "      <td>12 Angry Men</td>\n",
       "      <td>1957</td>\n",
       "      <td>8.9</td>\n",
       "    </tr>\n",
       "    <tr>\n",
       "      <th>...</th>\n",
       "      <td>...</td>\n",
       "      <td>...</td>\n",
       "      <td>...</td>\n",
       "    </tr>\n",
       "    <tr>\n",
       "      <th>95</th>\n",
       "      <td>Citizen Kane</td>\n",
       "      <td>1941</td>\n",
       "      <td>8.3</td>\n",
       "    </tr>\n",
       "    <tr>\n",
       "      <th>96</th>\n",
       "      <td>Dangal</td>\n",
       "      <td>2016</td>\n",
       "      <td>8.3</td>\n",
       "    </tr>\n",
       "    <tr>\n",
       "      <th>97</th>\n",
       "      <td>Idi i smotri</td>\n",
       "      <td>1985</td>\n",
       "      <td>8.2</td>\n",
       "    </tr>\n",
       "    <tr>\n",
       "      <th>98</th>\n",
       "      <td>The Kid</td>\n",
       "      <td>1921</td>\n",
       "      <td>8.2</td>\n",
       "    </tr>\n",
       "    <tr>\n",
       "      <th>99</th>\n",
       "      <td>Singin' in the Rain</td>\n",
       "      <td>1952</td>\n",
       "      <td>8.2</td>\n",
       "    </tr>\n",
       "  </tbody>\n",
       "</table>\n",
       "<p>100 rows × 3 columns</p>\n",
       "</div>"
      ],
      "text/plain": [
       "                 Movie Title Year of Release Ratings\n",
       "0   The Shawshank Redemption            1994     9.2\n",
       "1              The Godfather            1972     9.1\n",
       "2     The Godfather: Part II            1974     9.0\n",
       "3            The Dark Knight            2008     9.0\n",
       "4               12 Angry Men            1957     8.9\n",
       "..                       ...             ...     ...\n",
       "95              Citizen Kane            1941     8.3\n",
       "96                    Dangal            2016     8.3\n",
       "97              Idi i smotri            1985     8.2\n",
       "98                   The Kid            1921     8.2\n",
       "99       Singin' in the Rain            1952     8.2\n",
       "\n",
       "[100 rows x 3 columns]"
      ]
     },
     "execution_count": 12,
     "metadata": {},
     "output_type": "execute_result"
    }
   ],
   "source": [
    "#Making a dataframe with all the movie information\n",
    "movieDf = pd.DataFrame(movieTitles, columns=['Movie Title'])\n",
    "movieDf['Year of Release'] = releaseYear\n",
    "movieDf['Ratings'] = rating\n",
    "movieDf"
   ]
  },
  {
   "cell_type": "code",
   "execution_count": 13,
   "metadata": {},
   "outputs": [],
   "source": [
    "#Saving in a excel file\n",
    "movieDf.to_csv('IMDB Top Rated 100 Movies.csv')"
   ]
  },
  {
   "cell_type": "markdown",
   "metadata": {},
   "source": [
    "##### 3. IMDB Top Rated 100 Indian Movies <a name='imdbInd'></a>"
   ]
  },
  {
   "cell_type": "code",
   "execution_count": 14,
   "metadata": {},
   "outputs": [
    {
     "data": {
      "text/plain": [
       "<Response [200]>"
      ]
     },
     "execution_count": 14,
     "metadata": {},
     "output_type": "execute_result"
    }
   ],
   "source": [
    "imdbIndiaPage = requests.get('https://www.imdb.com/india/top-rated-indian-movies/?pf_rd_m=A2FGELUUNOQJNL&pf_rd_p=2e9dfa9b-3e4d-4d39-acd2-8af11f252a59&pf_rd_r=9MGQC1N7X84HA9ET22FP&pf_rd_s=right-5&pf_rd_t=15506&pf_rd_i=top&ref_=chttp_india_tr_rhs_1')\n",
    "imdbIndiaPage"
   ]
  },
  {
   "cell_type": "code",
   "execution_count": 15,
   "metadata": {},
   "outputs": [],
   "source": [
    "imdbIndiaSoup = BeautifulSoup(imdbIndiaPage.content, 'html.parser')"
   ]
  },
  {
   "cell_type": "code",
   "execution_count": 16,
   "metadata": {},
   "outputs": [],
   "source": [
    "#Keeping the first 100 items from list returned by .find_all\n",
    "#This list contains all 'td' elements with the class 'titleColumn'\n",
    "imdbIndiaTitle = imdbIndiaSoup.find_all('td', class_ = 'titleColumn')\n",
    "imdbIndiaTitle = imdbIndiaTitle[0:100]"
   ]
  },
  {
   "cell_type": "code",
   "execution_count": 17,
   "metadata": {},
   "outputs": [],
   "source": [
    "#Keeping the first 100 items from list returned by .find_all\n",
    "#This list contains all 'td' elements with the class 'ratingColumn imdbRating'\n",
    "imdbIndiaRating = imdbIndiaSoup.find_all('td', class_ = 'ratingColumn imdbRating')\n",
    "imdbIndiaRating = imdbIndiaRating[0:100]"
   ]
  },
  {
   "cell_type": "code",
   "execution_count": 18,
   "metadata": {},
   "outputs": [],
   "source": [
    "movieIndiaTitles = []\n",
    "releaseIndiaYear = []\n",
    "ratingIndia = []\n",
    "for index in range(len(imdbMovieTitle)):\n",
    "    ls = imdbIndiaTitle[index].text.split()[1:len(imdbIndiaTitle[index].text.split())-1]\n",
    "    year = imdbIndiaTitle[index].text.split()[-1]\n",
    "    movieIndiaTitles.append(\" \".join(ls))\n",
    "    releaseIndiaYear.append(year[year.find(\"(\")+1:year.find(\")\")])\n",
    "    ratingIndia.append(imdbIndiaRating[index].text.split()[0])"
   ]
  },
  {
   "cell_type": "code",
   "execution_count": 19,
   "metadata": {},
   "outputs": [
    {
     "data": {
      "text/html": [
       "<div>\n",
       "<style scoped>\n",
       "    .dataframe tbody tr th:only-of-type {\n",
       "        vertical-align: middle;\n",
       "    }\n",
       "\n",
       "    .dataframe tbody tr th {\n",
       "        vertical-align: top;\n",
       "    }\n",
       "\n",
       "    .dataframe thead th {\n",
       "        text-align: right;\n",
       "    }\n",
       "</style>\n",
       "<table border=\"1\" class=\"dataframe\">\n",
       "  <thead>\n",
       "    <tr style=\"text-align: right;\">\n",
       "      <th></th>\n",
       "      <th>Movie Title</th>\n",
       "      <th>Year of Release</th>\n",
       "      <th>Ratings</th>\n",
       "    </tr>\n",
       "  </thead>\n",
       "  <tbody>\n",
       "    <tr>\n",
       "      <th>0</th>\n",
       "      <td>Pather Panchali</td>\n",
       "      <td>1955</td>\n",
       "      <td>8.5</td>\n",
       "    </tr>\n",
       "    <tr>\n",
       "      <th>1</th>\n",
       "      <td>Gol Maal</td>\n",
       "      <td>1979</td>\n",
       "      <td>8.5</td>\n",
       "    </tr>\n",
       "    <tr>\n",
       "      <th>2</th>\n",
       "      <td>Nayakan</td>\n",
       "      <td>1987</td>\n",
       "      <td>8.5</td>\n",
       "    </tr>\n",
       "    <tr>\n",
       "      <th>3</th>\n",
       "      <td>Anbe Sivam</td>\n",
       "      <td>2003</td>\n",
       "      <td>8.5</td>\n",
       "    </tr>\n",
       "    <tr>\n",
       "      <th>4</th>\n",
       "      <td>Apur Sansar</td>\n",
       "      <td>1959</td>\n",
       "      <td>8.5</td>\n",
       "    </tr>\n",
       "    <tr>\n",
       "      <th>...</th>\n",
       "      <td>...</td>\n",
       "      <td>...</td>\n",
       "      <td>...</td>\n",
       "    </tr>\n",
       "    <tr>\n",
       "      <th>95</th>\n",
       "      <td>The Legend of Bhagat Singh</td>\n",
       "      <td>2002</td>\n",
       "      <td>8.0</td>\n",
       "    </tr>\n",
       "    <tr>\n",
       "      <th>96</th>\n",
       "      <td>Barfi!</td>\n",
       "      <td>2012</td>\n",
       "      <td>8.0</td>\n",
       "    </tr>\n",
       "    <tr>\n",
       "      <th>97</th>\n",
       "      <td>Pink</td>\n",
       "      <td>2016</td>\n",
       "      <td>8.0</td>\n",
       "    </tr>\n",
       "    <tr>\n",
       "      <th>98</th>\n",
       "      <td>Bommarillu</td>\n",
       "      <td>2006</td>\n",
       "      <td>8.0</td>\n",
       "    </tr>\n",
       "    <tr>\n",
       "      <th>99</th>\n",
       "      <td>Bombay</td>\n",
       "      <td>1995</td>\n",
       "      <td>8.0</td>\n",
       "    </tr>\n",
       "  </tbody>\n",
       "</table>\n",
       "<p>100 rows × 3 columns</p>\n",
       "</div>"
      ],
      "text/plain": [
       "                   Movie Title Year of Release Ratings\n",
       "0              Pather Panchali            1955     8.5\n",
       "1                     Gol Maal            1979     8.5\n",
       "2                      Nayakan            1987     8.5\n",
       "3                   Anbe Sivam            2003     8.5\n",
       "4                  Apur Sansar            1959     8.5\n",
       "..                         ...             ...     ...\n",
       "95  The Legend of Bhagat Singh            2002     8.0\n",
       "96                      Barfi!            2012     8.0\n",
       "97                        Pink            2016     8.0\n",
       "98                  Bommarillu            2006     8.0\n",
       "99                      Bombay            1995     8.0\n",
       "\n",
       "[100 rows x 3 columns]"
      ]
     },
     "execution_count": 19,
     "metadata": {},
     "output_type": "execute_result"
    }
   ],
   "source": [
    "#Making a dataframe with all the movie information\n",
    "movieIndiaDf = pd.DataFrame(movieIndiaTitles, columns=['Movie Title'])\n",
    "movieIndiaDf['Year of Release'] = releaseIndiaYear\n",
    "movieIndiaDf['Ratings'] = ratingIndia\n",
    "movieIndiaDf"
   ]
  },
  {
   "cell_type": "code",
   "execution_count": 20,
   "metadata": {},
   "outputs": [],
   "source": [
    "movieIndiaDf.to_csv('IMDB Top Rated 100 Indian Movies.csv')"
   ]
  },
  {
   "cell_type": "markdown",
   "metadata": {},
   "source": [
    "##### 4. Book Page Reviews <a name= 'bookpage'></a>"
   ]
  },
  {
   "cell_type": "code",
   "execution_count": 21,
   "metadata": {},
   "outputs": [
    {
     "data": {
      "text/plain": [
       "<Response [200]>"
      ]
     },
     "execution_count": 21,
     "metadata": {},
     "output_type": "execute_result"
    }
   ],
   "source": [
    "bookReviewPage = requests.get('https://bookpage.com/reviews')\n",
    "bookReviewPage"
   ]
  },
  {
   "cell_type": "code",
   "execution_count": 22,
   "metadata": {},
   "outputs": [],
   "source": [
    "bookReviewSoup = BeautifulSoup(bookReviewPage.content)"
   ]
  },
  {
   "cell_type": "code",
   "execution_count": 23,
   "metadata": {},
   "outputs": [],
   "source": [
    "bookInfo = bookReviewSoup.find_all('div', class_ = 'flex-article-content')\n",
    "bookInfo = bookInfo[0:5]"
   ]
  },
  {
   "cell_type": "code",
   "execution_count": 24,
   "metadata": {},
   "outputs": [],
   "source": [
    "bookTitle = []\n",
    "bookAuthor = []\n",
    "bookGenre = []\n",
    "bookReview = []\n",
    "\n",
    "for index in range(len(bookInfo)):\n",
    "    bookTitle.append(bookInfo[index].h4.text.replace('\\n','').replace('★', ''))\n",
    "    bookAuthor.append(bookInfo[index].find('p', class_='sans bold').text.replace('\\n',''))\n",
    "    bookGenre.append(bookInfo[index].find('p', class_ = 'genre-links hidden-phone').text.replace('\\n','').replace('/',','))\n",
    "    if bookInfo[index].find('p', class_ = 'excerpt').text == '\\n':\n",
    "        bookReview.append(bookInfo[index].find_all('p')[3].text.replace('\\n',''))\n",
    "    else:\n",
    "        bookReview.append(bookInfo[index].find('p', class_ = 'excerpt').text.replace('\\n',''))"
   ]
  },
  {
   "cell_type": "code",
   "execution_count": 25,
   "metadata": {},
   "outputs": [],
   "source": [
    "bookReviewDf = pd.DataFrame()"
   ]
  },
  {
   "cell_type": "code",
   "execution_count": 26,
   "metadata": {},
   "outputs": [],
   "source": [
    "bookReviewDf['Title'] = bookTitle\n",
    "bookReviewDf['Author'] = bookAuthor\n",
    "bookReviewDf['Genre'] = bookGenre\n",
    "bookReviewDf['Review'] = bookReview"
   ]
  },
  {
   "cell_type": "code",
   "execution_count": 27,
   "metadata": {},
   "outputs": [
    {
     "data": {
      "text/html": [
       "<div>\n",
       "<style scoped>\n",
       "    .dataframe tbody tr th:only-of-type {\n",
       "        vertical-align: middle;\n",
       "    }\n",
       "\n",
       "    .dataframe tbody tr th {\n",
       "        vertical-align: top;\n",
       "    }\n",
       "\n",
       "    .dataframe thead th {\n",
       "        text-align: right;\n",
       "    }\n",
       "</style>\n",
       "<table border=\"1\" class=\"dataframe\">\n",
       "  <thead>\n",
       "    <tr style=\"text-align: right;\">\n",
       "      <th></th>\n",
       "      <th>Title</th>\n",
       "      <th>Author</th>\n",
       "      <th>Genre</th>\n",
       "      <th>Review</th>\n",
       "    </tr>\n",
       "  </thead>\n",
       "  <tbody>\n",
       "    <tr>\n",
       "      <th>0</th>\n",
       "      <td>Secrets of Happiness</td>\n",
       "      <td>Joan Silber</td>\n",
       "      <td>Fiction , Family Drama</td>\n",
       "      <td>Rarely is a novel of moral ideas so buoyant in...</td>\n",
       "    </tr>\n",
       "    <tr>\n",
       "      <th>1</th>\n",
       "      <td>Olympus, Texas</td>\n",
       "      <td>Stacey Swann</td>\n",
       "      <td>Fiction , Family Drama</td>\n",
       "      <td>A man’s return to his Texas hometown sets off ...</td>\n",
       "    </tr>\n",
       "    <tr>\n",
       "      <th>2</th>\n",
       "      <td>From Little Tokyo, With Love</td>\n",
       "      <td>Sarah Kuhn</td>\n",
       "      <td>YA , YA Fiction</td>\n",
       "      <td>Rika Rakuyama loves Little Tokyo, from its ram...</td>\n",
       "    </tr>\n",
       "    <tr>\n",
       "      <th>3</th>\n",
       "      <td>Seed to Dust</td>\n",
       "      <td>Marc Hamer</td>\n",
       "      <td>Nonfiction , Memoir , Nature</td>\n",
       "      <td>Hamer uses his deep knowledge of gardens to gr...</td>\n",
       "    </tr>\n",
       "    <tr>\n",
       "      <th>4</th>\n",
       "      <td>Before I Saw You</td>\n",
       "      <td>Emily Houghton</td>\n",
       "      <td>Romance , Contemporary Romance</td>\n",
       "      <td>Emily Houghton’s Before I Saw You is a tender,...</td>\n",
       "    </tr>\n",
       "  </tbody>\n",
       "</table>\n",
       "</div>"
      ],
      "text/plain": [
       "                          Title          Author  \\\n",
       "0          Secrets of Happiness     Joan Silber   \n",
       "1                Olympus, Texas    Stacey Swann   \n",
       "2  From Little Tokyo, With Love      Sarah Kuhn   \n",
       "3                  Seed to Dust      Marc Hamer   \n",
       "4              Before I Saw You  Emily Houghton   \n",
       "\n",
       "                            Genre  \\\n",
       "0          Fiction , Family Drama   \n",
       "1          Fiction , Family Drama   \n",
       "2                 YA , YA Fiction   \n",
       "3    Nonfiction , Memoir , Nature   \n",
       "4  Romance , Contemporary Romance   \n",
       "\n",
       "                                              Review  \n",
       "0  Rarely is a novel of moral ideas so buoyant in...  \n",
       "1  A man’s return to his Texas hometown sets off ...  \n",
       "2  Rika Rakuyama loves Little Tokyo, from its ram...  \n",
       "3  Hamer uses his deep knowledge of gardens to gr...  \n",
       "4  Emily Houghton’s Before I Saw You is a tender,...  "
      ]
     },
     "execution_count": 27,
     "metadata": {},
     "output_type": "execute_result"
    }
   ],
   "source": [
    "bookReviewDf"
   ]
  },
  {
   "cell_type": "markdown",
   "metadata": {},
   "source": [
    "##### 5. ICC Cricket (Men) <a name='iccMen'></a>\n",
    "(i) Top 10 ODI teams in men’s cricket along with the records for matches, points and rating."
   ]
  },
  {
   "cell_type": "code",
   "execution_count": 28,
   "metadata": {},
   "outputs": [],
   "source": [
    "odiMenTeams = requests.get('https://www.icc-cricket.com/rankings/mens/team-rankings/odi')"
   ]
  },
  {
   "cell_type": "code",
   "execution_count": 29,
   "metadata": {},
   "outputs": [],
   "source": [
    "odiMenTeamsSoup = BeautifulSoup(odiMenTeams.content)"
   ]
  },
  {
   "cell_type": "code",
   "execution_count": 30,
   "metadata": {},
   "outputs": [],
   "source": [
    "#Initialising empty list to hold ranking, county, match, points and ratings\n",
    "menRanking = []\n",
    "menCountry = []\n",
    "menMatch = []\n",
    "menPoints = []\n",
    "menRating = []"
   ]
  },
  {
   "cell_type": "code",
   "execution_count": 31,
   "metadata": {},
   "outputs": [],
   "source": [
    "#Manually adding the first items in the lists above since the country with Ranking 1 has different class names\n",
    "#then the rest of the countries\n",
    "firstRank = odiMenTeamsSoup.find('td', class_ = 'rankings-block__banner--pos')\n",
    "menRanking.append(firstRank.text)\n",
    "firstCountry = odiMenTeamsSoup.find('td', class_ = 'rankings-block__banner--team-name')\n",
    "menCountry.append(firstCountry.text.split('\\n')[2])\n",
    "firstMatch = odiMenTeamsSoup.find('td', class_ = 'rankings-block__banner--matches')\n",
    "menMatch.append(firstMatch.text)\n",
    "firstPoints = odiMenTeamsSoup.find('td', class_ = 'rankings-block__banner--points')\n",
    "menPoints.append(firstPoints.text.replace(',',''))\n",
    "firstRating = odiMenTeamsSoup.find('td', class_ = 'rankings-block__banner--rating u-text-right')\n",
    "menRating.append(firstRating.text.replace('\\n', '').split()[0])"
   ]
  },
  {
   "cell_type": "code",
   "execution_count": 32,
   "metadata": {},
   "outputs": [],
   "source": [
    "odiMen = odiMenTeamsSoup.find_all('tr', class_ = 'table-body')\n",
    "odiMen = odiMen[0:9]"
   ]
  },
  {
   "cell_type": "markdown",
   "metadata": {},
   "source": [
    "In the following cells I am taking just the first element of odiMen and examining which combination of commands and functions produces the desired output. Once the right format is identified, we can use for loop to find the rest of the data."
   ]
  },
  {
   "cell_type": "code",
   "execution_count": 33,
   "metadata": {},
   "outputs": [
    {
     "data": {
      "text/plain": [
       "'2'"
      ]
     },
     "execution_count": 33,
     "metadata": {},
     "output_type": "execute_result"
    }
   ],
   "source": [
    "odiMen[0].find('td', class_ = 'table-body__cell table-body__cell--position u-text-right').text"
   ]
  },
  {
   "cell_type": "code",
   "execution_count": 34,
   "metadata": {},
   "outputs": [
    {
     "data": {
      "text/plain": [
       "'Australia'"
      ]
     },
     "execution_count": 34,
     "metadata": {},
     "output_type": "execute_result"
    }
   ],
   "source": [
    "odiMen[0].find('td', class_ = 'table-body__cell rankings-table__team').text.split('\\n')[2]"
   ]
  },
  {
   "cell_type": "code",
   "execution_count": 35,
   "metadata": {},
   "outputs": [
    {
     "data": {
      "text/plain": [
       "'25'"
      ]
     },
     "execution_count": 35,
     "metadata": {},
     "output_type": "execute_result"
    }
   ],
   "source": [
    "odiMen[0].find('td', class_ = 'table-body__cell u-center-text').text"
   ]
  },
  {
   "cell_type": "code",
   "execution_count": 36,
   "metadata": {},
   "outputs": [
    {
     "data": {
      "text/plain": [
       "'2945'"
      ]
     },
     "execution_count": 36,
     "metadata": {},
     "output_type": "execute_result"
    }
   ],
   "source": [
    "odiMen[0].find_all('td', class_ = 'table-body__cell u-center-text')[1].text.replace(',','')"
   ]
  },
  {
   "cell_type": "code",
   "execution_count": 37,
   "metadata": {},
   "outputs": [
    {
     "data": {
      "text/plain": [
       "'118'"
      ]
     },
     "execution_count": 37,
     "metadata": {},
     "output_type": "execute_result"
    }
   ],
   "source": [
    "odiMen[0].find('td', class_ = 'table-body__cell u-text-right rating').text"
   ]
  },
  {
   "cell_type": "code",
   "execution_count": 38,
   "metadata": {},
   "outputs": [],
   "source": [
    "for index in range(len(odiMen)):\n",
    "    menRanking.append(odiMen[index].find('td', class_ = 'table-body__cell table-body__cell--position u-text-right').text)\n",
    "    menCountry.append(odiMen[index].find('td', class_ = 'table-body__cell rankings-table__team').text.split('\\n')[2])\n",
    "    menMatch.append(odiMen[index].find('td', class_ = 'table-body__cell u-center-text').text)\n",
    "    menPoints.append(odiMen[index].find_all('td', class_ = 'table-body__cell u-center-text')[1].text.replace(',',''))\n",
    "    menRating.append(odiMen[index].find('td', class_ = 'table-body__cell u-text-right rating').text)"
   ]
  },
  {
   "cell_type": "code",
   "execution_count": 39,
   "metadata": {},
   "outputs": [],
   "source": [
    "#Making a dataframe to hold all the scrapped information\n",
    "menTopOdiTeam = pd.DataFrame()\n",
    "menTopOdiTeam['Ranking'] = menRanking\n",
    "menTopOdiTeam['Country'] = menCountry\n",
    "menTopOdiTeam['Match'] = menMatch\n",
    "menTopOdiTeam['Points'] = menPoints\n",
    "menTopOdiTeam['Rating'] = menRating"
   ]
  },
  {
   "cell_type": "code",
   "execution_count": 40,
   "metadata": {},
   "outputs": [
    {
     "data": {
      "text/html": [
       "<div>\n",
       "<style scoped>\n",
       "    .dataframe tbody tr th:only-of-type {\n",
       "        vertical-align: middle;\n",
       "    }\n",
       "\n",
       "    .dataframe tbody tr th {\n",
       "        vertical-align: top;\n",
       "    }\n",
       "\n",
       "    .dataframe thead th {\n",
       "        text-align: right;\n",
       "    }\n",
       "</style>\n",
       "<table border=\"1\" class=\"dataframe\">\n",
       "  <thead>\n",
       "    <tr style=\"text-align: right;\">\n",
       "      <th></th>\n",
       "      <th>Ranking</th>\n",
       "      <th>Country</th>\n",
       "      <th>Match</th>\n",
       "      <th>Points</th>\n",
       "      <th>Rating</th>\n",
       "    </tr>\n",
       "  </thead>\n",
       "  <tbody>\n",
       "    <tr>\n",
       "      <th>0</th>\n",
       "      <td>1</td>\n",
       "      <td>New Zealand</td>\n",
       "      <td>17</td>\n",
       "      <td>2054</td>\n",
       "      <td>121</td>\n",
       "    </tr>\n",
       "    <tr>\n",
       "      <th>1</th>\n",
       "      <td>2</td>\n",
       "      <td>Australia</td>\n",
       "      <td>25</td>\n",
       "      <td>2945</td>\n",
       "      <td>118</td>\n",
       "    </tr>\n",
       "    <tr>\n",
       "      <th>2</th>\n",
       "      <td>3</td>\n",
       "      <td>India</td>\n",
       "      <td>29</td>\n",
       "      <td>3344</td>\n",
       "      <td>115</td>\n",
       "    </tr>\n",
       "    <tr>\n",
       "      <th>3</th>\n",
       "      <td>4</td>\n",
       "      <td>England</td>\n",
       "      <td>27</td>\n",
       "      <td>3100</td>\n",
       "      <td>115</td>\n",
       "    </tr>\n",
       "    <tr>\n",
       "      <th>4</th>\n",
       "      <td>5</td>\n",
       "      <td>South Africa</td>\n",
       "      <td>20</td>\n",
       "      <td>2137</td>\n",
       "      <td>107</td>\n",
       "    </tr>\n",
       "    <tr>\n",
       "      <th>5</th>\n",
       "      <td>6</td>\n",
       "      <td>Pakistan</td>\n",
       "      <td>24</td>\n",
       "      <td>2323</td>\n",
       "      <td>97</td>\n",
       "    </tr>\n",
       "    <tr>\n",
       "      <th>6</th>\n",
       "      <td>7</td>\n",
       "      <td>Bangladesh</td>\n",
       "      <td>24</td>\n",
       "      <td>2157</td>\n",
       "      <td>90</td>\n",
       "    </tr>\n",
       "    <tr>\n",
       "      <th>7</th>\n",
       "      <td>8</td>\n",
       "      <td>West Indies</td>\n",
       "      <td>27</td>\n",
       "      <td>2222</td>\n",
       "      <td>82</td>\n",
       "    </tr>\n",
       "    <tr>\n",
       "      <th>8</th>\n",
       "      <td>9</td>\n",
       "      <td>Sri Lanka</td>\n",
       "      <td>21</td>\n",
       "      <td>1652</td>\n",
       "      <td>79</td>\n",
       "    </tr>\n",
       "    <tr>\n",
       "      <th>9</th>\n",
       "      <td>10</td>\n",
       "      <td>Afghanistan</td>\n",
       "      <td>17</td>\n",
       "      <td>1054</td>\n",
       "      <td>62</td>\n",
       "    </tr>\n",
       "  </tbody>\n",
       "</table>\n",
       "</div>"
      ],
      "text/plain": [
       "  Ranking       Country Match Points Rating\n",
       "0       1   New Zealand    17   2054    121\n",
       "1       2     Australia    25   2945    118\n",
       "2       3         India    29   3344    115\n",
       "3       4       England    27   3100    115\n",
       "4       5  South Africa    20   2137    107\n",
       "5       6      Pakistan    24   2323     97\n",
       "6       7    Bangladesh    24   2157     90\n",
       "7       8   West Indies    27   2222     82\n",
       "8       9     Sri Lanka    21   1652     79\n",
       "9      10   Afghanistan    17   1054     62"
      ]
     },
     "execution_count": 40,
     "metadata": {},
     "output_type": "execute_result"
    }
   ],
   "source": [
    "menTopOdiTeam"
   ]
  },
  {
   "cell_type": "markdown",
   "metadata": {},
   "source": [
    "(ii) Top 10 ODI Batsmen in men along with the records of their team and rating."
   ]
  },
  {
   "cell_type": "code",
   "execution_count": 41,
   "metadata": {},
   "outputs": [],
   "source": [
    "menBatsman = requests.get('https://www.icc-cricket.com/rankings/mens/player-rankings/odi/batting')"
   ]
  },
  {
   "cell_type": "code",
   "execution_count": 42,
   "metadata": {},
   "outputs": [],
   "source": [
    "menBatsmanSoup = BeautifulSoup(menBatsman.content)"
   ]
  },
  {
   "cell_type": "code",
   "execution_count": 43,
   "metadata": {},
   "outputs": [],
   "source": [
    "#Initialising empty list to hold batsman ranking, name, county, and ratings\n",
    "menBatsRanking = [rank for rank in range(1,11)]\n",
    "menBatsName = []\n",
    "menBatsCountry = []\n",
    "menBatsRating = []"
   ]
  },
  {
   "cell_type": "code",
   "execution_count": 44,
   "metadata": {},
   "outputs": [],
   "source": [
    "#Manually adding the first items in the lists above since the Ranking 1 row has different class names\n",
    "#then the rest\n",
    "\n",
    "menBatsmanName = menBatsmanSoup.find('td', class_ = 'rankings-block__top-player-container')\n",
    "menBatsName.append(menBatsmanName.text.replace('\\n', ''))\n",
    "\n",
    "mensBatsmanCountry = menBatsmanSoup.find('div', class_ = 'rankings-block__banner--nationality')\n",
    "menBatsCountry.append(mensBatsmanCountry.text.replace('\\n','').split()[0])\n",
    "\n",
    "mensBatsmanRating = menBatsmanSoup.find('div', class_ = 'rankings-block__banner--rating')\n",
    "menBatsRating.append(mensBatsmanRating.text)"
   ]
  },
  {
   "cell_type": "code",
   "execution_count": 45,
   "metadata": {},
   "outputs": [],
   "source": [
    "mensBat = menBatsmanSoup.find_all('tr', class_ = 'table-body')\n",
    "mensBat = mensBat[0:9]"
   ]
  },
  {
   "cell_type": "markdown",
   "metadata": {},
   "source": [
    "In the following cells I am taking just the first element of mensBat and examining which combination of commands and functions produces the desired output. Once the right format is identified, we can use for loop to find the rest of the data."
   ]
  },
  {
   "cell_type": "code",
   "execution_count": 46,
   "metadata": {},
   "outputs": [
    {
     "data": {
      "text/plain": [
       "'Virat Kohli'"
      ]
     },
     "execution_count": 46,
     "metadata": {},
     "output_type": "execute_result"
    }
   ],
   "source": [
    "mensBat[0].find('td', class_ = 'table-body__cell rankings-table__name name').a.text"
   ]
  },
  {
   "cell_type": "code",
   "execution_count": 47,
   "metadata": {},
   "outputs": [
    {
     "data": {
      "text/plain": [
       "'IND'"
      ]
     },
     "execution_count": 47,
     "metadata": {},
     "output_type": "execute_result"
    }
   ],
   "source": [
    "mensBat[0].find('td', class_ = 'table-body__cell nationality-logo rankings-table__team').text.replace('\\n','')"
   ]
  },
  {
   "cell_type": "code",
   "execution_count": 48,
   "metadata": {},
   "outputs": [
    {
     "data": {
      "text/plain": [
       "'857'"
      ]
     },
     "execution_count": 48,
     "metadata": {},
     "output_type": "execute_result"
    }
   ],
   "source": [
    "mensBat[0].find('td', class_=\"table-body__cell rating\").text"
   ]
  },
  {
   "cell_type": "code",
   "execution_count": 49,
   "metadata": {},
   "outputs": [],
   "source": [
    "for index in range(len(mensBat)):\n",
    "    menBatsName.append(mensBat[index].find('td', class_ = 'table-body__cell rankings-table__name name').a.text)\n",
    "    menBatsCountry.append(mensBat[index].find('td', class_ = 'table-body__cell nationality-logo rankings-table__team').text.replace('\\n',''))\n",
    "    menBatsRating.append(mensBat[index].find('td', class_=\"table-body__cell rating\").text)"
   ]
  },
  {
   "cell_type": "code",
   "execution_count": 50,
   "metadata": {},
   "outputs": [
    {
     "data": {
      "text/html": [
       "<div>\n",
       "<style scoped>\n",
       "    .dataframe tbody tr th:only-of-type {\n",
       "        vertical-align: middle;\n",
       "    }\n",
       "\n",
       "    .dataframe tbody tr th {\n",
       "        vertical-align: top;\n",
       "    }\n",
       "\n",
       "    .dataframe thead th {\n",
       "        text-align: right;\n",
       "    }\n",
       "</style>\n",
       "<table border=\"1\" class=\"dataframe\">\n",
       "  <thead>\n",
       "    <tr style=\"text-align: right;\">\n",
       "      <th></th>\n",
       "      <th>Ranking</th>\n",
       "      <th>Batsman Name</th>\n",
       "      <th>Country</th>\n",
       "      <th>Rating</th>\n",
       "    </tr>\n",
       "  </thead>\n",
       "  <tbody>\n",
       "    <tr>\n",
       "      <th>0</th>\n",
       "      <td>1</td>\n",
       "      <td>Babar Azam</td>\n",
       "      <td>PAK</td>\n",
       "      <td>865</td>\n",
       "    </tr>\n",
       "    <tr>\n",
       "      <th>1</th>\n",
       "      <td>2</td>\n",
       "      <td>Virat Kohli</td>\n",
       "      <td>IND</td>\n",
       "      <td>857</td>\n",
       "    </tr>\n",
       "    <tr>\n",
       "      <th>2</th>\n",
       "      <td>3</td>\n",
       "      <td>Rohit Sharma</td>\n",
       "      <td>IND</td>\n",
       "      <td>825</td>\n",
       "    </tr>\n",
       "    <tr>\n",
       "      <th>3</th>\n",
       "      <td>4</td>\n",
       "      <td>Ross Taylor</td>\n",
       "      <td>NZ</td>\n",
       "      <td>801</td>\n",
       "    </tr>\n",
       "    <tr>\n",
       "      <th>4</th>\n",
       "      <td>5</td>\n",
       "      <td>Aaron Finch</td>\n",
       "      <td>AUS</td>\n",
       "      <td>791</td>\n",
       "    </tr>\n",
       "    <tr>\n",
       "      <th>5</th>\n",
       "      <td>6</td>\n",
       "      <td>Jonny Bairstow</td>\n",
       "      <td>ENG</td>\n",
       "      <td>785</td>\n",
       "    </tr>\n",
       "    <tr>\n",
       "      <th>6</th>\n",
       "      <td>7</td>\n",
       "      <td>Fakhar Zaman</td>\n",
       "      <td>PAK</td>\n",
       "      <td>778</td>\n",
       "    </tr>\n",
       "    <tr>\n",
       "      <th>7</th>\n",
       "      <td>8</td>\n",
       "      <td>Francois du Plessis</td>\n",
       "      <td>SA</td>\n",
       "      <td>778</td>\n",
       "    </tr>\n",
       "    <tr>\n",
       "      <th>8</th>\n",
       "      <td>9</td>\n",
       "      <td>David Warner</td>\n",
       "      <td>AUS</td>\n",
       "      <td>773</td>\n",
       "    </tr>\n",
       "    <tr>\n",
       "      <th>9</th>\n",
       "      <td>10</td>\n",
       "      <td>Shai Hope</td>\n",
       "      <td>WI</td>\n",
       "      <td>773</td>\n",
       "    </tr>\n",
       "  </tbody>\n",
       "</table>\n",
       "</div>"
      ],
      "text/plain": [
       "   Ranking         Batsman Name Country Rating\n",
       "0        1           Babar Azam     PAK    865\n",
       "1        2          Virat Kohli     IND    857\n",
       "2        3         Rohit Sharma     IND    825\n",
       "3        4          Ross Taylor      NZ    801\n",
       "4        5          Aaron Finch     AUS    791\n",
       "5        6       Jonny Bairstow     ENG    785\n",
       "6        7         Fakhar Zaman     PAK    778\n",
       "7        8  Francois du Plessis      SA    778\n",
       "8        9         David Warner     AUS    773\n",
       "9       10            Shai Hope      WI    773"
      ]
     },
     "execution_count": 50,
     "metadata": {},
     "output_type": "execute_result"
    }
   ],
   "source": [
    "odiBatsmanRankingDf = pd.DataFrame()\n",
    "odiBatsmanRankingDf['Ranking'] = menBatsRanking\n",
    "odiBatsmanRankingDf['Batsman Name'] = menBatsName\n",
    "odiBatsmanRankingDf['Country'] = menBatsCountry\n",
    "odiBatsmanRankingDf['Rating'] = menBatsRating\n",
    "\n",
    "odiBatsmanRankingDf"
   ]
  },
  {
   "cell_type": "markdown",
   "metadata": {},
   "source": [
    "(iii) Top 10 ODI bowlers along with the records of their team and rating."
   ]
  },
  {
   "cell_type": "code",
   "execution_count": 51,
   "metadata": {},
   "outputs": [],
   "source": [
    "menBowling = requests.get('https://www.icc-cricket.com/rankings/mens/player-rankings/odi/bowling')"
   ]
  },
  {
   "cell_type": "code",
   "execution_count": 52,
   "metadata": {},
   "outputs": [],
   "source": [
    "menBowlingSoup = BeautifulSoup(menBowling.content)"
   ]
  },
  {
   "cell_type": "code",
   "execution_count": 53,
   "metadata": {},
   "outputs": [],
   "source": [
    "#Initialising empty list to hold bowler ranking, name, county, and ratings\n",
    "menBowlRanking = [rank for rank in range(1,11)]\n",
    "menBowlName = []\n",
    "menBowlCountry = []\n",
    "menBowlRating = []"
   ]
  },
  {
   "cell_type": "code",
   "execution_count": 54,
   "metadata": {},
   "outputs": [],
   "source": [
    "#Manually adding the first items in the lists above since the Ranking 1 row has different class names\n",
    "#then the rest\n",
    "\n",
    "menBowlName1 = menBowlingSoup.find('div', class_ = 'rankings-block__banner--name-large')\n",
    "menBowlName.append(menBowlName1.text)\n",
    "\n",
    "menBowlCountry1 = menBowlingSoup.find('div', class_ = 'rankings-block__banner--nationality')\n",
    "menBowlCountry.append(menBowlCountry1.text.replace('\\n', '').split()[0])\n",
    "\n",
    "menBowlRating1 = menBowlingSoup.find('div', class_= 'rankings-block__banner--rating')\n",
    "menBowlRating.append(menBowlRating1.text)"
   ]
  },
  {
   "cell_type": "code",
   "execution_count": 55,
   "metadata": {},
   "outputs": [],
   "source": [
    "mensBowl = menBowlingSoup.find_all('tr', class_ = 'table-body')\n",
    "mensBowl = mensBowl[0:9]"
   ]
  },
  {
   "cell_type": "markdown",
   "metadata": {},
   "source": [
    "In the following cells I am taking just the first element of mensBowl and examining which combination of commands and functions produces the desired output. Once the right format is identified, we can use for loop to find the rest of the data."
   ]
  },
  {
   "cell_type": "code",
   "execution_count": 56,
   "metadata": {},
   "outputs": [
    {
     "data": {
      "text/plain": [
       "'Mujeeb Ur Rahman'"
      ]
     },
     "execution_count": 56,
     "metadata": {},
     "output_type": "execute_result"
    }
   ],
   "source": [
    "mensBowl[0].find('td', class_ = 'table-body__cell rankings-table__name name').text.replace('\\n', '')"
   ]
  },
  {
   "cell_type": "code",
   "execution_count": 57,
   "metadata": {},
   "outputs": [
    {
     "data": {
      "text/plain": [
       "'AFG'"
      ]
     },
     "execution_count": 57,
     "metadata": {},
     "output_type": "execute_result"
    }
   ],
   "source": [
    "mensBowl[0].find('td', class_ = 'table-body__cell nationality-logo rankings-table__team').text.replace('\\n', '')"
   ]
  },
  {
   "cell_type": "code",
   "execution_count": 58,
   "metadata": {},
   "outputs": [
    {
     "data": {
      "text/plain": [
       "'708'"
      ]
     },
     "execution_count": 58,
     "metadata": {},
     "output_type": "execute_result"
    }
   ],
   "source": [
    "mensBowl[0].find('td', class_='table-body__cell rating').text"
   ]
  },
  {
   "cell_type": "code",
   "execution_count": 59,
   "metadata": {},
   "outputs": [],
   "source": [
    "for index in range(len(mensBowl)):\n",
    "    menBowlName.append(mensBowl[index].find('td', class_ = 'table-body__cell rankings-table__name name').text.replace('\\n', ''))\n",
    "    menBowlCountry.append(mensBowl[index].find('td', class_ = 'table-body__cell nationality-logo rankings-table__team').text.replace('\\n', ''))\n",
    "    menBowlRating.append(mensBowl[index].find('td', class_='table-body__cell rating').text)"
   ]
  },
  {
   "cell_type": "code",
   "execution_count": 60,
   "metadata": {},
   "outputs": [
    {
     "data": {
      "text/html": [
       "<div>\n",
       "<style scoped>\n",
       "    .dataframe tbody tr th:only-of-type {\n",
       "        vertical-align: middle;\n",
       "    }\n",
       "\n",
       "    .dataframe tbody tr th {\n",
       "        vertical-align: top;\n",
       "    }\n",
       "\n",
       "    .dataframe thead th {\n",
       "        text-align: right;\n",
       "    }\n",
       "</style>\n",
       "<table border=\"1\" class=\"dataframe\">\n",
       "  <thead>\n",
       "    <tr style=\"text-align: right;\">\n",
       "      <th></th>\n",
       "      <th>Ranking</th>\n",
       "      <th>Name</th>\n",
       "      <th>Country</th>\n",
       "      <th>Rating</th>\n",
       "    </tr>\n",
       "  </thead>\n",
       "  <tbody>\n",
       "    <tr>\n",
       "      <th>0</th>\n",
       "      <td>1</td>\n",
       "      <td>Trent Boult</td>\n",
       "      <td>NZ</td>\n",
       "      <td>737</td>\n",
       "    </tr>\n",
       "    <tr>\n",
       "      <th>1</th>\n",
       "      <td>2</td>\n",
       "      <td>Mujeeb Ur Rahman</td>\n",
       "      <td>AFG</td>\n",
       "      <td>708</td>\n",
       "    </tr>\n",
       "    <tr>\n",
       "      <th>2</th>\n",
       "      <td>3</td>\n",
       "      <td>Matt Henry</td>\n",
       "      <td>NZ</td>\n",
       "      <td>691</td>\n",
       "    </tr>\n",
       "    <tr>\n",
       "      <th>3</th>\n",
       "      <td>4</td>\n",
       "      <td>Jasprit Bumrah</td>\n",
       "      <td>IND</td>\n",
       "      <td>690</td>\n",
       "    </tr>\n",
       "    <tr>\n",
       "      <th>4</th>\n",
       "      <td>5</td>\n",
       "      <td>Mehedi Hasan</td>\n",
       "      <td>BAN</td>\n",
       "      <td>668</td>\n",
       "    </tr>\n",
       "    <tr>\n",
       "      <th>5</th>\n",
       "      <td>6</td>\n",
       "      <td>Kagiso Rabada</td>\n",
       "      <td>SA</td>\n",
       "      <td>666</td>\n",
       "    </tr>\n",
       "    <tr>\n",
       "      <th>6</th>\n",
       "      <td>7</td>\n",
       "      <td>Chris Woakes</td>\n",
       "      <td>ENG</td>\n",
       "      <td>665</td>\n",
       "    </tr>\n",
       "    <tr>\n",
       "      <th>7</th>\n",
       "      <td>8</td>\n",
       "      <td>Josh Hazlewood</td>\n",
       "      <td>AUS</td>\n",
       "      <td>660</td>\n",
       "    </tr>\n",
       "    <tr>\n",
       "      <th>8</th>\n",
       "      <td>9</td>\n",
       "      <td>Pat Cummins</td>\n",
       "      <td>AUS</td>\n",
       "      <td>646</td>\n",
       "    </tr>\n",
       "    <tr>\n",
       "      <th>9</th>\n",
       "      <td>10</td>\n",
       "      <td>Mohammad Amir</td>\n",
       "      <td>PAK</td>\n",
       "      <td>638</td>\n",
       "    </tr>\n",
       "  </tbody>\n",
       "</table>\n",
       "</div>"
      ],
      "text/plain": [
       "   Ranking              Name Country Rating\n",
       "0        1       Trent Boult      NZ    737\n",
       "1        2  Mujeeb Ur Rahman     AFG    708\n",
       "2        3        Matt Henry      NZ    691\n",
       "3        4    Jasprit Bumrah     IND    690\n",
       "4        5      Mehedi Hasan     BAN    668\n",
       "5        6     Kagiso Rabada      SA    666\n",
       "6        7      Chris Woakes     ENG    665\n",
       "7        8    Josh Hazlewood     AUS    660\n",
       "8        9       Pat Cummins     AUS    646\n",
       "9       10     Mohammad Amir     PAK    638"
      ]
     },
     "execution_count": 60,
     "metadata": {},
     "output_type": "execute_result"
    }
   ],
   "source": [
    "odiBowlRankingDf = pd.DataFrame()\n",
    "\n",
    "odiBowlRankingDf['Ranking'] = menBowlRanking\n",
    "odiBowlRankingDf['Name'] = menBowlName\n",
    "odiBowlRankingDf['Country'] = menBowlCountry\n",
    "odiBowlRankingDf['Rating'] = menBowlRating\n",
    "\n",
    "odiBowlRankingDf"
   ]
  },
  {
   "cell_type": "markdown",
   "metadata": {},
   "source": [
    "##### 6. ICC Cricket (Women) <a name='iccWomen'></a>\n",
    "(i) Top 10 ODI teams in women’s cricket along with the records for matches, points and rating."
   ]
  },
  {
   "cell_type": "code",
   "execution_count": 61,
   "metadata": {},
   "outputs": [],
   "source": [
    "odiWomenTeams = requests.get('https://www.icc-cricket.com/rankings/womens/team-rankings/odi')"
   ]
  },
  {
   "cell_type": "code",
   "execution_count": 62,
   "metadata": {},
   "outputs": [],
   "source": [
    "odiWomenTeamsSoup = BeautifulSoup(odiWomenTeams.content)"
   ]
  },
  {
   "cell_type": "code",
   "execution_count": 63,
   "metadata": {},
   "outputs": [],
   "source": [
    "#Initialising empty list to hold ranking, county, match, points and ratings\n",
    "womenRanking = [rank for rank in range(1,11)]\n",
    "womenCountry = []\n",
    "womenMatch = []\n",
    "womenPoints = []\n",
    "womenRating = []"
   ]
  },
  {
   "cell_type": "code",
   "execution_count": 64,
   "metadata": {},
   "outputs": [],
   "source": [
    "#Manually adding the first items in the lists above since the country with Ranking 1 has different class names\n",
    "#then the rest of the countries\n",
    "\n",
    "firstCountry = odiWomenTeamsSoup.find('td', class_ = 'rankings-block__banner--team-name')\n",
    "womenCountry.append(firstCountry.text.split('\\n')[2])\n",
    "firstMatch = odiWomenTeamsSoup.find('td', class_ = 'rankings-block__banner--matches')\n",
    "womenMatch.append(firstMatch.text)\n",
    "firstPoints = odiWomenTeamsSoup.find('td', class_ = 'rankings-block__banner--points')\n",
    "womenPoints.append(firstPoints.text.replace(',',''))\n",
    "firstRating = odiWomenTeamsSoup.find('td', class_ = 'rankings-block__banner--rating u-text-right')\n",
    "womenRating.append(firstRating.text.replace('\\n', '').split()[0])"
   ]
  },
  {
   "cell_type": "code",
   "execution_count": 65,
   "metadata": {},
   "outputs": [],
   "source": [
    "odiWomen = odiWomenTeamsSoup.find_all('tr', class_ = 'table-body')\n",
    "odiWomen = odiWomen[0:9]"
   ]
  },
  {
   "cell_type": "markdown",
   "metadata": {},
   "source": [
    "In the following cells I am taking just the first element of odiWomen and examining which combination of commands and functions produces the desired output. Once the right format is identified, we can use for loop to find the rest of the data."
   ]
  },
  {
   "cell_type": "code",
   "execution_count": 66,
   "metadata": {},
   "outputs": [
    {
     "data": {
      "text/plain": [
       "'2'"
      ]
     },
     "execution_count": 66,
     "metadata": {},
     "output_type": "execute_result"
    }
   ],
   "source": [
    "odiWomen[0].find('td', class_ = 'table-body__cell table-body__cell--position u-text-right').text"
   ]
  },
  {
   "cell_type": "code",
   "execution_count": 67,
   "metadata": {},
   "outputs": [
    {
     "data": {
      "text/plain": [
       "'South Africa'"
      ]
     },
     "execution_count": 67,
     "metadata": {},
     "output_type": "execute_result"
    }
   ],
   "source": [
    "odiWomen[0].find('td', class_ = 'table-body__cell rankings-table__team').text.split('\\n')[2]"
   ]
  },
  {
   "cell_type": "code",
   "execution_count": 68,
   "metadata": {},
   "outputs": [
    {
     "data": {
      "text/plain": [
       "'24'"
      ]
     },
     "execution_count": 68,
     "metadata": {},
     "output_type": "execute_result"
    }
   ],
   "source": [
    "odiWomen[0].find('td', class_ = 'table-body__cell u-center-text').text"
   ]
  },
  {
   "cell_type": "code",
   "execution_count": 69,
   "metadata": {},
   "outputs": [
    {
     "data": {
      "text/plain": [
       "'2828'"
      ]
     },
     "execution_count": 69,
     "metadata": {},
     "output_type": "execute_result"
    }
   ],
   "source": [
    "odiWomen[0].find_all('td', class_ = 'table-body__cell u-center-text')[1].text.replace(',','')"
   ]
  },
  {
   "cell_type": "code",
   "execution_count": 70,
   "metadata": {},
   "outputs": [
    {
     "data": {
      "text/plain": [
       "'118'"
      ]
     },
     "execution_count": 70,
     "metadata": {},
     "output_type": "execute_result"
    }
   ],
   "source": [
    "odiWomen[0].find('td', class_ = 'table-body__cell u-text-right rating').text"
   ]
  },
  {
   "cell_type": "code",
   "execution_count": 71,
   "metadata": {},
   "outputs": [],
   "source": [
    "for index in range(len(odiWomen)):\n",
    "    womenCountry.append(odiWomen[index].find('td', class_ = 'table-body__cell rankings-table__team').text.split('\\n')[2])\n",
    "    womenMatch.append(odiWomen[index].find('td', class_ = 'table-body__cell u-center-text').text)\n",
    "    womenPoints.append(odiWomen[index].find_all('td', class_ = 'table-body__cell u-center-text')[1].text.replace(',',''))\n",
    "    womenRating.append(odiWomen[index].find('td', class_ = 'table-body__cell u-text-right rating').text)"
   ]
  },
  {
   "cell_type": "code",
   "execution_count": 72,
   "metadata": {},
   "outputs": [],
   "source": [
    "#Making a dataframe to hold all the scrapped information\n",
    "womenTopOdiTeam = pd.DataFrame()\n",
    "womenTopOdiTeam['Ranking'] = womenRanking\n",
    "womenTopOdiTeam['Country'] = womenCountry\n",
    "womenTopOdiTeam['Match'] = womenMatch\n",
    "womenTopOdiTeam['Points'] = womenPoints\n",
    "womenTopOdiTeam['Rating'] = womenRating"
   ]
  },
  {
   "cell_type": "code",
   "execution_count": 73,
   "metadata": {},
   "outputs": [
    {
     "data": {
      "text/html": [
       "<div>\n",
       "<style scoped>\n",
       "    .dataframe tbody tr th:only-of-type {\n",
       "        vertical-align: middle;\n",
       "    }\n",
       "\n",
       "    .dataframe tbody tr th {\n",
       "        vertical-align: top;\n",
       "    }\n",
       "\n",
       "    .dataframe thead th {\n",
       "        text-align: right;\n",
       "    }\n",
       "</style>\n",
       "<table border=\"1\" class=\"dataframe\">\n",
       "  <thead>\n",
       "    <tr style=\"text-align: right;\">\n",
       "      <th></th>\n",
       "      <th>Ranking</th>\n",
       "      <th>Country</th>\n",
       "      <th>Match</th>\n",
       "      <th>Points</th>\n",
       "      <th>Rating</th>\n",
       "    </tr>\n",
       "  </thead>\n",
       "  <tbody>\n",
       "    <tr>\n",
       "      <th>0</th>\n",
       "      <td>1</td>\n",
       "      <td>Australia</td>\n",
       "      <td>18</td>\n",
       "      <td>2955</td>\n",
       "      <td>164</td>\n",
       "    </tr>\n",
       "    <tr>\n",
       "      <th>1</th>\n",
       "      <td>2</td>\n",
       "      <td>South Africa</td>\n",
       "      <td>24</td>\n",
       "      <td>2828</td>\n",
       "      <td>118</td>\n",
       "    </tr>\n",
       "    <tr>\n",
       "      <th>2</th>\n",
       "      <td>3</td>\n",
       "      <td>England</td>\n",
       "      <td>17</td>\n",
       "      <td>1993</td>\n",
       "      <td>117</td>\n",
       "    </tr>\n",
       "    <tr>\n",
       "      <th>3</th>\n",
       "      <td>4</td>\n",
       "      <td>India</td>\n",
       "      <td>20</td>\n",
       "      <td>2226</td>\n",
       "      <td>111</td>\n",
       "    </tr>\n",
       "    <tr>\n",
       "      <th>4</th>\n",
       "      <td>5</td>\n",
       "      <td>New Zealand</td>\n",
       "      <td>21</td>\n",
       "      <td>1947</td>\n",
       "      <td>93</td>\n",
       "    </tr>\n",
       "    <tr>\n",
       "      <th>5</th>\n",
       "      <td>6</td>\n",
       "      <td>West Indies</td>\n",
       "      <td>12</td>\n",
       "      <td>1025</td>\n",
       "      <td>85</td>\n",
       "    </tr>\n",
       "    <tr>\n",
       "      <th>6</th>\n",
       "      <td>7</td>\n",
       "      <td>Pakistan</td>\n",
       "      <td>15</td>\n",
       "      <td>1101</td>\n",
       "      <td>73</td>\n",
       "    </tr>\n",
       "    <tr>\n",
       "      <th>7</th>\n",
       "      <td>8</td>\n",
       "      <td>Bangladesh</td>\n",
       "      <td>5</td>\n",
       "      <td>306</td>\n",
       "      <td>61</td>\n",
       "    </tr>\n",
       "    <tr>\n",
       "      <th>8</th>\n",
       "      <td>9</td>\n",
       "      <td>Sri Lanka</td>\n",
       "      <td>11</td>\n",
       "      <td>519</td>\n",
       "      <td>47</td>\n",
       "    </tr>\n",
       "    <tr>\n",
       "      <th>9</th>\n",
       "      <td>10</td>\n",
       "      <td>Ireland</td>\n",
       "      <td>2</td>\n",
       "      <td>25</td>\n",
       "      <td>13</td>\n",
       "    </tr>\n",
       "  </tbody>\n",
       "</table>\n",
       "</div>"
      ],
      "text/plain": [
       "   Ranking       Country Match Points Rating\n",
       "0        1     Australia    18   2955    164\n",
       "1        2  South Africa    24   2828    118\n",
       "2        3       England    17   1993    117\n",
       "3        4         India    20   2226    111\n",
       "4        5   New Zealand    21   1947     93\n",
       "5        6   West Indies    12   1025     85\n",
       "6        7      Pakistan    15   1101     73\n",
       "7        8    Bangladesh     5    306     61\n",
       "8        9     Sri Lanka    11    519     47\n",
       "9       10       Ireland     2     25     13"
      ]
     },
     "execution_count": 73,
     "metadata": {},
     "output_type": "execute_result"
    }
   ],
   "source": [
    "womenTopOdiTeam"
   ]
  },
  {
   "cell_type": "markdown",
   "metadata": {},
   "source": [
    "(ii) Top 10 ODI Batsmen in women along with the records of their team and rating."
   ]
  },
  {
   "cell_type": "code",
   "execution_count": 74,
   "metadata": {},
   "outputs": [],
   "source": [
    "womenBatsman = requests.get('https://www.icc-cricket.com/rankings/womens/player-rankings/odi/batting')"
   ]
  },
  {
   "cell_type": "code",
   "execution_count": 75,
   "metadata": {},
   "outputs": [],
   "source": [
    "womenBatsmanSoup = BeautifulSoup(womenBatsman.content)"
   ]
  },
  {
   "cell_type": "code",
   "execution_count": 76,
   "metadata": {},
   "outputs": [],
   "source": [
    "#Initialising empty list to hold batsman ranking, name, county, and ratings\n",
    "womenBatsRanking = [rank for rank in range(1,11)]\n",
    "womenBatsName = []\n",
    "womenBatsCountry = []\n",
    "womenBatsRating = []"
   ]
  },
  {
   "cell_type": "code",
   "execution_count": 77,
   "metadata": {},
   "outputs": [],
   "source": [
    "#Manually adding the first items in the lists above since the Ranking 1 row has different class names\n",
    "#then the rest\n",
    "\n",
    "womenBatsmanName = womenBatsmanSoup.find('td', class_ = 'rankings-block__top-player-container')\n",
    "womenBatsName.append(womenBatsmanName.text.replace('\\n', ''))\n",
    "\n",
    "womensBatsmanCountry = womenBatsmanSoup.find('div', class_ = 'rankings-block__banner--nationality')\n",
    "womenBatsCountry.append(womensBatsmanCountry.text.replace('\\n','').split()[0])\n",
    "\n",
    "womensBatsmanRating = womenBatsmanSoup.find('div', class_ = 'rankings-block__banner--rating')\n",
    "womenBatsRating.append(womensBatsmanRating.text)"
   ]
  },
  {
   "cell_type": "code",
   "execution_count": 78,
   "metadata": {},
   "outputs": [],
   "source": [
    "womensBat = womenBatsmanSoup.find_all('tr', class_ = 'table-body')\n",
    "womensBat = womensBat[0:9]"
   ]
  },
  {
   "cell_type": "markdown",
   "metadata": {},
   "source": [
    "In the following cells I am taking just the first element of womensBat and examining which combination of commands and functions produces the desired output. Once the right format is identified, we can use for loop to find the rest of the data."
   ]
  },
  {
   "cell_type": "code",
   "execution_count": 79,
   "metadata": {},
   "outputs": [
    {
     "data": {
      "text/plain": [
       "'Lizelle Lee'"
      ]
     },
     "execution_count": 79,
     "metadata": {},
     "output_type": "execute_result"
    }
   ],
   "source": [
    "womensBat[0].find('td', class_ = 'table-body__cell rankings-table__name name').a.text"
   ]
  },
  {
   "cell_type": "code",
   "execution_count": 80,
   "metadata": {},
   "outputs": [
    {
     "data": {
      "text/plain": [
       "'SA'"
      ]
     },
     "execution_count": 80,
     "metadata": {},
     "output_type": "execute_result"
    }
   ],
   "source": [
    "womensBat[0].find('td', class_ = 'table-body__cell nationality-logo rankings-table__team').text.replace('\\n','')"
   ]
  },
  {
   "cell_type": "code",
   "execution_count": 81,
   "metadata": {},
   "outputs": [
    {
     "data": {
      "text/plain": [
       "'758'"
      ]
     },
     "execution_count": 81,
     "metadata": {},
     "output_type": "execute_result"
    }
   ],
   "source": [
    "womensBat[0].find('td', class_=\"table-body__cell rating\").text"
   ]
  },
  {
   "cell_type": "code",
   "execution_count": 82,
   "metadata": {},
   "outputs": [],
   "source": [
    "for index in range(len(womensBat)):\n",
    "    womenBatsName.append(womensBat[index].find('td', class_ = 'table-body__cell rankings-table__name name').a.text)\n",
    "    womenBatsCountry.append(womensBat[index].find('td', class_ = 'table-body__cell nationality-logo rankings-table__team').text.replace('\\n',''))\n",
    "    womenBatsRating.append(womensBat[index].find('td', class_=\"table-body__cell rating\").text)"
   ]
  },
  {
   "cell_type": "code",
   "execution_count": 83,
   "metadata": {},
   "outputs": [
    {
     "data": {
      "text/html": [
       "<div>\n",
       "<style scoped>\n",
       "    .dataframe tbody tr th:only-of-type {\n",
       "        vertical-align: middle;\n",
       "    }\n",
       "\n",
       "    .dataframe tbody tr th {\n",
       "        vertical-align: top;\n",
       "    }\n",
       "\n",
       "    .dataframe thead th {\n",
       "        text-align: right;\n",
       "    }\n",
       "</style>\n",
       "<table border=\"1\" class=\"dataframe\">\n",
       "  <thead>\n",
       "    <tr style=\"text-align: right;\">\n",
       "      <th></th>\n",
       "      <th>Ranking</th>\n",
       "      <th>Batsman Name</th>\n",
       "      <th>Country</th>\n",
       "      <th>Rating</th>\n",
       "    </tr>\n",
       "  </thead>\n",
       "  <tbody>\n",
       "    <tr>\n",
       "      <th>0</th>\n",
       "      <td>1</td>\n",
       "      <td>Tammy Beaumont</td>\n",
       "      <td>ENG</td>\n",
       "      <td>765</td>\n",
       "    </tr>\n",
       "    <tr>\n",
       "      <th>1</th>\n",
       "      <td>2</td>\n",
       "      <td>Lizelle Lee</td>\n",
       "      <td>SA</td>\n",
       "      <td>758</td>\n",
       "    </tr>\n",
       "    <tr>\n",
       "      <th>2</th>\n",
       "      <td>3</td>\n",
       "      <td>Alyssa Healy</td>\n",
       "      <td>AUS</td>\n",
       "      <td>756</td>\n",
       "    </tr>\n",
       "    <tr>\n",
       "      <th>3</th>\n",
       "      <td>4</td>\n",
       "      <td>Stafanie Taylor</td>\n",
       "      <td>WI</td>\n",
       "      <td>746</td>\n",
       "    </tr>\n",
       "    <tr>\n",
       "      <th>4</th>\n",
       "      <td>5</td>\n",
       "      <td>Meg Lanning</td>\n",
       "      <td>AUS</td>\n",
       "      <td>723</td>\n",
       "    </tr>\n",
       "    <tr>\n",
       "      <th>5</th>\n",
       "      <td>6</td>\n",
       "      <td>Amy Satterthwaite</td>\n",
       "      <td>NZ</td>\n",
       "      <td>715</td>\n",
       "    </tr>\n",
       "    <tr>\n",
       "      <th>6</th>\n",
       "      <td>7</td>\n",
       "      <td>Smriti Mandhana</td>\n",
       "      <td>IND</td>\n",
       "      <td>710</td>\n",
       "    </tr>\n",
       "    <tr>\n",
       "      <th>7</th>\n",
       "      <td>8</td>\n",
       "      <td>Mithali Raj</td>\n",
       "      <td>IND</td>\n",
       "      <td>709</td>\n",
       "    </tr>\n",
       "    <tr>\n",
       "      <th>8</th>\n",
       "      <td>9</td>\n",
       "      <td>Natalie Sciver</td>\n",
       "      <td>ENG</td>\n",
       "      <td>685</td>\n",
       "    </tr>\n",
       "    <tr>\n",
       "      <th>9</th>\n",
       "      <td>10</td>\n",
       "      <td>Laura Wolvaardt</td>\n",
       "      <td>SA</td>\n",
       "      <td>683</td>\n",
       "    </tr>\n",
       "  </tbody>\n",
       "</table>\n",
       "</div>"
      ],
      "text/plain": [
       "   Ranking       Batsman Name Country Rating\n",
       "0        1     Tammy Beaumont     ENG    765\n",
       "1        2        Lizelle Lee      SA    758\n",
       "2        3       Alyssa Healy     AUS    756\n",
       "3        4    Stafanie Taylor      WI    746\n",
       "4        5        Meg Lanning     AUS    723\n",
       "5        6  Amy Satterthwaite      NZ    715\n",
       "6        7    Smriti Mandhana     IND    710\n",
       "7        8        Mithali Raj     IND    709\n",
       "8        9     Natalie Sciver     ENG    685\n",
       "9       10    Laura Wolvaardt      SA    683"
      ]
     },
     "execution_count": 83,
     "metadata": {},
     "output_type": "execute_result"
    }
   ],
   "source": [
    "odiBatsmanWomenRankingDf = pd.DataFrame()\n",
    "odiBatsmanWomenRankingDf['Ranking'] = womenBatsRanking\n",
    "odiBatsmanWomenRankingDf['Batsman Name'] = womenBatsName\n",
    "odiBatsmanWomenRankingDf['Country'] = womenBatsCountry\n",
    "odiBatsmanWomenRankingDf['Rating'] = womenBatsRating\n",
    "\n",
    "odiBatsmanWomenRankingDf"
   ]
  },
  {
   "cell_type": "markdown",
   "metadata": {},
   "source": [
    "6 (ii) Top 10 ODI women bowlers along with the records of their team and rating."
   ]
  },
  {
   "cell_type": "code",
   "execution_count": 84,
   "metadata": {},
   "outputs": [],
   "source": [
    "womenBowling = requests.get('https://www.icc-cricket.com/rankings/womens/player-rankings/odi/bowling')"
   ]
  },
  {
   "cell_type": "code",
   "execution_count": 85,
   "metadata": {},
   "outputs": [],
   "source": [
    "womenBowlingSoup = BeautifulSoup(womenBowling.content)"
   ]
  },
  {
   "cell_type": "code",
   "execution_count": 86,
   "metadata": {},
   "outputs": [],
   "source": [
    "#Initialising empty list to hold bowler ranking, name, county, and ratings\n",
    "womenBowlRanking = [rank for rank in range(1,11)]\n",
    "womenBowlName = []\n",
    "womenBowlCountry = []\n",
    "womenBowlRating = []"
   ]
  },
  {
   "cell_type": "code",
   "execution_count": 87,
   "metadata": {},
   "outputs": [],
   "source": [
    "#Manually adding the first items in the lists above since the Ranking 1 row has different class names\n",
    "#then the rest\n",
    "\n",
    "womenBowlName1 = womenBowlingSoup.find('div', class_ = 'rankings-block__banner--name-large')\n",
    "womenBowlName.append(womenBowlName1.text)\n",
    "\n",
    "womenBowlCountry1 = womenBowlingSoup.find('div', class_ = 'rankings-block__banner--nationality')\n",
    "womenBowlCountry.append(womenBowlCountry1.text.replace('\\n', '').split()[0])\n",
    "\n",
    "womenBowlRating1 = womenBowlingSoup.find('div', class_= 'rankings-block__banner--rating')\n",
    "womenBowlRating.append(womenBowlRating1.text)"
   ]
  },
  {
   "cell_type": "code",
   "execution_count": 88,
   "metadata": {},
   "outputs": [],
   "source": [
    "womensBowl = womenBowlingSoup.find_all('tr', class_ = 'table-body')\n",
    "womensBowl = womensBowl[0:9]"
   ]
  },
  {
   "cell_type": "markdown",
   "metadata": {},
   "source": [
    "In the following cells I am taking just the first element of mensBowl and examining which combination of commands and functions produces the desired output. Once the right format is identified, we can use for loop to find the rest of the data."
   ]
  },
  {
   "cell_type": "code",
   "execution_count": 89,
   "metadata": {},
   "outputs": [
    {
     "data": {
      "text/plain": [
       "'Megan Schutt'"
      ]
     },
     "execution_count": 89,
     "metadata": {},
     "output_type": "execute_result"
    }
   ],
   "source": [
    "womensBowl[0].find('td', class_ = 'table-body__cell rankings-table__name name').text.replace('\\n', '')"
   ]
  },
  {
   "cell_type": "code",
   "execution_count": 90,
   "metadata": {},
   "outputs": [
    {
     "data": {
      "text/plain": [
       "'AUS'"
      ]
     },
     "execution_count": 90,
     "metadata": {},
     "output_type": "execute_result"
    }
   ],
   "source": [
    "womensBowl[0].find('td', class_ = 'table-body__cell nationality-logo rankings-table__team').text.replace('\\n', '')"
   ]
  },
  {
   "cell_type": "code",
   "execution_count": 91,
   "metadata": {},
   "outputs": [
    {
     "data": {
      "text/plain": [
       "'762'"
      ]
     },
     "execution_count": 91,
     "metadata": {},
     "output_type": "execute_result"
    }
   ],
   "source": [
    "womensBowl[0].find('td', class_='table-body__cell rating').text"
   ]
  },
  {
   "cell_type": "code",
   "execution_count": 92,
   "metadata": {},
   "outputs": [],
   "source": [
    "for index in range(len(womensBowl)):\n",
    "    womenBowlName.append(womensBowl[index].find('td', class_ = 'table-body__cell rankings-table__name name').text.replace('\\n', ''))\n",
    "    womenBowlCountry.append(womensBowl[index].find('td', class_ = 'table-body__cell nationality-logo rankings-table__team').text.replace('\\n', ''))\n",
    "    womenBowlRating.append(womensBowl[index].find('td', class_='table-body__cell rating').text)"
   ]
  },
  {
   "cell_type": "code",
   "execution_count": 93,
   "metadata": {},
   "outputs": [
    {
     "data": {
      "text/html": [
       "<div>\n",
       "<style scoped>\n",
       "    .dataframe tbody tr th:only-of-type {\n",
       "        vertical-align: middle;\n",
       "    }\n",
       "\n",
       "    .dataframe tbody tr th {\n",
       "        vertical-align: top;\n",
       "    }\n",
       "\n",
       "    .dataframe thead th {\n",
       "        text-align: right;\n",
       "    }\n",
       "</style>\n",
       "<table border=\"1\" class=\"dataframe\">\n",
       "  <thead>\n",
       "    <tr style=\"text-align: right;\">\n",
       "      <th></th>\n",
       "      <th>Ranking</th>\n",
       "      <th>Name</th>\n",
       "      <th>Country</th>\n",
       "      <th>Rating</th>\n",
       "    </tr>\n",
       "  </thead>\n",
       "  <tbody>\n",
       "    <tr>\n",
       "      <th>0</th>\n",
       "      <td>1</td>\n",
       "      <td>Jess Jonassen</td>\n",
       "      <td>AUS</td>\n",
       "      <td>808</td>\n",
       "    </tr>\n",
       "    <tr>\n",
       "      <th>1</th>\n",
       "      <td>2</td>\n",
       "      <td>Megan Schutt</td>\n",
       "      <td>AUS</td>\n",
       "      <td>762</td>\n",
       "    </tr>\n",
       "    <tr>\n",
       "      <th>2</th>\n",
       "      <td>3</td>\n",
       "      <td>Marizanne Kapp</td>\n",
       "      <td>SA</td>\n",
       "      <td>747</td>\n",
       "    </tr>\n",
       "    <tr>\n",
       "      <th>3</th>\n",
       "      <td>4</td>\n",
       "      <td>Shabnim Ismail</td>\n",
       "      <td>SA</td>\n",
       "      <td>717</td>\n",
       "    </tr>\n",
       "    <tr>\n",
       "      <th>4</th>\n",
       "      <td>5</td>\n",
       "      <td>Jhulan Goswami</td>\n",
       "      <td>IND</td>\n",
       "      <td>681</td>\n",
       "    </tr>\n",
       "    <tr>\n",
       "      <th>5</th>\n",
       "      <td>6</td>\n",
       "      <td>Katherine Brunt</td>\n",
       "      <td>ENG</td>\n",
       "      <td>655</td>\n",
       "    </tr>\n",
       "    <tr>\n",
       "      <th>6</th>\n",
       "      <td>7</td>\n",
       "      <td>Poonam Yadav</td>\n",
       "      <td>IND</td>\n",
       "      <td>641</td>\n",
       "    </tr>\n",
       "    <tr>\n",
       "      <th>7</th>\n",
       "      <td>8</td>\n",
       "      <td>Ayabonga Khaka</td>\n",
       "      <td>SA</td>\n",
       "      <td>638</td>\n",
       "    </tr>\n",
       "    <tr>\n",
       "      <th>8</th>\n",
       "      <td>9</td>\n",
       "      <td>Ellyse Perry</td>\n",
       "      <td>AUS</td>\n",
       "      <td>616</td>\n",
       "    </tr>\n",
       "    <tr>\n",
       "      <th>9</th>\n",
       "      <td>10</td>\n",
       "      <td>Shikha Pandey</td>\n",
       "      <td>IND</td>\n",
       "      <td>610</td>\n",
       "    </tr>\n",
       "  </tbody>\n",
       "</table>\n",
       "</div>"
      ],
      "text/plain": [
       "   Ranking             Name Country Rating\n",
       "0        1    Jess Jonassen     AUS    808\n",
       "1        2     Megan Schutt     AUS    762\n",
       "2        3   Marizanne Kapp      SA    747\n",
       "3        4   Shabnim Ismail      SA    717\n",
       "4        5   Jhulan Goswami     IND    681\n",
       "5        6  Katherine Brunt     ENG    655\n",
       "6        7     Poonam Yadav     IND    641\n",
       "7        8   Ayabonga Khaka      SA    638\n",
       "8        9     Ellyse Perry     AUS    616\n",
       "9       10    Shikha Pandey     IND    610"
      ]
     },
     "execution_count": 93,
     "metadata": {},
     "output_type": "execute_result"
    }
   ],
   "source": [
    "odiBowlWomenRankingDf = pd.DataFrame()\n",
    "\n",
    "odiBowlWomenRankingDf['Ranking'] = womenBowlRanking\n",
    "odiBowlWomenRankingDf['Name'] = womenBowlName\n",
    "odiBowlWomenRankingDf['Country'] = womenBowlCountry\n",
    "odiBowlWomenRankingDf['Rating'] = womenBowlRating\n",
    "\n",
    "odiBowlWomenRankingDf"
   ]
  },
  {
   "cell_type": "markdown",
   "metadata": {},
   "source": [
    "(iii) Top 10 women’s ODI all-rounder along with the records of their team and rating."
   ]
  },
  {
   "cell_type": "code",
   "execution_count": 94,
   "metadata": {},
   "outputs": [],
   "source": [
    "womenAll = requests.get('https://www.icc-cricket.com/rankings/womens/player-rankings/odi/all-rounder')"
   ]
  },
  {
   "cell_type": "code",
   "execution_count": 95,
   "metadata": {},
   "outputs": [],
   "source": [
    "womenAllSoup = BeautifulSoup(womenAll.content)"
   ]
  },
  {
   "cell_type": "code",
   "execution_count": 96,
   "metadata": {},
   "outputs": [],
   "source": [
    "#Initialising empty list to hold bowler ranking, name, county, and ratings\n",
    "womenAllRanking = [rank for rank in range(1,11)]\n",
    "womenAllName = []\n",
    "womenAllCountry = []\n",
    "womenAllRating = []"
   ]
  },
  {
   "cell_type": "code",
   "execution_count": 97,
   "metadata": {},
   "outputs": [],
   "source": [
    "#Manually adding the first items in the lists above since the Ranking 1 row has different class names\n",
    "#then the rest\n",
    "\n",
    "womenAllName1 = womenAllSoup.find('div', class_ = 'rankings-block__banner--name-large')\n",
    "womenAllName.append(womenAllName1.text)\n",
    "\n",
    "womenAllCountry1 = womenAllSoup.find('div', class_ = 'rankings-block__banner--nationality')\n",
    "womenAllCountry.append(womenAllCountry1.text.replace('\\n', '').split()[0])\n",
    "\n",
    "womenAllRating1 = womenAllSoup.find('div', class_= 'rankings-block__banner--rating')\n",
    "womenAllRating.append(womenAllRating1.text)"
   ]
  },
  {
   "cell_type": "code",
   "execution_count": 98,
   "metadata": {},
   "outputs": [],
   "source": [
    "womenAll = womenAllSoup.find_all('tr', class_ = 'table-body')\n",
    "womenAll = womenAll[0:9]"
   ]
  },
  {
   "cell_type": "markdown",
   "metadata": {},
   "source": [
    "In the following cells I am taking just the first element of womenAll and examining which combination of commands and functions produces the desired output. Once the right format is identified, we can use for loop to find the rest of the data."
   ]
  },
  {
   "cell_type": "code",
   "execution_count": 99,
   "metadata": {},
   "outputs": [
    {
     "data": {
      "text/plain": [
       "'Ellyse Perry'"
      ]
     },
     "execution_count": 99,
     "metadata": {},
     "output_type": "execute_result"
    }
   ],
   "source": [
    "womenAll[0].find('td', class_ = 'table-body__cell rankings-table__name name').text.replace('\\n', '')"
   ]
  },
  {
   "cell_type": "code",
   "execution_count": 100,
   "metadata": {},
   "outputs": [
    {
     "data": {
      "text/plain": [
       "'AUS'"
      ]
     },
     "execution_count": 100,
     "metadata": {},
     "output_type": "execute_result"
    }
   ],
   "source": [
    "womenAll[0].find('td', class_ = 'table-body__cell nationality-logo rankings-table__team').text.replace('\\n', '')"
   ]
  },
  {
   "cell_type": "code",
   "execution_count": 101,
   "metadata": {},
   "outputs": [
    {
     "data": {
      "text/plain": [
       "'418'"
      ]
     },
     "execution_count": 101,
     "metadata": {},
     "output_type": "execute_result"
    }
   ],
   "source": [
    "womenAll[0].find('td', class_='table-body__cell rating').text"
   ]
  },
  {
   "cell_type": "code",
   "execution_count": 102,
   "metadata": {},
   "outputs": [],
   "source": [
    "for index in range(len(womenAll)):\n",
    "    womenAllName.append(womenAll[index].find('td', class_ = 'table-body__cell rankings-table__name name').text.replace('\\n', ''))\n",
    "    womenAllCountry.append(womenAll[index].find('td', class_ = 'table-body__cell nationality-logo rankings-table__team').text.replace('\\n', ''))\n",
    "    womenAllRating.append(womenAll[index].find('td', class_='table-body__cell rating').text)"
   ]
  },
  {
   "cell_type": "code",
   "execution_count": 103,
   "metadata": {},
   "outputs": [
    {
     "data": {
      "text/html": [
       "<div>\n",
       "<style scoped>\n",
       "    .dataframe tbody tr th:only-of-type {\n",
       "        vertical-align: middle;\n",
       "    }\n",
       "\n",
       "    .dataframe tbody tr th {\n",
       "        vertical-align: top;\n",
       "    }\n",
       "\n",
       "    .dataframe thead th {\n",
       "        text-align: right;\n",
       "    }\n",
       "</style>\n",
       "<table border=\"1\" class=\"dataframe\">\n",
       "  <thead>\n",
       "    <tr style=\"text-align: right;\">\n",
       "      <th></th>\n",
       "      <th>Ranking</th>\n",
       "      <th>Name</th>\n",
       "      <th>Country</th>\n",
       "      <th>Rating</th>\n",
       "    </tr>\n",
       "  </thead>\n",
       "  <tbody>\n",
       "    <tr>\n",
       "      <th>0</th>\n",
       "      <td>1</td>\n",
       "      <td>Marizanne Kapp</td>\n",
       "      <td>SA</td>\n",
       "      <td>418</td>\n",
       "    </tr>\n",
       "    <tr>\n",
       "      <th>1</th>\n",
       "      <td>2</td>\n",
       "      <td>Ellyse Perry</td>\n",
       "      <td>AUS</td>\n",
       "      <td>418</td>\n",
       "    </tr>\n",
       "    <tr>\n",
       "      <th>2</th>\n",
       "      <td>3</td>\n",
       "      <td>Stafanie Taylor</td>\n",
       "      <td>WI</td>\n",
       "      <td>410</td>\n",
       "    </tr>\n",
       "    <tr>\n",
       "      <th>3</th>\n",
       "      <td>4</td>\n",
       "      <td>Natalie Sciver</td>\n",
       "      <td>ENG</td>\n",
       "      <td>349</td>\n",
       "    </tr>\n",
       "    <tr>\n",
       "      <th>4</th>\n",
       "      <td>5</td>\n",
       "      <td>Deepti Sharma</td>\n",
       "      <td>IND</td>\n",
       "      <td>343</td>\n",
       "    </tr>\n",
       "    <tr>\n",
       "      <th>5</th>\n",
       "      <td>6</td>\n",
       "      <td>Jess Jonassen</td>\n",
       "      <td>AUS</td>\n",
       "      <td>307</td>\n",
       "    </tr>\n",
       "    <tr>\n",
       "      <th>6</th>\n",
       "      <td>7</td>\n",
       "      <td>Ashleigh Gardner</td>\n",
       "      <td>AUS</td>\n",
       "      <td>252</td>\n",
       "    </tr>\n",
       "    <tr>\n",
       "      <th>7</th>\n",
       "      <td>8</td>\n",
       "      <td>Dane van Niekerk</td>\n",
       "      <td>SA</td>\n",
       "      <td>243</td>\n",
       "    </tr>\n",
       "    <tr>\n",
       "      <th>8</th>\n",
       "      <td>9</td>\n",
       "      <td>Sophie Devine</td>\n",
       "      <td>NZ</td>\n",
       "      <td>242</td>\n",
       "    </tr>\n",
       "    <tr>\n",
       "      <th>9</th>\n",
       "      <td>10</td>\n",
       "      <td>Amelia Kerr</td>\n",
       "      <td>NZ</td>\n",
       "      <td>236</td>\n",
       "    </tr>\n",
       "  </tbody>\n",
       "</table>\n",
       "</div>"
      ],
      "text/plain": [
       "   Ranking              Name Country Rating\n",
       "0        1    Marizanne Kapp      SA    418\n",
       "1        2      Ellyse Perry     AUS    418\n",
       "2        3   Stafanie Taylor      WI    410\n",
       "3        4    Natalie Sciver     ENG    349\n",
       "4        5     Deepti Sharma     IND    343\n",
       "5        6     Jess Jonassen     AUS    307\n",
       "6        7  Ashleigh Gardner     AUS    252\n",
       "7        8  Dane van Niekerk      SA    243\n",
       "8        9     Sophie Devine      NZ    242\n",
       "9       10       Amelia Kerr      NZ    236"
      ]
     },
     "execution_count": 103,
     "metadata": {},
     "output_type": "execute_result"
    }
   ],
   "source": [
    "womenAllRankingDf = pd.DataFrame()\n",
    "\n",
    "womenAllRankingDf['Ranking'] = womenAllRanking\n",
    "womenAllRankingDf['Name'] = womenAllName\n",
    "womenAllRankingDf['Country'] = womenAllCountry\n",
    "womenAllRankingDf['Rating'] = womenAllRating\n",
    "\n",
    "womenAllRankingDf"
   ]
  },
  {
   "cell_type": "markdown",
   "metadata": {},
   "source": [
    "##### 7. Amazon Mobiles under ₹20,000 <a name='amazon'></a>"
   ]
  },
  {
   "cell_type": "code",
   "execution_count": 104,
   "metadata": {},
   "outputs": [],
   "source": [
    "pages = [page for page in range(1,21)]"
   ]
  },
  {
   "cell_type": "code",
   "execution_count": 105,
   "metadata": {},
   "outputs": [],
   "source": [
    "def amazonScapper(pageNo):\n",
    "    '''This function takes the page number and then returns the product name, price, rating and image url.\n",
    "    Note: 1. Sometimes throws error. In such a case, re-run again.\n",
    "          2. This function does not scrape sponsored products in the page'''\n",
    "    \n",
    "    url = f'https://www.amazon.in/s?k=mobile&rh=p_36%3A100-1999900&page={pageNo}&qid=1620066055&rnid=1318502031&ref=sr_pg_{pageNo}'\n",
    "    page = requests.get(url)\n",
    "    soup = BeautifulSoup(page.content)\n",
    "    \n",
    "    name = []\n",
    "    price = []\n",
    "    rating = []\n",
    "    imgUrl = []\n",
    "    \n",
    "    productName = soup.find_all('h2', class_ = 'a-size-mini a-spacing-none a-color-base s-line-clamp-2')\n",
    "    productPrice = soup.find_all('span', class_='a-price-whole')\n",
    "    productRating = soup.find_all('span', class_='a-icon-alt')\n",
    "    productImgUrl = soup.find_all('img', class_='s-image')\n",
    "    \n",
    "    for index in range(len(soup)):\n",
    "        if productName == [] or productPrice == [] or productRating == [] or productImgUrl == []:\n",
    "            pass\n",
    "        else:\n",
    "            name.append(productName[index].text)\n",
    "            price.append(productPrice[index].text.replace(',',''))\n",
    "            rating.append(productRating[index].text[0:3])\n",
    "            imgUrl.append(productImgUrl[index]['src'])\n",
    "        \n",
    "    return name, price, rating, imgUrl"
   ]
  },
  {
   "cell_type": "code",
   "execution_count": 106,
   "metadata": {},
   "outputs": [
    {
     "name": "stdout",
     "output_type": "stream",
     "text": [
      "Iteration 1\n",
      "Iteration 2\n",
      "Iteration 3\n",
      "Iteration 4\n",
      "Iteration 5\n",
      "Iteration 6\n",
      "Iteration 7\n",
      "Iteration 8\n",
      "Iteration 9\n",
      "Iteration 10\n",
      "Iteration 11\n",
      "Iteration 12\n",
      "Iteration 13\n",
      "Iteration 14\n",
      "Iteration 15\n",
      "Iteration 16\n",
      "Iteration 17\n",
      "Iteration 18\n",
      "Iteration 19\n",
      "Iteration 20\n",
      "Loop Complete\n"
     ]
    }
   ],
   "source": [
    "#Making lists containing all the names, prices, ratings and image URLs from all the 20 amazon pages\n",
    "\n",
    "nameAll = []\n",
    "priceAll = []\n",
    "ratingAll = []\n",
    "imgAll = []\n",
    "\n",
    "for page in pages:\n",
    "    n, p, r, i = amazonScapper(page)\n",
    "    nameAll.extend(n)\n",
    "    priceAll.extend(p)\n",
    "    ratingAll.extend(r)\n",
    "    imgAll.extend(i)\n",
    "    print(f'Iteration {page}')\n",
    "\n",
    "print('Loop Complete')"
   ]
  },
  {
   "cell_type": "code",
   "execution_count": 107,
   "metadata": {},
   "outputs": [
    {
     "data": {
      "text/html": [
       "<div>\n",
       "<style scoped>\n",
       "    .dataframe tbody tr th:only-of-type {\n",
       "        vertical-align: middle;\n",
       "    }\n",
       "\n",
       "    .dataframe tbody tr th {\n",
       "        vertical-align: top;\n",
       "    }\n",
       "\n",
       "    .dataframe thead th {\n",
       "        text-align: right;\n",
       "    }\n",
       "</style>\n",
       "<table border=\"1\" class=\"dataframe\">\n",
       "  <thead>\n",
       "    <tr style=\"text-align: right;\">\n",
       "      <th></th>\n",
       "      <th>Name</th>\n",
       "      <th>Price</th>\n",
       "      <th>Rating</th>\n",
       "      <th>Img URL</th>\n",
       "    </tr>\n",
       "  </thead>\n",
       "  <tbody>\n",
       "    <tr>\n",
       "      <th>0</th>\n",
       "      <td>Infinix Smart 4 Blue, 2GB, 32GB</td>\n",
       "      <td>9500</td>\n",
       "      <td>3.9</td>\n",
       "      <td>https://m.media-amazon.com/images/I/513txU2lnf...</td>\n",
       "    </tr>\n",
       "    <tr>\n",
       "      <th>1</th>\n",
       "      <td>Motorola Plus (Fine Gold, 32GB)</td>\n",
       "      <td>8970</td>\n",
       "      <td>3.4</td>\n",
       "      <td>https://m.media-amazon.com/images/I/71WSw-nKCR...</td>\n",
       "    </tr>\n",
       "    <tr>\n",
       "      <th>2</th>\n",
       "      <td>Lenovo A7 (Black, 4GB RAM, 64GB Storage, 4000m...</td>\n",
       "      <td>10499</td>\n",
       "      <td>4.1</td>\n",
       "      <td>https://m.media-amazon.com/images/I/317jmcaI6P...</td>\n",
       "    </tr>\n",
       "    <tr>\n",
       "      <th>3</th>\n",
       "      <td>Realme C12 (Power Blue, 4GB RAM, 64GB Storage)...</td>\n",
       "      <td>15999</td>\n",
       "      <td>4.3</td>\n",
       "      <td>https://m.media-amazon.com/images/I/31X1+mh8zP...</td>\n",
       "    </tr>\n",
       "    <tr>\n",
       "      <th>4</th>\n",
       "      <td>Portable USB Cell Phone for Children Student M...</td>\n",
       "      <td>5949.</td>\n",
       "      <td>3.1</td>\n",
       "      <td>https://m.media-amazon.com/images/I/51zgVtjY2K...</td>\n",
       "    </tr>\n",
       "  </tbody>\n",
       "</table>\n",
       "</div>"
      ],
      "text/plain": [
       "                                                Name  Price Rating  \\\n",
       "0                  Infinix Smart 4 Blue, 2GB, 32GB     9500    3.9   \n",
       "1                  Motorola Plus (Fine Gold, 32GB)     8970    3.4   \n",
       "2  Lenovo A7 (Black, 4GB RAM, 64GB Storage, 4000m...  10499    4.1   \n",
       "3  Realme C12 (Power Blue, 4GB RAM, 64GB Storage)...  15999    4.3   \n",
       "4  Portable USB Cell Phone for Children Student M...  5949.    3.1   \n",
       "\n",
       "                                             Img URL  \n",
       "0  https://m.media-amazon.com/images/I/513txU2lnf...  \n",
       "1  https://m.media-amazon.com/images/I/71WSw-nKCR...  \n",
       "2  https://m.media-amazon.com/images/I/317jmcaI6P...  \n",
       "3  https://m.media-amazon.com/images/I/31X1+mh8zP...  \n",
       "4  https://m.media-amazon.com/images/I/51zgVtjY2K...  "
      ]
     },
     "execution_count": 107,
     "metadata": {},
     "output_type": "execute_result"
    }
   ],
   "source": [
    "mobileDf = pd.DataFrame()\n",
    "\n",
    "mobileDf['Name'] = nameAll\n",
    "mobileDf['Price'] = priceAll\n",
    "mobileDf['Rating'] = ratingAll\n",
    "mobileDf['Img URL'] = imgAll\n",
    "\n",
    "mobileDf.head()"
   ]
  },
  {
   "cell_type": "markdown",
   "metadata": {},
   "source": [
    "##### 8. San Francisco Weather Data <a name = 'sfWeather'></a> "
   ]
  },
  {
   "cell_type": "code",
   "execution_count": 108,
   "metadata": {},
   "outputs": [],
   "source": [
    "sfPage = requests.get('https://forecast.weather.gov/MapClick.php?lat=37.777120000000025&lon=-122.41963999999996#.YJDog7UzZPY')"
   ]
  },
  {
   "cell_type": "code",
   "execution_count": 109,
   "metadata": {},
   "outputs": [],
   "source": [
    "sfSoup = BeautifulSoup(sfPage.content)"
   ]
  },
  {
   "cell_type": "code",
   "execution_count": 110,
   "metadata": {},
   "outputs": [],
   "source": [
    "sfWeather = sfSoup.find_all('li', class_ = 'forecast-tombstone')\n",
    "sfWeatherLong = sfSoup.find_all('div', class_=\"col-sm-10 forecast-text\")"
   ]
  },
  {
   "cell_type": "code",
   "execution_count": 111,
   "metadata": {},
   "outputs": [
    {
     "data": {
      "text/plain": [
       "9"
      ]
     },
     "execution_count": 111,
     "metadata": {},
     "output_type": "execute_result"
    }
   ],
   "source": [
    "len(sfWeather)"
   ]
  },
  {
   "cell_type": "markdown",
   "metadata": {},
   "source": [
    "In the following cells I am taking just the first element of sfWeather and examining which combination of commands and functions produces the desired output. Once the right format is identified, we can use for loop to find the rest of the data."
   ]
  },
  {
   "cell_type": "code",
   "execution_count": 112,
   "metadata": {},
   "outputs": [
    {
     "data": {
      "text/plain": [
       "'Tonight'"
      ]
     },
     "execution_count": 112,
     "metadata": {},
     "output_type": "execute_result"
    }
   ],
   "source": [
    "sfWeather[0].find('p', class_ = 'period-name').text"
   ]
  },
  {
   "cell_type": "code",
   "execution_count": 113,
   "metadata": {},
   "outputs": [
    {
     "data": {
      "text/plain": [
       "'Mostly Clear'"
      ]
     },
     "execution_count": 113,
     "metadata": {},
     "output_type": "execute_result"
    }
   ],
   "source": [
    "sfWeather[0].find('p', class_ = 'short-desc').text"
   ]
  },
  {
   "cell_type": "code",
   "execution_count": 114,
   "metadata": {},
   "outputs": [
    {
     "data": {
      "text/plain": [
       "'Low: 50 °F'"
      ]
     },
     "execution_count": 114,
     "metadata": {},
     "output_type": "execute_result"
    }
   ],
   "source": [
    "sfWeather[0].find('p', class_ = 'temp').text"
   ]
  },
  {
   "cell_type": "code",
   "execution_count": 115,
   "metadata": {},
   "outputs": [
    {
     "data": {
      "text/plain": [
       "'Mostly clear, with a low around 50. West southwest wind around 7 mph. '"
      ]
     },
     "execution_count": 115,
     "metadata": {},
     "output_type": "execute_result"
    }
   ],
   "source": [
    "sfWeatherLong[0].text"
   ]
  },
  {
   "cell_type": "code",
   "execution_count": 116,
   "metadata": {},
   "outputs": [],
   "source": [
    "period = []\n",
    "shortDesc = []\n",
    "temp = []\n",
    "descLong = []\n",
    "\n",
    "for index in range(len(sfWeather)):\n",
    "    period.append(sfWeather[index].find('p', class_ = 'period-name').text)\n",
    "    shortDesc.append(sfWeather[index].find('p', class_ = 'short-desc').text)\n",
    "    temp.append(sfWeather[index].find('p', class_ = 'temp').text)\n",
    "    descLong.append(sfWeatherLong[index].text)"
   ]
  },
  {
   "cell_type": "code",
   "execution_count": 117,
   "metadata": {},
   "outputs": [
    {
     "data": {
      "text/html": [
       "<div>\n",
       "<style scoped>\n",
       "    .dataframe tbody tr th:only-of-type {\n",
       "        vertical-align: middle;\n",
       "    }\n",
       "\n",
       "    .dataframe tbody tr th {\n",
       "        vertical-align: top;\n",
       "    }\n",
       "\n",
       "    .dataframe thead th {\n",
       "        text-align: right;\n",
       "    }\n",
       "</style>\n",
       "<table border=\"1\" class=\"dataframe\">\n",
       "  <thead>\n",
       "    <tr style=\"text-align: right;\">\n",
       "      <th></th>\n",
       "      <th>Period</th>\n",
       "      <th>Short Description</th>\n",
       "      <th>Temperature</th>\n",
       "      <th>Long Description</th>\n",
       "    </tr>\n",
       "  </thead>\n",
       "  <tbody>\n",
       "    <tr>\n",
       "      <th>0</th>\n",
       "      <td>Tonight</td>\n",
       "      <td>Mostly Clear</td>\n",
       "      <td>Low: 50 °F</td>\n",
       "      <td>Mostly clear, with a low around 50. West south...</td>\n",
       "    </tr>\n",
       "    <tr>\n",
       "      <th>1</th>\n",
       "      <td>Wednesday</td>\n",
       "      <td>Sunny</td>\n",
       "      <td>High: 66 °F</td>\n",
       "      <td>Sunny, with a high near 66. Light west southwe...</td>\n",
       "    </tr>\n",
       "    <tr>\n",
       "      <th>2</th>\n",
       "      <td>WednesdayNight</td>\n",
       "      <td>Partly Cloudy</td>\n",
       "      <td>Low: 51 °F</td>\n",
       "      <td>Partly cloudy, with a low around 51. West wind...</td>\n",
       "    </tr>\n",
       "    <tr>\n",
       "      <th>3</th>\n",
       "      <td>Thursday</td>\n",
       "      <td>Sunny</td>\n",
       "      <td>High: 64 °F</td>\n",
       "      <td>Sunny, with a high near 64. West wind 8 to 17 ...</td>\n",
       "    </tr>\n",
       "    <tr>\n",
       "      <th>4</th>\n",
       "      <td>ThursdayNight</td>\n",
       "      <td>Mostly Clear</td>\n",
       "      <td>Low: 50 °F</td>\n",
       "      <td>Mostly clear, with a low around 50. West wind ...</td>\n",
       "    </tr>\n",
       "    <tr>\n",
       "      <th>5</th>\n",
       "      <td>Friday</td>\n",
       "      <td>Sunny</td>\n",
       "      <td>High: 64 °F</td>\n",
       "      <td>Sunny, with a high near 64.</td>\n",
       "    </tr>\n",
       "    <tr>\n",
       "      <th>6</th>\n",
       "      <td>FridayNight</td>\n",
       "      <td>Clear</td>\n",
       "      <td>Low: 51 °F</td>\n",
       "      <td>Clear, with a low around 51.</td>\n",
       "    </tr>\n",
       "    <tr>\n",
       "      <th>7</th>\n",
       "      <td>Saturday</td>\n",
       "      <td>Sunny</td>\n",
       "      <td>High: 69 °F</td>\n",
       "      <td>Sunny, with a high near 69.</td>\n",
       "    </tr>\n",
       "    <tr>\n",
       "      <th>8</th>\n",
       "      <td>SaturdayNight</td>\n",
       "      <td>Mostly Clear</td>\n",
       "      <td>Low: 52 °F</td>\n",
       "      <td>Mostly clear, with a low around 52.</td>\n",
       "    </tr>\n",
       "  </tbody>\n",
       "</table>\n",
       "</div>"
      ],
      "text/plain": [
       "           Period Short Description  Temperature  \\\n",
       "0         Tonight      Mostly Clear   Low: 50 °F   \n",
       "1       Wednesday             Sunny  High: 66 °F   \n",
       "2  WednesdayNight     Partly Cloudy   Low: 51 °F   \n",
       "3        Thursday             Sunny  High: 64 °F   \n",
       "4   ThursdayNight      Mostly Clear   Low: 50 °F   \n",
       "5          Friday             Sunny  High: 64 °F   \n",
       "6     FridayNight             Clear   Low: 51 °F   \n",
       "7        Saturday             Sunny  High: 69 °F   \n",
       "8   SaturdayNight      Mostly Clear   Low: 52 °F   \n",
       "\n",
       "                                    Long Description  \n",
       "0  Mostly clear, with a low around 50. West south...  \n",
       "1  Sunny, with a high near 66. Light west southwe...  \n",
       "2  Partly cloudy, with a low around 51. West wind...  \n",
       "3  Sunny, with a high near 64. West wind 8 to 17 ...  \n",
       "4  Mostly clear, with a low around 50. West wind ...  \n",
       "5                        Sunny, with a high near 64.  \n",
       "6                       Clear, with a low around 51.  \n",
       "7                        Sunny, with a high near 69.  \n",
       "8                Mostly clear, with a low around 52.  "
      ]
     },
     "execution_count": 117,
     "metadata": {},
     "output_type": "execute_result"
    }
   ],
   "source": [
    "weatherSF = pd.DataFrame()\n",
    "\n",
    "weatherSF['Period'] = period\n",
    "weatherSF['Short Description'] = shortDesc\n",
    "weatherSF['Temperature'] = temp\n",
    "weatherSF['Long Description'] = descLong\n",
    "\n",
    "weatherSF"
   ]
  },
  {
   "cell_type": "code",
   "execution_count": null,
   "metadata": {},
   "outputs": [],
   "source": []
  }
 ],
 "metadata": {
  "kernelspec": {
   "display_name": "Python 3",
   "language": "python",
   "name": "python3"
  },
  "language_info": {
   "codemirror_mode": {
    "name": "ipython",
    "version": 3
   },
   "file_extension": ".py",
   "mimetype": "text/x-python",
   "name": "python",
   "nbconvert_exporter": "python",
   "pygments_lexer": "ipython3",
   "version": "3.7.6"
  }
 },
 "nbformat": 4,
 "nbformat_minor": 4
}
