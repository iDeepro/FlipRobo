{
 "cells": [
  {
   "cell_type": "markdown",
   "metadata": {},
   "source": [
    "# Web Scrapping with Selenium\n",
    "\n",
    "### Content:\n",
    "1. [Naukri.com Data Analyst Jobs](#1)\n",
    "2. [Naukri.com Data Scientist Jobs](#2)\n",
    "3. [Data Scientist in Delhi/NCR with 3-6 LPA Naukri.com](#3)\n",
    "4. [Glassdoor Data Scientist Jobs in Noida](#4)\n",
    "5. [Data Scientist in Noida Salary Data from Glassboor](#5)\n",
    "6. [Flipkart Sunglasses Data](#6)\n",
    "7. [iPhone 11 Reviews](#7)\n",
    "8. [Flipkart Snearkers Data](#8)\n",
    "9. [Myntra Black Shoes](#9)\n",
    "10. [Amazon i7 and i9 Laptops](#10)"
   ]
  },
  {
   "cell_type": "code",
   "execution_count": 1,
   "metadata": {},
   "outputs": [],
   "source": [
    "import pandas as pd\n",
    "import selenium\n",
    "import time\n",
    "\n",
    "from selenium import webdriver\n",
    "from selenium.common.exceptions import NoSuchElementException\n",
    "from selenium.webdriver.support.ui import Select\n",
    "from selenium.webdriver.support.ui import WebDriverWait\n",
    "\n",
    "#!pip install clipboard\n",
    "import clipboard\n",
    "\n",
    "import warnings\n",
    "warnings.filterwarnings('ignore')"
   ]
  },
  {
   "cell_type": "markdown",
   "metadata": {},
   "source": [
    "###### 1. Naukri.com Data Analyst Jobs <a name = \"1\"></a>"
   ]
  },
  {
   "cell_type": "code",
   "execution_count": 2,
   "metadata": {},
   "outputs": [],
   "source": [
    "driver = webdriver.Chrome('./chromedriver')"
   ]
  },
  {
   "cell_type": "code",
   "execution_count": 3,
   "metadata": {},
   "outputs": [],
   "source": [
    "driver.get('https://www.naukri.com/')"
   ]
  },
  {
   "cell_type": "code",
   "execution_count": 4,
   "metadata": {},
   "outputs": [],
   "source": [
    "jobName = 'Data Analyst'\n",
    "jobSearchLocation = 'Bangalore/Bengaluru'"
   ]
  },
  {
   "cell_type": "code",
   "execution_count": 5,
   "metadata": {},
   "outputs": [],
   "source": [
    "#Filling the job search bar\n",
    "jobSearchBar = driver.find_element_by_xpath('//*[@id=\"qsb-keyword-sugg\"]')\n",
    "jobSearchBar.send_keys(jobName)"
   ]
  },
  {
   "cell_type": "code",
   "execution_count": 6,
   "metadata": {},
   "outputs": [],
   "source": [
    "#Filling the job location bar\n",
    "jobLocationBar = driver.find_element_by_xpath('//*[@id=\"qsb-location-sugg\"]')\n",
    "jobLocationBar.send_keys(jobSearchLocation)"
   ]
  },
  {
   "cell_type": "code",
   "execution_count": 7,
   "metadata": {},
   "outputs": [],
   "source": [
    "#clicking the search button\n",
    "jobSearchButton = driver.find_element_by_xpath('//*[@id=\"root\"]/div[3]/div[2]/section/div/form/div[3]/button')\n",
    "jobSearchButton.click()"
   ]
  },
  {
   "cell_type": "code",
   "execution_count": 8,
   "metadata": {},
   "outputs": [
    {
     "data": {
      "text/plain": [
       "['Data Scientist / Data Analyst -Business Analyst',\n",
       " 'Hiring Data Analysts For E commerce Platform || WFH',\n",
       " 'Data Analyst',\n",
       " 'Hiring For Data Analyst/ MIS Reporting Analyst - Bangalore',\n",
       " 'DA - Urgent Opening For Data Analyst BFSI Domain - Pan India',\n",
       " 'Data Analyst - Informatica MDM',\n",
       " 'Assistant Vice President - MIS & Reporting ( Business Data Analyst)',\n",
       " 'Data Analyst',\n",
       " 'Data Analyst',\n",
       " 'Data Analyst']"
      ]
     },
     "execution_count": 8,
     "metadata": {},
     "output_type": "execute_result"
    }
   ],
   "source": [
    "#Iterating and getting the first 10 job titles\n",
    "jobTitle = []\n",
    "\n",
    "for index in range(1,11):\n",
    "    title = driver.find_element_by_xpath(f'//*[@id=\"root\"]/div[3]/div[2]/section[2]/div[2]/article[{index}]/div[1]/div[1]/a')\n",
    "    jobTitle.append(title.text)\n",
    "\n",
    "jobTitle"
   ]
  },
  {
   "cell_type": "code",
   "execution_count": 9,
   "metadata": {},
   "outputs": [
    {
     "data": {
      "text/plain": [
       "['Mumbai, Hyderabad/Secunderabad, Pune, Gurgaon/Gurugram, Chennai, Bangalore/Bengaluru',\n",
       " 'Bangalore/Bengaluru',\n",
       " 'Bangalore/Bengaluru',\n",
       " 'Bangalore/Bengaluru',\n",
       " 'Kolkata, Hyderabad/Secunderabad, Pune, Ahmedabad, Chennai, Bangalore/Bengaluru, Delhi / NCR, Mumbai (All Areas)',\n",
       " 'Bangalore/Bengaluru',\n",
       " 'Mumbai, Bangalore/Bengaluru',\n",
       " 'Bangalore/Bengaluru',\n",
       " 'Bangalore/Bengaluru',\n",
       " 'Bangalore/Bengaluru']"
      ]
     },
     "execution_count": 9,
     "metadata": {},
     "output_type": "execute_result"
    }
   ],
   "source": [
    "#Iterating and getting the first 10 job locations\n",
    "jobLocation = []\n",
    "\n",
    "for index in range(1,11):\n",
    "    location = driver.find_element_by_xpath(f'//*[@id=\"root\"]/div[3]/div[2]/section[2]/div[2]/article[{index}]/div[1]/div[1]/ul/li[3]/span')\n",
    "    jobLocation.append(location.text)\n",
    "\n",
    "jobLocation"
   ]
  },
  {
   "cell_type": "code",
   "execution_count": 10,
   "metadata": {},
   "outputs": [
    {
     "data": {
      "text/plain": [
       "['Inflexion Analytix Private Limited',\n",
       " 'Allegis Services India Pvt. Ltd.',\n",
       " 'Applied Materials',\n",
       " 'PHARMACEUTICAL RESEARCH ASSOCIATES INDIA Pvt Ltd',\n",
       " 'Tata Consultancy Services Ltd.',\n",
       " 'Shell India Markets Private Limited',\n",
       " 'INTERTRUSTVITEOS CORPORATE AND FUND SERVICES PVT. LTD.',\n",
       " 'Myntra Designs Pvt. Ltd.',\n",
       " 'Myntra Designs Pvt. Ltd.',\n",
       " 'Myntra Designs Pvt. Ltd.']"
      ]
     },
     "execution_count": 10,
     "metadata": {},
     "output_type": "execute_result"
    }
   ],
   "source": [
    "#Iterating and getting the first 10 hiring firms\n",
    "jobFirm = []\n",
    "\n",
    "for index in range(1,11):\n",
    "    firm = driver.find_element_by_xpath(f'//*[@id=\"root\"]/div[3]/div[2]/section[2]/div[2]/article[{index}]/div[1]/div[1]/div/a[1]')\n",
    "    jobFirm.append(firm.text)\n",
    "\n",
    "jobFirm"
   ]
  },
  {
   "cell_type": "code",
   "execution_count": 11,
   "metadata": {},
   "outputs": [
    {
     "data": {
      "text/plain": [
       "['0-3', '0-5', '7-10', '2-4', '4-9', '6-9', '12-18', '3-6', '3-6', '4-9']"
      ]
     },
     "execution_count": 11,
     "metadata": {},
     "output_type": "execute_result"
    }
   ],
   "source": [
    "#Iterating and getting the first 10 job experience requirements\n",
    "jobExp = []\n",
    "\n",
    "for index in range(1,11):\n",
    "    exp = driver.find_element_by_xpath(f'//*[@id=\"root\"]/div[3]/div[2]/section[2]/div[2]/article[{index}]/div[1]/div/ul/li[1]/span')\n",
    "    jobExp.append(exp.text.split()[0])\n",
    "    \n",
    "jobExp"
   ]
  },
  {
   "cell_type": "code",
   "execution_count": 12,
   "metadata": {},
   "outputs": [
    {
     "data": {
      "text/html": [
       "<div>\n",
       "<style scoped>\n",
       "    .dataframe tbody tr th:only-of-type {\n",
       "        vertical-align: middle;\n",
       "    }\n",
       "\n",
       "    .dataframe tbody tr th {\n",
       "        vertical-align: top;\n",
       "    }\n",
       "\n",
       "    .dataframe thead th {\n",
       "        text-align: right;\n",
       "    }\n",
       "</style>\n",
       "<table border=\"1\" class=\"dataframe\">\n",
       "  <thead>\n",
       "    <tr style=\"text-align: right;\">\n",
       "      <th></th>\n",
       "      <th>Title</th>\n",
       "      <th>Location</th>\n",
       "      <th>Company Name</th>\n",
       "      <th>Experience in Years</th>\n",
       "    </tr>\n",
       "  </thead>\n",
       "  <tbody>\n",
       "    <tr>\n",
       "      <th>0</th>\n",
       "      <td>Data Scientist / Data Analyst -Business Analyst</td>\n",
       "      <td>Mumbai, Hyderabad/Secunderabad, Pune, Gurgaon/...</td>\n",
       "      <td>Inflexion Analytix Private Limited</td>\n",
       "      <td>0-3</td>\n",
       "    </tr>\n",
       "    <tr>\n",
       "      <th>1</th>\n",
       "      <td>Hiring Data Analysts For E commerce Platform |...</td>\n",
       "      <td>Bangalore/Bengaluru</td>\n",
       "      <td>Allegis Services India Pvt. Ltd.</td>\n",
       "      <td>0-5</td>\n",
       "    </tr>\n",
       "    <tr>\n",
       "      <th>2</th>\n",
       "      <td>Data Analyst</td>\n",
       "      <td>Bangalore/Bengaluru</td>\n",
       "      <td>Applied Materials</td>\n",
       "      <td>7-10</td>\n",
       "    </tr>\n",
       "    <tr>\n",
       "      <th>3</th>\n",
       "      <td>Hiring For Data Analyst/ MIS Reporting Analyst...</td>\n",
       "      <td>Bangalore/Bengaluru</td>\n",
       "      <td>PHARMACEUTICAL RESEARCH ASSOCIATES INDIA Pvt Ltd</td>\n",
       "      <td>2-4</td>\n",
       "    </tr>\n",
       "    <tr>\n",
       "      <th>4</th>\n",
       "      <td>DA - Urgent Opening For Data Analyst BFSI Doma...</td>\n",
       "      <td>Kolkata, Hyderabad/Secunderabad, Pune, Ahmedab...</td>\n",
       "      <td>Tata Consultancy Services Ltd.</td>\n",
       "      <td>4-9</td>\n",
       "    </tr>\n",
       "    <tr>\n",
       "      <th>5</th>\n",
       "      <td>Data Analyst - Informatica MDM</td>\n",
       "      <td>Bangalore/Bengaluru</td>\n",
       "      <td>Shell India Markets Private Limited</td>\n",
       "      <td>6-9</td>\n",
       "    </tr>\n",
       "    <tr>\n",
       "      <th>6</th>\n",
       "      <td>Assistant Vice President - MIS &amp; Reporting ( B...</td>\n",
       "      <td>Mumbai, Bangalore/Bengaluru</td>\n",
       "      <td>INTERTRUSTVITEOS CORPORATE AND FUND SERVICES P...</td>\n",
       "      <td>12-18</td>\n",
       "    </tr>\n",
       "    <tr>\n",
       "      <th>7</th>\n",
       "      <td>Data Analyst</td>\n",
       "      <td>Bangalore/Bengaluru</td>\n",
       "      <td>Myntra Designs Pvt. Ltd.</td>\n",
       "      <td>3-6</td>\n",
       "    </tr>\n",
       "    <tr>\n",
       "      <th>8</th>\n",
       "      <td>Data Analyst</td>\n",
       "      <td>Bangalore/Bengaluru</td>\n",
       "      <td>Myntra Designs Pvt. Ltd.</td>\n",
       "      <td>3-6</td>\n",
       "    </tr>\n",
       "    <tr>\n",
       "      <th>9</th>\n",
       "      <td>Data Analyst</td>\n",
       "      <td>Bangalore/Bengaluru</td>\n",
       "      <td>Myntra Designs Pvt. Ltd.</td>\n",
       "      <td>4-9</td>\n",
       "    </tr>\n",
       "  </tbody>\n",
       "</table>\n",
       "</div>"
      ],
      "text/plain": [
       "                                               Title  \\\n",
       "0    Data Scientist / Data Analyst -Business Analyst   \n",
       "1  Hiring Data Analysts For E commerce Platform |...   \n",
       "2                                       Data Analyst   \n",
       "3  Hiring For Data Analyst/ MIS Reporting Analyst...   \n",
       "4  DA - Urgent Opening For Data Analyst BFSI Doma...   \n",
       "5                     Data Analyst - Informatica MDM   \n",
       "6  Assistant Vice President - MIS & Reporting ( B...   \n",
       "7                                       Data Analyst   \n",
       "8                                       Data Analyst   \n",
       "9                                       Data Analyst   \n",
       "\n",
       "                                            Location  \\\n",
       "0  Mumbai, Hyderabad/Secunderabad, Pune, Gurgaon/...   \n",
       "1                                Bangalore/Bengaluru   \n",
       "2                                Bangalore/Bengaluru   \n",
       "3                                Bangalore/Bengaluru   \n",
       "4  Kolkata, Hyderabad/Secunderabad, Pune, Ahmedab...   \n",
       "5                                Bangalore/Bengaluru   \n",
       "6                        Mumbai, Bangalore/Bengaluru   \n",
       "7                                Bangalore/Bengaluru   \n",
       "8                                Bangalore/Bengaluru   \n",
       "9                                Bangalore/Bengaluru   \n",
       "\n",
       "                                        Company Name Experience in Years  \n",
       "0                 Inflexion Analytix Private Limited                 0-3  \n",
       "1                   Allegis Services India Pvt. Ltd.                 0-5  \n",
       "2                                  Applied Materials                7-10  \n",
       "3   PHARMACEUTICAL RESEARCH ASSOCIATES INDIA Pvt Ltd                 2-4  \n",
       "4                     Tata Consultancy Services Ltd.                 4-9  \n",
       "5                Shell India Markets Private Limited                 6-9  \n",
       "6  INTERTRUSTVITEOS CORPORATE AND FUND SERVICES P...               12-18  \n",
       "7                           Myntra Designs Pvt. Ltd.                 3-6  \n",
       "8                           Myntra Designs Pvt. Ltd.                 3-6  \n",
       "9                           Myntra Designs Pvt. Ltd.                 4-9  "
      ]
     },
     "execution_count": 12,
     "metadata": {},
     "output_type": "execute_result"
    }
   ],
   "source": [
    "#Makign a job dataframe with all the scrapped information\n",
    "dataAnalystJobs = pd.DataFrame()\n",
    "\n",
    "dataAnalystJobs['Title'] = jobTitle\n",
    "dataAnalystJobs['Location'] = jobLocation\n",
    "dataAnalystJobs['Company Name'] = jobFirm\n",
    "dataAnalystJobs['Experience in Years'] = jobExp\n",
    "\n",
    "dataAnalystJobs"
   ]
  },
  {
   "cell_type": "code",
   "execution_count": 13,
   "metadata": {},
   "outputs": [],
   "source": [
    "#Closing the browers\n",
    "driver.close()"
   ]
  },
  {
   "cell_type": "markdown",
   "metadata": {},
   "source": [
    "###### 2. Naukri.com Data Scientist Jobs <a name = \"2\"></a>"
   ]
  },
  {
   "cell_type": "code",
   "execution_count": 14,
   "metadata": {},
   "outputs": [],
   "source": [
    "driver = webdriver.Chrome('./chromedriver')\n",
    "driver.get('https://www.naukri.com/')"
   ]
  },
  {
   "cell_type": "code",
   "execution_count": 15,
   "metadata": {},
   "outputs": [],
   "source": [
    "jobName = 'Data Scientist'\n",
    "jobSearchLocation = 'Bangalore/Bengaluru'"
   ]
  },
  {
   "cell_type": "code",
   "execution_count": 16,
   "metadata": {},
   "outputs": [],
   "source": [
    "#filling the job title bar\n",
    "jobSearchBar = driver.find_element_by_xpath('//*[@id=\"qsb-keyword-sugg\"]')\n",
    "jobSearchBar.send_keys(jobName)"
   ]
  },
  {
   "cell_type": "code",
   "execution_count": 17,
   "metadata": {},
   "outputs": [],
   "source": [
    "#filling the job location bar\n",
    "jobLocationBar = driver.find_element_by_xpath('//*[@id=\"qsb-location-sugg\"]')\n",
    "jobLocationBar.send_keys(jobSearchLocation)"
   ]
  },
  {
   "cell_type": "code",
   "execution_count": 18,
   "metadata": {},
   "outputs": [],
   "source": [
    "#Clicking on search\n",
    "jobSearchButton = driver.find_element_by_xpath('//*[@id=\"root\"]/div[3]/div[2]/section/div/form/div[3]/button')\n",
    "jobSearchButton.click()"
   ]
  },
  {
   "cell_type": "code",
   "execution_count": 19,
   "metadata": {},
   "outputs": [
    {
     "data": {
      "text/plain": [
       "['Data Scientist / Data Analyst -Business Analyst',\n",
       " 'Inflexion Analytix Private Limited',\n",
       " '0-3 Yrs',\n",
       " '3,50,000 - 4,50,000 PA.',\n",
       " 'Mumbai, Hyderabad/Secunderabad, Pune, Gurgaon/Gurugram, Chennai, Bangalore/Bengaluru']"
      ]
     },
     "execution_count": 19,
     "metadata": {},
     "output_type": "execute_result"
    }
   ],
   "source": [
    "#inspecting the first job listing to study the structure\n",
    "jobInfoTile = driver.find_element_by_xpath(f'//*[@id=\"root\"]/div[3]/div[2]/section[2]/div[2]/article[1]/div[1]/div').text.split('\\n')\n",
    "jobInfoTile"
   ]
  },
  {
   "cell_type": "code",
   "execution_count": 20,
   "metadata": {},
   "outputs": [
    {
     "data": {
      "text/plain": [
       "'https://www.naukri.com/job-listings-data-scientist-data-analyst-business-analyst-inflexion-analytix-private-limited-mumbai-hyderabad-secunderabad-pune-gurgaon-gurugram-chennai-bangalore-bengaluru-0-to-3-years-100521000368?src=jobsearchDesk&sid=16212332571492194&xp=1&px=1'"
      ]
     },
     "execution_count": 20,
     "metadata": {},
     "output_type": "execute_result"
    }
   ],
   "source": [
    "#Getting job link for full job description\n",
    "jobDescLink = driver.find_element_by_xpath(f'//*[@id=\"root\"]/div[3]/div[2]/section[2]/div[2]/article[1]/div[1]/div[1]/a').get_attribute('href')\n",
    "jobDescLink"
   ]
  },
  {
   "cell_type": "code",
   "execution_count": 21,
   "metadata": {},
   "outputs": [
    {
     "data": {
      "text/plain": [
       "'Mumbai, Hyderabad/Secunderabad, Pune, Gurgaon/Gurugram, Chennai, Bangalore/Bengaluru'"
      ]
     },
     "execution_count": 21,
     "metadata": {},
     "output_type": "execute_result"
    }
   ],
   "source": [
    "jobInfoTile[-1]"
   ]
  },
  {
   "cell_type": "code",
   "execution_count": 64,
   "metadata": {},
   "outputs": [],
   "source": [
    "def jobInfo(tileNumber):\n",
    "    \"\"\"This function will return all job related information from naukri.com\n",
    "    It will visit each job listing to get the full job description. However, some companies have their own\n",
    "    custom page within naukri.com and these custom pages do not follow a predictable HTML structure. Therefore\n",
    "    whenever such a custom page is encounted, it adds Full Job Description not available in the jobDesc variable\"\"\"\n",
    "    \n",
    "    jobInfoTile = driver.find_element_by_xpath(f'//*[@id=\"root\"]/div[3]/div[2]/section[2]/div[2]/article[{tileNumber}]/div[1]/div').text.split('\\n')\n",
    "    jobTitle = jobInfoTile[0]\n",
    "    jobFirm = jobInfoTile[1]\n",
    "    jobLocation = jobInfoTile[-1]\n",
    "    \n",
    "    jobDescLink = driver.find_element_by_xpath(f'//*[@id=\"root\"]/div[3]/div[2]/section[2]/div[2]/article[{tileNumber}]/div[1]/div[1]/a').get_attribute('href')\n",
    "    \n",
    "    try:\n",
    "        driver.get(jobDescLink)\n",
    "        jobDesc = driver.find_element_by_xpath('//*[@id=\"root\"]/main/div[2]/div[2]/section[2]').text.split('\\n')[1::]\n",
    "        jobDesc = ''.join(jobDesc)\n",
    "        driver.back()\n",
    "        \n",
    "    except:\n",
    "        jobDesc = 'Full Job decription not available'\n",
    "        driver.back()\n",
    "        \n",
    "    finally:\n",
    "        return jobTitle, jobFirm, jobLocation, jobDesc\n",
    "        "
   ]
  },
  {
   "cell_type": "code",
   "execution_count": 23,
   "metadata": {},
   "outputs": [
    {
     "name": "stdout",
     "output_type": "stream",
     "text": [
      "Getting Job No. 1\n",
      "\tSuccessfully collected Job 1 Info\n",
      "Getting Job No. 2\n",
      "\tSuccessfully collected Job 2 Info\n",
      "Getting Job No. 3\n",
      "\tSuccessfully collected Job 3 Info\n",
      "Getting Job No. 4\n",
      "\tSuccessfully collected Job 4 Info\n",
      "Getting Job No. 5\n",
      "\tSuccessfully collected Job 5 Info\n",
      "Getting Job No. 6\n",
      "\tSuccessfully collected Job 6 Info\n",
      "Getting Job No. 7\n",
      "\tSuccessfully collected Job 7 Info\n",
      "Getting Job No. 8\n",
      "\tSuccessfully collected Job 8 Info\n",
      "Getting Job No. 9\n",
      "\tSuccessfully collected Job 9 Info\n",
      "Getting Job No. 10\n",
      "\tSuccessfully collected Job 10 Info\n"
     ]
    }
   ],
   "source": [
    "#Getting jo info for the first 10 job listing\n",
    "\n",
    "jobTitle = []\n",
    "jobFirm = []\n",
    "jobLocation = []\n",
    "jobDesc = []\n",
    "\n",
    "for index in range(1,11):\n",
    "    print(f'Getting Job No. {index}')\n",
    "    time.sleep(2)\n",
    "    try:\n",
    "        t ,f, l, d = jobInfo(index)\n",
    "    \n",
    "    except:\n",
    "        print('Except block executed')\n",
    "        continue\n",
    "    \n",
    "    else:\n",
    "        time.sleep(3)\n",
    "        jobTitle.append(t)\n",
    "        jobFirm.append(f)\n",
    "        jobLocation.append(l)\n",
    "        jobDesc.append(d)\n",
    "    print(f'\\tSuccessfully collected Job {index} Info')"
   ]
  },
  {
   "cell_type": "code",
   "execution_count": 24,
   "metadata": {},
   "outputs": [
    {
     "data": {
      "text/html": [
       "<div>\n",
       "<style scoped>\n",
       "    .dataframe tbody tr th:only-of-type {\n",
       "        vertical-align: middle;\n",
       "    }\n",
       "\n",
       "    .dataframe tbody tr th {\n",
       "        vertical-align: top;\n",
       "    }\n",
       "\n",
       "    .dataframe thead th {\n",
       "        text-align: right;\n",
       "    }\n",
       "</style>\n",
       "<table border=\"1\" class=\"dataframe\">\n",
       "  <thead>\n",
       "    <tr style=\"text-align: right;\">\n",
       "      <th></th>\n",
       "      <th>Title</th>\n",
       "      <th>Firm</th>\n",
       "      <th>Location</th>\n",
       "      <th>Description</th>\n",
       "    </tr>\n",
       "  </thead>\n",
       "  <tbody>\n",
       "    <tr>\n",
       "      <th>0</th>\n",
       "      <td>Data Scientist / Data Analyst -Business Analyst</td>\n",
       "      <td>Inflexion Analytix Private Limited</td>\n",
       "      <td>Mumbai, Hyderabad/Secunderabad, Pune, Gurgaon/...</td>\n",
       "      <td>Job Role : Data Scientist/Data Analyst /Busine...</td>\n",
       "    </tr>\n",
       "    <tr>\n",
       "      <th>1</th>\n",
       "      <td>Senior Data Scientist, Modeling</td>\n",
       "      <td>Nielsen</td>\n",
       "      <td>Kolkata, Gurgaon/Gurugram, Bangalore/Bengaluru...</td>\n",
       "      <td>We wont say we can predict the future, but our...</td>\n",
       "    </tr>\n",
       "    <tr>\n",
       "      <th>2</th>\n",
       "      <td>Data Scientist - IBM Garage</td>\n",
       "      <td>IBM India Pvt. Limited</td>\n",
       "      <td>Noida, Hyderabad/Secunderabad, Bangalore/Benga...</td>\n",
       "      <td>Full Job decription not available</td>\n",
       "    </tr>\n",
       "    <tr>\n",
       "      <th>3</th>\n",
       "      <td>Data Scientist</td>\n",
       "      <td>IBM India Pvt. Limited</td>\n",
       "      <td>Noida, Hyderabad/Secunderabad, Bangalore/Benga...</td>\n",
       "      <td>Full Job decription not available</td>\n",
       "    </tr>\n",
       "    <tr>\n",
       "      <th>4</th>\n",
       "      <td>Senior Data Scientist - Credit risk</td>\n",
       "      <td>Scienaptic Systems</td>\n",
       "      <td>Bangalore/Bengaluru</td>\n",
       "      <td>Responsibilities and duties Focus on developin...</td>\n",
       "    </tr>\n",
       "    <tr>\n",
       "      <th>5</th>\n",
       "      <td>Big Data - Data Scientist</td>\n",
       "      <td>Xoriant Solutions Pvt Ltd</td>\n",
       "      <td>Kochi/Cochin, Indore, Hyderabad/Secunderabad, ...</td>\n",
       "      <td>Full Job decription not available</td>\n",
       "    </tr>\n",
       "    <tr>\n",
       "      <th>6</th>\n",
       "      <td>Big Data - Data Scientist</td>\n",
       "      <td>Xoriant Solutions Pvt Ltd</td>\n",
       "      <td>Kochi/Cochin, Indore, Hyderabad/Secunderabad, ...</td>\n",
       "      <td>Full Job decription not available</td>\n",
       "    </tr>\n",
       "    <tr>\n",
       "      <th>7</th>\n",
       "      <td>Lead Data Scientist</td>\n",
       "      <td>Intel Technology India Pvt Ltd</td>\n",
       "      <td>Bangalore/Bengaluru</td>\n",
       "      <td>We are seeking an outstanding Lead Data Scient...</td>\n",
       "    </tr>\n",
       "    <tr>\n",
       "      <th>8</th>\n",
       "      <td>Senior Data Scientist - Chatbot &amp; NLP</td>\n",
       "      <td>Gojek Tech</td>\n",
       "      <td>Bangalore/Bengaluru</td>\n",
       "      <td>What You Will DoWork with Data Scientists, Mac...</td>\n",
       "    </tr>\n",
       "    <tr>\n",
       "      <th>9</th>\n",
       "      <td>Senior Data Scientist - Chatbot &amp; NLP</td>\n",
       "      <td>GO-JEK India</td>\n",
       "      <td>Bangalore/Bengaluru</td>\n",
       "      <td>What You Will DoWork with Data Scientists, M...</td>\n",
       "    </tr>\n",
       "  </tbody>\n",
       "</table>\n",
       "</div>"
      ],
      "text/plain": [
       "                                             Title  \\\n",
       "0  Data Scientist / Data Analyst -Business Analyst   \n",
       "1                  Senior Data Scientist, Modeling   \n",
       "2                      Data Scientist - IBM Garage   \n",
       "3                                   Data Scientist   \n",
       "4              Senior Data Scientist - Credit risk   \n",
       "5                        Big Data - Data Scientist   \n",
       "6                        Big Data - Data Scientist   \n",
       "7                              Lead Data Scientist   \n",
       "8            Senior Data Scientist - Chatbot & NLP   \n",
       "9            Senior Data Scientist - Chatbot & NLP   \n",
       "\n",
       "                                 Firm  \\\n",
       "0  Inflexion Analytix Private Limited   \n",
       "1                             Nielsen   \n",
       "2              IBM India Pvt. Limited   \n",
       "3              IBM India Pvt. Limited   \n",
       "4                  Scienaptic Systems   \n",
       "5           Xoriant Solutions Pvt Ltd   \n",
       "6           Xoriant Solutions Pvt Ltd   \n",
       "7      Intel Technology India Pvt Ltd   \n",
       "8                          Gojek Tech   \n",
       "9                        GO-JEK India   \n",
       "\n",
       "                                            Location  \\\n",
       "0  Mumbai, Hyderabad/Secunderabad, Pune, Gurgaon/...   \n",
       "1  Kolkata, Gurgaon/Gurugram, Bangalore/Bengaluru...   \n",
       "2  Noida, Hyderabad/Secunderabad, Bangalore/Benga...   \n",
       "3  Noida, Hyderabad/Secunderabad, Bangalore/Benga...   \n",
       "4                                Bangalore/Bengaluru   \n",
       "5  Kochi/Cochin, Indore, Hyderabad/Secunderabad, ...   \n",
       "6  Kochi/Cochin, Indore, Hyderabad/Secunderabad, ...   \n",
       "7                                Bangalore/Bengaluru   \n",
       "8                                Bangalore/Bengaluru   \n",
       "9                                Bangalore/Bengaluru   \n",
       "\n",
       "                                         Description  \n",
       "0  Job Role : Data Scientist/Data Analyst /Busine...  \n",
       "1  We wont say we can predict the future, but our...  \n",
       "2                  Full Job decription not available  \n",
       "3                  Full Job decription not available  \n",
       "4  Responsibilities and duties Focus on developin...  \n",
       "5                  Full Job decription not available  \n",
       "6                  Full Job decription not available  \n",
       "7  We are seeking an outstanding Lead Data Scient...  \n",
       "8  What You Will DoWork with Data Scientists, Mac...  \n",
       "9    What You Will DoWork with Data Scientists, M...  "
      ]
     },
     "execution_count": 24,
     "metadata": {},
     "output_type": "execute_result"
    }
   ],
   "source": [
    "#Making a job dataframe\n",
    "jobDf = pd.DataFrame()\n",
    "\n",
    "jobDf['Title'] = jobTitle\n",
    "jobDf['Firm'] = jobFirm\n",
    "jobDf['Location'] = jobLocation\n",
    "jobDf['Description'] = jobDesc\n",
    "\n",
    "jobDf"
   ]
  },
  {
   "cell_type": "code",
   "execution_count": 25,
   "metadata": {},
   "outputs": [],
   "source": [
    "driver.close()"
   ]
  },
  {
   "cell_type": "markdown",
   "metadata": {},
   "source": [
    "###### 3. Data Scientist in Delhi/NCR with 3-6 LPA Naukri.com <a name = \"3\"></a>"
   ]
  },
  {
   "cell_type": "code",
   "execution_count": 39,
   "metadata": {},
   "outputs": [],
   "source": [
    "driver = webdriver.Chrome('./chromedriver')\n",
    "driver.get('https://www.naukri.com/')"
   ]
  },
  {
   "cell_type": "code",
   "execution_count": 40,
   "metadata": {},
   "outputs": [],
   "source": [
    "jobName = 'Data Scientist'\n",
    "jobSearchLocation = 'Delhi/NCR'"
   ]
  },
  {
   "cell_type": "code",
   "execution_count": 41,
   "metadata": {},
   "outputs": [],
   "source": [
    "#Filling the job search bar\n",
    "jobSearchBar = driver.find_element_by_xpath('//*[@id=\"qsb-keyword-sugg\"]')\n",
    "jobSearchBar.send_keys(jobName)"
   ]
  },
  {
   "cell_type": "code",
   "execution_count": 42,
   "metadata": {},
   "outputs": [],
   "source": [
    "#Filling the job location bar\n",
    "jobLocationBar = driver.find_element_by_xpath('//*[@id=\"qsb-location-sugg\"]')\n",
    "jobLocationBar.send_keys(jobSearchLocation)"
   ]
  },
  {
   "cell_type": "code",
   "execution_count": 43,
   "metadata": {},
   "outputs": [],
   "source": [
    "#clicking the search button\n",
    "jobSearchButton = driver.find_element_by_xpath('//*[@id=\"root\"]/div[3]/div[2]/section/div/form/div[3]/button')\n",
    "jobSearchButton.click()"
   ]
  },
  {
   "cell_type": "code",
   "execution_count": 44,
   "metadata": {},
   "outputs": [],
   "source": [
    "#applying location filter to show job listings for Delhi/NCR\n",
    "time.sleep(2)\n",
    "driver.find_element_by_xpath('//*[@id=\"root\"]/div[3]/div[2]/section[1]/div[2]/div[2]/div[2]/div[1]/label/p').click()"
   ]
  },
  {
   "cell_type": "code",
   "execution_count": 46,
   "metadata": {},
   "outputs": [],
   "source": [
    "#applying location filter to show job listings for 3-6 lahks salary\n",
    "time.sleep(2)\n",
    "driver.find_element_by_xpath('//*[@id=\"root\"]/div[3]/div[2]/section[1]/div[2]/div[3]/div[2]/div[2]/label/p').click()"
   ]
  },
  {
   "cell_type": "code",
   "execution_count": 47,
   "metadata": {},
   "outputs": [
    {
     "data": {
      "text/plain": [
       "['Data Scientist / Data Analyst -Business Analyst',\n",
       " 'Data Scientist - High growth VC backed Influencer Marketplace',\n",
       " 'Excellent opportunity For Data Scientist',\n",
       " 'Data Scientist',\n",
       " 'DATA Scientist – Gurgaon (Exp 3-6 years)',\n",
       " 'DATA Scientist – Gurgaon (Exp 3-6 years)',\n",
       " 'Data Scientist - Noida',\n",
       " \"Data Scientist - Noida/ B'lore\",\n",
       " 'Data Scientist',\n",
       " 'Data Scientist']"
      ]
     },
     "execution_count": 47,
     "metadata": {},
     "output_type": "execute_result"
    }
   ],
   "source": [
    "#Getting the first 10 job title\n",
    "jobTitle = []\n",
    "\n",
    "for index in range(1,11):\n",
    "    title = driver.find_element_by_xpath(f'//*[@id=\"root\"]/div[3]/div[2]/section[2]/div[2]/article[{index}]/div[1]/div[1]/a')\n",
    "    jobTitle.append(title.text)\n",
    "\n",
    "jobTitle"
   ]
  },
  {
   "cell_type": "code",
   "execution_count": 48,
   "metadata": {},
   "outputs": [
    {
     "data": {
      "text/plain": [
       "['Inflexion Analytix Private Limited',\n",
       " 'Ravgins International Pvt. Ltd.',\n",
       " 'NEC CORPORATION INDIA PRIVATE LIMITED',\n",
       " 'Mobikwik',\n",
       " 'CRESCENDO GLOBAL LEADERSHIP HIRING INDIA PRIVATE L IMITED',\n",
       " 'CRESCENDO GLOBAL LEADERSHIP HIRING INDIA PRIVATE L IMITED',\n",
       " 'Optum Global Solutions (India) Private Limited',\n",
       " 'NEC CORPORATION INDIA PRIVATE LIMITED',\n",
       " 'Cloudstrats Technologies Private Limited',\n",
       " 'IBM India Pvt. Limited']"
      ]
     },
     "execution_count": 48,
     "metadata": {},
     "output_type": "execute_result"
    }
   ],
   "source": [
    "#Getting the first 10 hiring firms\n",
    "jobFirm = []\n",
    "\n",
    "for index in range(1,11):\n",
    "    firm = driver.find_element_by_xpath(f'//*[@id=\"root\"]/div[3]/div[2]/section[2]/div[2]/article[{index}]/div[1]/div[1]/div/a[1]')\n",
    "    jobFirm.append(firm.text)\n",
    "\n",
    "jobFirm"
   ]
  },
  {
   "cell_type": "code",
   "execution_count": 49,
   "metadata": {},
   "outputs": [
    {
     "data": {
      "text/plain": [
       "['0-3', '3-5', '3-7', '3-5', '3-6', '3-6', '3-5', '3-8', '5-8', '4-9']"
      ]
     },
     "execution_count": 49,
     "metadata": {},
     "output_type": "execute_result"
    }
   ],
   "source": [
    "#Getting the first 10 job experience requirement\n",
    "\n",
    "jobExp = []\n",
    "\n",
    "for index in range(1,11):\n",
    "    exp = driver.find_element_by_xpath(f'//*[@id=\"root\"]/div[3]/div[2]/section[2]/div[2]/article[{index}]/div[1]/div/ul/li[1]/span')\n",
    "    jobExp.append(exp.text.split()[0])\n",
    "    \n",
    "jobExp"
   ]
  },
  {
   "cell_type": "code",
   "execution_count": 50,
   "metadata": {},
   "outputs": [
    {
     "data": {
      "text/plain": [
       "['Mumbai, Hyderabad/Secunderabad, Pune, Gurgaon/Gurugram, Chennai, Bangalore/Bengaluru',\n",
       " 'Bangalore/Bengaluru, Delhi / NCR, Mumbai (All Areas)',\n",
       " 'Noida, Bangalore/Bengaluru',\n",
       " 'New Delhi, Gurgaon/Gurugram, Delhi / NCR',\n",
       " 'Gurgaon/Gurugram, Delhi / NCR',\n",
       " 'Gurgaon/Gurugram, Delhi / NCR',\n",
       " 'Noida',\n",
       " 'Noida, Bangalore/Bengaluru',\n",
       " 'Bangalore/Bengaluru, Delhi / NCR, Mumbai (All Areas)',\n",
       " 'Noida, Hyderabad/Secunderabad, Bangalore/Bengaluru']"
      ]
     },
     "execution_count": 50,
     "metadata": {},
     "output_type": "execute_result"
    }
   ],
   "source": [
    "#Getting the first 10 job location\n",
    "\n",
    "jobLocation = []\n",
    "\n",
    "for index in range(1,11):\n",
    "    location = driver.find_element_by_xpath(f'//*[@id=\"root\"]/div[3]/div[2]/section[2]/div[2]/article[{index}]/div[1]/div[1]/ul/li[3]/span')\n",
    "    jobLocation.append(location.text)\n",
    "\n",
    "jobLocation"
   ]
  },
  {
   "cell_type": "code",
   "execution_count": 51,
   "metadata": {},
   "outputs": [
    {
     "data": {
      "text/html": [
       "<div>\n",
       "<style scoped>\n",
       "    .dataframe tbody tr th:only-of-type {\n",
       "        vertical-align: middle;\n",
       "    }\n",
       "\n",
       "    .dataframe tbody tr th {\n",
       "        vertical-align: top;\n",
       "    }\n",
       "\n",
       "    .dataframe thead th {\n",
       "        text-align: right;\n",
       "    }\n",
       "</style>\n",
       "<table border=\"1\" class=\"dataframe\">\n",
       "  <thead>\n",
       "    <tr style=\"text-align: right;\">\n",
       "      <th></th>\n",
       "      <th>Title</th>\n",
       "      <th>Location</th>\n",
       "      <th>Company Name</th>\n",
       "      <th>Experience in Years</th>\n",
       "    </tr>\n",
       "  </thead>\n",
       "  <tbody>\n",
       "    <tr>\n",
       "      <th>0</th>\n",
       "      <td>Data Scientist / Data Analyst -Business Analyst</td>\n",
       "      <td>Mumbai, Hyderabad/Secunderabad, Pune, Gurgaon/...</td>\n",
       "      <td>Inflexion Analytix Private Limited</td>\n",
       "      <td>0-3</td>\n",
       "    </tr>\n",
       "    <tr>\n",
       "      <th>1</th>\n",
       "      <td>Data Scientist - High growth VC backed Influen...</td>\n",
       "      <td>Bangalore/Bengaluru, Delhi / NCR, Mumbai (All ...</td>\n",
       "      <td>Ravgins International Pvt. Ltd.</td>\n",
       "      <td>3-5</td>\n",
       "    </tr>\n",
       "    <tr>\n",
       "      <th>2</th>\n",
       "      <td>Excellent opportunity For Data Scientist</td>\n",
       "      <td>Noida, Bangalore/Bengaluru</td>\n",
       "      <td>NEC CORPORATION INDIA PRIVATE LIMITED</td>\n",
       "      <td>3-7</td>\n",
       "    </tr>\n",
       "    <tr>\n",
       "      <th>3</th>\n",
       "      <td>Data Scientist</td>\n",
       "      <td>New Delhi, Gurgaon/Gurugram, Delhi / NCR</td>\n",
       "      <td>Mobikwik</td>\n",
       "      <td>3-5</td>\n",
       "    </tr>\n",
       "    <tr>\n",
       "      <th>4</th>\n",
       "      <td>DATA Scientist – Gurgaon (Exp 3-6 years)</td>\n",
       "      <td>Gurgaon/Gurugram, Delhi / NCR</td>\n",
       "      <td>CRESCENDO GLOBAL LEADERSHIP HIRING INDIA PRIVA...</td>\n",
       "      <td>3-6</td>\n",
       "    </tr>\n",
       "    <tr>\n",
       "      <th>5</th>\n",
       "      <td>DATA Scientist – Gurgaon (Exp 3-6 years)</td>\n",
       "      <td>Gurgaon/Gurugram, Delhi / NCR</td>\n",
       "      <td>CRESCENDO GLOBAL LEADERSHIP HIRING INDIA PRIVA...</td>\n",
       "      <td>3-6</td>\n",
       "    </tr>\n",
       "    <tr>\n",
       "      <th>6</th>\n",
       "      <td>Data Scientist - Noida</td>\n",
       "      <td>Noida</td>\n",
       "      <td>Optum Global Solutions (India) Private Limited</td>\n",
       "      <td>3-5</td>\n",
       "    </tr>\n",
       "    <tr>\n",
       "      <th>7</th>\n",
       "      <td>Data Scientist - Noida/ B'lore</td>\n",
       "      <td>Noida, Bangalore/Bengaluru</td>\n",
       "      <td>NEC CORPORATION INDIA PRIVATE LIMITED</td>\n",
       "      <td>3-8</td>\n",
       "    </tr>\n",
       "    <tr>\n",
       "      <th>8</th>\n",
       "      <td>Data Scientist</td>\n",
       "      <td>Bangalore/Bengaluru, Delhi / NCR, Mumbai (All ...</td>\n",
       "      <td>Cloudstrats Technologies Private Limited</td>\n",
       "      <td>5-8</td>\n",
       "    </tr>\n",
       "    <tr>\n",
       "      <th>9</th>\n",
       "      <td>Data Scientist</td>\n",
       "      <td>Noida, Hyderabad/Secunderabad, Bangalore/Benga...</td>\n",
       "      <td>IBM India Pvt. Limited</td>\n",
       "      <td>4-9</td>\n",
       "    </tr>\n",
       "  </tbody>\n",
       "</table>\n",
       "</div>"
      ],
      "text/plain": [
       "                                               Title  \\\n",
       "0    Data Scientist / Data Analyst -Business Analyst   \n",
       "1  Data Scientist - High growth VC backed Influen...   \n",
       "2           Excellent opportunity For Data Scientist   \n",
       "3                                     Data Scientist   \n",
       "4           DATA Scientist – Gurgaon (Exp 3-6 years)   \n",
       "5           DATA Scientist – Gurgaon (Exp 3-6 years)   \n",
       "6                             Data Scientist - Noida   \n",
       "7                     Data Scientist - Noida/ B'lore   \n",
       "8                                     Data Scientist   \n",
       "9                                     Data Scientist   \n",
       "\n",
       "                                            Location  \\\n",
       "0  Mumbai, Hyderabad/Secunderabad, Pune, Gurgaon/...   \n",
       "1  Bangalore/Bengaluru, Delhi / NCR, Mumbai (All ...   \n",
       "2                         Noida, Bangalore/Bengaluru   \n",
       "3           New Delhi, Gurgaon/Gurugram, Delhi / NCR   \n",
       "4                      Gurgaon/Gurugram, Delhi / NCR   \n",
       "5                      Gurgaon/Gurugram, Delhi / NCR   \n",
       "6                                              Noida   \n",
       "7                         Noida, Bangalore/Bengaluru   \n",
       "8  Bangalore/Bengaluru, Delhi / NCR, Mumbai (All ...   \n",
       "9  Noida, Hyderabad/Secunderabad, Bangalore/Benga...   \n",
       "\n",
       "                                        Company Name Experience in Years  \n",
       "0                 Inflexion Analytix Private Limited                 0-3  \n",
       "1                    Ravgins International Pvt. Ltd.                 3-5  \n",
       "2              NEC CORPORATION INDIA PRIVATE LIMITED                 3-7  \n",
       "3                                           Mobikwik                 3-5  \n",
       "4  CRESCENDO GLOBAL LEADERSHIP HIRING INDIA PRIVA...                 3-6  \n",
       "5  CRESCENDO GLOBAL LEADERSHIP HIRING INDIA PRIVA...                 3-6  \n",
       "6     Optum Global Solutions (India) Private Limited                 3-5  \n",
       "7              NEC CORPORATION INDIA PRIVATE LIMITED                 3-8  \n",
       "8           Cloudstrats Technologies Private Limited                 5-8  \n",
       "9                             IBM India Pvt. Limited                 4-9  "
      ]
     },
     "execution_count": 51,
     "metadata": {},
     "output_type": "execute_result"
    }
   ],
   "source": [
    "#Making a job dataframe\n",
    "\n",
    "analystJobsDelhiNCR = pd.DataFrame()\n",
    "\n",
    "analystJobsDelhiNCR['Title'] = jobTitle\n",
    "analystJobsDelhiNCR['Location'] = jobLocation\n",
    "analystJobsDelhiNCR['Company Name'] = jobFirm\n",
    "analystJobsDelhiNCR['Experience in Years'] = jobExp\n",
    "\n",
    "analystJobsDelhiNCR"
   ]
  },
  {
   "cell_type": "code",
   "execution_count": 52,
   "metadata": {},
   "outputs": [],
   "source": [
    "driver.close()"
   ]
  },
  {
   "cell_type": "markdown",
   "metadata": {},
   "source": [
    "###### 4. Glassdoor Data Scientist Jobs in Noida <a name = \"4\"></a>"
   ]
  },
  {
   "cell_type": "code",
   "execution_count": 53,
   "metadata": {},
   "outputs": [],
   "source": [
    "#Specifying the job search parameters\n",
    "jobName = 'Data Scientist'\n",
    "jobSearchLocation = 'Noida'"
   ]
  },
  {
   "cell_type": "markdown",
   "metadata": {},
   "source": [
    "Note: Glassdoor requires users to sign up or be logged-in in order to perform job search. Attempts were made to automate the sign-up using a disposable email Id from <em><a href = 'https://www.temp-mail.org/'>this</a></em> website. However, it proved to be very difficult as the sign-up process requires a lot of inputs which needs to be selected from a dropdown menu and the drop-down menus are populated using some AJAX call so there is no way to find the menu items beforehand. \n",
    "\n",
    "An attempt to automatically sign-in to glassdoor using 'Sign-in with Google' was also tried. But Google doesn't recognise the Chrome browser when it is being controled using Selenium and blocks any sign-in attempts. \n",
    "\n",
    "The only way to bypass sign-in into a Glassdoor account and make job search on the website is to search on Google the phrase 'glassdoor' foloowed by job title and location. Example: 'Glassdoor data scientist noida'. The first Google search result will direct us to the make we require to scrape. This is exactly what is being done below."
   ]
  },
  {
   "cell_type": "code",
   "execution_count": 54,
   "metadata": {},
   "outputs": [],
   "source": [
    "#Making a Selenium Driver object for Google and opening the Google Homepage\n",
    "driverGoogle = webdriver.Chrome('./chromedriver.exe')\n",
    "driverGoogle.get(f'https://www.google.com/')\n",
    "#Populating the Google Search Bar with our search term and clicking the search button\n",
    "driverGoogle.find_element_by_xpath('/html/body/div[1]/div[3]/form/div[1]/div[1]/div[1]/div/div[2]/input').send_keys(f'glassdoor {jobName} {jobSearchLocation}')\n",
    "driverGoogle.find_element_by_xpath('/html/body/div[1]/div[3]/form/div[1]/div[1]/div[3]/center/input[1]').click()\n",
    "\n",
    "#Getting the link to Glassdoor from Google Search Results\n",
    "glassdoorLink = driverGoogle.find_element_by_xpath('//*[@id=\"rso\"]/div[1]/div/div/div[1]/a').get_attribute('href')\n",
    "#Closing the Google window\n",
    "driverGoogle.close()"
   ]
  },
  {
   "cell_type": "code",
   "execution_count": 55,
   "metadata": {},
   "outputs": [],
   "source": [
    "#Making a Selenium Driver object for Glassdoor and opening the Glassdoor page using the link obtained from Google\n",
    "driverGlassdoor = webdriver.Chrome('./chromedriver')\n",
    "driverGlassdoor.get(glassdoorLink)"
   ]
  },
  {
   "cell_type": "code",
   "execution_count": 58,
   "metadata": {},
   "outputs": [
    {
     "data": {
      "text/plain": [
       "['3.8',\n",
       " 'Biz2Credit Inc',\n",
       " 'Data Scientist',\n",
       " 'Noida',\n",
       " 'Easy Apply',\n",
       " '30d+',\n",
       " 'Continuously evaluate alternative data sources and structures to document and improve the efficacy of our customer conversion models and processes.…']"
      ]
     },
     "execution_count": 58,
     "metadata": {},
     "output_type": "execute_result"
    }
   ],
   "source": [
    "#Getting the first job listing fomr Glassdoor and inspecting it structure so that we can use for loop later to \n",
    "#scrape all the other job listings\n",
    "jobListTile = driverGlassdoor.find_element_by_xpath('//*[@id=\"MainCol\"]/div[1]/ul/li[1]')\n",
    "\n",
    "s = jobListTile.text.split('\\n') #//*[@id=\"MainCol\"]/div[1]/ul/li[2]\n",
    "\n",
    "s"
   ]
  },
  {
   "cell_type": "code",
   "execution_count": 59,
   "metadata": {},
   "outputs": [],
   "source": [
    "#Making empty list for firm, ratings and no. of days ago the job was posted\n",
    "#Note: The listings with missing Company Ratings are skipped\n",
    "rating = []\n",
    "firm = []\n",
    "jobPosted = []\n",
    "      \n",
    "for i in range(1,20):\n",
    "    jobListTile = driverGlassdoor.find_element_by_xpath(f'//*[@id=\"MainCol\"]/div[1]/ul/li[{i}]').text.split('\\n')\n",
    "    if len(jobListTile[0]) > 3:\n",
    "        continue\n",
    "    else:\n",
    "        rating.append(jobListTile[0])\n",
    "        firm.append(jobListTile[1])\n",
    "        jobPosted.append(jobListTile[-2])"
   ]
  },
  {
   "cell_type": "code",
   "execution_count": 60,
   "metadata": {},
   "outputs": [],
   "source": [
    "#Keeping only the first 10 job details\n",
    "rating = rating[0:10]\n",
    "firm = firm[0:10]\n",
    "jobPosted = jobPosted[0:10]"
   ]
  },
  {
   "cell_type": "code",
   "execution_count": 61,
   "metadata": {},
   "outputs": [
    {
     "data": {
      "text/html": [
       "<div>\n",
       "<style scoped>\n",
       "    .dataframe tbody tr th:only-of-type {\n",
       "        vertical-align: middle;\n",
       "    }\n",
       "\n",
       "    .dataframe tbody tr th {\n",
       "        vertical-align: top;\n",
       "    }\n",
       "\n",
       "    .dataframe thead th {\n",
       "        text-align: right;\n",
       "    }\n",
       "</style>\n",
       "<table border=\"1\" class=\"dataframe\">\n",
       "  <thead>\n",
       "    <tr style=\"text-align: right;\">\n",
       "      <th></th>\n",
       "      <th>Firm Name</th>\n",
       "      <th>Rating</th>\n",
       "      <th>Posted (hours/days ago)</th>\n",
       "    </tr>\n",
       "  </thead>\n",
       "  <tbody>\n",
       "    <tr>\n",
       "      <th>0</th>\n",
       "      <td>Biz2Credit Inc</td>\n",
       "      <td>3.8</td>\n",
       "      <td>30d+</td>\n",
       "    </tr>\n",
       "    <tr>\n",
       "      <th>1</th>\n",
       "      <td>Ericsson</td>\n",
       "      <td>4.1</td>\n",
       "      <td>11d</td>\n",
       "    </tr>\n",
       "    <tr>\n",
       "      <th>2</th>\n",
       "      <td>Techlive</td>\n",
       "      <td>5.0</td>\n",
       "      <td>Noida</td>\n",
       "    </tr>\n",
       "    <tr>\n",
       "      <th>3</th>\n",
       "      <td>CRMNEXT</td>\n",
       "      <td>3.6</td>\n",
       "      <td>Noida</td>\n",
       "    </tr>\n",
       "    <tr>\n",
       "      <th>4</th>\n",
       "      <td>CRMNEXT</td>\n",
       "      <td>3.6</td>\n",
       "      <td>Noida</td>\n",
       "    </tr>\n",
       "    <tr>\n",
       "      <th>5</th>\n",
       "      <td>WishFin</td>\n",
       "      <td>3.8</td>\n",
       "      <td>Noida</td>\n",
       "    </tr>\n",
       "    <tr>\n",
       "      <th>6</th>\n",
       "      <td>Adobe</td>\n",
       "      <td>4.4</td>\n",
       "      <td>Noida</td>\n",
       "    </tr>\n",
       "    <tr>\n",
       "      <th>7</th>\n",
       "      <td>UnitedHealth Group</td>\n",
       "      <td>3.6</td>\n",
       "      <td>Gurgaon</td>\n",
       "    </tr>\n",
       "    <tr>\n",
       "      <th>8</th>\n",
       "      <td>dunnhumby</td>\n",
       "      <td>4.1</td>\n",
       "      <td>3d</td>\n",
       "    </tr>\n",
       "    <tr>\n",
       "      <th>9</th>\n",
       "      <td>Nitesh Kumar</td>\n",
       "      <td>3.8</td>\n",
       "      <td>7d</td>\n",
       "    </tr>\n",
       "  </tbody>\n",
       "</table>\n",
       "</div>"
      ],
      "text/plain": [
       "            Firm Name Rating Posted (hours/days ago)\n",
       "0      Biz2Credit Inc    3.8                    30d+\n",
       "1            Ericsson    4.1                     11d\n",
       "2            Techlive    5.0                   Noida\n",
       "3             CRMNEXT    3.6                   Noida\n",
       "4             CRMNEXT    3.6                   Noida\n",
       "5             WishFin    3.8                   Noida\n",
       "6               Adobe    4.4                   Noida\n",
       "7  UnitedHealth Group    3.6                 Gurgaon\n",
       "8           dunnhumby    4.1                      3d\n",
       "9        Nitesh Kumar    3.8                      7d"
      ]
     },
     "execution_count": 61,
     "metadata": {},
     "output_type": "execute_result"
    }
   ],
   "source": [
    "#making a dataframe with al job details and displaying them\n",
    "glassdoorDSNoida = pd.DataFrame()\n",
    "\n",
    "glassdoorDSNoida['Firm Name'] = firm\n",
    "glassdoorDSNoida['Rating'] = rating\n",
    "glassdoorDSNoida['Posted (hours/days ago)'] = jobPosted\n",
    "\n",
    "glassdoorDSNoida"
   ]
  },
  {
   "cell_type": "code",
   "execution_count": 62,
   "metadata": {},
   "outputs": [],
   "source": [
    "driverGlassdoor.close()"
   ]
  },
  {
   "cell_type": "markdown",
   "metadata": {},
   "source": [
    "######  5. Data Scientist in Noida Salary Data from Glassboor <a name = \"5\"></a>"
   ]
  },
  {
   "cell_type": "code",
   "execution_count": 63,
   "metadata": {},
   "outputs": [],
   "source": [
    "driverGlassdoor = webdriver.Chrome('./chromedriver')\n",
    "driverGlassdoor.get('https://www.glassdoor.co.in/Salaries/index.htm')"
   ]
  },
  {
   "cell_type": "code",
   "execution_count": 64,
   "metadata": {},
   "outputs": [],
   "source": [
    "#filling the job title bar\n",
    "driverGlassdoor.find_element_by_xpath('//*[@id=\"KeywordSearch\"]').send_keys('Data Scientist')"
   ]
  },
  {
   "cell_type": "code",
   "execution_count": 65,
   "metadata": {},
   "outputs": [],
   "source": [
    "#clearing any existing entry and filling the job location bar\n",
    "driverGlassdoor.find_element_by_xpath('//*[@id=\"LocationSearch\"]').clear()\n",
    "driverGlassdoor.find_element_by_xpath('//*[@id=\"LocationSearch\"]').send_keys('Noida')"
   ]
  },
  {
   "cell_type": "code",
   "execution_count": 66,
   "metadata": {},
   "outputs": [],
   "source": [
    "#Clicking the search button\n",
    "driverGlassdoor.find_element_by_xpath('//*[@id=\"HeroSearchButton\"]').click()"
   ]
  },
  {
   "cell_type": "code",
   "execution_count": 67,
   "metadata": {},
   "outputs": [],
   "source": [
    "#Getting th first listing from Glassdoor and inspecting it structure so that we can use for loop later to \n",
    "#scrape all the other job listings\n",
    "time.sleep(2) #Will throw error if executed before the page loads. This line ensures we wait for 2 seconds\n",
    "s = driverGlassdoor.find_element_by_css_selector('#SalariesByCompany > div.module.mb-0 > div:nth-child(4) > div')"
   ]
  },
  {
   "cell_type": "code",
   "execution_count": 68,
   "metadata": {},
   "outputs": [
    {
     "data": {
      "text/plain": [
       "['Data Scientist',\n",
       " 'Tata Consultancy Services',\n",
       " '16 salaries',\n",
       " 'See 128 salaries from all locations',\n",
       " '₹ 6,11,228',\n",
       " '/yr',\n",
       " '₹343K',\n",
       " '₹1,095K']"
      ]
     },
     "execution_count": 68,
     "metadata": {},
     "output_type": "execute_result"
    }
   ],
   "source": [
    "#studying the structure of the first listing\n",
    "s.text.split('\\n')"
   ]
  },
  {
   "cell_type": "code",
   "execution_count": 69,
   "metadata": {},
   "outputs": [
    {
     "name": "stdout",
     "output_type": "stream",
     "text": [
      "interation 1\n",
      "interation 2\n",
      "interation 3\n",
      "interation 4\n",
      "interation 5\n",
      "interation 6\n",
      "interation 7\n",
      "interation 8\n",
      "interation 9\n",
      "interation 10\n",
      "interation 11\n",
      "interation 12\n",
      "interation 13\n",
      "interation 14\n",
      "interation 15\n",
      "interation 16\n"
     ]
    }
   ],
   "source": [
    "#Using for loop to get all salary related information from all listing \n",
    "\n",
    "firm = []\n",
    "salaryNum = []\n",
    "avgSalary = []\n",
    "minSalary = []\n",
    "maxSalary = []\n",
    "\n",
    "for index in range(4, 20): #listing states from 4th child. So the loop starts from 4\n",
    "    jobListTile = driverGlassdoor.find_element_by_css_selector(f'#SalariesByCompany > div.module.mb-0 > div:nth-child({index}) > div').text.split('\\n')\n",
    "    try:\n",
    "        print(f'interation {index-3}')\n",
    "        if len(jobListTile[2])> 11:\n",
    "            pass\n",
    "        else:\n",
    "            firm.append(jobListTile[1])\n",
    "            salaryNum.append(jobListTile[2])\n",
    "            avgSalary.append(jobListTile[4])\n",
    "            minSalary.append(jobListTile[-2])\n",
    "            maxSalary.append(jobListTile[-1])\n",
    "    except IndexError:\n",
    "        continue\n",
    "    "
   ]
  },
  {
   "cell_type": "code",
   "execution_count": 70,
   "metadata": {},
   "outputs": [
    {
     "data": {
      "text/html": [
       "<div>\n",
       "<style scoped>\n",
       "    .dataframe tbody tr th:only-of-type {\n",
       "        vertical-align: middle;\n",
       "    }\n",
       "\n",
       "    .dataframe tbody tr th {\n",
       "        vertical-align: top;\n",
       "    }\n",
       "\n",
       "    .dataframe thead th {\n",
       "        text-align: right;\n",
       "    }\n",
       "</style>\n",
       "<table border=\"1\" class=\"dataframe\">\n",
       "  <thead>\n",
       "    <tr style=\"text-align: right;\">\n",
       "      <th></th>\n",
       "      <th>Firm</th>\n",
       "      <th>No. of Salary</th>\n",
       "      <th>Average Salary</th>\n",
       "      <th>Minimum Salary</th>\n",
       "      <th>Maximum Salary</th>\n",
       "    </tr>\n",
       "  </thead>\n",
       "  <tbody>\n",
       "    <tr>\n",
       "      <th>0</th>\n",
       "      <td>Tata Consultancy Services</td>\n",
       "      <td>16 salaries</td>\n",
       "      <td>₹ 6,11,228</td>\n",
       "      <td>₹343K</td>\n",
       "      <td>₹1,095K</td>\n",
       "    </tr>\n",
       "    <tr>\n",
       "      <th>1</th>\n",
       "      <td>Accenture</td>\n",
       "      <td>14 salaries</td>\n",
       "      <td>₹ 11,46,533</td>\n",
       "      <td>₹577K</td>\n",
       "      <td>₹2,213K</td>\n",
       "    </tr>\n",
       "    <tr>\n",
       "      <th>2</th>\n",
       "      <td>IBM</td>\n",
       "      <td>14 salaries</td>\n",
       "      <td>₹ 8,97,795</td>\n",
       "      <td>₹586K</td>\n",
       "      <td>₹2,730K</td>\n",
       "    </tr>\n",
       "    <tr>\n",
       "      <th>3</th>\n",
       "      <td>Ericsson-Worldwide</td>\n",
       "      <td>14 salaries</td>\n",
       "      <td>₹ 7,38,057</td>\n",
       "      <td>₹355K</td>\n",
       "      <td>₹1,613K</td>\n",
       "    </tr>\n",
       "    <tr>\n",
       "      <th>4</th>\n",
       "      <td>Delhivery</td>\n",
       "      <td>14 salaries</td>\n",
       "      <td>₹ 12,39,781</td>\n",
       "      <td>₹450K</td>\n",
       "      <td>₹11,622K</td>\n",
       "    </tr>\n",
       "    <tr>\n",
       "      <th>5</th>\n",
       "      <td>UnitedHealth Group</td>\n",
       "      <td>11 salaries</td>\n",
       "      <td>₹ 13,36,142</td>\n",
       "      <td>₹1,069K</td>\n",
       "      <td>₹1,520K</td>\n",
       "    </tr>\n",
       "    <tr>\n",
       "      <th>6</th>\n",
       "      <td>Valiance Solutions</td>\n",
       "      <td>9 salaries</td>\n",
       "      <td>₹ 8,15,192</td>\n",
       "      <td>₹502K</td>\n",
       "      <td>₹1,465K</td>\n",
       "    </tr>\n",
       "    <tr>\n",
       "      <th>7</th>\n",
       "      <td>EXL Service</td>\n",
       "      <td>8 salaries</td>\n",
       "      <td>₹ 11,44,243</td>\n",
       "      <td>₹575K</td>\n",
       "      <td>₹1,520K</td>\n",
       "    </tr>\n",
       "    <tr>\n",
       "      <th>8</th>\n",
       "      <td>Innovaccer</td>\n",
       "      <td>8 salaries</td>\n",
       "      <td>₹ 12,07,110</td>\n",
       "      <td>₹620K</td>\n",
       "      <td>₹1,695K</td>\n",
       "    </tr>\n",
       "    <tr>\n",
       "      <th>9</th>\n",
       "      <td>Cognizant Technology Solutions</td>\n",
       "      <td>6 salaries</td>\n",
       "      <td>₹ 10,07,410</td>\n",
       "      <td>₹792K</td>\n",
       "      <td>₹1,263K</td>\n",
       "    </tr>\n",
       "  </tbody>\n",
       "</table>\n",
       "</div>"
      ],
      "text/plain": [
       "                             Firm No. of Salary Average Salary Minimum Salary  \\\n",
       "0       Tata Consultancy Services   16 salaries     ₹ 6,11,228          ₹343K   \n",
       "1                       Accenture   14 salaries    ₹ 11,46,533          ₹577K   \n",
       "2                             IBM   14 salaries     ₹ 8,97,795          ₹586K   \n",
       "3              Ericsson-Worldwide   14 salaries     ₹ 7,38,057          ₹355K   \n",
       "4                       Delhivery   14 salaries    ₹ 12,39,781          ₹450K   \n",
       "5              UnitedHealth Group   11 salaries    ₹ 13,36,142        ₹1,069K   \n",
       "6              Valiance Solutions    9 salaries     ₹ 8,15,192          ₹502K   \n",
       "7                     EXL Service    8 salaries    ₹ 11,44,243          ₹575K   \n",
       "8                      Innovaccer    8 salaries    ₹ 12,07,110          ₹620K   \n",
       "9  Cognizant Technology Solutions    6 salaries    ₹ 10,07,410          ₹792K   \n",
       "\n",
       "  Maximum Salary  \n",
       "0        ₹1,095K  \n",
       "1        ₹2,213K  \n",
       "2        ₹2,730K  \n",
       "3        ₹1,613K  \n",
       "4       ₹11,622K  \n",
       "5        ₹1,520K  \n",
       "6        ₹1,465K  \n",
       "7        ₹1,520K  \n",
       "8        ₹1,695K  \n",
       "9        ₹1,263K  "
      ]
     },
     "execution_count": 70,
     "metadata": {},
     "output_type": "execute_result"
    }
   ],
   "source": [
    "#Making a dataframe of the scraped data and keeping only the first 10 salary data\n",
    "dsNoidaSalaryData = pd.DataFrame()\n",
    "\n",
    "dsNoidaSalaryData['Firm'] = firm[0:10]\n",
    "dsNoidaSalaryData['No. of Salary'] = salaryNum[0:10]\n",
    "dsNoidaSalaryData['Average Salary'] = avgSalary[0:10]\n",
    "dsNoidaSalaryData['Minimum Salary'] = minSalary[0:10]\n",
    "dsNoidaSalaryData['Maximum Salary'] = maxSalary[0:10]\n",
    "\n",
    "dsNoidaSalaryData"
   ]
  },
  {
   "cell_type": "code",
   "execution_count": 71,
   "metadata": {},
   "outputs": [],
   "source": [
    "driverGlassdoor.close()"
   ]
  },
  {
   "cell_type": "markdown",
   "metadata": {},
   "source": [
    "###### 6. Flipkart Sunglasses Data <a name = \"6\"></a>"
   ]
  },
  {
   "cell_type": "code",
   "execution_count": 72,
   "metadata": {},
   "outputs": [],
   "source": [
    "driverFlipkart = webdriver.Chrome('./chromedriver.exe')\n",
    "driverFlipkart.get('https://www.flipkart.com')"
   ]
  },
  {
   "cell_type": "code",
   "execution_count": 73,
   "metadata": {},
   "outputs": [],
   "source": [
    "#Filling the search bar and clicking search\n",
    "searchTerm = 'sunglasses'\n",
    "\n",
    "driverFlipkart.find_element_by_xpath('/html/body/div[2]/div/div/button').click() #Dismissing flipkart login/offer pop-up\n",
    "driverFlipkart.find_element_by_xpath('//*[@id=\"container\"]/div/div[1]/div[1]/div[2]/div[2]/form/div/div/input').send_keys(searchTerm)\n",
    "driverFlipkart.find_element_by_xpath('//*[@id=\"container\"]/div/div[1]/div[1]/div[2]/div[2]/form/div/button').click()"
   ]
  },
  {
   "cell_type": "code",
   "execution_count": 76,
   "metadata": {},
   "outputs": [],
   "source": [
    "#Taking the first element and inspecting the structure to see what combination of commands produces the desired output\n",
    "#Then we will use these combination \n",
    "time.sleep(2)\n",
    "listings = driverFlipkart.find_elements_by_class_name('_2B099V')"
   ]
  },
  {
   "cell_type": "code",
   "execution_count": 77,
   "metadata": {},
   "outputs": [
    {
     "data": {
      "text/plain": [
       "['Fastrack',\n",
       " 'UV Protection Wayfarer Sunglasses (Free Size)',\n",
       " '₹758₹89915% off',\n",
       " 'Or Pay ₹720 + ',\n",
       " ' 38',\n",
       " 'Buy 3 items, save extra 10%']"
      ]
     },
     "execution_count": 77,
     "metadata": {},
     "output_type": "execute_result"
    }
   ],
   "source": [
    "a = listings[2].text.split('\\n')\n",
    "a"
   ]
  },
  {
   "cell_type": "code",
   "execution_count": 78,
   "metadata": {},
   "outputs": [
    {
     "data": {
      "text/plain": [
       "'Fastrack'"
      ]
     },
     "execution_count": 78,
     "metadata": {},
     "output_type": "execute_result"
    }
   ],
   "source": [
    "a[0]"
   ]
  },
  {
   "cell_type": "code",
   "execution_count": 79,
   "metadata": {},
   "outputs": [
    {
     "data": {
      "text/plain": [
       "'UV Protection Wayfarer Sunglasses (Free Size)'"
      ]
     },
     "execution_count": 79,
     "metadata": {},
     "output_type": "execute_result"
    }
   ],
   "source": [
    "a[1]"
   ]
  },
  {
   "cell_type": "code",
   "execution_count": 80,
   "metadata": {},
   "outputs": [
    {
     "data": {
      "text/plain": [
       "'758'"
      ]
     },
     "execution_count": 80,
     "metadata": {},
     "output_type": "execute_result"
    }
   ],
   "source": [
    "a[2].split('₹')[1]"
   ]
  },
  {
   "cell_type": "code",
   "execution_count": 81,
   "metadata": {},
   "outputs": [
    {
     "data": {
      "text/plain": [
       "'15'"
      ]
     },
     "execution_count": 81,
     "metadata": {},
     "output_type": "execute_result"
    }
   ],
   "source": [
    "a[2].split('₹')[2].split()[-2][-3:-1]"
   ]
  },
  {
   "cell_type": "code",
   "execution_count": 82,
   "metadata": {},
   "outputs": [],
   "source": [
    "def sunglassScrapper():\n",
    "    '''This function scrapes all the listings in Flipkarts page and then goes to the next page by clicking the Next button'''\n",
    "    brand = []\n",
    "    proDesc = []\n",
    "    price = []\n",
    "    discount = []\n",
    "    sunglassListing = driverFlipkart.find_elements_by_class_name('_2B099V')\n",
    "    for index in range(len(sunglassListing)):\n",
    "        sunglassInfo = sunglassListing[index].text.split('\\n')\n",
    "        brand.append(sunglassInfo[0])\n",
    "        proDesc.append(sunglassInfo[1])\n",
    "        price.append(sunglassInfo[2].split('₹')[1])\n",
    "        discount.append(sunglassInfo[2].split('₹')[2].split()[-2][-3:-1])\n",
    "    \n",
    "    #Clicking the next button and waiting for 2 seconds\n",
    "    try:\n",
    "        #This block is for page 2 and subsiquent pages where there is 'Previous' and 'Next' buttons both of which\n",
    "        #have the class '_1LKTO3'\n",
    "        driverFlipkart.find_elements_by_class_name('_1LKTO3')[1].click()\n",
    "    except:\n",
    "        #This exception block is for the first page only where there is only 'Next' button\n",
    "        driverFlipkart.find_element_by_class_name('_1LKTO3').click()\n",
    "        \n",
    "    time.sleep(2)\n",
    "        \n",
    "    return brand, proDesc, price, discount"
   ]
  },
  {
   "cell_type": "code",
   "execution_count": 83,
   "metadata": {},
   "outputs": [
    {
     "name": "stdout",
     "output_type": "stream",
     "text": [
      "Product Page 1 scrapped\n",
      "Product Page 2 scrapped\n",
      "Product Page 3 scrapped\n"
     ]
    }
   ],
   "source": [
    "#Using the function above in a for loop to scrap the data from first 3 pages\n",
    "\n",
    "time.sleep(2)\n",
    "sunglassBrand = []\n",
    "sunglassDesc = []\n",
    "sunglassPrice = []\n",
    "sunglassDiscount = []\n",
    "\n",
    "for index in range(0,3):\n",
    "    b, d, p, dis = sunglassScrapper()\n",
    "    sunglassBrand.extend(b)\n",
    "    sunglassDesc.extend(d)\n",
    "    sunglassPrice.extend(p)\n",
    "    sunglassDiscount.extend(dis)\n",
    "    print(f'Product Page {index + 1} scrapped')"
   ]
  },
  {
   "cell_type": "code",
   "execution_count": 84,
   "metadata": {},
   "outputs": [
    {
     "data": {
      "text/html": [
       "<div>\n",
       "<style scoped>\n",
       "    .dataframe tbody tr th:only-of-type {\n",
       "        vertical-align: middle;\n",
       "    }\n",
       "\n",
       "    .dataframe tbody tr th {\n",
       "        vertical-align: top;\n",
       "    }\n",
       "\n",
       "    .dataframe thead th {\n",
       "        text-align: right;\n",
       "    }\n",
       "</style>\n",
       "<table border=\"1\" class=\"dataframe\">\n",
       "  <thead>\n",
       "    <tr style=\"text-align: right;\">\n",
       "      <th></th>\n",
       "      <th>Brand</th>\n",
       "      <th>Description</th>\n",
       "      <th>Price</th>\n",
       "      <th>Discount %</th>\n",
       "    </tr>\n",
       "  </thead>\n",
       "  <tbody>\n",
       "    <tr>\n",
       "      <th>0</th>\n",
       "      <td>AISLIN</td>\n",
       "      <td>UV Protection, Gradient Round, Shield Sunglass...</td>\n",
       "      <td>395</td>\n",
       "      <td>77</td>\n",
       "    </tr>\n",
       "    <tr>\n",
       "      <th>1</th>\n",
       "      <td>ROYAL SON</td>\n",
       "      <td>UV Protection Retro Square Sunglasses (49)</td>\n",
       "      <td>664</td>\n",
       "      <td>66</td>\n",
       "    </tr>\n",
       "    <tr>\n",
       "      <th>2</th>\n",
       "      <td>Fastrack</td>\n",
       "      <td>UV Protection Wayfarer Sunglasses (Free Size)</td>\n",
       "      <td>758</td>\n",
       "      <td>15</td>\n",
       "    </tr>\n",
       "    <tr>\n",
       "      <th>3</th>\n",
       "      <td>Fastrack</td>\n",
       "      <td>UV Protection Rectangular Sunglasses (Free Size)</td>\n",
       "      <td>630</td>\n",
       "      <td>21</td>\n",
       "    </tr>\n",
       "    <tr>\n",
       "      <th>4</th>\n",
       "      <td>PHENOMENAL</td>\n",
       "      <td>UV Protection Retro Square Sunglasses (Free Size)</td>\n",
       "      <td>399</td>\n",
       "      <td>80</td>\n",
       "    </tr>\n",
       "    <tr>\n",
       "      <th>...</th>\n",
       "      <td>...</td>\n",
       "      <td>...</td>\n",
       "      <td>...</td>\n",
       "      <td>...</td>\n",
       "    </tr>\n",
       "    <tr>\n",
       "      <th>95</th>\n",
       "      <td>AISLIN</td>\n",
       "      <td>UV Protection, Gradient Cat-eye Sunglasses (58)</td>\n",
       "      <td>511</td>\n",
       "      <td>66</td>\n",
       "    </tr>\n",
       "    <tr>\n",
       "      <th>96</th>\n",
       "      <td>ROZZETTA CRAFT</td>\n",
       "      <td>UV Protection, Gradient Rectangular Sunglasses...</td>\n",
       "      <td>449</td>\n",
       "      <td>77</td>\n",
       "    </tr>\n",
       "    <tr>\n",
       "      <th>97</th>\n",
       "      <td>Silver Kartz</td>\n",
       "      <td>UV Protection Aviator Sunglasses (62)</td>\n",
       "      <td>269</td>\n",
       "      <td>77</td>\n",
       "    </tr>\n",
       "    <tr>\n",
       "      <th>98</th>\n",
       "      <td>ROZZETTA CRAFT</td>\n",
       "      <td>UV Protection, Gradient Round Sunglasses (Free...</td>\n",
       "      <td>449</td>\n",
       "      <td>87</td>\n",
       "    </tr>\n",
       "    <tr>\n",
       "      <th>99</th>\n",
       "      <td>NuVew</td>\n",
       "      <td>UV Protection, Mirrored, Night Vision, Riding ...</td>\n",
       "      <td>367</td>\n",
       "      <td>64</td>\n",
       "    </tr>\n",
       "  </tbody>\n",
       "</table>\n",
       "<p>100 rows × 4 columns</p>\n",
       "</div>"
      ],
      "text/plain": [
       "             Brand                                        Description Price  \\\n",
       "0           AISLIN  UV Protection, Gradient Round, Shield Sunglass...   395   \n",
       "1        ROYAL SON         UV Protection Retro Square Sunglasses (49)   664   \n",
       "2         Fastrack      UV Protection Wayfarer Sunglasses (Free Size)   758   \n",
       "3         Fastrack   UV Protection Rectangular Sunglasses (Free Size)   630   \n",
       "4       PHENOMENAL  UV Protection Retro Square Sunglasses (Free Size)   399   \n",
       "..             ...                                                ...   ...   \n",
       "95          AISLIN    UV Protection, Gradient Cat-eye Sunglasses (58)   511   \n",
       "96  ROZZETTA CRAFT  UV Protection, Gradient Rectangular Sunglasses...   449   \n",
       "97    Silver Kartz              UV Protection Aviator Sunglasses (62)   269   \n",
       "98  ROZZETTA CRAFT  UV Protection, Gradient Round Sunglasses (Free...   449   \n",
       "99           NuVew  UV Protection, Mirrored, Night Vision, Riding ...   367   \n",
       "\n",
       "   Discount %  \n",
       "0          77  \n",
       "1          66  \n",
       "2          15  \n",
       "3          21  \n",
       "4          80  \n",
       "..        ...  \n",
       "95         66  \n",
       "96         77  \n",
       "97         77  \n",
       "98         87  \n",
       "99         64  \n",
       "\n",
       "[100 rows x 4 columns]"
      ]
     },
     "execution_count": 84,
     "metadata": {},
     "output_type": "execute_result"
    }
   ],
   "source": [
    "#making a dataframe and keeping the first 100 sunglass information\n",
    "\n",
    "sunglassInfo = pd.DataFrame()\n",
    "\n",
    "sunglassInfo['Brand'] = sunglassBrand[0:100]\n",
    "sunglassInfo['Description'] = sunglassDesc[0:100]\n",
    "sunglassInfo['Price'] = sunglassPrice[0:100]\n",
    "sunglassInfo['Discount %'] = sunglassDiscount[0:100]\n",
    "\n",
    "sunglassInfo"
   ]
  },
  {
   "cell_type": "code",
   "execution_count": 85,
   "metadata": {},
   "outputs": [],
   "source": [
    "driverFlipkart.close()"
   ]
  },
  {
   "cell_type": "markdown",
   "metadata": {},
   "source": [
    "###### 7. iPhone 11 Reviews <a name = \"7\"></a>"
   ]
  },
  {
   "cell_type": "code",
   "execution_count": 86,
   "metadata": {},
   "outputs": [],
   "source": [
    "iPhoneDriver = webdriver.Chrome('./chromedriver.exe')\n",
    "iPhoneDriver.get('https://www.flipkart.com/apple-iphone-11-black-64-gb-includes-earpods-power-adapter/p/itm0f37c2240b217?pid=MOBFKCTSVZAXUHGR&lid=LSTMOBFKCTSVZAXUHGREPBFGI&marketplace')"
   ]
  },
  {
   "cell_type": "code",
   "execution_count": 87,
   "metadata": {},
   "outputs": [],
   "source": [
    "#Clicking the all reviews button to go to full review page\n",
    "iPhoneDriver.find_element_by_xpath('//*[@id=\"container\"]/div/div[3]/div[1]/div[2]/div[9]/div/div/div[5]/div/a/div').click()"
   ]
  },
  {
   "cell_type": "code",
   "execution_count": 88,
   "metadata": {},
   "outputs": [],
   "source": [
    "#Checking the first review to study its structure\n",
    "reviews = iPhoneDriver.find_elements_by_class_name('_2wzgFH')\n",
    "a =reviews[0].text.split('\\n')"
   ]
  },
  {
   "cell_type": "code",
   "execution_count": 89,
   "metadata": {},
   "outputs": [
    {
     "data": {
      "text/plain": [
       "['5',\n",
       " 'Brilliant',\n",
       " 'The Best Phone for the Money',\n",
       " '',\n",
       " 'The iPhone 11 offers superb cameras, a more durable design and excellent battery life for an affordable price.',\n",
       " '',\n",
       " 'Compelling ultra-wide camera',\n",
       " 'New Night mode is excellent',\n",
       " 'Long battery life',\n",
       " 'Ankit',\n",
       " 'Certified Buyer, Gurgaon',\n",
       " 'Sep, 2019',\n",
       " '6362927']"
      ]
     },
     "execution_count": 89,
     "metadata": {},
     "output_type": "execute_result"
    }
   ],
   "source": [
    "a"
   ]
  },
  {
   "cell_type": "code",
   "execution_count": 90,
   "metadata": {},
   "outputs": [
    {
     "data": {
      "text/plain": [
       "'The Best Phone for the Money The iPhone 11 offers superb cameras, a more durable design and excellent battery life for an affordable price. Compelling ultra-wide camera New Night mode is excellent Long battery life'"
      ]
     },
     "execution_count": 90,
     "metadata": {},
     "output_type": "execute_result"
    }
   ],
   "source": [
    "' '.join(a[2:9:]).replace('  ', ' ')"
   ]
  },
  {
   "cell_type": "code",
   "execution_count": 91,
   "metadata": {},
   "outputs": [
    {
     "data": {
      "text/plain": [
       "9"
      ]
     },
     "execution_count": 91,
     "metadata": {},
     "output_type": "execute_result"
    }
   ],
   "source": [
    "len(a)-4"
   ]
  },
  {
   "cell_type": "code",
   "execution_count": 94,
   "metadata": {},
   "outputs": [],
   "source": [
    "def iPhoneReviewScrapper():\n",
    "    '''This function scrapes all the iPhone reviews from Flipkarts and then goes to the next page by clicking the Next button'''\n",
    "    rating = []\n",
    "    summary = []\n",
    "    review = []\n",
    "    \n",
    "    reviewList = iPhoneDriver.find_elements_by_class_name('_2wzgFH')\n",
    "    for index in range(len(reviewList)):\n",
    "        reviewItems = reviewList[index].text.split('\\n')\n",
    "        rating.append(reviewItems[0])\n",
    "        summary.append(reviewItems[1])\n",
    "        review.append(' '.join(reviewItems[2:(len(reviewItems)-4)]).replace('  ', ' '))\n",
    "    \n",
    "    #Clicking the next button and waiting for 2 seconds\n",
    "    try:\n",
    "        #This block is for page 2 and subsiquent pages where there is 'Previous' and 'Next' buttons both of which\n",
    "        #have the class '_1LKTO3'\n",
    "        iPhoneDriver.find_elements_by_class_name('_1LKTO3')[1].click()\n",
    "    except:\n",
    "        #This exception block is for the first page only where there is only 'Next' button\n",
    "        iPhoneDriver.find_element_by_class_name('_1LKTO3').click()\n",
    "    \n",
    "    time.sleep(2)\n",
    "        \n",
    "    return rating, summary, review"
   ]
  },
  {
   "cell_type": "code",
   "execution_count": 95,
   "metadata": {},
   "outputs": [
    {
     "name": "stdout",
     "output_type": "stream",
     "text": [
      "Review Page 1 scrapped\n",
      "Review Page 2 scrapped\n",
      "Review Page 3 scrapped\n",
      "Review Page 4 scrapped\n",
      "Review Page 5 scrapped\n",
      "Review Page 6 scrapped\n",
      "Review Page 7 scrapped\n",
      "Review Page 8 scrapped\n",
      "Review Page 9 scrapped\n",
      "Review Page 10 scrapped\n"
     ]
    }
   ],
   "source": [
    "#Scrapping iPhone reviews for the first 10 pages\n",
    "\n",
    "time.sleep(2)\n",
    "\n",
    "iPhoneRating = []\n",
    "iPhoneSummary = []\n",
    "iPhoneReview = []\n",
    "\n",
    "for index in range(0, 10):\n",
    "    r, s, re = iPhoneReviewScrapper()\n",
    "    iPhoneRating.extend(r)\n",
    "    iPhoneSummary.extend(s)\n",
    "    iPhoneReview.extend(re)\n",
    "    print(f'Review Page {index+1} scrapped')"
   ]
  },
  {
   "cell_type": "code",
   "execution_count": 96,
   "metadata": {},
   "outputs": [
    {
     "data": {
      "text/html": [
       "<div>\n",
       "<style scoped>\n",
       "    .dataframe tbody tr th:only-of-type {\n",
       "        vertical-align: middle;\n",
       "    }\n",
       "\n",
       "    .dataframe tbody tr th {\n",
       "        vertical-align: top;\n",
       "    }\n",
       "\n",
       "    .dataframe thead th {\n",
       "        text-align: right;\n",
       "    }\n",
       "</style>\n",
       "<table border=\"1\" class=\"dataframe\">\n",
       "  <thead>\n",
       "    <tr style=\"text-align: right;\">\n",
       "      <th></th>\n",
       "      <th>Review Title</th>\n",
       "      <th>Rating</th>\n",
       "      <th>Full Review</th>\n",
       "    </tr>\n",
       "  </thead>\n",
       "  <tbody>\n",
       "    <tr>\n",
       "      <th>0</th>\n",
       "      <td>Brilliant</td>\n",
       "      <td>5</td>\n",
       "      <td>The Best Phone for the Money The iPhone 11 off...</td>\n",
       "    </tr>\n",
       "    <tr>\n",
       "      <th>1</th>\n",
       "      <td>Perfect product!</td>\n",
       "      <td>5</td>\n",
       "      <td>Amazing phone with great cameras and better ba...</td>\n",
       "    </tr>\n",
       "    <tr>\n",
       "      <th>2</th>\n",
       "      <td>Great product</td>\n",
       "      <td>5</td>\n",
       "      <td>Amazing Powerful and Durable Gadget. I’m am ve...</td>\n",
       "    </tr>\n",
       "    <tr>\n",
       "      <th>3</th>\n",
       "      <td>Worth every penny</td>\n",
       "      <td>5</td>\n",
       "      <td>Previously I was using one plus 3t it was a gr...</td>\n",
       "    </tr>\n",
       "    <tr>\n",
       "      <th>4</th>\n",
       "      <td>Good choice</td>\n",
       "      <td>4</td>\n",
       "      <td>So far it’s been an AMAZING experience coming ...</td>\n",
       "    </tr>\n",
       "    <tr>\n",
       "      <th>...</th>\n",
       "      <td>...</td>\n",
       "      <td>...</td>\n",
       "      <td>...</td>\n",
       "    </tr>\n",
       "    <tr>\n",
       "      <th>95</th>\n",
       "      <td>Perfect product!</td>\n",
       "      <td>5</td>\n",
       "      <td>Best and amazing product.....phone looks so pr...</td>\n",
       "    </tr>\n",
       "    <tr>\n",
       "      <th>96</th>\n",
       "      <td>Must buy!</td>\n",
       "      <td>5</td>\n",
       "      <td>I rate this product 5* as it has got amazing u...</td>\n",
       "    </tr>\n",
       "    <tr>\n",
       "      <th>97</th>\n",
       "      <td>Fabulous!</td>\n",
       "      <td>5</td>\n",
       "      <td>I purchased the iPhone 11 a month back. I must...</td>\n",
       "    </tr>\n",
       "    <tr>\n",
       "      <th>98</th>\n",
       "      <td>Fabulous!</td>\n",
       "      <td>5</td>\n",
       "      <td>Product is nice at the deviled time the delive...</td>\n",
       "    </tr>\n",
       "    <tr>\n",
       "      <th>99</th>\n",
       "      <td>Excellent</td>\n",
       "      <td>5</td>\n",
       "      <td>Just go for it. This phone is really amazing. ...</td>\n",
       "    </tr>\n",
       "  </tbody>\n",
       "</table>\n",
       "<p>100 rows × 3 columns</p>\n",
       "</div>"
      ],
      "text/plain": [
       "         Review Title Rating  \\\n",
       "0           Brilliant      5   \n",
       "1    Perfect product!      5   \n",
       "2       Great product      5   \n",
       "3   Worth every penny      5   \n",
       "4         Good choice      4   \n",
       "..                ...    ...   \n",
       "95   Perfect product!      5   \n",
       "96          Must buy!      5   \n",
       "97          Fabulous!      5   \n",
       "98          Fabulous!      5   \n",
       "99          Excellent      5   \n",
       "\n",
       "                                          Full Review  \n",
       "0   The Best Phone for the Money The iPhone 11 off...  \n",
       "1   Amazing phone with great cameras and better ba...  \n",
       "2   Amazing Powerful and Durable Gadget. I’m am ve...  \n",
       "3   Previously I was using one plus 3t it was a gr...  \n",
       "4   So far it’s been an AMAZING experience coming ...  \n",
       "..                                                ...  \n",
       "95  Best and amazing product.....phone looks so pr...  \n",
       "96  I rate this product 5* as it has got amazing u...  \n",
       "97  I purchased the iPhone 11 a month back. I must...  \n",
       "98  Product is nice at the deviled time the delive...  \n",
       "99  Just go for it. This phone is really amazing. ...  \n",
       "\n",
       "[100 rows x 3 columns]"
      ]
     },
     "execution_count": 96,
     "metadata": {},
     "output_type": "execute_result"
    }
   ],
   "source": [
    "#Making a dataframe of all reviews\n",
    "\n",
    "iPhoneReviewsDf = pd.DataFrame()\n",
    "\n",
    "iPhoneReviewsDf['Review Title'] = iPhoneSummary\n",
    "iPhoneReviewsDf['Rating'] = iPhoneRating\n",
    "iPhoneReviewsDf['Full Review'] = iPhoneReview\n",
    "\n",
    "iPhoneReviewsDf"
   ]
  },
  {
   "cell_type": "code",
   "execution_count": 97,
   "metadata": {},
   "outputs": [],
   "source": [
    "iPhoneDriver.close()"
   ]
  },
  {
   "cell_type": "markdown",
   "metadata": {},
   "source": [
    "###### 8. Flipkart Sneakers Data <a name = \"8\"></a>"
   ]
  },
  {
   "cell_type": "code",
   "execution_count": 98,
   "metadata": {},
   "outputs": [],
   "source": [
    "sneakerDriver = webdriver.Chrome('./chromedriver.exe')\n",
    "sneakerDriver.get('https://www.flipkart.com')"
   ]
  },
  {
   "cell_type": "code",
   "execution_count": 99,
   "metadata": {},
   "outputs": [],
   "source": [
    "#Filling the search bar and clicking search\n",
    "\n",
    "searchTerm = 'snearkers'\n",
    "\n",
    "sneakerDriver.find_element_by_xpath('/html/body/div[2]/div/div/button').click() #dismissing flipkart offer/login pop-up\n",
    "sneakerDriver.find_element_by_xpath('//*[@id=\"container\"]/div/div[1]/div[1]/div[2]/div[2]/form/div/div/input').send_keys(searchTerm)\n",
    "sneakerDriver.find_element_by_xpath('//*[@id=\"container\"]/div/div[1]/div[1]/div[2]/div[2]/form/div/button').click()"
   ]
  },
  {
   "cell_type": "code",
   "execution_count": 100,
   "metadata": {},
   "outputs": [],
   "source": [
    "#Taking the first element and inspecting the structure to see what combination of commands produces the desired output\n",
    "#Then we will use these combination \n",
    "time.sleep(2)\n",
    "listings = sneakerDriver.find_elements_by_class_name('_2B099V')"
   ]
  },
  {
   "cell_type": "code",
   "execution_count": 101,
   "metadata": {},
   "outputs": [
    {
     "data": {
      "text/plain": [
       "['Robbie jones',\n",
       " 'Casual Sneakers Shoes For Men Sneakers For Men',\n",
       " '₹399₹99960% off',\n",
       " 'Or Pay ₹379 + ',\n",
       " ' 20']"
      ]
     },
     "execution_count": 101,
     "metadata": {},
     "output_type": "execute_result"
    }
   ],
   "source": [
    "a = listings[0].text.split('\\n')\n",
    "a"
   ]
  },
  {
   "cell_type": "code",
   "execution_count": 102,
   "metadata": {},
   "outputs": [
    {
     "data": {
      "text/plain": [
       "'Robbie jones'"
      ]
     },
     "execution_count": 102,
     "metadata": {},
     "output_type": "execute_result"
    }
   ],
   "source": [
    "a[0]"
   ]
  },
  {
   "cell_type": "code",
   "execution_count": 103,
   "metadata": {},
   "outputs": [
    {
     "data": {
      "text/plain": [
       "'Casual Sneakers Shoes For Men Sneakers For Men'"
      ]
     },
     "execution_count": 103,
     "metadata": {},
     "output_type": "execute_result"
    }
   ],
   "source": [
    "a[1]"
   ]
  },
  {
   "cell_type": "code",
   "execution_count": 104,
   "metadata": {},
   "outputs": [
    {
     "data": {
      "text/plain": [
       "'399'"
      ]
     },
     "execution_count": 104,
     "metadata": {},
     "output_type": "execute_result"
    }
   ],
   "source": [
    "a[2].split('₹')[1]"
   ]
  },
  {
   "cell_type": "code",
   "execution_count": 105,
   "metadata": {},
   "outputs": [
    {
     "data": {
      "text/plain": [
       "'60'"
      ]
     },
     "execution_count": 105,
     "metadata": {},
     "output_type": "execute_result"
    }
   ],
   "source": [
    "a[2].split('₹')[2].split()[-2][-3:-1]"
   ]
  },
  {
   "cell_type": "code",
   "execution_count": 106,
   "metadata": {},
   "outputs": [],
   "source": [
    "def sneakerScrapper():\n",
    "    '''This function scrapes all the listings in Flipkarts page and then goes to the next page by clicking the Next button'''\n",
    "    brand = []\n",
    "    proDesc = []\n",
    "    price = []\n",
    "    discount = []\n",
    "    time.sleep(2)\n",
    "    sneakerListing = sneakerDriver.find_elements_by_class_name('_2B099V')\n",
    "    for index in range(len(sneakerListing)):\n",
    "        try:\n",
    "            sneakerInfo = sneakerListing[index].text.split('\\n')\n",
    "            brand.append(sneakerInfo[0])\n",
    "            proDesc.append(sneakerInfo[1])\n",
    "            price.append(sneakerInfo[2].split('₹')[1])\n",
    "            discount.append(sneakerInfo[2].split('₹')[2].split()[-2][-3:-1])\n",
    "        except IndexError:\n",
    "            continue\n",
    "    \n",
    "    #Clicking the next button and waiting for 2 seconds\n",
    "    try:\n",
    "        #This block is for page 2 and subsiquent pages where there is 'Previous' and 'Next' buttons both of which\n",
    "        #have the class '_1LKTO3'\n",
    "        sneakerDriver.find_elements_by_class_name('_1LKTO3')[1].click()\n",
    "    except:\n",
    "        #This exception block is for the first page only where there is only 'Next' button\n",
    "        sneakerDriver.find_element_by_class_name('_1LKTO3').click()\n",
    "        \n",
    "    time.sleep(2)\n",
    "        \n",
    "    return brand, proDesc, price, discount"
   ]
  },
  {
   "cell_type": "code",
   "execution_count": 107,
   "metadata": {},
   "outputs": [
    {
     "name": "stdout",
     "output_type": "stream",
     "text": [
      "Product Page 1 scrapped\n",
      "Product Page 2 scrapped\n",
      "Product Page 3 scrapped\n"
     ]
    }
   ],
   "source": [
    "#Scrapping sneakers data from the first 3 pages\n",
    "time.sleep(2)\n",
    "\n",
    "sneakerBrand = []\n",
    "sneakerDesc = []\n",
    "sneakerPrice = []\n",
    "sneakerDiscount = []\n",
    "\n",
    "for index in range(0,3):\n",
    "    b, d, p, dis = sneakerScrapper()\n",
    "    sneakerBrand.extend(b)\n",
    "    sneakerDesc.extend(d)\n",
    "    sneakerPrice.extend(p)\n",
    "    sneakerDiscount.extend(dis)\n",
    "    print(f'Product Page {index + 1} scrapped')"
   ]
  },
  {
   "cell_type": "code",
   "execution_count": 108,
   "metadata": {},
   "outputs": [
    {
     "data": {
      "text/html": [
       "<div>\n",
       "<style scoped>\n",
       "    .dataframe tbody tr th:only-of-type {\n",
       "        vertical-align: middle;\n",
       "    }\n",
       "\n",
       "    .dataframe tbody tr th {\n",
       "        vertical-align: top;\n",
       "    }\n",
       "\n",
       "    .dataframe thead th {\n",
       "        text-align: right;\n",
       "    }\n",
       "</style>\n",
       "<table border=\"1\" class=\"dataframe\">\n",
       "  <thead>\n",
       "    <tr style=\"text-align: right;\">\n",
       "      <th></th>\n",
       "      <th>Brand</th>\n",
       "      <th>Description</th>\n",
       "      <th>Price</th>\n",
       "      <th>Discount %</th>\n",
       "    </tr>\n",
       "  </thead>\n",
       "  <tbody>\n",
       "    <tr>\n",
       "      <th>0</th>\n",
       "      <td>Robbie jones</td>\n",
       "      <td>Casual Sneakers Shoes For Men Sneakers For Men</td>\n",
       "      <td>399</td>\n",
       "      <td>60</td>\n",
       "    </tr>\n",
       "    <tr>\n",
       "      <th>1</th>\n",
       "      <td>aadi</td>\n",
       "      <td>Sneakers For Men</td>\n",
       "      <td>298</td>\n",
       "      <td>70</td>\n",
       "    </tr>\n",
       "    <tr>\n",
       "      <th>2</th>\n",
       "      <td>HOTSTYLE</td>\n",
       "      <td>Sneakers Sneakers For Men</td>\n",
       "      <td>283</td>\n",
       "      <td>43</td>\n",
       "    </tr>\n",
       "    <tr>\n",
       "      <th>3</th>\n",
       "      <td>World Wear Footwear</td>\n",
       "      <td>New Latest Affordable Range of Combo Pack of 2...</td>\n",
       "      <td>498</td>\n",
       "      <td>75</td>\n",
       "    </tr>\n",
       "    <tr>\n",
       "      <th>4</th>\n",
       "      <td>Numenzo</td>\n",
       "      <td>Sneakers For Men</td>\n",
       "      <td>398</td>\n",
       "      <td>60</td>\n",
       "    </tr>\n",
       "    <tr>\n",
       "      <th>...</th>\n",
       "      <td>...</td>\n",
       "      <td>...</td>\n",
       "      <td>...</td>\n",
       "      <td>...</td>\n",
       "    </tr>\n",
       "    <tr>\n",
       "      <th>95</th>\n",
       "      <td>Camfoot</td>\n",
       "      <td>Combo Pack of 2 Latest Collection Stylish Casu...</td>\n",
       "      <td>328</td>\n",
       "      <td>52</td>\n",
       "    </tr>\n",
       "    <tr>\n",
       "      <th>96</th>\n",
       "      <td>Adies</td>\n",
       "      <td>Sneakers For Men</td>\n",
       "      <td>375</td>\n",
       "      <td>50</td>\n",
       "    </tr>\n",
       "    <tr>\n",
       "      <th>97</th>\n",
       "      <td>Robbie jones</td>\n",
       "      <td>Sneakers For Men</td>\n",
       "      <td>474</td>\n",
       "      <td>69</td>\n",
       "    </tr>\n",
       "    <tr>\n",
       "      <th>98</th>\n",
       "      <td>Longwalk</td>\n",
       "      <td>Men Boxer Sneakers For Men</td>\n",
       "      <td>249</td>\n",
       "      <td>76</td>\n",
       "    </tr>\n",
       "    <tr>\n",
       "      <th>99</th>\n",
       "      <td>SHURAB</td>\n",
       "      <td>sneakers men sports shoes | Casual Sneakers Sh...</td>\n",
       "      <td>399</td>\n",
       "      <td>17</td>\n",
       "    </tr>\n",
       "  </tbody>\n",
       "</table>\n",
       "<p>100 rows × 4 columns</p>\n",
       "</div>"
      ],
      "text/plain": [
       "                  Brand                                        Description  \\\n",
       "0          Robbie jones     Casual Sneakers Shoes For Men Sneakers For Men   \n",
       "1                  aadi                                   Sneakers For Men   \n",
       "2              HOTSTYLE                          Sneakers Sneakers For Men   \n",
       "3   World Wear Footwear  New Latest Affordable Range of Combo Pack of 2...   \n",
       "4               Numenzo                                   Sneakers For Men   \n",
       "..                  ...                                                ...   \n",
       "95              Camfoot  Combo Pack of 2 Latest Collection Stylish Casu...   \n",
       "96                Adies                                   Sneakers For Men   \n",
       "97         Robbie jones                                   Sneakers For Men   \n",
       "98             Longwalk                         Men Boxer Sneakers For Men   \n",
       "99               SHURAB  sneakers men sports shoes | Casual Sneakers Sh...   \n",
       "\n",
       "   Price Discount %  \n",
       "0    399         60  \n",
       "1    298         70  \n",
       "2    283         43  \n",
       "3    498         75  \n",
       "4    398         60  \n",
       "..   ...        ...  \n",
       "95   328         52  \n",
       "96   375         50  \n",
       "97   474         69  \n",
       "98   249         76  \n",
       "99   399         17  \n",
       "\n",
       "[100 rows x 4 columns]"
      ]
     },
     "execution_count": 108,
     "metadata": {},
     "output_type": "execute_result"
    }
   ],
   "source": [
    "#Making a dataframe with sneaker data and keeping the first 100 sneaker info\n",
    "\n",
    "sneakerInfo = pd.DataFrame()\n",
    "\n",
    "sneakerInfo['Brand'] = sneakerBrand[0:100]\n",
    "sneakerInfo['Description'] = sneakerDesc[0:100]\n",
    "sneakerInfo['Price'] = sneakerPrice[0:100]\n",
    "sneakerInfo['Discount %'] = sneakerDiscount[0:100]\n",
    "\n",
    "sneakerInfo"
   ]
  },
  {
   "cell_type": "code",
   "execution_count": 109,
   "metadata": {},
   "outputs": [],
   "source": [
    "sneakerDriver.close()"
   ]
  },
  {
   "cell_type": "markdown",
   "metadata": {},
   "source": [
    "###### 9. Myntra Black Shoes <a name = \"9\"></a>"
   ]
  },
  {
   "cell_type": "code",
   "execution_count": 127,
   "metadata": {},
   "outputs": [],
   "source": [
    "myntraDriver = webdriver.Chrome('./chromedriver.exe')\n",
    "myntraDriver.get('https://www.myntra.com/shoes')"
   ]
  },
  {
   "cell_type": "code",
   "execution_count": 128,
   "metadata": {},
   "outputs": [],
   "source": [
    "#applying the colours filter\n",
    "myntraDriver.find_element_by_xpath('//*[@id=\"mountRoot\"]/div/div[1]/main/div[3]/div[1]/section/div/div[6]/ul/li[1]').click()\n",
    "\n",
    "time.sleep(2)"
   ]
  },
  {
   "cell_type": "code",
   "execution_count": 129,
   "metadata": {},
   "outputs": [],
   "source": [
    "#applying the price filter\n",
    "myntraDriver.find_element_by_xpath('//*[@id=\"mountRoot\"]/div/div[1]/main/div[3]/div[1]/section/div/div[5]/ul/li[2]/label').click()"
   ]
  },
  {
   "cell_type": "code",
   "execution_count": 137,
   "metadata": {},
   "outputs": [
    {
     "data": {
      "text/plain": [
       "50"
      ]
     },
     "execution_count": 137,
     "metadata": {},
     "output_type": "execute_result"
    }
   ],
   "source": [
    "#Getting page 1 shoe informations\n",
    "time.sleep(2)\n",
    "page1shoes = myntraDriver.find_elements_by_class_name('product-productMetaInfo')\n",
    "len(page1shoes)"
   ]
  },
  {
   "cell_type": "code",
   "execution_count": 138,
   "metadata": {},
   "outputs": [
    {
     "data": {
      "text/plain": [
       "['Skechers', 'Men VIPER COMPETITOR Training', 'Rs. 6999', 'Only Few Left!']"
      ]
     },
     "execution_count": 138,
     "metadata": {},
     "output_type": "execute_result"
    }
   ],
   "source": [
    "a = page1shoes[0].text.split('\\n')\n",
    "a"
   ]
  },
  {
   "cell_type": "code",
   "execution_count": 139,
   "metadata": {},
   "outputs": [
    {
     "data": {
      "text/plain": [
       "'6999'"
      ]
     },
     "execution_count": 139,
     "metadata": {},
     "output_type": "execute_result"
    }
   ],
   "source": [
    "a[2].split('Rs.')[1].replace(' ', '')"
   ]
  },
  {
   "cell_type": "code",
   "execution_count": 140,
   "metadata": {},
   "outputs": [
    {
     "name": "stdout",
     "output_type": "stream",
     "text": [
      "Getting Product 1\n",
      "Done for Product 1\n",
      "Getting Product 2\n",
      "Done for Product 2\n",
      "Getting Product 3\n",
      "Done for Product 3\n",
      "Getting Product 4\n",
      "Done for Product 4\n",
      "Getting Product 5\n",
      "Done for Product 5\n",
      "Getting Product 6\n",
      "Done for Product 6\n",
      "Getting Product 7\n",
      "Done for Product 7\n",
      "Getting Product 8\n",
      "Done for Product 8\n",
      "Getting Product 9\n",
      "Done for Product 9\n",
      "Getting Product 10\n",
      "Done for Product 10\n",
      "Getting Product 11\n",
      "Done for Product 11\n",
      "Getting Product 12\n",
      "Done for Product 12\n",
      "Getting Product 13\n",
      "Done for Product 13\n",
      "Getting Product 14\n",
      "Done for Product 14\n",
      "Getting Product 15\n",
      "Done for Product 15\n",
      "Getting Product 16\n",
      "Done for Product 16\n",
      "Getting Product 17\n",
      "Done for Product 17\n",
      "Getting Product 18\n",
      "Done for Product 18\n",
      "Getting Product 19\n",
      "Done for Product 19\n",
      "Getting Product 20\n",
      "Done for Product 20\n",
      "Getting Product 21\n",
      "Done for Product 21\n",
      "Getting Product 22\n",
      "Done for Product 22\n",
      "Getting Product 23\n",
      "Done for Product 23\n",
      "Getting Product 24\n",
      "Done for Product 24\n",
      "Getting Product 25\n",
      "Done for Product 25\n",
      "Getting Product 26\n",
      "Done for Product 26\n",
      "Getting Product 27\n",
      "Done for Product 27\n",
      "Getting Product 28\n",
      "Done for Product 28\n",
      "Getting Product 29\n",
      "Done for Product 29\n",
      "Getting Product 30\n",
      "Done for Product 30\n",
      "Getting Product 31\n",
      "Done for Product 31\n",
      "Getting Product 32\n",
      "Done for Product 32\n",
      "Getting Product 33\n",
      "Done for Product 33\n",
      "Getting Product 34\n",
      "Done for Product 34\n",
      "Getting Product 35\n",
      "Done for Product 35\n",
      "Getting Product 36\n",
      "Done for Product 36\n",
      "Getting Product 37\n",
      "Done for Product 37\n",
      "Getting Product 38\n",
      "Done for Product 38\n",
      "Getting Product 39\n",
      "Done for Product 39\n",
      "Getting Product 40\n",
      "Done for Product 40\n",
      "Getting Product 41\n",
      "Done for Product 41\n",
      "Getting Product 42\n",
      "Done for Product 42\n",
      "Getting Product 43\n",
      "Done for Product 43\n",
      "Getting Product 44\n",
      "Done for Product 44\n",
      "Getting Product 45\n",
      "Done for Product 45\n",
      "Getting Product 46\n",
      "Done for Product 46\n",
      "Getting Product 47\n",
      "Done for Product 47\n",
      "Getting Product 48\n",
      "Done for Product 48\n",
      "Getting Product 49\n",
      "Done for Product 49\n",
      "Getting Product 50\n",
      "Done for Product 50\n"
     ]
    }
   ],
   "source": [
    "#making three empty list and adding the brand, description and price information there\n",
    "\n",
    "brand = []\n",
    "shortDesc = []\n",
    "price = []\n",
    "\n",
    "for index in range(len(page1shoes)):\n",
    "    print(f'Getting Product {index+1}')\n",
    "    shoeInfo = page1shoes[index].text.split('\\n')\n",
    "    brand.append(shoeInfo[0])\n",
    "    shortDesc.append(shoeInfo[1])\n",
    "    price.append(shoeInfo[2].split('Rs.')[1].replace(' ', ''))\n",
    "    print(f'Done for Product {index+1}')"
   ]
  },
  {
   "cell_type": "code",
   "execution_count": 141,
   "metadata": {},
   "outputs": [
    {
     "data": {
      "text/plain": [
       "'Skechers\\nMen VIPER COMPETITOR Training\\nRs. 6999\\nOnly Few Left!'"
      ]
     },
     "execution_count": 141,
     "metadata": {},
     "output_type": "execute_result"
    }
   ],
   "source": [
    "page1shoes[0].text"
   ]
  },
  {
   "cell_type": "code",
   "execution_count": 142,
   "metadata": {},
   "outputs": [],
   "source": [
    "myntraDriver.find_element_by_xpath('//*[@id=\"desktopSearchResults\"]/div[2]/section/div[2]/ul/li[12]/a').click()"
   ]
  },
  {
   "cell_type": "code",
   "execution_count": 143,
   "metadata": {},
   "outputs": [],
   "source": [
    "#Getting page 2 shoe informations and adding the brand, description and price information to ther existing list of brand, descriptipn  and price\n",
    "page2shoes = myntraDriver.find_elements_by_class_name('product-productMetaInfo')\n",
    "\n",
    "time.sleep(2)\n",
    "\n",
    "for index in range(len(page2shoes)):\n",
    "    shoeInfo = page2shoes[index].text.split('\\n')\n",
    "    brand.append(shoeInfo[0])\n",
    "    shortDesc.append(shoeInfo[1])\n",
    "    price.append(shoeInfo[2].split('Rs.')[1].replace(' ', ''))"
   ]
  },
  {
   "cell_type": "code",
   "execution_count": 144,
   "metadata": {},
   "outputs": [],
   "source": [
    "myntraDriver.find_element_by_xpath('//*[@id=\"desktopSearchResults\"]/div[2]/section/div[2]/ul/li[13]/a').click()"
   ]
  },
  {
   "cell_type": "code",
   "execution_count": 145,
   "metadata": {},
   "outputs": [],
   "source": [
    "#Getting page 3 shoe informations and adding the brand, description and price information to ther existing list of brand, descriptipn  and price\n",
    "\n",
    "page3shoes = myntraDriver.find_element_by_class_name('product-productMetaInfo').text.split('\\n')\n",
    "\n",
    "brand.append(page3shoes[0])\n",
    "shortDesc.append(page3shoes[1])\n",
    "price.append(page3shoes[2].split('Rs.')[1].replace(' ', ''))"
   ]
  },
  {
   "cell_type": "code",
   "execution_count": 146,
   "metadata": {},
   "outputs": [
    {
     "data": {
      "text/html": [
       "<div>\n",
       "<style scoped>\n",
       "    .dataframe tbody tr th:only-of-type {\n",
       "        vertical-align: middle;\n",
       "    }\n",
       "\n",
       "    .dataframe tbody tr th {\n",
       "        vertical-align: top;\n",
       "    }\n",
       "\n",
       "    .dataframe thead th {\n",
       "        text-align: right;\n",
       "    }\n",
       "</style>\n",
       "<table border=\"1\" class=\"dataframe\">\n",
       "  <thead>\n",
       "    <tr style=\"text-align: right;\">\n",
       "      <th></th>\n",
       "      <th>Brand</th>\n",
       "      <th>Price</th>\n",
       "      <th>Description</th>\n",
       "    </tr>\n",
       "  </thead>\n",
       "  <tbody>\n",
       "    <tr>\n",
       "      <th>0</th>\n",
       "      <td>Skechers</td>\n",
       "      <td>6999</td>\n",
       "      <td>Men VIPER COMPETITOR Training</td>\n",
       "    </tr>\n",
       "    <tr>\n",
       "      <th>1</th>\n",
       "      <td>Nike</td>\n",
       "      <td>12995</td>\n",
       "      <td>Men KD13 EP Basketball Shoes</td>\n",
       "    </tr>\n",
       "    <tr>\n",
       "      <th>2</th>\n",
       "      <td>PUMA Motorsport</td>\n",
       "      <td>7999</td>\n",
       "      <td>Unisex Mercedes Running Shoes</td>\n",
       "    </tr>\n",
       "    <tr>\n",
       "      <th>3</th>\n",
       "      <td>Nike</td>\n",
       "      <td>10846</td>\n",
       "      <td>Men React Infinity Running</td>\n",
       "    </tr>\n",
       "    <tr>\n",
       "      <th>4</th>\n",
       "      <td>Nike</td>\n",
       "      <td>7721</td>\n",
       "      <td>Women AIR ZOOM Running Shoes</td>\n",
       "    </tr>\n",
       "    <tr>\n",
       "      <th>...</th>\n",
       "      <td>...</td>\n",
       "      <td>...</td>\n",
       "      <td>...</td>\n",
       "    </tr>\n",
       "    <tr>\n",
       "      <th>96</th>\n",
       "      <td>Kenneth Cole</td>\n",
       "      <td>9513</td>\n",
       "      <td>Women Solid Flat Boots</td>\n",
       "    </tr>\n",
       "    <tr>\n",
       "      <th>97</th>\n",
       "      <td>ADIDAS</td>\n",
       "      <td>12749</td>\n",
       "      <td>Men Ultraboost DNA CC_1 Shoes</td>\n",
       "    </tr>\n",
       "    <tr>\n",
       "      <th>98</th>\n",
       "      <td>UNDER ARMOUR</td>\n",
       "      <td>7999</td>\n",
       "      <td>Men Charged Impulse Running</td>\n",
       "    </tr>\n",
       "    <tr>\n",
       "      <th>99</th>\n",
       "      <td>Ruosh</td>\n",
       "      <td>8990</td>\n",
       "      <td>Men Textured Derbys</td>\n",
       "    </tr>\n",
       "    <tr>\n",
       "      <th>100</th>\n",
       "      <td>Bugatti</td>\n",
       "      <td>7499</td>\n",
       "      <td>Women Mid-Top Sneakers</td>\n",
       "    </tr>\n",
       "  </tbody>\n",
       "</table>\n",
       "<p>101 rows × 3 columns</p>\n",
       "</div>"
      ],
      "text/plain": [
       "               Brand  Price                    Description\n",
       "0           Skechers   6999  Men VIPER COMPETITOR Training\n",
       "1               Nike  12995   Men KD13 EP Basketball Shoes\n",
       "2    PUMA Motorsport   7999  Unisex Mercedes Running Shoes\n",
       "3               Nike  10846     Men React Infinity Running\n",
       "4               Nike   7721   Women AIR ZOOM Running Shoes\n",
       "..               ...    ...                            ...\n",
       "96      Kenneth Cole   9513         Women Solid Flat Boots\n",
       "97            ADIDAS  12749  Men Ultraboost DNA CC_1 Shoes\n",
       "98      UNDER ARMOUR   7999    Men Charged Impulse Running\n",
       "99             Ruosh   8990            Men Textured Derbys\n",
       "100          Bugatti   7499         Women Mid-Top Sneakers\n",
       "\n",
       "[101 rows x 3 columns]"
      ]
     },
     "execution_count": 146,
     "metadata": {},
     "output_type": "execute_result"
    }
   ],
   "source": [
    "#making a dataframe with all shoes\n",
    "\n",
    "myntraSneakersDf = pd.DataFrame()\n",
    "\n",
    "myntraSneakersDf['Brand'] = brand\n",
    "myntraSneakersDf['Price'] = price\n",
    "myntraSneakersDf['Description'] = shortDesc\n",
    "\n",
    "myntraSneakersDf"
   ]
  },
  {
   "cell_type": "code",
   "execution_count": 147,
   "metadata": {},
   "outputs": [],
   "source": [
    "myntraDriver.close()"
   ]
  },
  {
   "cell_type": "markdown",
   "metadata": {},
   "source": [
    "###### 10. Amazon Laptops <a name = \"10\"></a>\n",
    "\n",
    "Note: Amazon has a very dynamic website and it changes with each session. Sometimes all the products dont have the same information, sometimes they do not follow the usual patter which causes the code to crash. In such a case, please re-run the code after some time. Also, sometimes the i9 filter is not shown. In this case, close the session and re-run the code until the filter shows up."
   ]
  },
  {
   "cell_type": "code",
   "execution_count": 2,
   "metadata": {},
   "outputs": [],
   "source": [
    "driverAmazon = webdriver.Chrome('./chromedriver.exe')\n",
    "driverAmazon.get('https://www.amazon.in')"
   ]
  },
  {
   "cell_type": "code",
   "execution_count": 3,
   "metadata": {},
   "outputs": [],
   "source": [
    "#filling the search bar\n",
    "driverAmazon.find_element_by_xpath('//*[@id=\"twotabsearchtextbox\"]').send_keys('Laptop')"
   ]
  },
  {
   "cell_type": "code",
   "execution_count": 4,
   "metadata": {},
   "outputs": [],
   "source": [
    "#clicking the search button\n",
    "driverAmazon.find_element_by_xpath('//*[@id=\"nav-search-submit-button\"]').click()"
   ]
  },
  {
   "cell_type": "code",
   "execution_count": 5,
   "metadata": {},
   "outputs": [],
   "source": [
    "#applying i7 filter\n",
    "time.sleep(3)\n",
    "driverAmazon.find_element_by_xpath('//*[@id=\"p_n_feature_thirteen_browse-bin/12598163031\"]/span').click()"
   ]
  },
  {
   "cell_type": "code",
   "execution_count": 19,
   "metadata": {},
   "outputs": [
    {
     "data": {
      "text/plain": [
       "['HP 14 Thin & Light 14\" (35.56cms) FHD Laptop (11th Gen Intel i7-1165G7/8GB/512GB SSD/Windows 10/MS Office 2019/Alexa Built-in/Pale Gold/1.47 kg), 14s-dr2007TU',\n",
       " '4']"
      ]
     },
     "execution_count": 19,
     "metadata": {},
     "output_type": "execute_result"
    }
   ],
   "source": [
    "#checking the first listing to study the structure\n",
    "i7 = driverAmazon.find_element_by_xpath('//*[@id=\"search\"]/div[1]/div/div[1]/div/span[3]/div[2]/div[4]/div/span/div/div/div[2]/div[2]/div').text.split('\\n')\n",
    "i7"
   ]
  },
  {
   "cell_type": "code",
   "execution_count": 15,
   "metadata": {},
   "outputs": [
    {
     "data": {
      "text/plain": [
       "'Lenovo IdeaPad 3 Laptop, 15.6\" HD Touch Screen, Intel Core i7-1065G7, 4GB Soldered DDR4 + 4GB SO-DIMM DDR4, 256GB SSD M.2 2242 PCIe 3.0x2, Win 10 - Platinum Grey'"
      ]
     },
     "execution_count": 15,
     "metadata": {},
     "output_type": "execute_result"
    }
   ],
   "source": [
    "i7[0]"
   ]
  },
  {
   "cell_type": "code",
   "execution_count": 16,
   "metadata": {},
   "outputs": [
    {
     "data": {
      "text/plain": [
       "'₹99,138'"
      ]
     },
     "execution_count": 16,
     "metadata": {},
     "output_type": "execute_result"
    }
   ],
   "source": [
    "i7[2]"
   ]
  },
  {
   "cell_type": "code",
   "execution_count": 17,
   "metadata": {},
   "outputs": [
    {
     "data": {
      "text/plain": [
       "'5.0 out of 5 stars'"
      ]
     },
     "execution_count": 17,
     "metadata": {},
     "output_type": "execute_result"
    }
   ],
   "source": [
    "rating = driverAmazon.find_element_by_xpath('//*[@id=\"search\"]/div[1]/div/div[1]/div/span[3]/div[2]/div[2]/div/span/div/div/div[2]/div[2]/div/div[2]/div/span[1]/span/a/i[1]/span').get_attribute('innerHTML')\n",
    "rating"
   ]
  },
  {
   "cell_type": "code",
   "execution_count": 34,
   "metadata": {},
   "outputs": [
    {
     "name": "stdout",
     "output_type": "stream",
     "text": [
      "Getting Product 1\n",
      "Getting Product 2\n",
      "Getting Product 3\n",
      "Getting Product 4\n",
      "Getting Product 5\n",
      "Getting Product 6\n",
      "Getting Product 7\n",
      "Getting Product 8\n",
      "Getting Product 9\n",
      "Getting Product 10\n",
      "Getting Product 11\n",
      "Getting Product 12\n",
      "Getting Product 13\n",
      "Getting Product 14\n",
      "Getting Product 15\n",
      "Getting Product 16\n",
      "Getting Product 17\n",
      "Getting Product 18\n",
      "Getting Product 19\n",
      "Getting Product 20\n",
      "Getting Product 21\n",
      "Getting Product 22\n",
      "Getting Product 23\n",
      "Getting Product 24\n",
      "Getting Product 25\n",
      "Getting Product 26\n",
      "Getting Product 27\n",
      "Getting Product 28\n"
     ]
    }
   ],
   "source": [
    "#Getting all the laptop listing\n",
    "#This code ignores listings which do not have all the necessary information\n",
    "\n",
    "time.sleep(3)\n",
    "\n",
    "title = []\n",
    "price = []\n",
    "rating = []\n",
    "\n",
    "for index in range(2,30):\n",
    "    try:\n",
    "        print(f'Getting Product {index-1}')\n",
    "        i7 = driverAmazon.find_element_by_xpath(f'//*[@id=\"search\"]/div[1]/div/div[1]/div/span[3]/div[2]/div[{index}]/div/span/div').text.split('\\n')\n",
    "        i7Rating = driverAmazon.find_element_by_xpath(f'//*[@id=\"search\"]/div[1]/div/div[1]/div/span[3]/div[2]/div[{index}]/div/span/div/div/div[2]/div[2]/div/div[2]/div/span[1]/span/a/i[1]/span').get_attribute('innerHTML')\n",
    "        title.append(i7[0])\n",
    "        price.append(i7[2])\n",
    "        rating.append(i7Rating[0:3])\n",
    "    except IndexError:\n",
    "        title.pop()\n",
    "        continue\n",
    "    \n",
    "    except NoSuchElementException:\n",
    "        continue\n",
    "    "
   ]
  },
  {
   "cell_type": "code",
   "execution_count": 35,
   "metadata": {},
   "outputs": [
    {
     "data": {
      "text/plain": [
       "9"
      ]
     },
     "execution_count": 35,
     "metadata": {},
     "output_type": "execute_result"
    }
   ],
   "source": [
    "len(title)"
   ]
  },
  {
   "cell_type": "code",
   "execution_count": 36,
   "metadata": {},
   "outputs": [
    {
     "data": {
      "text/plain": [
       "9"
      ]
     },
     "execution_count": 36,
     "metadata": {},
     "output_type": "execute_result"
    }
   ],
   "source": [
    "len(rating)"
   ]
  },
  {
   "cell_type": "code",
   "execution_count": 37,
   "metadata": {},
   "outputs": [
    {
     "data": {
      "text/plain": [
       "9"
      ]
     },
     "execution_count": 37,
     "metadata": {},
     "output_type": "execute_result"
    }
   ],
   "source": [
    "len(price)"
   ]
  },
  {
   "cell_type": "code",
   "execution_count": 38,
   "metadata": {},
   "outputs": [
    {
     "data": {
      "text/html": [
       "<div>\n",
       "<style scoped>\n",
       "    .dataframe tbody tr th:only-of-type {\n",
       "        vertical-align: middle;\n",
       "    }\n",
       "\n",
       "    .dataframe tbody tr th {\n",
       "        vertical-align: top;\n",
       "    }\n",
       "\n",
       "    .dataframe thead th {\n",
       "        text-align: right;\n",
       "    }\n",
       "</style>\n",
       "<table border=\"1\" class=\"dataframe\">\n",
       "  <thead>\n",
       "    <tr style=\"text-align: right;\">\n",
       "      <th></th>\n",
       "      <th>Name</th>\n",
       "      <th>Price</th>\n",
       "      <th>Rating</th>\n",
       "    </tr>\n",
       "  </thead>\n",
       "  <tbody>\n",
       "    <tr>\n",
       "      <th>0</th>\n",
       "      <td>Asus ROG Zephyrus S Ultra Slim Gaming Laptop, ...</td>\n",
       "      <td>₹3,43,099</td>\n",
       "      <td>5.0</td>\n",
       "    </tr>\n",
       "    <tr>\n",
       "      <th>1</th>\n",
       "      <td>Lenovo IdeaPad 3 Laptop, 15.6\" HD Touch Screen...</td>\n",
       "      <td>₹99,138</td>\n",
       "      <td>5.0</td>\n",
       "    </tr>\n",
       "    <tr>\n",
       "      <th>2</th>\n",
       "      <td>(Renewed) Dell Latitude E7240 12.5-inch Laptop...</td>\n",
       "      <td>₹39,799</td>\n",
       "      <td>3.9</td>\n",
       "    </tr>\n",
       "    <tr>\n",
       "      <th>3</th>\n",
       "      <td>2019 HP 17.3\" HD+ Touchscreen Laptop Computer</td>\n",
       "      <td>₹2,01,524</td>\n",
       "      <td>4.5</td>\n",
       "    </tr>\n",
       "    <tr>\n",
       "      <th>4</th>\n",
       "      <td>(Renewed) Lenovo Intel 4th Gen Core i7-4980HQ ...</td>\n",
       "      <td>₹46,290</td>\n",
       "      <td>3.0</td>\n",
       "    </tr>\n",
       "    <tr>\n",
       "      <th>5</th>\n",
       "      <td>Lenovo Ideapad 720s Intel Core i7 8th Gen 13.3...</td>\n",
       "      <td>₹89,990</td>\n",
       "      <td>3.1</td>\n",
       "    </tr>\n",
       "    <tr>\n",
       "      <th>6</th>\n",
       "      <td>CUK VivoBook K571 by ASUS 15 Inch Gaming Lapto...</td>\n",
       "      <td>₹1,44,643</td>\n",
       "      <td>5.0</td>\n",
       "    </tr>\n",
       "    <tr>\n",
       "      <th>7</th>\n",
       "      <td>Dell G3 3500 Gaming15.6\" (39.62cms) FHD Laptop...</td>\n",
       "      <td>₹82,490</td>\n",
       "      <td>4.1</td>\n",
       "    </tr>\n",
       "    <tr>\n",
       "      <th>8</th>\n",
       "      <td>Lenovo IdeaPad Gaming 3 10th Gen Intel Core i7...</td>\n",
       "      <td>₹84,200</td>\n",
       "      <td>4.3</td>\n",
       "    </tr>\n",
       "  </tbody>\n",
       "</table>\n",
       "</div>"
      ],
      "text/plain": [
       "                                                Name      Price Rating\n",
       "0  Asus ROG Zephyrus S Ultra Slim Gaming Laptop, ...  ₹3,43,099    5.0\n",
       "1  Lenovo IdeaPad 3 Laptop, 15.6\" HD Touch Screen...    ₹99,138    5.0\n",
       "2  (Renewed) Dell Latitude E7240 12.5-inch Laptop...    ₹39,799    3.9\n",
       "3      2019 HP 17.3\" HD+ Touchscreen Laptop Computer  ₹2,01,524    4.5\n",
       "4  (Renewed) Lenovo Intel 4th Gen Core i7-4980HQ ...    ₹46,290    3.0\n",
       "5  Lenovo Ideapad 720s Intel Core i7 8th Gen 13.3...    ₹89,990    3.1\n",
       "6  CUK VivoBook K571 by ASUS 15 Inch Gaming Lapto...  ₹1,44,643    5.0\n",
       "7  Dell G3 3500 Gaming15.6\" (39.62cms) FHD Laptop...    ₹82,490    4.1\n",
       "8  Lenovo IdeaPad Gaming 3 10th Gen Intel Core i7...    ₹84,200    4.3"
      ]
     },
     "execution_count": 38,
     "metadata": {},
     "output_type": "execute_result"
    }
   ],
   "source": [
    "#making a dataframe with i7 laptop information\n",
    "\n",
    "i7laptopDf = pd.DataFrame()\n",
    "\n",
    "i7laptopDf['Name'] = title\n",
    "i7laptopDf['Price'] = price\n",
    "i7laptopDf['Rating'] = rating\n",
    "\n",
    "i7laptopDf"
   ]
  },
  {
   "cell_type": "code",
   "execution_count": 42,
   "metadata": {},
   "outputs": [],
   "source": [
    "#closing the browers\n",
    "driverAmazon.close()"
   ]
  },
  {
   "cell_type": "code",
   "execution_count": 49,
   "metadata": {},
   "outputs": [],
   "source": [
    "#Starting a new session and seraching for laptop\n",
    "time.sleep(2)\n",
    "driverAmazon = webdriver.Chrome('./chromedriver.exe')\n",
    "driverAmazon.get('https://www.amazon.in')"
   ]
  },
  {
   "cell_type": "code",
   "execution_count": 50,
   "metadata": {},
   "outputs": [],
   "source": [
    "driverAmazon.find_element_by_xpath('//*[@id=\"twotabsearchtextbox\"]').send_keys('Laptop')"
   ]
  },
  {
   "cell_type": "code",
   "execution_count": 51,
   "metadata": {},
   "outputs": [],
   "source": [
    "driverAmazon.find_element_by_xpath('//*[@id=\"nav-search-submit-button\"]').click()"
   ]
  },
  {
   "cell_type": "code",
   "execution_count": 53,
   "metadata": {},
   "outputs": [],
   "source": [
    "#Applying the i9 filter\n",
    "time.sleep(3)\n",
    "driverAmazon.find_element_by_xpath('//*[@id=\"p_n_feature_thirteen_browse-bin/16757432031\"]/span/a/span').click()"
   ]
  },
  {
   "cell_type": "code",
   "execution_count": null,
   "metadata": {},
   "outputs": [],
   "source": []
  },
  {
   "cell_type": "code",
   "execution_count": 54,
   "metadata": {},
   "outputs": [
    {
     "name": "stdout",
     "output_type": "stream",
     "text": [
      "Getting Product 1\n",
      "Getting Product 2\n",
      "Getting Product 3\n",
      "Getting Product 4\n",
      "Getting Product 5\n",
      "Getting Product 6\n",
      "Getting Product 7\n",
      "Getting Product 8\n",
      "Getting Product 9\n",
      "Getting Product 10\n",
      "Getting Product 11\n",
      "Getting Product 12\n",
      "Getting Product 13\n",
      "Getting Product 14\n",
      "Getting Product 15\n",
      "Getting Product 16\n",
      "Getting Product 17\n",
      "Getting Product 18\n",
      "Getting Product 19\n",
      "Getting Product 20\n",
      "Getting Product 21\n",
      "Getting Product 22\n",
      "Getting Product 23\n",
      "Getting Product 24\n",
      "Getting Product 25\n",
      "Getting Product 26\n",
      "Getting Product 27\n",
      "Getting Product 28\n"
     ]
    }
   ],
   "source": [
    "#Getting all i9 laptop information\n",
    "time.sleep(3)\n",
    "\n",
    "i9title = []\n",
    "i9price = []\n",
    "i9rating = []\n",
    "\n",
    "for index in range(2,30):\n",
    "    try:\n",
    "        print(f'Getting Product {index-1}')\n",
    "        i9 = driverAmazon.find_element_by_xpath(f'//*[@id=\"search\"]/div[1]/div/div[1]/div/span[3]/div[2]/div[{index}]/div/span/div').text.split('\\n')\n",
    "        i9Rating = driverAmazon.find_element_by_xpath(f'//*[@id=\"search\"]/div[1]/div/div[1]/div/span[3]/div[2]/div[{index}]/div/span/div/div/div[2]/div[2]/div/div[2]/div/span[1]/span/a/i[1]/span').get_attribute('innerHTML')\n",
    "        i9title.append(i9[0])\n",
    "        i9price.append(i9[2])\n",
    "        i9rating.append(i9Rating[0:3])\n",
    "    except IndexError:\n",
    "        i9title.pop()\n",
    "        continue\n",
    "    \n",
    "    except NoSuchElementException:\n",
    "        continue\n",
    "    "
   ]
  },
  {
   "cell_type": "code",
   "execution_count": 57,
   "metadata": {},
   "outputs": [
    {
     "data": {
      "text/plain": [
       "['₹2,15,990', '₹2,14,990', '₹2,65,788', '₹2,69,900']"
      ]
     },
     "execution_count": 57,
     "metadata": {},
     "output_type": "execute_result"
    }
   ],
   "source": [
    "i9price"
   ]
  },
  {
   "cell_type": "code",
   "execution_count": 58,
   "metadata": {},
   "outputs": [
    {
     "data": {
      "text/plain": [
       "['Apple MacBook Pro (16-inch, 16GB RAM, 1TB Storage, 2.3GHz 9th Gen Intel Core i9) - Space Grey',\n",
       " 'ASUS ROG Strix Scar 15 (2020), 15.6\" FHD 300Hz/3ms, Intel Core i9-10980HK 10th Gen, RTX 2070 Super GDDR6 8GB Graphics, Gaming Laptop (32GB/2TB RAID 0 SSD/Windows 10/Black/2.35 Kg), G532LWS-HF091T',\n",
       " 'Lenovo Legion 7i 10thGen Intel i9 15.6\" FHD Gaming Laptop(16GB/1TB SSD/Win10/MSO2019/144 Hz/RTX 2080 8GB GDDR6)81YU006HIN+Legion H300 Stereo Gaming Headset+Lenovo Ideapad M100 RGB Gaming Mouse 3200DPI',\n",
       " 'HP Z4 Workstation, Intel Core i9-7900X, RAM 32GB (4x8GB), 2TB Hard Disk, GFX NVIDIA Quadro P2000 5GB (4) DP, Windows 10 Pro, DVDRW, 3 Yrs Onsite Warranty by HP']"
      ]
     },
     "execution_count": 58,
     "metadata": {},
     "output_type": "execute_result"
    }
   ],
   "source": [
    "i9title"
   ]
  },
  {
   "cell_type": "code",
   "execution_count": 59,
   "metadata": {},
   "outputs": [
    {
     "data": {
      "text/plain": [
       "['4.2', '1.0', '3.7', '5.0']"
      ]
     },
     "execution_count": 59,
     "metadata": {},
     "output_type": "execute_result"
    }
   ],
   "source": [
    "i9rating"
   ]
  },
  {
   "cell_type": "code",
   "execution_count": 61,
   "metadata": {},
   "outputs": [
    {
     "data": {
      "text/html": [
       "<div>\n",
       "<style scoped>\n",
       "    .dataframe tbody tr th:only-of-type {\n",
       "        vertical-align: middle;\n",
       "    }\n",
       "\n",
       "    .dataframe tbody tr th {\n",
       "        vertical-align: top;\n",
       "    }\n",
       "\n",
       "    .dataframe thead th {\n",
       "        text-align: right;\n",
       "    }\n",
       "</style>\n",
       "<table border=\"1\" class=\"dataframe\">\n",
       "  <thead>\n",
       "    <tr style=\"text-align: right;\">\n",
       "      <th></th>\n",
       "      <th>Name</th>\n",
       "      <th>Price</th>\n",
       "      <th>Rating</th>\n",
       "    </tr>\n",
       "  </thead>\n",
       "  <tbody>\n",
       "    <tr>\n",
       "      <th>0</th>\n",
       "      <td>Apple MacBook Pro (16-inch, 16GB RAM, 1TB Stor...</td>\n",
       "      <td>₹2,15,990</td>\n",
       "      <td>4.2</td>\n",
       "    </tr>\n",
       "    <tr>\n",
       "      <th>1</th>\n",
       "      <td>ASUS ROG Strix Scar 15 (2020), 15.6\" FHD 300Hz...</td>\n",
       "      <td>₹2,14,990</td>\n",
       "      <td>1.0</td>\n",
       "    </tr>\n",
       "    <tr>\n",
       "      <th>2</th>\n",
       "      <td>Lenovo Legion 7i 10thGen Intel i9 15.6\" FHD Ga...</td>\n",
       "      <td>₹2,65,788</td>\n",
       "      <td>3.7</td>\n",
       "    </tr>\n",
       "    <tr>\n",
       "      <th>3</th>\n",
       "      <td>HP Z4 Workstation, Intel Core i9-7900X, RAM 32...</td>\n",
       "      <td>₹2,69,900</td>\n",
       "      <td>5.0</td>\n",
       "    </tr>\n",
       "  </tbody>\n",
       "</table>\n",
       "</div>"
      ],
      "text/plain": [
       "                                                Name      Price Rating\n",
       "0  Apple MacBook Pro (16-inch, 16GB RAM, 1TB Stor...  ₹2,15,990    4.2\n",
       "1  ASUS ROG Strix Scar 15 (2020), 15.6\" FHD 300Hz...  ₹2,14,990    1.0\n",
       "2  Lenovo Legion 7i 10thGen Intel i9 15.6\" FHD Ga...  ₹2,65,788    3.7\n",
       "3  HP Z4 Workstation, Intel Core i9-7900X, RAM 32...  ₹2,69,900    5.0"
      ]
     },
     "execution_count": 61,
     "metadata": {},
     "output_type": "execute_result"
    }
   ],
   "source": [
    "#making a dataframe with i9 laptop information\n",
    "\n",
    "i9laptopDf = pd.DataFrame()\n",
    "\n",
    "i9laptopDf['Name'] = i9title\n",
    "i9laptopDf['Price'] = i9price\n",
    "i9laptopDf['Rating'] = i9rating\n",
    "\n",
    "i9laptopDf"
   ]
  },
  {
   "cell_type": "code",
   "execution_count": 62,
   "metadata": {},
   "outputs": [
    {
     "data": {
      "text/html": [
       "<div>\n",
       "<style scoped>\n",
       "    .dataframe tbody tr th:only-of-type {\n",
       "        vertical-align: middle;\n",
       "    }\n",
       "\n",
       "    .dataframe tbody tr th {\n",
       "        vertical-align: top;\n",
       "    }\n",
       "\n",
       "    .dataframe thead th {\n",
       "        text-align: right;\n",
       "    }\n",
       "</style>\n",
       "<table border=\"1\" class=\"dataframe\">\n",
       "  <thead>\n",
       "    <tr style=\"text-align: right;\">\n",
       "      <th></th>\n",
       "      <th>Name</th>\n",
       "      <th>Price</th>\n",
       "      <th>Rating</th>\n",
       "    </tr>\n",
       "  </thead>\n",
       "  <tbody>\n",
       "    <tr>\n",
       "      <th>0</th>\n",
       "      <td>Asus ROG Zephyrus S Ultra Slim Gaming Laptop, ...</td>\n",
       "      <td>₹3,43,099</td>\n",
       "      <td>5.0</td>\n",
       "    </tr>\n",
       "    <tr>\n",
       "      <th>1</th>\n",
       "      <td>Lenovo IdeaPad 3 Laptop, 15.6\" HD Touch Screen...</td>\n",
       "      <td>₹99,138</td>\n",
       "      <td>5.0</td>\n",
       "    </tr>\n",
       "    <tr>\n",
       "      <th>2</th>\n",
       "      <td>(Renewed) Dell Latitude E7240 12.5-inch Laptop...</td>\n",
       "      <td>₹39,799</td>\n",
       "      <td>3.9</td>\n",
       "    </tr>\n",
       "    <tr>\n",
       "      <th>3</th>\n",
       "      <td>2019 HP 17.3\" HD+ Touchscreen Laptop Computer</td>\n",
       "      <td>₹2,01,524</td>\n",
       "      <td>4.5</td>\n",
       "    </tr>\n",
       "    <tr>\n",
       "      <th>4</th>\n",
       "      <td>(Renewed) Lenovo Intel 4th Gen Core i7-4980HQ ...</td>\n",
       "      <td>₹46,290</td>\n",
       "      <td>3.0</td>\n",
       "    </tr>\n",
       "    <tr>\n",
       "      <th>5</th>\n",
       "      <td>Lenovo Ideapad 720s Intel Core i7 8th Gen 13.3...</td>\n",
       "      <td>₹89,990</td>\n",
       "      <td>3.1</td>\n",
       "    </tr>\n",
       "    <tr>\n",
       "      <th>6</th>\n",
       "      <td>CUK VivoBook K571 by ASUS 15 Inch Gaming Lapto...</td>\n",
       "      <td>₹1,44,643</td>\n",
       "      <td>5.0</td>\n",
       "    </tr>\n",
       "    <tr>\n",
       "      <th>7</th>\n",
       "      <td>Dell G3 3500 Gaming15.6\" (39.62cms) FHD Laptop...</td>\n",
       "      <td>₹82,490</td>\n",
       "      <td>4.1</td>\n",
       "    </tr>\n",
       "    <tr>\n",
       "      <th>8</th>\n",
       "      <td>Lenovo IdeaPad Gaming 3 10th Gen Intel Core i7...</td>\n",
       "      <td>₹84,200</td>\n",
       "      <td>4.3</td>\n",
       "    </tr>\n",
       "    <tr>\n",
       "      <th>9</th>\n",
       "      <td>Apple MacBook Pro (16-inch, 16GB RAM, 1TB Stor...</td>\n",
       "      <td>₹2,15,990</td>\n",
       "      <td>4.2</td>\n",
       "    </tr>\n",
       "    <tr>\n",
       "      <th>10</th>\n",
       "      <td>ASUS ROG Strix Scar 15 (2020), 15.6\" FHD 300Hz...</td>\n",
       "      <td>₹2,14,990</td>\n",
       "      <td>1.0</td>\n",
       "    </tr>\n",
       "    <tr>\n",
       "      <th>11</th>\n",
       "      <td>Lenovo Legion 7i 10thGen Intel i9 15.6\" FHD Ga...</td>\n",
       "      <td>₹2,65,788</td>\n",
       "      <td>3.7</td>\n",
       "    </tr>\n",
       "    <tr>\n",
       "      <th>12</th>\n",
       "      <td>HP Z4 Workstation, Intel Core i9-7900X, RAM 32...</td>\n",
       "      <td>₹2,69,900</td>\n",
       "      <td>5.0</td>\n",
       "    </tr>\n",
       "  </tbody>\n",
       "</table>\n",
       "</div>"
      ],
      "text/plain": [
       "                                                 Name      Price Rating\n",
       "0   Asus ROG Zephyrus S Ultra Slim Gaming Laptop, ...  ₹3,43,099    5.0\n",
       "1   Lenovo IdeaPad 3 Laptop, 15.6\" HD Touch Screen...    ₹99,138    5.0\n",
       "2   (Renewed) Dell Latitude E7240 12.5-inch Laptop...    ₹39,799    3.9\n",
       "3       2019 HP 17.3\" HD+ Touchscreen Laptop Computer  ₹2,01,524    4.5\n",
       "4   (Renewed) Lenovo Intel 4th Gen Core i7-4980HQ ...    ₹46,290    3.0\n",
       "5   Lenovo Ideapad 720s Intel Core i7 8th Gen 13.3...    ₹89,990    3.1\n",
       "6   CUK VivoBook K571 by ASUS 15 Inch Gaming Lapto...  ₹1,44,643    5.0\n",
       "7   Dell G3 3500 Gaming15.6\" (39.62cms) FHD Laptop...    ₹82,490    4.1\n",
       "8   Lenovo IdeaPad Gaming 3 10th Gen Intel Core i7...    ₹84,200    4.3\n",
       "9   Apple MacBook Pro (16-inch, 16GB RAM, 1TB Stor...  ₹2,15,990    4.2\n",
       "10  ASUS ROG Strix Scar 15 (2020), 15.6\" FHD 300Hz...  ₹2,14,990    1.0\n",
       "11  Lenovo Legion 7i 10thGen Intel i9 15.6\" FHD Ga...  ₹2,65,788    3.7\n",
       "12  HP Z4 Workstation, Intel Core i9-7900X, RAM 32...  ₹2,69,900    5.0"
      ]
     },
     "execution_count": 62,
     "metadata": {},
     "output_type": "execute_result"
    }
   ],
   "source": [
    "#Merging the i7 and i9 information in to one dataframe\n",
    "\n",
    "laptopDf = i7laptopDf.append(i9laptopDf, ignore_index=True)\n",
    "laptopDf"
   ]
  },
  {
   "cell_type": "code",
   "execution_count": 63,
   "metadata": {},
   "outputs": [],
   "source": [
    "driverAmazon.close()"
   ]
  }
 ],
 "metadata": {
  "kernelspec": {
   "display_name": "Python 3",
   "language": "python",
   "name": "python3"
  },
  "language_info": {
   "codemirror_mode": {
    "name": "ipython",
    "version": 3
   },
   "file_extension": ".py",
   "mimetype": "text/x-python",
   "name": "python",
   "nbconvert_exporter": "python",
   "pygments_lexer": "ipython3",
   "version": "3.7.6"
  }
 },
 "nbformat": 4,
 "nbformat_minor": 4
}
