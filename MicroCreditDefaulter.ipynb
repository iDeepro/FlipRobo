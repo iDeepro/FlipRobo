{
 "cells": [
  {
   "cell_type": "code",
   "execution_count": 42,
   "metadata": {},
   "outputs": [],
   "source": [
    "import numpy as np\n",
    "import pandas as pd\n",
    "import os\n",
    "import matplotlib.pyplot as plt\n",
    "import seaborn as sns\n",
    "\n",
    "from sklearn.ensemble import RandomForestClassifier\n",
    "from sklearn.svm import SVC\n",
    "from sklearn.neighbors import KNeighborsClassifier\n",
    "\n",
    "from sklearn.metrics import accuracy_score\n",
    "from sklearn.model_selection import cross_val_score\n",
    "from sklearn.metrics import confusion_matrix, classification_report\n",
    "from sklearn.model_selection import train_test_split\n",
    "from scipy.stats import zscore\n",
    "from sklearn.metrics import f1_score\n",
    "from scipy import stats\n",
    "\n",
    "import datetime as dt\n",
    "\n",
    "import warnings\n",
    "warnings.filterwarnings(\"ignore\")"
   ]
  },
  {
   "cell_type": "code",
   "execution_count": 43,
   "metadata": {},
   "outputs": [],
   "source": [
    "#importing the dataset\n",
    "mobileUserData = pd.read_csv(os.path.join('D:\\FlipRobo\\Micro-Credit-Project\\Micro Credit Project\\Data file.csv'))\n",
    "rowCount = 209593 #storing row count for data loss calculations"
   ]
  },
  {
   "cell_type": "code",
   "execution_count": 44,
   "metadata": {},
   "outputs": [],
   "source": [
    "#pd.set_option('display.max_rows', None) \n",
    "pd.set_option('display.max_columns', None)  \n",
    "pd.set_option('display.expand_frame_repr', False)\n",
    "pd.set_option('max_colwidth', -1) #this is to ensure all the rows/columns are displayed and not just first 5 and last 5"
   ]
  },
  {
   "cell_type": "code",
   "execution_count": 45,
   "metadata": {},
   "outputs": [
    {
     "data": {
      "text/html": [
       "<div>\n",
       "<style scoped>\n",
       "    .dataframe tbody tr th:only-of-type {\n",
       "        vertical-align: middle;\n",
       "    }\n",
       "\n",
       "    .dataframe tbody tr th {\n",
       "        vertical-align: top;\n",
       "    }\n",
       "\n",
       "    .dataframe thead th {\n",
       "        text-align: right;\n",
       "    }\n",
       "</style>\n",
       "<table border=\"1\" class=\"dataframe\">\n",
       "  <thead>\n",
       "    <tr style=\"text-align: right;\">\n",
       "      <th></th>\n",
       "      <th>slno</th>\n",
       "      <th>label</th>\n",
       "      <th>msisdn</th>\n",
       "      <th>aon</th>\n",
       "      <th>daily_decr30</th>\n",
       "      <th>daily_decr90</th>\n",
       "      <th>rental30</th>\n",
       "      <th>rental90</th>\n",
       "      <th>last_rech_date_ma</th>\n",
       "      <th>last_rech_date_da</th>\n",
       "      <th>last_rech_amt_ma</th>\n",
       "      <th>cnt_ma_rech30</th>\n",
       "      <th>fr_ma_rech30</th>\n",
       "      <th>sumamnt_ma_rech30</th>\n",
       "      <th>medianamnt_ma_rech30</th>\n",
       "      <th>medianmarechprebal30</th>\n",
       "      <th>cnt_ma_rech90</th>\n",
       "      <th>fr_ma_rech90</th>\n",
       "      <th>sumamnt_ma_rech90</th>\n",
       "      <th>medianamnt_ma_rech90</th>\n",
       "      <th>medianmarechprebal90</th>\n",
       "      <th>cnt_da_rech30</th>\n",
       "      <th>fr_da_rech30</th>\n",
       "      <th>cnt_da_rech90</th>\n",
       "      <th>fr_da_rech90</th>\n",
       "      <th>cnt_loans30</th>\n",
       "      <th>amnt_loans30</th>\n",
       "      <th>maxamnt_loans30</th>\n",
       "      <th>medianamnt_loans30</th>\n",
       "      <th>cnt_loans90</th>\n",
       "      <th>amnt_loans90</th>\n",
       "      <th>maxamnt_loans90</th>\n",
       "      <th>medianamnt_loans90</th>\n",
       "      <th>payback30</th>\n",
       "      <th>payback90</th>\n",
       "      <th>pcircle</th>\n",
       "      <th>pdate</th>\n",
       "    </tr>\n",
       "  </thead>\n",
       "  <tbody>\n",
       "    <tr>\n",
       "      <th>0</th>\n",
       "      <td>1</td>\n",
       "      <td>0</td>\n",
       "      <td>21408I70789</td>\n",
       "      <td>272.0</td>\n",
       "      <td>3055.050000</td>\n",
       "      <td>3065.150000</td>\n",
       "      <td>220.13</td>\n",
       "      <td>260.13</td>\n",
       "      <td>2.0</td>\n",
       "      <td>0.0</td>\n",
       "      <td>1539</td>\n",
       "      <td>2</td>\n",
       "      <td>21.0</td>\n",
       "      <td>3078.0</td>\n",
       "      <td>1539.0</td>\n",
       "      <td>7.50</td>\n",
       "      <td>2</td>\n",
       "      <td>21</td>\n",
       "      <td>3078</td>\n",
       "      <td>1539.0</td>\n",
       "      <td>7.50</td>\n",
       "      <td>0.0</td>\n",
       "      <td>0.0</td>\n",
       "      <td>0</td>\n",
       "      <td>0</td>\n",
       "      <td>2</td>\n",
       "      <td>12</td>\n",
       "      <td>6.0</td>\n",
       "      <td>0.0</td>\n",
       "      <td>2.0</td>\n",
       "      <td>12</td>\n",
       "      <td>6</td>\n",
       "      <td>0.0</td>\n",
       "      <td>29.000000</td>\n",
       "      <td>29.000000</td>\n",
       "      <td>UPW</td>\n",
       "      <td>20-07-16</td>\n",
       "    </tr>\n",
       "    <tr>\n",
       "      <th>1</th>\n",
       "      <td>2</td>\n",
       "      <td>1</td>\n",
       "      <td>76462I70374</td>\n",
       "      <td>712.0</td>\n",
       "      <td>12122.000000</td>\n",
       "      <td>12124.750000</td>\n",
       "      <td>3691.26</td>\n",
       "      <td>3691.26</td>\n",
       "      <td>20.0</td>\n",
       "      <td>0.0</td>\n",
       "      <td>5787</td>\n",
       "      <td>1</td>\n",
       "      <td>0.0</td>\n",
       "      <td>5787.0</td>\n",
       "      <td>5787.0</td>\n",
       "      <td>61.04</td>\n",
       "      <td>1</td>\n",
       "      <td>0</td>\n",
       "      <td>5787</td>\n",
       "      <td>5787.0</td>\n",
       "      <td>61.04</td>\n",
       "      <td>0.0</td>\n",
       "      <td>0.0</td>\n",
       "      <td>0</td>\n",
       "      <td>0</td>\n",
       "      <td>1</td>\n",
       "      <td>12</td>\n",
       "      <td>12.0</td>\n",
       "      <td>0.0</td>\n",
       "      <td>1.0</td>\n",
       "      <td>12</td>\n",
       "      <td>12</td>\n",
       "      <td>0.0</td>\n",
       "      <td>0.000000</td>\n",
       "      <td>0.000000</td>\n",
       "      <td>UPW</td>\n",
       "      <td>10-08-16</td>\n",
       "    </tr>\n",
       "    <tr>\n",
       "      <th>2</th>\n",
       "      <td>3</td>\n",
       "      <td>1</td>\n",
       "      <td>17943I70372</td>\n",
       "      <td>535.0</td>\n",
       "      <td>1398.000000</td>\n",
       "      <td>1398.000000</td>\n",
       "      <td>900.13</td>\n",
       "      <td>900.13</td>\n",
       "      <td>3.0</td>\n",
       "      <td>0.0</td>\n",
       "      <td>1539</td>\n",
       "      <td>1</td>\n",
       "      <td>0.0</td>\n",
       "      <td>1539.0</td>\n",
       "      <td>1539.0</td>\n",
       "      <td>66.32</td>\n",
       "      <td>1</td>\n",
       "      <td>0</td>\n",
       "      <td>1539</td>\n",
       "      <td>1539.0</td>\n",
       "      <td>66.32</td>\n",
       "      <td>0.0</td>\n",
       "      <td>0.0</td>\n",
       "      <td>0</td>\n",
       "      <td>0</td>\n",
       "      <td>1</td>\n",
       "      <td>6</td>\n",
       "      <td>6.0</td>\n",
       "      <td>0.0</td>\n",
       "      <td>1.0</td>\n",
       "      <td>6</td>\n",
       "      <td>6</td>\n",
       "      <td>0.0</td>\n",
       "      <td>0.000000</td>\n",
       "      <td>0.000000</td>\n",
       "      <td>UPW</td>\n",
       "      <td>19-08-16</td>\n",
       "    </tr>\n",
       "    <tr>\n",
       "      <th>3</th>\n",
       "      <td>4</td>\n",
       "      <td>1</td>\n",
       "      <td>55773I70781</td>\n",
       "      <td>241.0</td>\n",
       "      <td>21.228000</td>\n",
       "      <td>21.228000</td>\n",
       "      <td>159.42</td>\n",
       "      <td>159.42</td>\n",
       "      <td>41.0</td>\n",
       "      <td>0.0</td>\n",
       "      <td>947</td>\n",
       "      <td>0</td>\n",
       "      <td>0.0</td>\n",
       "      <td>0.0</td>\n",
       "      <td>0.0</td>\n",
       "      <td>0.00</td>\n",
       "      <td>1</td>\n",
       "      <td>0</td>\n",
       "      <td>947</td>\n",
       "      <td>947.0</td>\n",
       "      <td>2.50</td>\n",
       "      <td>0.0</td>\n",
       "      <td>0.0</td>\n",
       "      <td>0</td>\n",
       "      <td>0</td>\n",
       "      <td>2</td>\n",
       "      <td>12</td>\n",
       "      <td>6.0</td>\n",
       "      <td>0.0</td>\n",
       "      <td>2.0</td>\n",
       "      <td>12</td>\n",
       "      <td>6</td>\n",
       "      <td>0.0</td>\n",
       "      <td>0.000000</td>\n",
       "      <td>0.000000</td>\n",
       "      <td>UPW</td>\n",
       "      <td>06-06-16</td>\n",
       "    </tr>\n",
       "    <tr>\n",
       "      <th>4</th>\n",
       "      <td>5</td>\n",
       "      <td>1</td>\n",
       "      <td>03813I82730</td>\n",
       "      <td>947.0</td>\n",
       "      <td>150.619333</td>\n",
       "      <td>150.619333</td>\n",
       "      <td>1098.90</td>\n",
       "      <td>1098.90</td>\n",
       "      <td>4.0</td>\n",
       "      <td>0.0</td>\n",
       "      <td>2309</td>\n",
       "      <td>7</td>\n",
       "      <td>2.0</td>\n",
       "      <td>20029.0</td>\n",
       "      <td>2309.0</td>\n",
       "      <td>29.00</td>\n",
       "      <td>8</td>\n",
       "      <td>2</td>\n",
       "      <td>23496</td>\n",
       "      <td>2888.0</td>\n",
       "      <td>35.00</td>\n",
       "      <td>0.0</td>\n",
       "      <td>0.0</td>\n",
       "      <td>0</td>\n",
       "      <td>0</td>\n",
       "      <td>7</td>\n",
       "      <td>42</td>\n",
       "      <td>6.0</td>\n",
       "      <td>0.0</td>\n",
       "      <td>7.0</td>\n",
       "      <td>42</td>\n",
       "      <td>6</td>\n",
       "      <td>0.0</td>\n",
       "      <td>2.333333</td>\n",
       "      <td>2.333333</td>\n",
       "      <td>UPW</td>\n",
       "      <td>22-06-16</td>\n",
       "    </tr>\n",
       "  </tbody>\n",
       "</table>\n",
       "</div>"
      ],
      "text/plain": [
       "   slno  label       msisdn    aon  daily_decr30  daily_decr90  rental30  rental90  last_rech_date_ma  last_rech_date_da  last_rech_amt_ma  cnt_ma_rech30  fr_ma_rech30  sumamnt_ma_rech30  medianamnt_ma_rech30  medianmarechprebal30  cnt_ma_rech90  fr_ma_rech90  sumamnt_ma_rech90  medianamnt_ma_rech90  medianmarechprebal90  cnt_da_rech30  fr_da_rech30  cnt_da_rech90  fr_da_rech90  cnt_loans30  amnt_loans30  maxamnt_loans30  medianamnt_loans30  cnt_loans90  amnt_loans90  maxamnt_loans90  medianamnt_loans90  payback30  payback90 pcircle     pdate\n",
       "0  1     0      21408I70789  272.0  3055.050000   3065.150000   220.13    260.13    2.0                0.0                1539              2              21.0          3078.0             1539.0                7.50                  2              21            3078               1539.0                7.50                  0.0            0.0           0              0             2            12            6.0              0.0                 2.0          12            6                0.0                 29.000000  29.000000  UPW     20-07-16\n",
       "1  2     1      76462I70374  712.0  12122.000000  12124.750000  3691.26   3691.26   20.0               0.0                5787              1              0.0           5787.0             5787.0                61.04                 1              0             5787               5787.0                61.04                 0.0            0.0           0              0             1            12            12.0             0.0                 1.0          12            12               0.0                 0.000000   0.000000   UPW     10-08-16\n",
       "2  3     1      17943I70372  535.0  1398.000000   1398.000000   900.13    900.13    3.0                0.0                1539              1              0.0           1539.0             1539.0                66.32                 1              0             1539               1539.0                66.32                 0.0            0.0           0              0             1            6             6.0              0.0                 1.0          6             6                0.0                 0.000000   0.000000   UPW     19-08-16\n",
       "3  4     1      55773I70781  241.0  21.228000     21.228000     159.42    159.42    41.0               0.0                947               0              0.0           0.0                0.0                   0.00                  1              0             947                947.0                 2.50                  0.0            0.0           0              0             2            12            6.0              0.0                 2.0          12            6                0.0                 0.000000   0.000000   UPW     06-06-16\n",
       "4  5     1      03813I82730  947.0  150.619333    150.619333    1098.90   1098.90   4.0                0.0                2309              7              2.0           20029.0            2309.0                29.00                 8              2             23496              2888.0                35.00                 0.0            0.0           0              0             7            42            6.0              0.0                 7.0          42            6                0.0                 2.333333   2.333333   UPW     22-06-16"
      ]
     },
     "execution_count": 45,
     "metadata": {},
     "output_type": "execute_result"
    }
   ],
   "source": [
    "mobileUserData.head()"
   ]
  },
  {
   "cell_type": "code",
   "execution_count": 46,
   "metadata": {},
   "outputs": [
    {
     "data": {
      "text/html": [
       "<div>\n",
       "<style scoped>\n",
       "    .dataframe tbody tr th:only-of-type {\n",
       "        vertical-align: middle;\n",
       "    }\n",
       "\n",
       "    .dataframe tbody tr th {\n",
       "        vertical-align: top;\n",
       "    }\n",
       "\n",
       "    .dataframe thead th {\n",
       "        text-align: right;\n",
       "    }\n",
       "</style>\n",
       "<table border=\"1\" class=\"dataframe\">\n",
       "  <thead>\n",
       "    <tr style=\"text-align: right;\">\n",
       "      <th></th>\n",
       "      <th>label</th>\n",
       "      <th>aon</th>\n",
       "      <th>daily_decr30</th>\n",
       "      <th>daily_decr90</th>\n",
       "      <th>rental30</th>\n",
       "      <th>rental90</th>\n",
       "      <th>last_rech_date_ma</th>\n",
       "      <th>last_rech_date_da</th>\n",
       "      <th>last_rech_amt_ma</th>\n",
       "      <th>cnt_ma_rech30</th>\n",
       "      <th>fr_ma_rech30</th>\n",
       "      <th>sumamnt_ma_rech30</th>\n",
       "      <th>medianamnt_ma_rech30</th>\n",
       "      <th>medianmarechprebal30</th>\n",
       "      <th>cnt_ma_rech90</th>\n",
       "      <th>fr_ma_rech90</th>\n",
       "      <th>sumamnt_ma_rech90</th>\n",
       "      <th>medianamnt_ma_rech90</th>\n",
       "      <th>medianmarechprebal90</th>\n",
       "      <th>cnt_da_rech30</th>\n",
       "      <th>fr_da_rech30</th>\n",
       "      <th>cnt_da_rech90</th>\n",
       "      <th>fr_da_rech90</th>\n",
       "      <th>cnt_loans30</th>\n",
       "      <th>amnt_loans30</th>\n",
       "      <th>maxamnt_loans30</th>\n",
       "      <th>medianamnt_loans30</th>\n",
       "      <th>cnt_loans90</th>\n",
       "      <th>amnt_loans90</th>\n",
       "      <th>maxamnt_loans90</th>\n",
       "      <th>medianamnt_loans90</th>\n",
       "      <th>payback30</th>\n",
       "      <th>payback90</th>\n",
       "    </tr>\n",
       "  </thead>\n",
       "  <tbody>\n",
       "    <tr>\n",
       "      <th>count</th>\n",
       "      <td>209593.000000</td>\n",
       "      <td>209593.000000</td>\n",
       "      <td>209593.000000</td>\n",
       "      <td>209593.000000</td>\n",
       "      <td>209593.000000</td>\n",
       "      <td>209593.000000</td>\n",
       "      <td>209593.00000</td>\n",
       "      <td>209593.000000</td>\n",
       "      <td>209593.000000</td>\n",
       "      <td>209593.000000</td>\n",
       "      <td>209593.000000</td>\n",
       "      <td>209593.000000</td>\n",
       "      <td>209593.000000</td>\n",
       "      <td>209593.000000</td>\n",
       "      <td>209593.00000</td>\n",
       "      <td>209593.000000</td>\n",
       "      <td>209593.000000</td>\n",
       "      <td>209593.000000</td>\n",
       "      <td>209593.000000</td>\n",
       "      <td>209593.000000</td>\n",
       "      <td>209593.000000</td>\n",
       "      <td>209593.000000</td>\n",
       "      <td>209593.000000</td>\n",
       "      <td>209593.000000</td>\n",
       "      <td>209593.000000</td>\n",
       "      <td>209593.000000</td>\n",
       "      <td>209593.000000</td>\n",
       "      <td>209593.000000</td>\n",
       "      <td>209593.000000</td>\n",
       "      <td>209593.000000</td>\n",
       "      <td>209593.000000</td>\n",
       "      <td>209593.000000</td>\n",
       "      <td>209593.000000</td>\n",
       "    </tr>\n",
       "    <tr>\n",
       "      <th>mean</th>\n",
       "      <td>0.875177</td>\n",
       "      <td>8112.343445</td>\n",
       "      <td>5381.402289</td>\n",
       "      <td>6082.515068</td>\n",
       "      <td>2692.581910</td>\n",
       "      <td>3483.406534</td>\n",
       "      <td>3755.84780</td>\n",
       "      <td>3712.202921</td>\n",
       "      <td>2064.452797</td>\n",
       "      <td>3.978057</td>\n",
       "      <td>3737.355121</td>\n",
       "      <td>7704.501157</td>\n",
       "      <td>1812.817952</td>\n",
       "      <td>3851.927942</td>\n",
       "      <td>6.31543</td>\n",
       "      <td>7.716780</td>\n",
       "      <td>12396.218352</td>\n",
       "      <td>1864.595821</td>\n",
       "      <td>92.025541</td>\n",
       "      <td>262.578110</td>\n",
       "      <td>3749.494447</td>\n",
       "      <td>0.041495</td>\n",
       "      <td>0.045712</td>\n",
       "      <td>2.758981</td>\n",
       "      <td>17.952021</td>\n",
       "      <td>274.658747</td>\n",
       "      <td>0.054029</td>\n",
       "      <td>18.520919</td>\n",
       "      <td>23.645398</td>\n",
       "      <td>6.703134</td>\n",
       "      <td>0.046077</td>\n",
       "      <td>3.398826</td>\n",
       "      <td>4.321485</td>\n",
       "    </tr>\n",
       "    <tr>\n",
       "      <th>std</th>\n",
       "      <td>0.330519</td>\n",
       "      <td>75696.082531</td>\n",
       "      <td>9220.623400</td>\n",
       "      <td>10918.812767</td>\n",
       "      <td>4308.586781</td>\n",
       "      <td>5770.461279</td>\n",
       "      <td>53905.89223</td>\n",
       "      <td>53374.833430</td>\n",
       "      <td>2370.786034</td>\n",
       "      <td>4.256090</td>\n",
       "      <td>53643.625172</td>\n",
       "      <td>10139.621714</td>\n",
       "      <td>2070.864620</td>\n",
       "      <td>54006.374433</td>\n",
       "      <td>7.19347</td>\n",
       "      <td>12.590251</td>\n",
       "      <td>16857.793882</td>\n",
       "      <td>2081.680664</td>\n",
       "      <td>369.215658</td>\n",
       "      <td>4183.897978</td>\n",
       "      <td>53885.414979</td>\n",
       "      <td>0.397556</td>\n",
       "      <td>0.951386</td>\n",
       "      <td>2.554502</td>\n",
       "      <td>17.379741</td>\n",
       "      <td>4245.264648</td>\n",
       "      <td>0.218039</td>\n",
       "      <td>224.797423</td>\n",
       "      <td>26.469861</td>\n",
       "      <td>2.103864</td>\n",
       "      <td>0.200692</td>\n",
       "      <td>8.813729</td>\n",
       "      <td>10.308108</td>\n",
       "    </tr>\n",
       "    <tr>\n",
       "      <th>min</th>\n",
       "      <td>0.000000</td>\n",
       "      <td>-48.000000</td>\n",
       "      <td>-93.012667</td>\n",
       "      <td>-93.012667</td>\n",
       "      <td>-23737.140000</td>\n",
       "      <td>-24720.580000</td>\n",
       "      <td>-29.00000</td>\n",
       "      <td>-29.000000</td>\n",
       "      <td>0.000000</td>\n",
       "      <td>0.000000</td>\n",
       "      <td>0.000000</td>\n",
       "      <td>0.000000</td>\n",
       "      <td>0.000000</td>\n",
       "      <td>-200.000000</td>\n",
       "      <td>0.00000</td>\n",
       "      <td>0.000000</td>\n",
       "      <td>0.000000</td>\n",
       "      <td>0.000000</td>\n",
       "      <td>-200.000000</td>\n",
       "      <td>0.000000</td>\n",
       "      <td>0.000000</td>\n",
       "      <td>0.000000</td>\n",
       "      <td>0.000000</td>\n",
       "      <td>0.000000</td>\n",
       "      <td>0.000000</td>\n",
       "      <td>0.000000</td>\n",
       "      <td>0.000000</td>\n",
       "      <td>0.000000</td>\n",
       "      <td>0.000000</td>\n",
       "      <td>0.000000</td>\n",
       "      <td>0.000000</td>\n",
       "      <td>0.000000</td>\n",
       "      <td>0.000000</td>\n",
       "    </tr>\n",
       "    <tr>\n",
       "      <th>25%</th>\n",
       "      <td>1.000000</td>\n",
       "      <td>246.000000</td>\n",
       "      <td>42.440000</td>\n",
       "      <td>42.692000</td>\n",
       "      <td>280.420000</td>\n",
       "      <td>300.260000</td>\n",
       "      <td>1.00000</td>\n",
       "      <td>0.000000</td>\n",
       "      <td>770.000000</td>\n",
       "      <td>1.000000</td>\n",
       "      <td>0.000000</td>\n",
       "      <td>1540.000000</td>\n",
       "      <td>770.000000</td>\n",
       "      <td>11.000000</td>\n",
       "      <td>2.00000</td>\n",
       "      <td>0.000000</td>\n",
       "      <td>2317.000000</td>\n",
       "      <td>773.000000</td>\n",
       "      <td>14.600000</td>\n",
       "      <td>0.000000</td>\n",
       "      <td>0.000000</td>\n",
       "      <td>0.000000</td>\n",
       "      <td>0.000000</td>\n",
       "      <td>1.000000</td>\n",
       "      <td>6.000000</td>\n",
       "      <td>6.000000</td>\n",
       "      <td>0.000000</td>\n",
       "      <td>1.000000</td>\n",
       "      <td>6.000000</td>\n",
       "      <td>6.000000</td>\n",
       "      <td>0.000000</td>\n",
       "      <td>0.000000</td>\n",
       "      <td>0.000000</td>\n",
       "    </tr>\n",
       "    <tr>\n",
       "      <th>50%</th>\n",
       "      <td>1.000000</td>\n",
       "      <td>527.000000</td>\n",
       "      <td>1469.175667</td>\n",
       "      <td>1500.000000</td>\n",
       "      <td>1083.570000</td>\n",
       "      <td>1334.000000</td>\n",
       "      <td>3.00000</td>\n",
       "      <td>0.000000</td>\n",
       "      <td>1539.000000</td>\n",
       "      <td>3.000000</td>\n",
       "      <td>2.000000</td>\n",
       "      <td>4628.000000</td>\n",
       "      <td>1539.000000</td>\n",
       "      <td>33.900000</td>\n",
       "      <td>4.00000</td>\n",
       "      <td>2.000000</td>\n",
       "      <td>7226.000000</td>\n",
       "      <td>1539.000000</td>\n",
       "      <td>36.000000</td>\n",
       "      <td>0.000000</td>\n",
       "      <td>0.000000</td>\n",
       "      <td>0.000000</td>\n",
       "      <td>0.000000</td>\n",
       "      <td>2.000000</td>\n",
       "      <td>12.000000</td>\n",
       "      <td>6.000000</td>\n",
       "      <td>0.000000</td>\n",
       "      <td>2.000000</td>\n",
       "      <td>12.000000</td>\n",
       "      <td>6.000000</td>\n",
       "      <td>0.000000</td>\n",
       "      <td>0.000000</td>\n",
       "      <td>1.666667</td>\n",
       "    </tr>\n",
       "    <tr>\n",
       "      <th>75%</th>\n",
       "      <td>1.000000</td>\n",
       "      <td>982.000000</td>\n",
       "      <td>7244.000000</td>\n",
       "      <td>7802.790000</td>\n",
       "      <td>3356.940000</td>\n",
       "      <td>4201.790000</td>\n",
       "      <td>7.00000</td>\n",
       "      <td>0.000000</td>\n",
       "      <td>2309.000000</td>\n",
       "      <td>5.000000</td>\n",
       "      <td>6.000000</td>\n",
       "      <td>10010.000000</td>\n",
       "      <td>1924.000000</td>\n",
       "      <td>83.000000</td>\n",
       "      <td>8.00000</td>\n",
       "      <td>8.000000</td>\n",
       "      <td>16000.000000</td>\n",
       "      <td>1924.000000</td>\n",
       "      <td>79.310000</td>\n",
       "      <td>0.000000</td>\n",
       "      <td>0.000000</td>\n",
       "      <td>0.000000</td>\n",
       "      <td>0.000000</td>\n",
       "      <td>4.000000</td>\n",
       "      <td>24.000000</td>\n",
       "      <td>6.000000</td>\n",
       "      <td>0.000000</td>\n",
       "      <td>5.000000</td>\n",
       "      <td>30.000000</td>\n",
       "      <td>6.000000</td>\n",
       "      <td>0.000000</td>\n",
       "      <td>3.750000</td>\n",
       "      <td>4.500000</td>\n",
       "    </tr>\n",
       "    <tr>\n",
       "      <th>max</th>\n",
       "      <td>1.000000</td>\n",
       "      <td>999860.755200</td>\n",
       "      <td>265926.000000</td>\n",
       "      <td>320630.000000</td>\n",
       "      <td>198926.110000</td>\n",
       "      <td>200148.110000</td>\n",
       "      <td>998650.37770</td>\n",
       "      <td>999171.809400</td>\n",
       "      <td>55000.000000</td>\n",
       "      <td>203.000000</td>\n",
       "      <td>999606.368100</td>\n",
       "      <td>810096.000000</td>\n",
       "      <td>55000.000000</td>\n",
       "      <td>999479.419300</td>\n",
       "      <td>336.00000</td>\n",
       "      <td>88.000000</td>\n",
       "      <td>953036.000000</td>\n",
       "      <td>55000.000000</td>\n",
       "      <td>41456.500000</td>\n",
       "      <td>99914.441420</td>\n",
       "      <td>999809.240100</td>\n",
       "      <td>38.000000</td>\n",
       "      <td>64.000000</td>\n",
       "      <td>50.000000</td>\n",
       "      <td>306.000000</td>\n",
       "      <td>99864.560860</td>\n",
       "      <td>3.000000</td>\n",
       "      <td>4997.517944</td>\n",
       "      <td>438.000000</td>\n",
       "      <td>12.000000</td>\n",
       "      <td>3.000000</td>\n",
       "      <td>171.500000</td>\n",
       "      <td>171.500000</td>\n",
       "    </tr>\n",
       "  </tbody>\n",
       "</table>\n",
       "</div>"
      ],
      "text/plain": [
       "               label            aon   daily_decr30   daily_decr90       rental30       rental90  last_rech_date_ma  last_rech_date_da  last_rech_amt_ma  cnt_ma_rech30   fr_ma_rech30  sumamnt_ma_rech30  medianamnt_ma_rech30  medianmarechprebal30  cnt_ma_rech90   fr_ma_rech90  sumamnt_ma_rech90  medianamnt_ma_rech90  medianmarechprebal90  cnt_da_rech30   fr_da_rech30  cnt_da_rech90   fr_da_rech90    cnt_loans30   amnt_loans30  maxamnt_loans30  medianamnt_loans30    cnt_loans90   amnt_loans90  maxamnt_loans90  medianamnt_loans90      payback30      payback90\n",
       "count  209593.000000  209593.000000  209593.000000  209593.000000  209593.000000  209593.000000  209593.00000       209593.000000      209593.000000     209593.000000  209593.000000  209593.000000      209593.000000         209593.000000         209593.00000   209593.000000  209593.000000      209593.000000         209593.000000         209593.000000  209593.000000  209593.000000  209593.000000  209593.000000  209593.000000  209593.000000    209593.000000       209593.000000  209593.000000  209593.000000    209593.000000       209593.000000  209593.000000\n",
       "mean   0.875177       8112.343445    5381.402289    6082.515068    2692.581910    3483.406534    3755.84780         3712.202921        2064.452797       3.978057       3737.355121    7704.501157        1812.817952           3851.927942           6.31543        7.716780       12396.218352       1864.595821           92.025541             262.578110     3749.494447    0.041495       0.045712       2.758981       17.952021      274.658747       0.054029            18.520919      23.645398      6.703134         0.046077            3.398826       4.321485     \n",
       "std    0.330519       75696.082531   9220.623400    10918.812767   4308.586781    5770.461279    53905.89223        53374.833430       2370.786034       4.256090       53643.625172   10139.621714       2070.864620           54006.374433          7.19347        12.590251      16857.793882       2081.680664           369.215658            4183.897978    53885.414979   0.397556       0.951386       2.554502       17.379741      4245.264648      0.218039            224.797423     26.469861      2.103864         0.200692            8.813729       10.308108    \n",
       "min    0.000000      -48.000000     -93.012667     -93.012667     -23737.140000  -24720.580000  -29.00000          -29.000000          0.000000          0.000000       0.000000       0.000000           0.000000             -200.000000            0.00000        0.000000       0.000000           0.000000             -200.000000            0.000000       0.000000       0.000000       0.000000       0.000000       0.000000       0.000000         0.000000            0.000000       0.000000       0.000000         0.000000            0.000000       0.000000     \n",
       "25%    1.000000       246.000000     42.440000      42.692000      280.420000     300.260000     1.00000            0.000000           770.000000        1.000000       0.000000       1540.000000        770.000000            11.000000             2.00000        0.000000       2317.000000        773.000000            14.600000             0.000000       0.000000       0.000000       0.000000       1.000000       6.000000       6.000000         0.000000            1.000000       6.000000       6.000000         0.000000            0.000000       0.000000     \n",
       "50%    1.000000       527.000000     1469.175667    1500.000000    1083.570000    1334.000000    3.00000            0.000000           1539.000000       3.000000       2.000000       4628.000000        1539.000000           33.900000             4.00000        2.000000       7226.000000        1539.000000           36.000000             0.000000       0.000000       0.000000       0.000000       2.000000       12.000000      6.000000         0.000000            2.000000       12.000000      6.000000         0.000000            0.000000       1.666667     \n",
       "75%    1.000000       982.000000     7244.000000    7802.790000    3356.940000    4201.790000    7.00000            0.000000           2309.000000       5.000000       6.000000       10010.000000       1924.000000           83.000000             8.00000        8.000000       16000.000000       1924.000000           79.310000             0.000000       0.000000       0.000000       0.000000       4.000000       24.000000      6.000000         0.000000            5.000000       30.000000      6.000000         0.000000            3.750000       4.500000     \n",
       "max    1.000000       999860.755200  265926.000000  320630.000000  198926.110000  200148.110000  998650.37770       999171.809400      55000.000000      203.000000     999606.368100  810096.000000      55000.000000          999479.419300         336.00000      88.000000      953036.000000      55000.000000          41456.500000          99914.441420   999809.240100  38.000000      64.000000      50.000000      306.000000     99864.560860     3.000000            4997.517944    438.000000     12.000000        3.000000            171.500000     171.500000   "
      ]
     },
     "execution_count": 46,
     "metadata": {},
     "output_type": "execute_result"
    }
   ],
   "source": [
    "#Statistical Summary\n",
    "mobileUserData.drop(['slno', 'msisdn', 'pcircle', 'pdate'], axis = 1).describe(include='all')"
   ]
  },
  {
   "cell_type": "markdown",
   "metadata": {},
   "source": [
    "From the above table we make the following observation:\n",
    "<ol>\n",
    "  <li>msisdn represents the mobile number of the user and therefore should be unique to each user. However, there are 1,86,243 unique rows out of 2,09,593 rows. Hence, there there might be duplicate rows in this dataset.</li>\n",
    "  <li>Mean is larger then the 50th percentile and there is a huge difference between the 75th percentile and max value for most of the rows. This indicate presence of outliers.</li>\n",
    "  <li>Minimum values of the columns are either zero or negative. However, based on the data description, having negative values is not logical for this dataset and hence need to be rectified.</li>\n",
    "</ol>\n",
    "\n",
    "<p>\n",
    "    We will now futher investigate each of these points and try to solve them.\n",
    "</p>"
   ]
  },
  {
   "cell_type": "code",
   "execution_count": 6,
   "metadata": {},
   "outputs": [
    {
     "data": {
      "text/plain": [
       "False    209593\n",
       "Name: duplicate, dtype: int64"
      ]
     },
     "execution_count": 6,
     "metadata": {},
     "output_type": "execute_result"
    }
   ],
   "source": [
    "mobileUserData['duplicate'] = mobileUserData.duplicated(keep='first')\n",
    "mobileUserData.duplicate.value_counts()"
   ]
  },
  {
   "cell_type": "markdown",
   "metadata": {},
   "source": [
    "<p>The cell above creates a new column named 'duplicate' and stores a boolean value based on its uniqueness of the corresponding row. If a particular row has no duplicate, the duplicate column has the value 'false' for that row. We see that all the 2,09,593 rows have the values as 'false' and hence the possiblity of duplicate values are ruled out.</p>"
   ]
  },
  {
   "cell_type": "code",
   "execution_count": 7,
   "metadata": {},
   "outputs": [],
   "source": [
    "#Dropping the duplicate column as it will not be required anymore\n",
    "mobileUserData.drop('duplicate', axis=1, inplace=True)"
   ]
  },
  {
   "cell_type": "code",
   "execution_count": 8,
   "metadata": {},
   "outputs": [
    {
     "data": {
      "text/plain": [
       "slno                    0\n",
       "label                   0\n",
       "msisdn                  0\n",
       "aon                     0\n",
       "daily_decr30            0\n",
       "daily_decr90            0\n",
       "rental30                0\n",
       "rental90                0\n",
       "last_rech_date_ma       0\n",
       "last_rech_date_da       0\n",
       "last_rech_amt_ma        0\n",
       "cnt_ma_rech30           0\n",
       "fr_ma_rech30            0\n",
       "sumamnt_ma_rech30       0\n",
       "medianamnt_ma_rech30    0\n",
       "medianmarechprebal30    0\n",
       "cnt_ma_rech90           0\n",
       "fr_ma_rech90            0\n",
       "sumamnt_ma_rech90       0\n",
       "medianamnt_ma_rech90    0\n",
       "medianmarechprebal90    0\n",
       "cnt_da_rech30           0\n",
       "fr_da_rech30            0\n",
       "cnt_da_rech90           0\n",
       "fr_da_rech90            0\n",
       "cnt_loans30             0\n",
       "amnt_loans30            0\n",
       "maxamnt_loans30         0\n",
       "medianamnt_loans30      0\n",
       "cnt_loans90             0\n",
       "amnt_loans90            0\n",
       "maxamnt_loans90         0\n",
       "medianamnt_loans90      0\n",
       "payback30               0\n",
       "payback90               0\n",
       "pcircle                 0\n",
       "pdate                   0\n",
       "dtype: int64"
      ]
     },
     "execution_count": 8,
     "metadata": {},
     "output_type": "execute_result"
    }
   ],
   "source": [
    "mobileUserData.isnull().sum()"
   ]
  },
  {
   "cell_type": "markdown",
   "metadata": {},
   "source": [
    "There are no missing values in the dataset"
   ]
  },
  {
   "cell_type": "code",
   "execution_count": 9,
   "metadata": {},
   "outputs": [
    {
     "name": "stdout",
     "output_type": "stream",
     "text": [
      "<class 'pandas.core.frame.DataFrame'>\n",
      "RangeIndex: 209593 entries, 0 to 209592\n",
      "Data columns (total 37 columns):\n",
      " #   Column                Non-Null Count   Dtype  \n",
      "---  ------                --------------   -----  \n",
      " 0   slno                  209593 non-null  int64  \n",
      " 1   label                 209593 non-null  int64  \n",
      " 2   msisdn                209593 non-null  object \n",
      " 3   aon                   209593 non-null  float64\n",
      " 4   daily_decr30          209593 non-null  float64\n",
      " 5   daily_decr90          209593 non-null  float64\n",
      " 6   rental30              209593 non-null  float64\n",
      " 7   rental90              209593 non-null  float64\n",
      " 8   last_rech_date_ma     209593 non-null  float64\n",
      " 9   last_rech_date_da     209593 non-null  float64\n",
      " 10  last_rech_amt_ma      209593 non-null  int64  \n",
      " 11  cnt_ma_rech30         209593 non-null  int64  \n",
      " 12  fr_ma_rech30          209593 non-null  float64\n",
      " 13  sumamnt_ma_rech30     209593 non-null  float64\n",
      " 14  medianamnt_ma_rech30  209593 non-null  float64\n",
      " 15  medianmarechprebal30  209593 non-null  float64\n",
      " 16  cnt_ma_rech90         209593 non-null  int64  \n",
      " 17  fr_ma_rech90          209593 non-null  int64  \n",
      " 18  sumamnt_ma_rech90     209593 non-null  int64  \n",
      " 19  medianamnt_ma_rech90  209593 non-null  float64\n",
      " 20  medianmarechprebal90  209593 non-null  float64\n",
      " 21  cnt_da_rech30         209593 non-null  float64\n",
      " 22  fr_da_rech30          209593 non-null  float64\n",
      " 23  cnt_da_rech90         209593 non-null  int64  \n",
      " 24  fr_da_rech90          209593 non-null  int64  \n",
      " 25  cnt_loans30           209593 non-null  int64  \n",
      " 26  amnt_loans30          209593 non-null  int64  \n",
      " 27  maxamnt_loans30       209593 non-null  float64\n",
      " 28  medianamnt_loans30    209593 non-null  float64\n",
      " 29  cnt_loans90           209593 non-null  float64\n",
      " 30  amnt_loans90          209593 non-null  int64  \n",
      " 31  maxamnt_loans90       209593 non-null  int64  \n",
      " 32  medianamnt_loans90    209593 non-null  float64\n",
      " 33  payback30             209593 non-null  float64\n",
      " 34  payback90             209593 non-null  float64\n",
      " 35  pcircle               209593 non-null  object \n",
      " 36  pdate                 209593 non-null  object \n",
      "dtypes: float64(21), int64(13), object(3)\n",
      "memory usage: 59.2+ MB\n"
     ]
    }
   ],
   "source": [
    "mobileUserData.info()"
   ]
  },
  {
   "cell_type": "markdown",
   "metadata": {},
   "source": [
    "#### Observations from .info() results are summarised in the table below:\n",
    "<br>\n",
    "\n",
    "<table>\n",
    "  <thead>\n",
    "    <tr>\n",
    "      <th style=\"text-align:center\">Column Name</th>\n",
    "      <th style=\"text-align:center\">DataType</th>\n",
    "      <th style=\"text-align:center\">Comment</th>\n",
    "    </tr>\n",
    "   </thead>\n",
    "   <tbody>\n",
    "     <tr>\n",
    "       <td style=\"text-align:center\">msisdn</td>\n",
    "       <td style=\"text-align:center\">object</td>\n",
    "       <td style=\"text-align:center\">Should be int64. Needs further attention</td>\n",
    "     </tr>\n",
    "     <tr>\n",
    "       <td style=\"text-align:center\">pcircle</td>\n",
    "       <td style=\"text-align:center\">object</td>\n",
    "       <td style=\"text-align:center\">since it represents telecom circle and contains only 'UPW' for all the rows, a more approprite datatype would be string</td>\n",
    "     </tr>\n",
    "     <tr>\n",
    "       <td style=\"text-align:center\">pdate</td>\n",
    "       <td style=\"text-align:center\">object</td>\n",
    "       <td style=\"text-align:center\">the rows in this column contains dates, a more appropriate datatype will be DataTime</td>\n",
    "     </tr>\n",
    "       <tr>\n",
    "       <td style=\"text-align:center\">aon, last_rech_date_ma, last_rech_date_da</td>\n",
    "       <td style=\"text-align:center\">float64</td>\n",
    "       <td style=\"text-align:center\">Since it represents values in days, it should have been int64 unless the days with decimal values represent partial days. Have negative values as well. Need further attention for these columns.</td>\n",
    "     </tr>\n",
    "     <tr>\n",
    "       <td style=\"text-align:center\">fr_ma_rech30</td>\n",
    "       <td style=\"text-align:center\">float64</td>\n",
    "       <td style=\"text-align:center\">This column represents frequency and hence should not have float value. Need further attention.</td>\n",
    "     </tr>\n",
    "     <tr>\n",
    "       <td style=\"text-align:center\">fr_da_rech30</td>\n",
    "       <td style=\"text-align:center\">float64</td>\n",
    "       <td style=\"text-align:center\">This column represents frequency and hence should not have float value. Need further attention.</td>\n",
    "     </tr>\n",
    "     <tr>\n",
    "       <td style=\"text-align:center\">maxamnt_loans30</td>\n",
    "       <td style=\"text-align:center\">float64</td>\n",
    "       <td style=\"text-align:center\">Since only two loan amounts are there: Rs. 5 & 10. Should have been int64. Need further attention.</td>\n",
    "     </tr>\n",
    "     <tr>\n",
    "       <td style=\"text-align:center\">cnt_loans90</td>\n",
    "       <td style=\"text-align:center\">float64</td>\n",
    "       <td style=\"text-align:center\">Since it represents number of loans taken in last 90 days, should have been int64. Need further attention.</td>\n",
    "     </tr>\n",
    "  </tbody>\n",
    "</table>\n",
    "<p>\n",
    "    Having identified these problems with the datatypes, let is deal with it. First, inspecting the data, we see that that msisdn has the letter 'I' in between after 5 digits from the right for all the rows. Further, the data sample file provided seperately doesn't have the letter 'I'. Therefore, it is safe to assume that this is a mistake that happened in the dataset and 'I' should not be a part of the mobile numbers. This is the cause for it being the wrong datatype for this column as well and removing \"T\" for the numbers should solve our problem.\n",
    "</p> \n",
    "<p>\n",
    "    After this, we will drop the column 'pcircle' column since it only represents which telecome cirlce the customer belongs to and is same for all the rows.\n",
    "</p>\n",
    "<p>\n",
    "    Unless this is a time-series analysis, the column pdate does not contribute much to the analysis. However, it can be used to feature-engineer an additional column to represent the day of the week corresponding to the date in the pdate column. This will also ensure that there is no information loss once the column pdate is dropped and that the data from this column remains useful in the analysis even after its dropped\n",
    "</p>\n",
    "<p>\n",
    "    For the remaining tables in the row, we will first handle the outliers to see if they are the reason behind the incorrect datatypes. For example, for column 'aon', it might be having float64 datatype because one outlier is in decimals causing the entire column to have float64 datatype.\n",
    "</p>"
   ]
  },
  {
   "cell_type": "code",
   "execution_count": 10,
   "metadata": {},
   "outputs": [],
   "source": [
    "#Removing pcircle, pdate, slno column\n",
    "mobileUserData.drop(['pcircle', 'slno', 'pdate', 'msisdn'], axis = 1, inplace=True)"
   ]
  },
  {
   "cell_type": "code",
   "execution_count": 11,
   "metadata": {},
   "outputs": [],
   "source": [
    "# numericColList = list(mobileUserData.columns)\n",
    "# numericColList"
   ]
  },
  {
   "cell_type": "code",
   "execution_count": 12,
   "metadata": {},
   "outputs": [
    {
     "data": {
      "image/png": "[encoded data removed]",
      "text/plain": [
       "<Figure size 1440x1440 with 1 Axes>"
      ]
     },
     "metadata": {
      "needs_background": "light"
     },
     "output_type": "display_data"
    }
   ],
   "source": [
    "mobileUserData.iloc[:,0:10].boxplot(figsize=[20,20])\n",
    "plt.subplots_adjust(bottom=0.25)\n",
    "plt.show()"
   ]
  },
  {
   "cell_type": "code",
   "execution_count": 13,
   "metadata": {},
   "outputs": [
    {
     "data": {
      "image/png": "[encoded data removed]",
      "text/plain": [
       "<Figure size 1440x1440 with 1 Axes>"
      ]
     },
     "metadata": {
      "needs_background": "light"
     },
     "output_type": "display_data"
    }
   ],
   "source": [
    "mobileUserData.iloc[:,11:20].boxplot(figsize=[20,20])\n",
    "plt.subplots_adjust(bottom=0.25)\n",
    "plt.show()"
   ]
  },
  {
   "cell_type": "code",
   "execution_count": 14,
   "metadata": {},
   "outputs": [
    {
     "data": {
      "image/png": "[encoded data removed]",
      "text/plain": [
       "<Figure size 1440x1440 with 1 Axes>"
      ]
     },
     "metadata": {
      "needs_background": "light"
     },
     "output_type": "display_data"
    }
   ],
   "source": [
    "mobileUserData.iloc[:,21:].boxplot(figsize=[20,20])\n",
    "plt.subplots_adjust(bottom=0.25)\n",
    "plt.show()"
   ]
  },
  {
   "cell_type": "markdown",
   "metadata": {},
   "source": [
    "From the boxplots above we can see that there is a presence of very large outliers in the columns 'aon', 'daily_decr30', 'daily_decr90', 'rental30', 'rental90', 'last_rech_date_ma', 'last_rech_date_da', 'last_rech_amt_ma', 'sumamnt_ma_rech30', 'medianamnt_ma_rech30', 'medianmarechprebal30', 'sumamnt_ma_rech90', 'medianamnt_ma_rech90', 'cnt_da_rech30', 'maxamnt_loans30', and 'cnt_loans90'"
   ]
  },
  {
   "cell_type": "code",
   "execution_count": 15,
   "metadata": {},
   "outputs": [],
   "source": [
    "outlierCols = ['aon', 'daily_decr30', 'daily_decr90', 'rental30', 'rental90', 'last_rech_date_ma', 'last_rech_date_da', 'last_rech_amt_ma', 'sumamnt_ma_rech30', 'medianamnt_ma_rech30', 'medianmarechprebal30', 'fr_da_rech30','fr_ma_rech30', 'sumamnt_ma_rech90', 'medianamnt_ma_rech90', 'cnt_da_rech30', 'maxamnt_loans30', 'cnt_loans90']"
   ]
  },
  {
   "cell_type": "code",
   "execution_count": 16,
   "metadata": {},
   "outputs": [
    {
     "data": {
      "text/plain": [
       "aon                     10.392949\n",
       "daily_decr30            3.946230 \n",
       "daily_decr90            4.252565 \n",
       "rental30                4.521929 \n",
       "rental90                4.437681 \n",
       "last_rech_date_ma       14.790974\n",
       "last_rech_date_da       14.814857\n",
       "last_rech_amt_ma        3.781149 \n",
       "sumamnt_ma_rech30       6.386787 \n",
       "medianamnt_ma_rech30    3.512324 \n",
       "medianmarechprebal30    14.779875\n",
       "fr_da_rech30            14.776430\n",
       "fr_ma_rech30            14.772833\n",
       "sumamnt_ma_rech90       4.897950 \n",
       "medianamnt_ma_rech90    3.752706 \n",
       "cnt_da_rech30           17.818364\n",
       "maxamnt_loans30         17.658052\n",
       "cnt_loans90             16.594408\n",
       "dtype: float64"
      ]
     },
     "execution_count": 16,
     "metadata": {},
     "output_type": "execute_result"
    }
   ],
   "source": [
    "mobileUserData[outlierCols].skew()"
   ]
  },
  {
   "cell_type": "markdown",
   "metadata": {},
   "source": [
    "From the above output, we see that all the columns with outliers are also either left or right skewed. Therefore, we will use IQR-method to handle them."
   ]
  },
  {
   "cell_type": "code",
   "execution_count": 17,
   "metadata": {},
   "outputs": [],
   "source": [
    "def outlierRemoverS(data, col):\n",
    "    '''Note: This function is for skewed data only'''\n",
    "    IQR = data[col].quantile(0.75) - data[col].quantile(0.25)\n",
    "    lowerBridge = data[col].quantile(0.25) - (1.5*IQR)\n",
    "    upperBridge = data[col].quantile(0.75) + (1.5*IQR)\n",
    "    if lowerBridge >=0:\n",
    "            data.loc[data[col]>=upperBridge, col] = upperBridge\n",
    "            data.loc[data[col]<=lowerBridge, col] = lowerBridge\n",
    "    elif lowerBridge < 0:\n",
    "            data.loc[data[col]>=upperBridge, col] = upperBridge\n",
    "            data.loc[data[col]<=0, col] = data[col].quantile(0.5)"
   ]
  },
  {
   "cell_type": "code",
   "execution_count": 18,
   "metadata": {},
   "outputs": [],
   "source": [
    "for index in range(0,16):\n",
    "    outlierRemoverS(mobileUserData, outlierCols[index])"
   ]
  },
  {
   "cell_type": "code",
   "execution_count": 19,
   "metadata": {},
   "outputs": [
    {
     "data": {
      "image/png": "[encoded data removed]",
      "text/plain": [
       "<Figure size 1440x1440 with 1 Axes>"
      ]
     },
     "metadata": {
      "needs_background": "light"
     },
     "output_type": "display_data"
    }
   ],
   "source": [
    "mobileUserData.iloc[:,0:10].boxplot(figsize=[20,20])\n",
    "plt.subplots_adjust(bottom=0.25)\n",
    "plt.show()"
   ]
  },
  {
   "cell_type": "code",
   "execution_count": 20,
   "metadata": {},
   "outputs": [
    {
     "data": {
      "image/png": "[encoded data removed]",
      "text/plain": [
       "<Figure size 1440x1440 with 1 Axes>"
      ]
     },
     "metadata": {
      "needs_background": "light"
     },
     "output_type": "display_data"
    }
   ],
   "source": [
    "mobileUserData.iloc[:,11:20].boxplot(figsize=[20,20])\n",
    "plt.subplots_adjust(bottom=0.25)\n",
    "plt.show()"
   ]
  },
  {
   "cell_type": "code",
   "execution_count": 21,
   "metadata": {},
   "outputs": [
    {
     "data": {
      "image/png": "[encoded data removed]",
      "text/plain": [
       "<Figure size 1440x1440 with 1 Axes>"
      ]
     },
     "metadata": {
      "needs_background": "light"
     },
     "output_type": "display_data"
    }
   ],
   "source": [
    "mobileUserData.iloc[:,21:].boxplot(figsize=[20,20])\n",
    "plt.subplots_adjust(bottom=0.25)\n",
    "plt.show()"
   ]
  },
  {
   "cell_type": "code",
   "execution_count": 22,
   "metadata": {},
   "outputs": [
    {
     "data": {
      "text/html": [
       "<div>\n",
       "<style scoped>\n",
       "    .dataframe tbody tr th:only-of-type {\n",
       "        vertical-align: middle;\n",
       "    }\n",
       "\n",
       "    .dataframe tbody tr th {\n",
       "        vertical-align: top;\n",
       "    }\n",
       "\n",
       "    .dataframe thead th {\n",
       "        text-align: right;\n",
       "    }\n",
       "</style>\n",
       "<table border=\"1\" class=\"dataframe\">\n",
       "  <thead>\n",
       "    <tr style=\"text-align: right;\">\n",
       "      <th></th>\n",
       "      <th>label</th>\n",
       "      <th>aon</th>\n",
       "      <th>daily_decr30</th>\n",
       "      <th>daily_decr90</th>\n",
       "      <th>rental30</th>\n",
       "      <th>rental90</th>\n",
       "      <th>last_rech_date_ma</th>\n",
       "      <th>last_rech_date_da</th>\n",
       "      <th>last_rech_amt_ma</th>\n",
       "      <th>cnt_ma_rech30</th>\n",
       "      <th>fr_ma_rech30</th>\n",
       "      <th>sumamnt_ma_rech30</th>\n",
       "      <th>medianamnt_ma_rech30</th>\n",
       "      <th>medianmarechprebal30</th>\n",
       "      <th>cnt_ma_rech90</th>\n",
       "      <th>fr_ma_rech90</th>\n",
       "      <th>sumamnt_ma_rech90</th>\n",
       "      <th>medianamnt_ma_rech90</th>\n",
       "      <th>medianmarechprebal90</th>\n",
       "      <th>cnt_da_rech30</th>\n",
       "      <th>fr_da_rech30</th>\n",
       "      <th>cnt_da_rech90</th>\n",
       "      <th>fr_da_rech90</th>\n",
       "      <th>cnt_loans30</th>\n",
       "      <th>amnt_loans30</th>\n",
       "      <th>maxamnt_loans30</th>\n",
       "      <th>medianamnt_loans30</th>\n",
       "      <th>cnt_loans90</th>\n",
       "      <th>amnt_loans90</th>\n",
       "      <th>maxamnt_loans90</th>\n",
       "      <th>medianamnt_loans90</th>\n",
       "      <th>payback30</th>\n",
       "      <th>payback90</th>\n",
       "    </tr>\n",
       "  </thead>\n",
       "  <tbody>\n",
       "    <tr>\n",
       "      <th>count</th>\n",
       "      <td>209593.000000</td>\n",
       "      <td>209593.000000</td>\n",
       "      <td>209593.000000</td>\n",
       "      <td>209593.000000</td>\n",
       "      <td>209593.000000</td>\n",
       "      <td>209593.000000</td>\n",
       "      <td>209593.000000</td>\n",
       "      <td>209593.0</td>\n",
       "      <td>209593.000000</td>\n",
       "      <td>209593.000000</td>\n",
       "      <td>209593.000000</td>\n",
       "      <td>209593.000000</td>\n",
       "      <td>209593.000000</td>\n",
       "      <td>209593.000000</td>\n",
       "      <td>209593.00000</td>\n",
       "      <td>209593.000000</td>\n",
       "      <td>209593.000000</td>\n",
       "      <td>209593.000000</td>\n",
       "      <td>209593.000000</td>\n",
       "      <td>209593.0</td>\n",
       "      <td>209593.0</td>\n",
       "      <td>209593.000000</td>\n",
       "      <td>209593.000000</td>\n",
       "      <td>209593.000000</td>\n",
       "      <td>209593.000000</td>\n",
       "      <td>209593.000000</td>\n",
       "      <td>209593.000000</td>\n",
       "      <td>209593.000000</td>\n",
       "      <td>209593.000000</td>\n",
       "      <td>209593.000000</td>\n",
       "      <td>209593.000000</td>\n",
       "      <td>209593.000000</td>\n",
       "      <td>209593.000000</td>\n",
       "    </tr>\n",
       "    <tr>\n",
       "      <th>mean</th>\n",
       "      <td>0.875177</td>\n",
       "      <td>672.508118</td>\n",
       "      <td>4510.058643</td>\n",
       "      <td>4897.515261</td>\n",
       "      <td>2276.437071</td>\n",
       "      <td>2863.764438</td>\n",
       "      <td>5.201739</td>\n",
       "      <td>0.0</td>\n",
       "      <td>1873.271269</td>\n",
       "      <td>3.978057</td>\n",
       "      <td>4.422858</td>\n",
       "      <td>7478.873102</td>\n",
       "      <td>1681.386177</td>\n",
       "      <td>64.165178</td>\n",
       "      <td>6.31543</td>\n",
       "      <td>7.716780</td>\n",
       "      <td>11600.999714</td>\n",
       "      <td>1670.893904</td>\n",
       "      <td>92.025541</td>\n",
       "      <td>0.0</td>\n",
       "      <td>0.0</td>\n",
       "      <td>0.041495</td>\n",
       "      <td>0.045712</td>\n",
       "      <td>2.758981</td>\n",
       "      <td>17.952021</td>\n",
       "      <td>274.658747</td>\n",
       "      <td>0.054029</td>\n",
       "      <td>18.520919</td>\n",
       "      <td>23.645398</td>\n",
       "      <td>6.703134</td>\n",
       "      <td>0.046077</td>\n",
       "      <td>3.398826</td>\n",
       "      <td>4.321485</td>\n",
       "    </tr>\n",
       "    <tr>\n",
       "      <th>std</th>\n",
       "      <td>0.330519</td>\n",
       "      <td>510.744848</td>\n",
       "      <td>5832.455687</td>\n",
       "      <td>6411.079179</td>\n",
       "      <td>2494.082457</td>\n",
       "      <td>3182.520326</td>\n",
       "      <td>4.757758</td>\n",
       "      <td>0.0</td>\n",
       "      <td>1222.598958</td>\n",
       "      <td>4.256090</td>\n",
       "      <td>4.081796</td>\n",
       "      <td>6142.396173</td>\n",
       "      <td>912.475438</td>\n",
       "      <td>59.565287</td>\n",
       "      <td>7.19347</td>\n",
       "      <td>12.590251</td>\n",
       "      <td>10265.733679</td>\n",
       "      <td>928.220254</td>\n",
       "      <td>369.215658</td>\n",
       "      <td>0.0</td>\n",
       "      <td>0.0</td>\n",
       "      <td>0.397556</td>\n",
       "      <td>0.951386</td>\n",
       "      <td>2.554502</td>\n",
       "      <td>17.379741</td>\n",
       "      <td>4245.264648</td>\n",
       "      <td>0.218039</td>\n",
       "      <td>224.797423</td>\n",
       "      <td>26.469861</td>\n",
       "      <td>2.103864</td>\n",
       "      <td>0.200692</td>\n",
       "      <td>8.813729</td>\n",
       "      <td>10.308108</td>\n",
       "    </tr>\n",
       "    <tr>\n",
       "      <th>min</th>\n",
       "      <td>0.000000</td>\n",
       "      <td>1.000000</td>\n",
       "      <td>0.000667</td>\n",
       "      <td>0.000667</td>\n",
       "      <td>0.040000</td>\n",
       "      <td>0.040000</td>\n",
       "      <td>1.000000</td>\n",
       "      <td>0.0</td>\n",
       "      <td>173.000000</td>\n",
       "      <td>0.000000</td>\n",
       "      <td>1.000000</td>\n",
       "      <td>173.000000</td>\n",
       "      <td>173.000000</td>\n",
       "      <td>0.010000</td>\n",
       "      <td>0.00000</td>\n",
       "      <td>0.000000</td>\n",
       "      <td>173.000000</td>\n",
       "      <td>173.000000</td>\n",
       "      <td>-200.000000</td>\n",
       "      <td>0.0</td>\n",
       "      <td>0.0</td>\n",
       "      <td>0.000000</td>\n",
       "      <td>0.000000</td>\n",
       "      <td>0.000000</td>\n",
       "      <td>0.000000</td>\n",
       "      <td>0.000000</td>\n",
       "      <td>0.000000</td>\n",
       "      <td>0.000000</td>\n",
       "      <td>0.000000</td>\n",
       "      <td>0.000000</td>\n",
       "      <td>0.000000</td>\n",
       "      <td>0.000000</td>\n",
       "      <td>0.000000</td>\n",
       "    </tr>\n",
       "    <tr>\n",
       "      <th>25%</th>\n",
       "      <td>1.000000</td>\n",
       "      <td>252.000000</td>\n",
       "      <td>53.500000</td>\n",
       "      <td>53.592000</td>\n",
       "      <td>415.740000</td>\n",
       "      <td>476.520000</td>\n",
       "      <td>2.000000</td>\n",
       "      <td>0.0</td>\n",
       "      <td>773.000000</td>\n",
       "      <td>1.000000</td>\n",
       "      <td>2.000000</td>\n",
       "      <td>3086.000000</td>\n",
       "      <td>773.000000</td>\n",
       "      <td>24.000000</td>\n",
       "      <td>2.00000</td>\n",
       "      <td>0.000000</td>\n",
       "      <td>4029.000000</td>\n",
       "      <td>773.000000</td>\n",
       "      <td>14.600000</td>\n",
       "      <td>0.0</td>\n",
       "      <td>0.0</td>\n",
       "      <td>0.000000</td>\n",
       "      <td>0.000000</td>\n",
       "      <td>1.000000</td>\n",
       "      <td>6.000000</td>\n",
       "      <td>6.000000</td>\n",
       "      <td>0.000000</td>\n",
       "      <td>1.000000</td>\n",
       "      <td>6.000000</td>\n",
       "      <td>6.000000</td>\n",
       "      <td>0.000000</td>\n",
       "      <td>0.000000</td>\n",
       "      <td>0.000000</td>\n",
       "    </tr>\n",
       "    <tr>\n",
       "      <th>50%</th>\n",
       "      <td>1.000000</td>\n",
       "      <td>527.000000</td>\n",
       "      <td>1469.175667</td>\n",
       "      <td>1500.000000</td>\n",
       "      <td>1083.570000</td>\n",
       "      <td>1334.000000</td>\n",
       "      <td>3.000000</td>\n",
       "      <td>0.0</td>\n",
       "      <td>1539.000000</td>\n",
       "      <td>3.000000</td>\n",
       "      <td>2.000000</td>\n",
       "      <td>4628.000000</td>\n",
       "      <td>1539.000000</td>\n",
       "      <td>33.900000</td>\n",
       "      <td>4.00000</td>\n",
       "      <td>2.000000</td>\n",
       "      <td>7226.000000</td>\n",
       "      <td>1539.000000</td>\n",
       "      <td>36.000000</td>\n",
       "      <td>0.0</td>\n",
       "      <td>0.0</td>\n",
       "      <td>0.000000</td>\n",
       "      <td>0.000000</td>\n",
       "      <td>2.000000</td>\n",
       "      <td>12.000000</td>\n",
       "      <td>6.000000</td>\n",
       "      <td>0.000000</td>\n",
       "      <td>2.000000</td>\n",
       "      <td>12.000000</td>\n",
       "      <td>6.000000</td>\n",
       "      <td>0.000000</td>\n",
       "      <td>0.000000</td>\n",
       "      <td>1.666667</td>\n",
       "    </tr>\n",
       "    <tr>\n",
       "      <th>75%</th>\n",
       "      <td>1.000000</td>\n",
       "      <td>982.000000</td>\n",
       "      <td>7244.000000</td>\n",
       "      <td>7802.790000</td>\n",
       "      <td>3356.940000</td>\n",
       "      <td>4201.790000</td>\n",
       "      <td>7.000000</td>\n",
       "      <td>0.0</td>\n",
       "      <td>2309.000000</td>\n",
       "      <td>5.000000</td>\n",
       "      <td>6.000000</td>\n",
       "      <td>10010.000000</td>\n",
       "      <td>1924.000000</td>\n",
       "      <td>83.000000</td>\n",
       "      <td>8.00000</td>\n",
       "      <td>8.000000</td>\n",
       "      <td>16000.000000</td>\n",
       "      <td>1924.000000</td>\n",
       "      <td>79.310000</td>\n",
       "      <td>0.0</td>\n",
       "      <td>0.0</td>\n",
       "      <td>0.000000</td>\n",
       "      <td>0.000000</td>\n",
       "      <td>4.000000</td>\n",
       "      <td>24.000000</td>\n",
       "      <td>6.000000</td>\n",
       "      <td>0.000000</td>\n",
       "      <td>5.000000</td>\n",
       "      <td>30.000000</td>\n",
       "      <td>6.000000</td>\n",
       "      <td>0.000000</td>\n",
       "      <td>3.750000</td>\n",
       "      <td>4.500000</td>\n",
       "    </tr>\n",
       "    <tr>\n",
       "      <th>max</th>\n",
       "      <td>1.000000</td>\n",
       "      <td>2086.000000</td>\n",
       "      <td>18046.340000</td>\n",
       "      <td>19442.937000</td>\n",
       "      <td>7971.720000</td>\n",
       "      <td>10054.085000</td>\n",
       "      <td>16.000000</td>\n",
       "      <td>0.0</td>\n",
       "      <td>4617.500000</td>\n",
       "      <td>203.000000</td>\n",
       "      <td>15.000000</td>\n",
       "      <td>22715.000000</td>\n",
       "      <td>3655.000000</td>\n",
       "      <td>191.000000</td>\n",
       "      <td>336.00000</td>\n",
       "      <td>88.000000</td>\n",
       "      <td>36524.500000</td>\n",
       "      <td>3650.500000</td>\n",
       "      <td>41456.500000</td>\n",
       "      <td>0.0</td>\n",
       "      <td>0.0</td>\n",
       "      <td>38.000000</td>\n",
       "      <td>64.000000</td>\n",
       "      <td>50.000000</td>\n",
       "      <td>306.000000</td>\n",
       "      <td>99864.560860</td>\n",
       "      <td>3.000000</td>\n",
       "      <td>4997.517944</td>\n",
       "      <td>438.000000</td>\n",
       "      <td>12.000000</td>\n",
       "      <td>3.000000</td>\n",
       "      <td>171.500000</td>\n",
       "      <td>171.500000</td>\n",
       "    </tr>\n",
       "  </tbody>\n",
       "</table>\n",
       "</div>"
      ],
      "text/plain": [
       "               label            aon   daily_decr30   daily_decr90       rental30       rental90  last_rech_date_ma  last_rech_date_da  last_rech_amt_ma  cnt_ma_rech30   fr_ma_rech30  sumamnt_ma_rech30  medianamnt_ma_rech30  medianmarechprebal30  cnt_ma_rech90   fr_ma_rech90  sumamnt_ma_rech90  medianamnt_ma_rech90  medianmarechprebal90  cnt_da_rech30  fr_da_rech30  cnt_da_rech90   fr_da_rech90    cnt_loans30   amnt_loans30  maxamnt_loans30  medianamnt_loans30    cnt_loans90   amnt_loans90  maxamnt_loans90  medianamnt_loans90      payback30      payback90\n",
       "count  209593.000000  209593.000000  209593.000000  209593.000000  209593.000000  209593.000000  209593.000000      209593.0           209593.000000     209593.000000  209593.000000  209593.000000      209593.000000         209593.000000         209593.00000   209593.000000  209593.000000      209593.000000         209593.000000         209593.0       209593.0      209593.000000  209593.000000  209593.000000  209593.000000  209593.000000    209593.000000       209593.000000  209593.000000  209593.000000    209593.000000       209593.000000  209593.000000\n",
       "mean   0.875177       672.508118     4510.058643    4897.515261    2276.437071    2863.764438    5.201739           0.0                1873.271269       3.978057       4.422858       7478.873102        1681.386177           64.165178             6.31543        7.716780       11600.999714       1670.893904           92.025541             0.0            0.0           0.041495       0.045712       2.758981       17.952021      274.658747       0.054029            18.520919      23.645398      6.703134         0.046077            3.398826       4.321485     \n",
       "std    0.330519       510.744848     5832.455687    6411.079179    2494.082457    3182.520326    4.757758           0.0                1222.598958       4.256090       4.081796       6142.396173        912.475438            59.565287             7.19347        12.590251      10265.733679       928.220254            369.215658            0.0            0.0           0.397556       0.951386       2.554502       17.379741      4245.264648      0.218039            224.797423     26.469861      2.103864         0.200692            8.813729       10.308108    \n",
       "min    0.000000       1.000000       0.000667       0.000667       0.040000       0.040000       1.000000           0.0                173.000000        0.000000       1.000000       173.000000         173.000000            0.010000              0.00000        0.000000       173.000000         173.000000           -200.000000            0.0            0.0           0.000000       0.000000       0.000000       0.000000       0.000000         0.000000            0.000000       0.000000       0.000000         0.000000            0.000000       0.000000     \n",
       "25%    1.000000       252.000000     53.500000      53.592000      415.740000     476.520000     2.000000           0.0                773.000000        1.000000       2.000000       3086.000000        773.000000            24.000000             2.00000        0.000000       4029.000000        773.000000            14.600000             0.0            0.0           0.000000       0.000000       1.000000       6.000000       6.000000         0.000000            1.000000       6.000000       6.000000         0.000000            0.000000       0.000000     \n",
       "50%    1.000000       527.000000     1469.175667    1500.000000    1083.570000    1334.000000    3.000000           0.0                1539.000000       3.000000       2.000000       4628.000000        1539.000000           33.900000             4.00000        2.000000       7226.000000        1539.000000           36.000000             0.0            0.0           0.000000       0.000000       2.000000       12.000000      6.000000         0.000000            2.000000       12.000000      6.000000         0.000000            0.000000       1.666667     \n",
       "75%    1.000000       982.000000     7244.000000    7802.790000    3356.940000    4201.790000    7.000000           0.0                2309.000000       5.000000       6.000000       10010.000000       1924.000000           83.000000             8.00000        8.000000       16000.000000       1924.000000           79.310000             0.0            0.0           0.000000       0.000000       4.000000       24.000000      6.000000         0.000000            5.000000       30.000000      6.000000         0.000000            3.750000       4.500000     \n",
       "max    1.000000       2086.000000    18046.340000   19442.937000   7971.720000    10054.085000   16.000000          0.0                4617.500000       203.000000     15.000000      22715.000000       3655.000000           191.000000            336.00000      88.000000      36524.500000       3650.500000           41456.500000          0.0            0.0           38.000000      64.000000      50.000000      306.000000     99864.560860     3.000000            4997.517944    438.000000     12.000000        3.000000            171.500000     171.500000   "
      ]
     },
     "execution_count": 22,
     "metadata": {},
     "output_type": "execute_result"
    }
   ],
   "source": [
    "mobileUserData.describe()"
   ]
  },
  {
   "cell_type": "code",
   "execution_count": 25,
   "metadata": {
    "scrolled": true
   },
   "outputs": [],
   "source": [
    "x = mobileUserData.drop('label', axis=1)\n",
    "y = mobileUserData.label"
   ]
  },
  {
   "cell_type": "code",
   "execution_count": 24,
   "metadata": {},
   "outputs": [
    {
     "name": "stdout",
     "output_type": "stream",
     "text": [
      "Best accuracy is 91.31651770094469% on Random state 99\n"
     ]
    }
   ],
   "source": [
    "#Finding the best random state\n",
    "maxAcc = 0\n",
    "maxRs = 0\n",
    "\n",
    "for randState in range(0,100):\n",
    "    x_train, x_test, y_train, y_test = train_test_split(x, y, test_size=0.30, random_state=randState)\n",
    "    rfc = RandomForestClassifier()\n",
    "    rfc.fit(x_train, y_train)\n",
    "    predrfc = rfc.predict(x_test)\n",
    "    acc = accuracy_score(y_test, predrfc)\n",
    "    if acc>maxAcc:\n",
    "        maxAcc=acc\n",
    "        maxRs=randState\n",
    "print(f\"Best accuracy is {maxAcc*100}% on Random state {randState}\")"
   ]
  },
  {
   "cell_type": "code",
   "execution_count": 26,
   "metadata": {},
   "outputs": [],
   "source": [
    "x_train, x_test, y_train, y_test = train_test_split(x,y, test_size=0.3, random_state=99)"
   ]
  },
  {
   "cell_type": "code",
   "execution_count": 27,
   "metadata": {},
   "outputs": [],
   "source": [
    "#Target variable Data balancing\n",
    "from imblearn.over_sampling import RandomOverSampler"
   ]
  },
  {
   "cell_type": "code",
   "execution_count": 28,
   "metadata": {},
   "outputs": [
    {
     "name": "stdout",
     "output_type": "stream",
     "text": [
      "Initially: \n",
      "1    128386\n",
      "0    18329 \n",
      "Name: label, dtype: int64\n",
      "After OS:\n",
      "1    128386\n",
      "0    96289 \n",
      "Name: label, dtype: int64\n"
     ]
    }
   ],
   "source": [
    "os = RandomOverSampler(0.75,random_state = 99)\n",
    "x_trainOS, y_trainOS = os.fit_resample(x_train, y_train)\n",
    "print(f'Initially: \\n{y_train.value_counts()}\\nAfter OS:\\n{y_trainOS.value_counts()}')"
   ]
  },
  {
   "cell_type": "code",
   "execution_count": null,
   "metadata": {},
   "outputs": [],
   "source": []
  },
  {
   "cell_type": "code",
   "execution_count": 29,
   "metadata": {},
   "outputs": [
    {
     "name": "stdout",
     "output_type": "stream",
     "text": [
      "Accuracy score of RandomForestClassifier():\n",
      "\n",
      "0.9072648621139349\n",
      "[[ 3896  3937]\n",
      " [ 1894 53151]]\n",
      "              precision    recall  f1-score   support\n",
      "\n",
      "           0       0.67      0.50      0.57      7833\n",
      "           1       0.93      0.97      0.95     55045\n",
      "\n",
      "    accuracy                           0.91     62878\n",
      "   macro avg       0.80      0.73      0.76     62878\n",
      "weighted avg       0.90      0.91      0.90     62878\n",
      "\n",
      "0.9479992508895686\n",
      "\n",
      "\n",
      "Accuracy score of KNeighborsClassifier():\n",
      "\n",
      "0.7870956455357995\n",
      "[[ 5027  2806]\n",
      " [10581 44464]]\n",
      "              precision    recall  f1-score   support\n",
      "\n",
      "           0       0.32      0.64      0.43      7833\n",
      "           1       0.94      0.81      0.87     55045\n",
      "\n",
      "    accuracy                           0.79     62878\n",
      "   macro avg       0.63      0.72      0.65     62878\n",
      "weighted avg       0.86      0.79      0.81     62878\n",
      "\n",
      "0.8691589698480183\n",
      "\n",
      "\n",
      "Accuracy score of SVC():\n",
      "\n",
      "0.7192181685168103\n",
      "[[ 6314  1519]\n",
      " [16136 38909]]\n",
      "              precision    recall  f1-score   support\n",
      "\n",
      "           0       0.28      0.81      0.42      7833\n",
      "           1       0.96      0.71      0.82     55045\n",
      "\n",
      "    accuracy                           0.72     62878\n",
      "   macro avg       0.62      0.76      0.62     62878\n",
      "weighted avg       0.88      0.72      0.77     62878\n",
      "\n",
      "0.8150786086118588\n",
      "\n",
      "\n"
     ]
    }
   ],
   "source": [
    "rfc = RandomForestClassifier()\n",
    "svc = SVC()\n",
    "knn = KNeighborsClassifier()\n",
    "\n",
    "model = [rfc, knn, svc]\n",
    "\n",
    "for m in model:\n",
    "    m.fit(x_trainOS, y_trainOS)\n",
    "    m.score(x_trainOS, y_trainOS)\n",
    "    predm = m.predict(x_test)\n",
    "    print(f'Accuracy score of {m}:\\n')\n",
    "    print(accuracy_score(y_test, predm))\n",
    "    print(confusion_matrix(y_test, predm))\n",
    "    print(classification_report(y_test, predm))\n",
    "    print(f1_score(y_test, predm))\n",
    "    print('\\n')"
   ]
  },
  {
   "cell_type": "code",
   "execution_count": 33,
   "metadata": {},
   "outputs": [],
   "source": [
    "#Considering accuracy score only since we have balanced the dataset"
   ]
  },
  {
   "cell_type": "code",
   "execution_count": 30,
   "metadata": {},
   "outputs": [
    {
     "name": "stdout",
     "output_type": "stream",
     "text": [
      "Cross Validation score for RandomForestClassifier is 0.9786230304316603\n",
      "Difference between Accuracy and Cross Validation Score for RandomForestClassifier is 7.158082171000899\n"
     ]
    }
   ],
   "source": [
    "from sklearn.model_selection import cross_val_score\n",
    "\n",
    "srcRfc = cross_val_score(rfc, x_trainOS, y_trainOS, cv=5, scoring='f1')\n",
    "print(f'Cross Validation score for RandomForestClassifier is {srcRfc.mean()}')"
   ]
  },
  {
   "cell_type": "code",
   "execution_count": 32,
   "metadata": {},
   "outputs": [
    {
     "name": "stdout",
     "output_type": "stream",
     "text": [
      "Cross Validation score for SVC is 0.7611044111087069\n",
      "Difference between Accuracy and Cross Validation Score for SVC is 4.188624259189652\n"
     ]
    }
   ],
   "source": [
    "from sklearn.model_selection import cross_val_score\n",
    "\n",
    "srcSvc = cross_val_score(svc, x_trainOS, y_trainOS, cv=5, scoring='f1')\n",
    "print(f'Cross Validation score for SVC is {srcSvc.mean()}')"
   ]
  },
  {
   "cell_type": "code",
   "execution_count": 36,
   "metadata": {},
   "outputs": [
    {
     "name": "stdout",
     "output_type": "stream",
     "text": [
      "Cross Validation score for SVC is 0.8648763829539179\n"
     ]
    }
   ],
   "source": [
    "from sklearn.model_selection import cross_val_score\n",
    "\n",
    "srcKnn = cross_val_score(knn, x_trainOS, y_trainOS, cv=5, scoring='f1')\n",
    "print(f'Cross Validation score for KNN is {srcKnn.mean()}')"
   ]
  },
  {
   "cell_type": "code",
   "execution_count": 37,
   "metadata": {},
   "outputs": [
    {
     "name": "stdout",
     "output_type": "stream",
     "text": [
      "Difference between Accuracy and Cross Validation Score for RandomForestClassifier is 3.0623779542091825\n",
      "Difference between Accuracy and Cross Validation Score for KNN is -0.4282586894100433\n",
      "Difference between Accuracy and Cross Validation Score for SVC is -5.397419750315194\n"
     ]
    }
   ],
   "source": [
    "print(f'Difference between Accuracy and Cross Validation Score for RandomForestClassifier is {(srcRfc.mean()*100)-(0.9479992508895686*100)}')\n",
    "print(f'Difference between Accuracy and Cross Validation Score for KNN is {(srcKnn.mean()*100)-(0.8691589698480183*100)}')\n",
    "print(f'Difference between Accuracy and Cross Validation Score for SVC is {(srcSvc.mean()*100)-(0.8150786086118588*100)}')"
   ]
  },
  {
   "cell_type": "code",
   "execution_count": 34,
   "metadata": {},
   "outputs": [],
   "source": []
  },
  {
   "cell_type": "code",
   "execution_count": null,
   "metadata": {},
   "outputs": [],
   "source": []
  },
  {
   "cell_type": "code",
   "execution_count": null,
   "metadata": {},
   "outputs": [],
   "source": []
  },
  {
   "cell_type": "code",
   "execution_count": 29,
   "metadata": {},
   "outputs": [],
   "source": [
    "parameters = {'n_estimators': [10, 150, 200, 500, 1000], \n",
    "              'criterion': ['entropy'],\n",
    "             'max_features' : ['sqrt', 'log2']}"
   ]
  },
  {
   "cell_type": "code",
   "execution_count": 30,
   "metadata": {},
   "outputs": [],
   "source": [
    "#RandomizedsearchCV\n",
    "from sklearn.model_selection import RandomizedSearchCV"
   ]
  },
  {
   "cell_type": "code",
   "execution_count": 81,
   "metadata": {},
   "outputs": [],
   "source": [
    "rscv = RandomizedSearchCV(rfc, param_distributions = parameters, n_jobs = -1, cv = 5)"
   ]
  },
  {
   "cell_type": "code",
   "execution_count": 82,
   "metadata": {},
   "outputs": [
    {
     "data": {
      "text/plain": [
       "RandomizedSearchCV(cv=5, estimator=RandomForestClassifier(), n_jobs=-1,\n",
       "                   param_distributions={'criterion': ['entropy'],\n",
       "                                        'max_features': ['sqrt', 'log2'],\n",
       "                                        'n_estimators': [10, 150, 200, 500,\n",
       "                                                         1000]})"
      ]
     },
     "execution_count": 82,
     "metadata": {},
     "output_type": "execute_result"
    }
   ],
   "source": [
    "rscv.fit(x_trainOS, y_trainOS)"
   ]
  },
  {
   "cell_type": "code",
   "execution_count": 84,
   "metadata": {},
   "outputs": [
    {
     "data": {
      "text/plain": [
       "{'n_estimators': 1000, 'max_features': 'sqrt', 'criterion': 'entropy'}"
      ]
     },
     "execution_count": 84,
     "metadata": {},
     "output_type": "execute_result"
    }
   ],
   "source": [
    "rscv.best_params_"
   ]
  },
  {
   "cell_type": "code",
   "execution_count": 31,
   "metadata": {},
   "outputs": [
    {
     "data": {
      "text/plain": [
       "RandomForestClassifier(criterion='entropy', max_features='sqrt',\n",
       "                       n_estimators=1000)"
      ]
     },
     "execution_count": 31,
     "metadata": {},
     "output_type": "execute_result"
    }
   ],
   "source": [
    "rfc1 = RandomForestClassifier(n_estimators = 1000, max_features = 'sqrt', criterion = 'entropy')\n",
    "rfc1.fit(x_trainOS, y_trainOS)"
   ]
  },
  {
   "cell_type": "code",
   "execution_count": 35,
   "metadata": {},
   "outputs": [],
   "source": [
    "predRfc1 = rfc1.predict_proba(x_test)"
   ]
  },
  {
   "cell_type": "code",
   "execution_count": 36,
   "metadata": {},
   "outputs": [
    {
     "data": {
      "text/plain": [
       "array([[0.028, 0.972],\n",
       "       [0.   , 1.   ],\n",
       "       [0.018, 0.982],\n",
       "       ...,\n",
       "       [0.468, 0.532],\n",
       "       [0.003, 0.997],\n",
       "       [0.986, 0.014]])"
      ]
     },
     "execution_count": 36,
     "metadata": {},
     "output_type": "execute_result"
    }
   ],
   "source": [
    "predRfc1"
   ]
  },
  {
   "cell_type": "code",
   "execution_count": 38,
   "metadata": {},
   "outputs": [
    {
     "data": {
      "text/plain": [
       "0.9485519651900991"
      ]
     },
     "execution_count": 38,
     "metadata": {},
     "output_type": "execute_result"
    }
   ],
   "source": [
    "f1_score(y_test, rfc1.predict(x_test))"
   ]
  },
  {
   "cell_type": "code",
   "execution_count": null,
   "metadata": {},
   "outputs": [],
   "source": []
  },
  {
   "cell_type": "code",
   "execution_count": null,
   "metadata": {},
   "outputs": [],
   "source": []
  }
 ],
 "metadata": {
  "kernelspec": {
   "display_name": "Python 3",
   "language": "python",
   "name": "python3"
  },
  "language_info": {
   "codemirror_mode": {
    "name": "ipython",
    "version": 3
   },
   "file_extension": ".py",
   "mimetype": "text/x-python",
   "name": "python",
   "nbconvert_exporter": "python",
   "pygments_lexer": "ipython3",
   "version": "3.7.6"
  }
 },
 "nbformat": 4,
 "nbformat_minor": 4
}
