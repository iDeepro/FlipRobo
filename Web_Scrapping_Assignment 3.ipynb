{
 "cells": [
  {
   "cell_type": "markdown",
   "metadata": {},
   "source": [
    "# Web Scrapping Assignment 3"
   ]
  },
  {
   "cell_type": "markdown",
   "metadata": {},
   "source": [
    "## Content\n",
    "1. [Amazon Product Search Input](#1)\n",
    "2. [Amazon Product Search](#2)\n",
    "3. [Google Image Download](#3)\n",
    "4. [Flipkart Smartphones](#4)\n",
    "5. [Google Map City Coordinates](#5)\n",
    "6. [Funding Details in Trak](#6)\n",
    "7. [Top 10 Laptops from digits.in](#7)"
   ]
  },
  {
   "cell_type": "code",
   "execution_count": 1,
   "metadata": {},
   "outputs": [],
   "source": [
    "import pandas as pd\n",
    "import selenium\n",
    "import time\n",
    "import os.path\n",
    "\n",
    "from selenium import webdriver\n",
    "from selenium.common.exceptions import NoSuchElementException\n",
    "from selenium.webdriver.common.keys import Keys\n",
    "from selenium.webdriver.support.ui import Select\n",
    "from selenium.webdriver.support.ui import WebDriverWait\n",
    "import urllib\n",
    "\n",
    "#!pip install clipboard\n",
    "import clipboard\n",
    "\n",
    "import warnings\n",
    "warnings.filterwarnings('ignore')"
   ]
  },
  {
   "cell_type": "markdown",
   "metadata": {},
   "source": [
    "1. Amazon Product Search Input<a name = '1'></a>"
   ]
  },
  {
   "cell_type": "code",
   "execution_count": 355,
   "metadata": {},
   "outputs": [],
   "source": [
    "driver = webdriver.Chrome('./chromedriver')\n",
    "driver.get('https://www.amazon.in')"
   ]
  },
  {
   "cell_type": "code",
   "execution_count": 356,
   "metadata": {},
   "outputs": [
    {
     "name": "stdout",
     "output_type": "stream",
     "text": [
      "Enter Product: laptop\n"
     ]
    }
   ],
   "source": [
    "product = str(input('Enter Product: '))"
   ]
  },
  {
   "cell_type": "code",
   "execution_count": 357,
   "metadata": {},
   "outputs": [],
   "source": [
    "#filling the search bar\n",
    "driver.find_element_by_xpath('//*[@id=\"twotabsearchtextbox\"]').send_keys(product)"
   ]
  },
  {
   "cell_type": "code",
   "execution_count": 358,
   "metadata": {},
   "outputs": [],
   "source": [
    "#clicking the search button\n",
    "driver.find_element_by_xpath('//*[@id=\"nav-search-submit-button\"]').click()"
   ]
  },
  {
   "cell_type": "markdown",
   "metadata": {},
   "source": [
    "2. Amazon Product Search<a name = '2'></a>"
   ]
  },
  {
   "cell_type": "code",
   "execution_count": 366,
   "metadata": {},
   "outputs": [
    {
     "ename": "NoSuchElementException",
     "evalue": "Message: no such element: Unable to locate element: {\"method\":\"xpath\",\"selector\":\"//*[@id=\"search\"]/div[1]/div/div[1]/div/span[3]/div[2]/div[2]/div/span/div/div/div/div/div[2]\"}\n  (Session info: chrome=90.0.4430.212)\n",
     "output_type": "error",
     "traceback": [
      "\u001b[1;31m---------------------------------------------------------------------------\u001b[0m",
      "\u001b[1;31mNoSuchElementException\u001b[0m                    Traceback (most recent call last)",
      "\u001b[1;32m<ipython-input-366-40c3913662c4>\u001b[0m in \u001b[0;36m<module>\u001b[1;34m\u001b[0m\n\u001b[1;32m----> 1\u001b[1;33m \u001b[0mproductLink\u001b[0m \u001b[1;33m=\u001b[0m \u001b[0mdriver\u001b[0m\u001b[1;33m.\u001b[0m\u001b[0mfind_element_by_xpath\u001b[0m\u001b[1;33m(\u001b[0m\u001b[1;34m'//*[@id=\"search\"]/div[1]/div/div[1]/div/span[3]/div[2]/div[2]/div/span/div/div/div/div/div[2]'\u001b[0m\u001b[1;33m)\u001b[0m\u001b[1;33m.\u001b[0m\u001b[0mclick\u001b[0m\u001b[1;33m(\u001b[0m\u001b[1;33m)\u001b[0m\u001b[1;33m\u001b[0m\u001b[1;33m\u001b[0m\u001b[0m\n\u001b[0m",
      "\u001b[1;32m~\\anaconda3\\lib\\site-packages\\selenium\\webdriver\\remote\\webdriver.py\u001b[0m in \u001b[0;36mfind_element_by_xpath\u001b[1;34m(self, xpath)\u001b[0m\n\u001b[0;32m    392\u001b[0m             \u001b[0melement\u001b[0m \u001b[1;33m=\u001b[0m \u001b[0mdriver\u001b[0m\u001b[1;33m.\u001b[0m\u001b[0mfind_element_by_xpath\u001b[0m\u001b[1;33m(\u001b[0m\u001b[1;34m'//div/td[1]'\u001b[0m\u001b[1;33m)\u001b[0m\u001b[1;33m\u001b[0m\u001b[1;33m\u001b[0m\u001b[0m\n\u001b[0;32m    393\u001b[0m         \"\"\"\n\u001b[1;32m--> 394\u001b[1;33m         \u001b[1;32mreturn\u001b[0m \u001b[0mself\u001b[0m\u001b[1;33m.\u001b[0m\u001b[0mfind_element\u001b[0m\u001b[1;33m(\u001b[0m\u001b[0mby\u001b[0m\u001b[1;33m=\u001b[0m\u001b[0mBy\u001b[0m\u001b[1;33m.\u001b[0m\u001b[0mXPATH\u001b[0m\u001b[1;33m,\u001b[0m \u001b[0mvalue\u001b[0m\u001b[1;33m=\u001b[0m\u001b[0mxpath\u001b[0m\u001b[1;33m)\u001b[0m\u001b[1;33m\u001b[0m\u001b[1;33m\u001b[0m\u001b[0m\n\u001b[0m\u001b[0;32m    395\u001b[0m \u001b[1;33m\u001b[0m\u001b[0m\n\u001b[0;32m    396\u001b[0m     \u001b[1;32mdef\u001b[0m \u001b[0mfind_elements_by_xpath\u001b[0m\u001b[1;33m(\u001b[0m\u001b[0mself\u001b[0m\u001b[1;33m,\u001b[0m \u001b[0mxpath\u001b[0m\u001b[1;33m)\u001b[0m\u001b[1;33m:\u001b[0m\u001b[1;33m\u001b[0m\u001b[1;33m\u001b[0m\u001b[0m\n",
      "\u001b[1;32m~\\anaconda3\\lib\\site-packages\\selenium\\webdriver\\remote\\webdriver.py\u001b[0m in \u001b[0;36mfind_element\u001b[1;34m(self, by, value)\u001b[0m\n\u001b[0;32m    976\u001b[0m         return self.execute(Command.FIND_ELEMENT, {\n\u001b[0;32m    977\u001b[0m             \u001b[1;34m'using'\u001b[0m\u001b[1;33m:\u001b[0m \u001b[0mby\u001b[0m\u001b[1;33m,\u001b[0m\u001b[1;33m\u001b[0m\u001b[1;33m\u001b[0m\u001b[0m\n\u001b[1;32m--> 978\u001b[1;33m             'value': value})['value']\n\u001b[0m\u001b[0;32m    979\u001b[0m \u001b[1;33m\u001b[0m\u001b[0m\n\u001b[0;32m    980\u001b[0m     \u001b[1;32mdef\u001b[0m \u001b[0mfind_elements\u001b[0m\u001b[1;33m(\u001b[0m\u001b[0mself\u001b[0m\u001b[1;33m,\u001b[0m \u001b[0mby\u001b[0m\u001b[1;33m=\u001b[0m\u001b[0mBy\u001b[0m\u001b[1;33m.\u001b[0m\u001b[0mID\u001b[0m\u001b[1;33m,\u001b[0m \u001b[0mvalue\u001b[0m\u001b[1;33m=\u001b[0m\u001b[1;32mNone\u001b[0m\u001b[1;33m)\u001b[0m\u001b[1;33m:\u001b[0m\u001b[1;33m\u001b[0m\u001b[1;33m\u001b[0m\u001b[0m\n",
      "\u001b[1;32m~\\anaconda3\\lib\\site-packages\\selenium\\webdriver\\remote\\webdriver.py\u001b[0m in \u001b[0;36mexecute\u001b[1;34m(self, driver_command, params)\u001b[0m\n\u001b[0;32m    319\u001b[0m         \u001b[0mresponse\u001b[0m \u001b[1;33m=\u001b[0m \u001b[0mself\u001b[0m\u001b[1;33m.\u001b[0m\u001b[0mcommand_executor\u001b[0m\u001b[1;33m.\u001b[0m\u001b[0mexecute\u001b[0m\u001b[1;33m(\u001b[0m\u001b[0mdriver_command\u001b[0m\u001b[1;33m,\u001b[0m \u001b[0mparams\u001b[0m\u001b[1;33m)\u001b[0m\u001b[1;33m\u001b[0m\u001b[1;33m\u001b[0m\u001b[0m\n\u001b[0;32m    320\u001b[0m         \u001b[1;32mif\u001b[0m \u001b[0mresponse\u001b[0m\u001b[1;33m:\u001b[0m\u001b[1;33m\u001b[0m\u001b[1;33m\u001b[0m\u001b[0m\n\u001b[1;32m--> 321\u001b[1;33m             \u001b[0mself\u001b[0m\u001b[1;33m.\u001b[0m\u001b[0merror_handler\u001b[0m\u001b[1;33m.\u001b[0m\u001b[0mcheck_response\u001b[0m\u001b[1;33m(\u001b[0m\u001b[0mresponse\u001b[0m\u001b[1;33m)\u001b[0m\u001b[1;33m\u001b[0m\u001b[1;33m\u001b[0m\u001b[0m\n\u001b[0m\u001b[0;32m    322\u001b[0m             response['value'] = self._unwrap_value(\n\u001b[0;32m    323\u001b[0m                 response.get('value', None))\n",
      "\u001b[1;32m~\\anaconda3\\lib\\site-packages\\selenium\\webdriver\\remote\\errorhandler.py\u001b[0m in \u001b[0;36mcheck_response\u001b[1;34m(self, response)\u001b[0m\n\u001b[0;32m    240\u001b[0m                 \u001b[0malert_text\u001b[0m \u001b[1;33m=\u001b[0m \u001b[0mvalue\u001b[0m\u001b[1;33m[\u001b[0m\u001b[1;34m'alert'\u001b[0m\u001b[1;33m]\u001b[0m\u001b[1;33m.\u001b[0m\u001b[0mget\u001b[0m\u001b[1;33m(\u001b[0m\u001b[1;34m'text'\u001b[0m\u001b[1;33m)\u001b[0m\u001b[1;33m\u001b[0m\u001b[1;33m\u001b[0m\u001b[0m\n\u001b[0;32m    241\u001b[0m             \u001b[1;32mraise\u001b[0m \u001b[0mexception_class\u001b[0m\u001b[1;33m(\u001b[0m\u001b[0mmessage\u001b[0m\u001b[1;33m,\u001b[0m \u001b[0mscreen\u001b[0m\u001b[1;33m,\u001b[0m \u001b[0mstacktrace\u001b[0m\u001b[1;33m,\u001b[0m \u001b[0malert_text\u001b[0m\u001b[1;33m)\u001b[0m\u001b[1;33m\u001b[0m\u001b[1;33m\u001b[0m\u001b[0m\n\u001b[1;32m--> 242\u001b[1;33m         \u001b[1;32mraise\u001b[0m \u001b[0mexception_class\u001b[0m\u001b[1;33m(\u001b[0m\u001b[0mmessage\u001b[0m\u001b[1;33m,\u001b[0m \u001b[0mscreen\u001b[0m\u001b[1;33m,\u001b[0m \u001b[0mstacktrace\u001b[0m\u001b[1;33m)\u001b[0m\u001b[1;33m\u001b[0m\u001b[1;33m\u001b[0m\u001b[0m\n\u001b[0m\u001b[0;32m    243\u001b[0m \u001b[1;33m\u001b[0m\u001b[0m\n\u001b[0;32m    244\u001b[0m     \u001b[1;32mdef\u001b[0m \u001b[0m_value_or_default\u001b[0m\u001b[1;33m(\u001b[0m\u001b[0mself\u001b[0m\u001b[1;33m,\u001b[0m \u001b[0mobj\u001b[0m\u001b[1;33m,\u001b[0m \u001b[0mkey\u001b[0m\u001b[1;33m,\u001b[0m \u001b[0mdefault\u001b[0m\u001b[1;33m)\u001b[0m\u001b[1;33m:\u001b[0m\u001b[1;33m\u001b[0m\u001b[1;33m\u001b[0m\u001b[0m\n",
      "\u001b[1;31mNoSuchElementException\u001b[0m: Message: no such element: Unable to locate element: {\"method\":\"xpath\",\"selector\":\"//*[@id=\"search\"]/div[1]/div/div[1]/div/span[3]/div[2]/div[2]/div/span/div/div/div/div/div[2]\"}\n  (Session info: chrome=90.0.4430.212)\n"
     ]
    }
   ],
   "source": [
    "productLink = driver.find_element_by_xpath('//*[@id=\"search\"]/div[1]/div/div[1]/div/span[3]/div[2]/div[2]/div/span/div/div/div/div/div[2]').click()"
   ]
  },
  {
   "cell_type": "code",
   "execution_count": 265,
   "metadata": {},
   "outputs": [],
   "source": [
    "driver.get(productLink)"
   ]
  },
  {
   "cell_type": "code",
   "execution_count": 268,
   "metadata": {},
   "outputs": [
    {
     "data": {
      "text/plain": [
       "'MI'"
      ]
     },
     "execution_count": 268,
     "metadata": {},
     "output_type": "execute_result"
    }
   ],
   "source": [
    "brand = driver.find_element_by_xpath('//*[@id=\"bylineInfo\"]').text.split(': ')\n",
    "if 'Brand' in brand:\n",
    "    brandName = brand[brand.index('Brand')+1]\n",
    "brandName"
   ]
  },
  {
   "cell_type": "code",
   "execution_count": 269,
   "metadata": {},
   "outputs": [
    {
     "data": {
      "text/plain": [
       "'MI Notebook 14 (IC) Intel Core i5-10210U 10th Gen 14-inch (35.56 cms) Thin and Light Laptop(8GB/256GB SSD/Windows 10/Intel UHD Graphics/Silver/1.5Kg), XMA1901-FL'"
      ]
     },
     "execution_count": 269,
     "metadata": {},
     "output_type": "execute_result"
    }
   ],
   "source": [
    "productName = driver.find_element_by_xpath('//*[@id=\"titleSection\"]').text\n",
    "productName"
   ]
  },
  {
   "cell_type": "code",
   "execution_count": 274,
   "metadata": {},
   "outputs": [
    {
     "data": {
      "text/plain": [
       "'4.1'"
      ]
     },
     "execution_count": 274,
     "metadata": {},
     "output_type": "execute_result"
    }
   ],
   "source": [
    "rating = driver.find_element_by_xpath('//*[@id=\"acrPopover\"]/span[1]/a/i[1]/span').get_attribute('innerHTML')\n",
    "rating = rating.split()[0]\n",
    "rating"
   ]
  },
  {
   "cell_type": "code",
   "execution_count": 275,
   "metadata": {},
   "outputs": [
    {
     "data": {
      "text/plain": [
       "'1,028'"
      ]
     },
     "execution_count": 275,
     "metadata": {},
     "output_type": "execute_result"
    }
   ],
   "source": [
    "ratingNum = driver.find_element_by_xpath('//*[@id=\"acrCustomerReviewText\"]').get_attribute('innerHTML')\n",
    "ratingNum = ratingNum.split()[0]\n",
    "ratingNum"
   ]
  },
  {
   "cell_type": "code",
   "execution_count": 278,
   "metadata": {},
   "outputs": [
    {
     "data": {
      "text/plain": [
       "'43,999.00'"
      ]
     },
     "execution_count": 278,
     "metadata": {},
     "output_type": "execute_result"
    }
   ],
   "source": [
    "price = driver.find_element_by_xpath('//*[@id=\"priceblock_ourprice\"]').get_attribute('innerHTML')\n",
    "price = price.split(';')[1]\n",
    "price"
   ]
  },
  {
   "cell_type": "code",
   "execution_count": 282,
   "metadata": {},
   "outputs": [
    {
     "data": {
      "text/plain": [
       "'7 Days Replacement'"
      ]
     },
     "execution_count": 282,
     "metadata": {},
     "output_type": "execute_result"
    }
   ],
   "source": [
    "returns = driver.find_element_by_xpath('//*[@id=\"RETURNS_POLICY\"]/span/div[2]/a').get_attribute('innerHTML')\n",
    "returns = ' '.join(returns.split())\n",
    "returns"
   ]
  },
  {
   "cell_type": "code",
   "execution_count": 285,
   "metadata": {},
   "outputs": [
    {
     "data": {
      "text/plain": [
       "'Wednesday, June 2'"
      ]
     },
     "execution_count": 285,
     "metadata": {},
     "output_type": "execute_result"
    }
   ],
   "source": [
    "deliveryETA = driver.find_element_by_xpath('//*[@id=\"ddmDeliveryMessage\"]/b').get_attribute('innerHTML')\n",
    "deliveryETA = deliveryETA.split('\\n')[2]\n",
    "deliveryETA"
   ]
  },
  {
   "cell_type": "code",
   "execution_count": 289,
   "metadata": {},
   "outputs": [
    {
     "data": {
      "text/plain": [
       "'In stock.'"
      ]
     },
     "execution_count": 289,
     "metadata": {},
     "output_type": "execute_result"
    }
   ],
   "source": [
    "stockInfo = driver.find_element_by_xpath('//*[@id=\"availability\"]/span').get_attribute('innerHTML')\n",
    "stockInfo = stockInfo.split('\\n\\n\\n')[1]\n",
    "stockInfo"
   ]
  },
  {
   "cell_type": "code",
   "execution_count": 292,
   "metadata": {},
   "outputs": [
    {
     "data": {
      "text/plain": [
       "'About this item laptop processor: 10th gen intel core i5-10210u processor, 1.6 ghz base speed, 4.2 ghz max speed, 4 cores, 8 threads operating system in the laptop: windows 10 home operating system - pre-installed software : office 365 – one month trial subscription laptop display: 14-inch (1920x 1080 )full hd anti-glare screen, intel uhd graphics memory specs (laptop): 8gb ddr4-2666mhz ram and storage: 256 gb ssd design and battery of laptop: robust metal body - thin and light laptop- laptop weight 1.5kg - battery life: up to 10 hours - in built 720p webcam laptop audio: stereo speakers + dts audio processing - ports: usb 3.1 – 2 ports, usb 2.0 – 1 port, hdmi out -1 and 3.5mm jack inside the laptop box: notebook, power adapter, power cord, user manual Display size: 14.0 inches › See more product details'"
      ]
     },
     "execution_count": 292,
     "metadata": {},
     "output_type": "execute_result"
    }
   ],
   "source": [
    "otherInfo = driver.find_element_by_xpath('//*[@id=\"feature-bullets\"]').text\n",
    "otherInfo = ' '.join(otherInfo.split('\\n'))\n",
    "otherInfo"
   ]
  },
  {
   "cell_type": "code",
   "execution_count": 359,
   "metadata": {},
   "outputs": [],
   "source": [
    "def productScrapper(tileNum):\n",
    "    try:\n",
    "        productLink = driver.find_element_by_xpath(f'//*[@id=\"search\"]/div[1]/div/div[1]/div/span[3]/div[2]/div[{tileNum}]/div/span/div/div/div/div/div[2]/div[2]/div/div[1]/h2/a/span').click()\n",
    "        productLink = driver.current_url\n",
    "        \n",
    "        brand = driver.find_element_by_xpath('//*[@id=\"bylineInfo\"]').text.split(': ')\n",
    "        if 'Brand' in brand:\n",
    "            brandName = brand[brand.index('Brand')+1]\n",
    "        \n",
    "        productName = driver.find_element_by_xpath('//*[@id=\"titleSection\"]').text\n",
    "    \n",
    "        rating = driver.find_element_by_xpath('//*[@id=\"acrPopover\"]/span[1]/a/i[1]/span').get_attribute('innerHTML')\n",
    "        rating = rating.split()[0]\n",
    "    \n",
    "        ratingNum = driver.find_element_by_xpath('//*[@id=\"acrCustomerReviewText\"]').get_attribute('innerHTML')\n",
    "        ratingNum = ratingNum.split()[0]\n",
    "    \n",
    "        price = driver.find_element_by_xpath('//*[@id=\"priceblock_ourprice\"]').get_attribute('innerHTML')\n",
    "        price = price.split(';')[1]\n",
    "    \n",
    "        returns = driver.find_element_by_xpath('//*[@id=\"RETURNS_POLICY\"]/span/div[2]/a').get_attribute('innerHTML')\n",
    "        returns = ' '.join(returns.split())\n",
    "    \n",
    "        deliveryETA = driver.find_element_by_xpath('//*[@id=\"ddmDeliveryMessage\"]/b').get_attribute('innerHTML')\n",
    "        deliveryETA = deliveryETA.split('\\n')[2]\n",
    "    \n",
    "        stockInfo = driver.find_element_by_xpath('//*[@id=\"availability\"]/span').get_attribute('innerHTML')\n",
    "        stockInfo = stockInfo.split('\\n\\n\\n')[1]\n",
    "    \n",
    "        otherInfo = driver.find_element_by_xpath('//*[@id=\"feature-bullets\"]').text\n",
    "        otherInfo = ' '.join(otherInfo.split('\\n'))\n",
    "    \n",
    "    except:\n",
    "        brand = '-'\n",
    "        productName = '-'\n",
    "        rating = '-'\n",
    "        ratingNum = '-'\n",
    "        price = '-'\n",
    "        returns = '-'\n",
    "        deliveryETA = '-'\n",
    "        stockInfo = '-'\n",
    "        otherInfo = '-'\n",
    "          \n",
    "    return brand, productName, rating, ratingNum, price, returns, deliveryETA, stockInfo, otherInfo, productLink"
   ]
  },
  {
   "cell_type": "code",
   "execution_count": 360,
   "metadata": {},
   "outputs": [
    {
     "name": "stdout",
     "output_type": "stream",
     "text": [
      "Getting product 1\n",
      "Getting product 2\n",
      "Getting product 3\n",
      "Getting product 4\n",
      "Getting product 5\n",
      "Getting product 6\n",
      "Getting product 7\n",
      "Getting product 8\n",
      "Getting product 9\n",
      "Getting product 10\n",
      "Getting product 11\n",
      "Getting product 12\n",
      "Getting product 13\n",
      "Getting product 14\n",
      "Getting product 15\n",
      "Getting product 16\n",
      "Getting product 17\n",
      "Getting product 18\n",
      "Getting product 19\n",
      "Getting product 20\n",
      "Getting product 21\n",
      "Done\n"
     ]
    }
   ],
   "source": [
    "brand = []\n",
    "productName = []\n",
    "rating = []\n",
    "ratingNum = []\n",
    "price = []\n",
    "returns = []\n",
    "deliveryETA = []\n",
    "stockInfo = []\n",
    "otherInfo = []\n",
    "productLink = []\n",
    "\n",
    "for i in range(2, 23):\n",
    "    try:\n",
    "        print(f'Getting product {i-1}')\n",
    "        b, pn, r, rn, p, rt, deta, si, oi, pl = productScrapper(i)\n",
    "        brand.append(b)\n",
    "        productName.append(pn)\n",
    "        rating.append(r)\n",
    "        ratingNum.append(rn)\n",
    "        price.append(p)\n",
    "        returns.append(rt)\n",
    "        deliveryETA.append(deta)\n",
    "        stockInfo.append(si)\n",
    "        otherInfo.append(oi)\n",
    "        productLink.append(pl)\n",
    "        time.sleep(2)\n",
    "        driver.back()\n",
    "    except UnboundLocalError:\n",
    "        continue\n",
    "print('Done')"
   ]
  },
  {
   "cell_type": "code",
   "execution_count": 361,
   "metadata": {},
   "outputs": [
    {
     "data": {
      "text/plain": [
       "[]"
      ]
     },
     "execution_count": 361,
     "metadata": {},
     "output_type": "execute_result"
    }
   ],
   "source": [
    "brand"
   ]
  },
  {
   "cell_type": "code",
   "execution_count": null,
   "metadata": {},
   "outputs": [],
   "source": []
  },
  {
   "cell_type": "code",
   "execution_count": null,
   "metadata": {},
   "outputs": [],
   "source": []
  },
  {
   "cell_type": "code",
   "execution_count": 321,
   "metadata": {},
   "outputs": [],
   "source": [
    "driver.close()"
   ]
  },
  {
   "cell_type": "code",
   "execution_count": null,
   "metadata": {},
   "outputs": [],
   "source": []
  },
  {
   "cell_type": "code",
   "execution_count": null,
   "metadata": {},
   "outputs": [],
   "source": []
  },
  {
   "cell_type": "markdown",
   "metadata": {},
   "source": [
    "3. Google Image Download <a name = '3'></a>\n",
    "\n",
    "Note - The folders where the images are saved needs to be made before running the program."
   ]
  },
  {
   "cell_type": "code",
   "execution_count": 25,
   "metadata": {},
   "outputs": [],
   "source": [
    "driver = webdriver.Chrome('./chromedriver')\n",
    "driver.get('https://image.google.com')"
   ]
  },
  {
   "cell_type": "code",
   "execution_count": 26,
   "metadata": {},
   "outputs": [],
   "source": [
    "def imgDownloader(path, keyword):\n",
    "    \"\"\"\n",
    "        Downloads images matching the keyword variable and saves them in the location specified in path variable\n",
    "        Note: 1. path should have / instead of \\ and the path should end with /\n",
    "    \"\"\"\n",
    "    searchBar = driver.find_element_by_xpath('//*[@id=\"sbtc\"]/div/div[2]/input')\n",
    "    searchBar.send_keys(keyword)\n",
    "    driver.find_element_by_xpath('//*[@id=\"sbtc\"]/div/div[2]/input').send_keys(Keys.ENTER)\n",
    "    for num in range(1,101):\n",
    "        try:\n",
    "            fileName = os.path.join(f'{path}{keyword}{num}.png')\n",
    "            with open(fileName, 'wb') as file:\n",
    "                img = driver.find_element_by_xpath(f'//*[@id=\"islrg\"]/div[1]/div[{num}]/a[1]/div[1]/img')\n",
    "                file.write(img.screenshot_as_png)\n",
    "        except NoSuchElementException:\n",
    "            continue\n",
    "    driver.get('https://image.google.com')\n",
    "    searchBar = driver.find_element_by_xpath('//*[@id=\"sbtc\"]/div/div[2]/input')\n",
    "    print(f'Done downloading {keyword} images')"
   ]
  },
  {
   "cell_type": "code",
   "execution_count": 27,
   "metadata": {},
   "outputs": [],
   "source": [
    "#Specifying Download paths\n",
    "fruitPath = 'D:/FlipRobo/Img/fruits/'\n",
    "carPath = 'D:/FlipRobo/Img/cars/'\n",
    "mlPath = 'D:/FlipRobo/Img/machineLearning/'"
   ]
  },
  {
   "cell_type": "code",
   "execution_count": 28,
   "metadata": {},
   "outputs": [
    {
     "name": "stdout",
     "output_type": "stream",
     "text": [
      "Done downloading fruits images\n"
     ]
    }
   ],
   "source": [
    "imgDownloader(fruitPath, 'fruits')"
   ]
  },
  {
   "cell_type": "code",
   "execution_count": 29,
   "metadata": {},
   "outputs": [
    {
     "name": "stdout",
     "output_type": "stream",
     "text": [
      "Done downloading cars images\n"
     ]
    }
   ],
   "source": [
    "imgDownloader(carPath, 'cars')"
   ]
  },
  {
   "cell_type": "code",
   "execution_count": 30,
   "metadata": {},
   "outputs": [
    {
     "name": "stdout",
     "output_type": "stream",
     "text": [
      "Done downloading Machine Learning images\n"
     ]
    }
   ],
   "source": [
    "imgDownloader(mlPath, 'Machine Learning')"
   ]
  },
  {
   "cell_type": "code",
   "execution_count": 353,
   "metadata": {},
   "outputs": [],
   "source": [
    "driver.close()"
   ]
  },
  {
   "cell_type": "markdown",
   "metadata": {},
   "source": [
    "4. Flipkart Smartphones <a name = '4'></a>"
   ]
  },
  {
   "cell_type": "code",
   "execution_count": 173,
   "metadata": {},
   "outputs": [],
   "source": [
    "driver = webdriver.Chrome('./chromedriver')\n",
    "driver.get('https://www.flipkart.com')"
   ]
  },
  {
   "cell_type": "code",
   "execution_count": 174,
   "metadata": {},
   "outputs": [],
   "source": [
    "#Filling the search bar and clicking search\n",
    "searchTerm = 'smartphones'\n",
    "\n",
    "driver.find_element_by_xpath('/html/body/div[2]/div/div/button').click() #Dismissing flipkart login/offer pop-up\n",
    "driver.find_element_by_xpath('//*[@id=\"container\"]/div/div[1]/div[1]/div[2]/div[2]/form/div/div/input').send_keys(searchTerm)\n",
    "driver.find_element_by_xpath('//*[@id=\"container\"]/div/div[1]/div[1]/div[2]/div[2]/form/div/button').click()"
   ]
  },
  {
   "cell_type": "markdown",
   "metadata": {},
   "source": [
    "In the next few cells we will inspect a single product page to identify the general structure of the page and then make a function to scrape the rest."
   ]
  },
  {
   "cell_type": "code",
   "execution_count": 114,
   "metadata": {},
   "outputs": [
    {
     "data": {
      "text/plain": [
       "'https://www.flipkart.com/infinix-hot-10-play-7-purple-64-gb/p/itm1f660c8716944?pid=MOBGFG7UWVKZUXS2&lid=LSTMOBGFG7UWVKZUXS24SUVN7&marketplace=FLIPKART&q=smartphones&store=tyy%2F4io&srno=s_1_1&otracker=search&otracker1=search&fm=SEARCH&iid=8748c03c-91ed-4e78-809a-aa12ec26aee9.MOBGFG7UWVKZUXS2.SEARCH&ppt=hp&ppn=homepage&ssid=1uxc7ihgeo0000001622444643258&qH=6ea4465d0add4685'"
      ]
     },
     "execution_count": 114,
     "metadata": {},
     "output_type": "execute_result"
    }
   ],
   "source": [
    "phoneLink = driver.find_element_by_xpath('//*[@id=\"container\"]/div/div[3]/div[1]/div[2]/div[2]/div/div/div/a').get_attribute('href')\n",
    "phoneLink"
   ]
  },
  {
   "cell_type": "code",
   "execution_count": 115,
   "metadata": {},
   "outputs": [],
   "source": [
    "driver.get(phoneLink)"
   ]
  },
  {
   "cell_type": "code",
   "execution_count": 116,
   "metadata": {},
   "outputs": [
    {
     "data": {
      "text/plain": [
       "'Infinix'"
      ]
     },
     "execution_count": 116,
     "metadata": {},
     "output_type": "execute_result"
    }
   ],
   "source": [
    "brand = driver.find_element_by_xpath('//*[@id=\"container\"]/div/div[3]/div[1]/div[2]/div[2]/div/div[1]')\n",
    "brand.text.split()[0]"
   ]
  },
  {
   "cell_type": "code",
   "execution_count": 117,
   "metadata": {},
   "outputs": [],
   "source": [
    "driver.find_element_by_xpath('//*[@id=\"container\"]/div/div[3]/div[1]/div[2]/div[9]/div[5]/div/div[2]/button').click()"
   ]
  },
  {
   "cell_type": "code",
   "execution_count": 118,
   "metadata": {},
   "outputs": [],
   "source": [
    "specs = driver.find_element_by_xpath('//*[@id=\"container\"]/div/div[3]/div[1]/div[2]/div[9]/div[5]/div').text.split('\\n')"
   ]
  },
  {
   "cell_type": "code",
   "execution_count": 119,
   "metadata": {},
   "outputs": [
    {
     "data": {
      "text/plain": [
       "'Hot 10 Play'"
      ]
     },
     "execution_count": 119,
     "metadata": {},
     "output_type": "execute_result"
    }
   ],
   "source": [
    "if 'Model Name' in specs:\n",
    "    modelName = specs[specs.index('Model Name')+1]\n",
    "else:\n",
    "    modelName = '-'\n",
    "\n",
    "modelName "
   ]
  },
  {
   "cell_type": "code",
   "execution_count": 120,
   "metadata": {},
   "outputs": [
    {
     "data": {
      "text/plain": [
       "'7° Purple'"
      ]
     },
     "execution_count": 120,
     "metadata": {},
     "output_type": "execute_result"
    }
   ],
   "source": [
    "if 'Color' in specs:\n",
    "    colorName = specs[specs.index('Color')+1]\n",
    "else:\n",
    "    colorName = '-'\n",
    "\n",
    "colorName "
   ]
  },
  {
   "cell_type": "code",
   "execution_count": 121,
   "metadata": {},
   "outputs": [
    {
     "data": {
      "text/plain": [
       "'4 GB'"
      ]
     },
     "execution_count": 121,
     "metadata": {},
     "output_type": "execute_result"
    }
   ],
   "source": [
    "if 'RAM' in specs:\n",
    "    RAM = specs[specs.index('RAM')+1]\n",
    "else:\n",
    "    RAM = '-'\n",
    "\n",
    "RAM"
   ]
  },
  {
   "cell_type": "code",
   "execution_count": 122,
   "metadata": {},
   "outputs": [
    {
     "data": {
      "text/plain": [
       "'64 GB'"
      ]
     },
     "execution_count": 122,
     "metadata": {},
     "output_type": "execute_result"
    }
   ],
   "source": [
    "if 'Internal Storage' in specs:\n",
    "    internalStorage = specs[specs.index('Internal Storage')+1]\n",
    "else:\n",
    "    internalStorage = '-'\n",
    "\n",
    "internalStorage"
   ]
  },
  {
   "cell_type": "code",
   "execution_count": 123,
   "metadata": {},
   "outputs": [
    {
     "data": {
      "text/plain": [
       "'13MP + Depth Sensor'"
      ]
     },
     "execution_count": 123,
     "metadata": {},
     "output_type": "execute_result"
    }
   ],
   "source": [
    "if 'Primary Camera' in specs:\n",
    "    primaryCam = specs[specs.index('Primary Camera')+1]\n",
    "else:\n",
    "    primaryCam = '-'\n",
    "\n",
    "primaryCam"
   ]
  },
  {
   "cell_type": "code",
   "execution_count": 124,
   "metadata": {},
   "outputs": [
    {
     "data": {
      "text/plain": [
       "'8MP Front Camera'"
      ]
     },
     "execution_count": 124,
     "metadata": {},
     "output_type": "execute_result"
    }
   ],
   "source": [
    "if 'Secondary Camera' in specs:\n",
    "    secondaryCam = specs[specs.index('Secondary Camera')+1]\n",
    "else:\n",
    "    secondaryCam = '-'\n",
    "\n",
    "secondaryCam"
   ]
  },
  {
   "cell_type": "code",
   "execution_count": 125,
   "metadata": {},
   "outputs": [
    {
     "data": {
      "text/plain": [
       "'17.32 cm (6.82 inch)'"
      ]
     },
     "execution_count": 125,
     "metadata": {},
     "output_type": "execute_result"
    }
   ],
   "source": [
    "if 'Display Size' in specs:\n",
    "    displaySize = specs[specs.index('Display Size')+1]\n",
    "else:\n",
    "    displaySize = '-'\n",
    "\n",
    "displaySize"
   ]
  },
  {
   "cell_type": "code",
   "execution_count": 126,
   "metadata": {},
   "outputs": [
    {
     "data": {
      "text/plain": [
       "'1640 x 720 Pixels'"
      ]
     },
     "execution_count": 126,
     "metadata": {},
     "output_type": "execute_result"
    }
   ],
   "source": [
    "if 'Resolution' in specs:\n",
    "    res = specs[specs.index('Resolution')+1]\n",
    "else:\n",
    "    res = '-'\n",
    "\n",
    "res"
   ]
  },
  {
   "cell_type": "code",
   "execution_count": 127,
   "metadata": {},
   "outputs": [
    {
     "data": {
      "text/plain": [
       "'MediaTek Helio G35'"
      ]
     },
     "execution_count": 127,
     "metadata": {},
     "output_type": "execute_result"
    }
   ],
   "source": [
    "if 'Processor Type' in specs:\n",
    "    processorName = specs[specs.index('Processor Type')+1]\n",
    "else:\n",
    "    processorName = '-'\n",
    "\n",
    "processorName"
   ]
  },
  {
   "cell_type": "code",
   "execution_count": 128,
   "metadata": {},
   "outputs": [
    {
     "data": {
      "text/plain": [
       "'Octa Core'"
      ]
     },
     "execution_count": 128,
     "metadata": {},
     "output_type": "execute_result"
    }
   ],
   "source": [
    "if 'Processor Core' in specs:\n",
    "    processorCore = specs[specs.index('Processor Core')+1]\n",
    "else:\n",
    "    processorCore = '-'\n",
    "\n",
    "processorCore"
   ]
  },
  {
   "cell_type": "code",
   "execution_count": 129,
   "metadata": {},
   "outputs": [
    {
     "data": {
      "text/plain": [
       "'6000 mAh'"
      ]
     },
     "execution_count": 129,
     "metadata": {},
     "output_type": "execute_result"
    }
   ],
   "source": [
    "if 'Battery Capacity' in specs:\n",
    "    battery = specs[specs.index('Battery Capacity')+1]\n",
    "else:\n",
    "    battery = '-'\n",
    "\n",
    "battery"
   ]
  },
  {
   "cell_type": "code",
   "execution_count": 130,
   "metadata": {},
   "outputs": [],
   "source": [
    "price = driver.find_element_by_xpath('//*[@id=\"container\"]/div/div[3]/div[1]/div[2]/div[2]/div/div[4]/div[1]/div/div[1]').text"
   ]
  },
  {
   "cell_type": "code",
   "execution_count": 131,
   "metadata": {},
   "outputs": [],
   "source": [
    "driver.back()"
   ]
  },
  {
   "cell_type": "code",
   "execution_count": 175,
   "metadata": {},
   "outputs": [],
   "source": [
    "#Making a function to perform the steps above and return phone information\n",
    "def phoneScrapper(listingNumber):\n",
    "    \"\"\"listingNumber should be 2 or higher\"\"\"\n",
    "    try:\n",
    "        phoneLink = driver.find_element_by_xpath(f'//*[@id=\"container\"]/div/div[3]/div[1]/div[2]/div[{listingNumber}]/div/div/div/a').get_attribute('href')\n",
    "        driver.get(phoneLink)\n",
    "        brand = driver.find_element_by_xpath('//*[@id=\"container\"]/div/div[3]/div[1]/div[2]/div[2]/div/div[1]').text.split()[0]\n",
    "        price = driver.find_element_by_xpath('//*[@id=\"container\"]/div/div[3]/div[1]/div[2]/div[2]/div/div[4]/div[1]/div/div[1]').text\n",
    "        time.sleep(2)\n",
    "        driver.find_element_by_xpath('//*[@id=\"container\"]/div/div[3]/div[1]/div[2]/div[9]/div[5]/div/div[2]/button').click()\n",
    "        specs = driver.find_element_by_xpath('//*[@id=\"container\"]/div/div[3]/div[1]/div[2]/div[9]/div[5]/div').text.split('\\n')\n",
    "    \n",
    "        #Getting Model Name\n",
    "        if 'Model Name' in specs:\n",
    "            modelName = specs[specs.index('Model Name')+1]\n",
    "        else:\n",
    "            modelName = '-'\n",
    "        \n",
    "        #Getting colour\n",
    "        if 'Color' in specs:\n",
    "            colorName = specs[specs.index('Color')+1]\n",
    "        else:\n",
    "            colorName = '-'\n",
    "        \n",
    "        #Getting RAM\n",
    "        if 'RAM' in specs:\n",
    "            RAM = specs[specs.index('RAM')+1]\n",
    "        else:\n",
    "            RAM = '-'\n",
    "        \n",
    "        #Getting Internal Storage    \n",
    "        if 'Internal Storage' in specs:\n",
    "            internalStorage = specs[specs.index('Internal Storage')+1]\n",
    "        else:\n",
    "            internalStorage = '-'\n",
    "        \n",
    "        #Getting Primary Camera Specs\n",
    "        if 'Primary Camera' in specs:\n",
    "            primaryCam = specs[specs.index('Primary Camera')+1]\n",
    "        else:\n",
    "            primaryCam = '-'\n",
    "        \n",
    "        #Getting Secondary Camera specs\n",
    "        if 'Secondary Camera' in specs:\n",
    "            secondaryCam = specs[specs.index('Secondary Camera')+1]\n",
    "        else:\n",
    "            secondaryCam = '-'\n",
    "        \n",
    "        #Getting Display Size\n",
    "        if 'Display Size' in specs:\n",
    "            displaySize = specs[specs.index('Display Size')+1]\n",
    "        else:\n",
    "            displaySize = '-'\n",
    "        \n",
    "        #Getting Display Resolution\n",
    "        if 'Resolution' in specs:\n",
    "            res = specs[specs.index('Resolution')+1]\n",
    "        else:\n",
    "            res = '-'\n",
    "        \n",
    "        #Getting Processor Type\n",
    "        if 'Processor Type' in specs:\n",
    "            processorName = specs[specs.index('Processor Type')+1]\n",
    "        else:\n",
    "            processorName = '-'\n",
    "        \n",
    "        #Getting Processor Core\n",
    "        if 'Processor Core' in specs:\n",
    "            processorCore = specs[specs.index('Processor Core')+1]\n",
    "        else:\n",
    "            processorCore = '-'\n",
    "        \n",
    "        #Getting battery capacity\n",
    "        if 'Battery Capacity' in specs:\n",
    "            battery = specs[specs.index('Battery Capacity')+1]\n",
    "        else:\n",
    "            battery = '-'\n",
    "        \n",
    "        driver.back()\n",
    "        return brand, price, phoneLink, modelName, colorName, RAM, internalStorage, primaryCam, secondaryCam, displaySize, res, processorName, processorCore, battery\n",
    "    \n",
    "    except NoSuchElementException:\n",
    "        brand = '-'\n",
    "        price = '-'\n",
    "        modelName = '-'\n",
    "        colorName = '-'\n",
    "        RAM = '-'\n",
    "        internalStorage = '-'\n",
    "        primaryCam = '-'\n",
    "        secondaryCam = '-'\n",
    "        displaySize = '-'\n",
    "        res = '-'\n",
    "        processorName = '-' \n",
    "        processorCore = '-'\n",
    "        battery = '-'\n",
    "        \n",
    "        driver.back()\n",
    "        return brand, price, phoneLink, modelName, colorName, RAM, internalStorage, primaryCam, secondaryCam, displaySize, res, processorName, processorCore, battery\n",
    "        "
   ]
  },
  {
   "cell_type": "code",
   "execution_count": 176,
   "metadata": {},
   "outputs": [
    {
     "name": "stdout",
     "output_type": "stream",
     "text": [
      "Getting product 1\n",
      "Getting product 2\n",
      "Getting product 3\n",
      "Getting product 4\n",
      "Getting product 5\n",
      "Getting product 6\n",
      "Getting product 7\n",
      "Getting product 8\n",
      "Getting product 9\n",
      "Getting product 10\n",
      "Getting product 11\n",
      "Getting product 12\n",
      "Getting product 13\n",
      "Getting product 14\n",
      "Getting product 15\n",
      "Getting product 16\n",
      "Getting product 17\n",
      "Getting product 18\n",
      "Getting product 19\n",
      "Getting product 20\n",
      "Getting product 21\n",
      "Getting product 22\n",
      "Getting product 23\n",
      "Getting product 24\n"
     ]
    }
   ],
   "source": [
    "#Making empty list to store specific phone info and populating them using the function above\n",
    "time.sleep(2)\n",
    "brand = []\n",
    "price = []\n",
    "url = []\n",
    "modelName = []\n",
    "colorName = []\n",
    "RAM = []\n",
    "internalStorage = []\n",
    "primaryCam = []\n",
    "secondaryCam = []\n",
    "displaySize = []\n",
    "res = []\n",
    "processorName = []\n",
    "processorCore = []\n",
    "battery = []\n",
    "for i in range(2,26):\n",
    "    print(f'Getting product {i-1}')\n",
    "    b, p, u, m, c, r, i, p, s, d, re, pn, pc, bat = phoneScrapper(i)\n",
    "    brand.append(b)\n",
    "    price.append(p)\n",
    "    url.append(u)\n",
    "    modelName.append(m)\n",
    "    colorName.append(c)\n",
    "    RAM.append(r)\n",
    "    internalStorage.append(i)\n",
    "    primaryCam.append(p)\n",
    "    secondaryCam.append(s)\n",
    "    displaySize.append(d)\n",
    "    res.append(re)\n",
    "    processorName.append(pn)\n",
    "    processorCore.append(pc)\n",
    "    battery.append(bat)"
   ]
  },
  {
   "cell_type": "code",
   "execution_count": 177,
   "metadata": {},
   "outputs": [],
   "source": [
    "driver.close()"
   ]
  },
  {
   "cell_type": "code",
   "execution_count": 179,
   "metadata": {},
   "outputs": [
    {
     "data": {
      "text/html": [
       "<div>\n",
       "<style scoped>\n",
       "    .dataframe tbody tr th:only-of-type {\n",
       "        vertical-align: middle;\n",
       "    }\n",
       "\n",
       "    .dataframe tbody tr th {\n",
       "        vertical-align: top;\n",
       "    }\n",
       "\n",
       "    .dataframe thead th {\n",
       "        text-align: right;\n",
       "    }\n",
       "</style>\n",
       "<table border=\"1\" class=\"dataframe\">\n",
       "  <thead>\n",
       "    <tr style=\"text-align: right;\">\n",
       "      <th></th>\n",
       "      <th>Brand</th>\n",
       "      <th>Phone Name</th>\n",
       "      <th>Colour</th>\n",
       "      <th>RAM</th>\n",
       "      <th>Internal Storage</th>\n",
       "      <th>Primary Camera</th>\n",
       "      <th>Secondary Camera</th>\n",
       "      <th>Display Size</th>\n",
       "      <th>Resolution</th>\n",
       "      <th>Processor</th>\n",
       "      <th>Core Count</th>\n",
       "      <th>Battery</th>\n",
       "      <th>price</th>\n",
       "      <th>URL</th>\n",
       "    </tr>\n",
       "  </thead>\n",
       "  <tbody>\n",
       "    <tr>\n",
       "      <th>0</th>\n",
       "      <td>Infinix</td>\n",
       "      <td>Hot 10 Play</td>\n",
       "      <td>7° Purple</td>\n",
       "      <td>4 GB</td>\n",
       "      <td>64 GB</td>\n",
       "      <td>13MP + Depth Sensor</td>\n",
       "      <td>8MP Front Camera</td>\n",
       "      <td>17.32 cm (6.82 inch)</td>\n",
       "      <td>1640 x 720 Pixels</td>\n",
       "      <td>MediaTek Helio G35</td>\n",
       "      <td>Octa Core</td>\n",
       "      <td>6000 mAh</td>\n",
       "      <td>13MP + Depth Sensor</td>\n",
       "      <td>https://www.flipkart.com/infinix-hot-10-play-7...</td>\n",
       "    </tr>\n",
       "    <tr>\n",
       "      <th>1</th>\n",
       "      <td>-</td>\n",
       "      <td>-</td>\n",
       "      <td>-</td>\n",
       "      <td>-</td>\n",
       "      <td>-</td>\n",
       "      <td>-</td>\n",
       "      <td>-</td>\n",
       "      <td>-</td>\n",
       "      <td>-</td>\n",
       "      <td>-</td>\n",
       "      <td>-</td>\n",
       "      <td>-</td>\n",
       "      <td>-</td>\n",
       "      <td>https://www.flipkart.com/redmi-9-power-mighty-...</td>\n",
       "    </tr>\n",
       "    <tr>\n",
       "      <th>2</th>\n",
       "      <td>Infinix</td>\n",
       "      <td>Hot 10 Play</td>\n",
       "      <td>Morandi Green</td>\n",
       "      <td>4 GB</td>\n",
       "      <td>64 GB</td>\n",
       "      <td>13MP + Depth Sensor</td>\n",
       "      <td>8MP Front Camera</td>\n",
       "      <td>17.32 cm (6.82 inch)</td>\n",
       "      <td>1640 x 720 Pixels</td>\n",
       "      <td>MediaTek Helio G35</td>\n",
       "      <td>Octa Core</td>\n",
       "      <td>6000 mAh</td>\n",
       "      <td>13MP + Depth Sensor</td>\n",
       "      <td>https://www.flipkart.com/infinix-hot-10-play-m...</td>\n",
       "    </tr>\n",
       "    <tr>\n",
       "      <th>3</th>\n",
       "      <td>realme</td>\n",
       "      <td>Narzo 30A</td>\n",
       "      <td>Laser Blue</td>\n",
       "      <td>3 GB</td>\n",
       "      <td>32 GB</td>\n",
       "      <td>13MP + 2MP</td>\n",
       "      <td>8MP Front Camera</td>\n",
       "      <td>16.54 cm (6.51 inch)</td>\n",
       "      <td>1600 x 720 Pixels</td>\n",
       "      <td>MediaTek Helio G85</td>\n",
       "      <td>Octa Core</td>\n",
       "      <td>6000 mAh</td>\n",
       "      <td>13MP + 2MP</td>\n",
       "      <td>https://www.flipkart.com/realme-narzo-30a-lase...</td>\n",
       "    </tr>\n",
       "    <tr>\n",
       "      <th>4</th>\n",
       "      <td>realme</td>\n",
       "      <td>Narzo 30A</td>\n",
       "      <td>Laser Black</td>\n",
       "      <td>3 GB</td>\n",
       "      <td>32 GB</td>\n",
       "      <td>13MP + 2MP</td>\n",
       "      <td>8MP Front Camera</td>\n",
       "      <td>16.54 cm (6.51 inch)</td>\n",
       "      <td>1600 x 720 Pixels</td>\n",
       "      <td>MediaTek Helio G85</td>\n",
       "      <td>Octa Core</td>\n",
       "      <td>6000 mAh</td>\n",
       "      <td>13MP + 2MP</td>\n",
       "      <td>https://www.flipkart.com/realme-narzo-30a-lase...</td>\n",
       "    </tr>\n",
       "  </tbody>\n",
       "</table>\n",
       "</div>"
      ],
      "text/plain": [
       "     Brand   Phone Name         Colour   RAM Internal Storage  \\\n",
       "0  Infinix  Hot 10 Play      7° Purple  4 GB            64 GB   \n",
       "1        -            -              -     -                -   \n",
       "2  Infinix  Hot 10 Play  Morandi Green  4 GB            64 GB   \n",
       "3   realme    Narzo 30A     Laser Blue  3 GB            32 GB   \n",
       "4   realme    Narzo 30A    Laser Black  3 GB            32 GB   \n",
       "\n",
       "        Primary Camera  Secondary Camera          Display Size  \\\n",
       "0  13MP + Depth Sensor  8MP Front Camera  17.32 cm (6.82 inch)   \n",
       "1                    -                 -                     -   \n",
       "2  13MP + Depth Sensor  8MP Front Camera  17.32 cm (6.82 inch)   \n",
       "3           13MP + 2MP  8MP Front Camera  16.54 cm (6.51 inch)   \n",
       "4           13MP + 2MP  8MP Front Camera  16.54 cm (6.51 inch)   \n",
       "\n",
       "          Resolution           Processor Core Count   Battery  \\\n",
       "0  1640 x 720 Pixels  MediaTek Helio G35  Octa Core  6000 mAh   \n",
       "1                  -                   -          -         -   \n",
       "2  1640 x 720 Pixels  MediaTek Helio G35  Octa Core  6000 mAh   \n",
       "3  1600 x 720 Pixels  MediaTek Helio G85  Octa Core  6000 mAh   \n",
       "4  1600 x 720 Pixels  MediaTek Helio G85  Octa Core  6000 mAh   \n",
       "\n",
       "                 price                                                URL  \n",
       "0  13MP + Depth Sensor  https://www.flipkart.com/infinix-hot-10-play-7...  \n",
       "1                    -  https://www.flipkart.com/redmi-9-power-mighty-...  \n",
       "2  13MP + Depth Sensor  https://www.flipkart.com/infinix-hot-10-play-m...  \n",
       "3           13MP + 2MP  https://www.flipkart.com/realme-narzo-30a-lase...  \n",
       "4           13MP + 2MP  https://www.flipkart.com/realme-narzo-30a-lase...  "
      ]
     },
     "execution_count": 179,
     "metadata": {},
     "output_type": "execute_result"
    }
   ],
   "source": [
    "#Making a dataframe\n",
    "phoneDf = pd.DataFrame()\n",
    "\n",
    "phoneDf['Brand'] = brand\n",
    "phoneDf['Phone Name'] = modelName\n",
    "phoneDf['Colour'] = colorName\n",
    "phoneDf['RAM'] = RAM\n",
    "phoneDf['Internal Storage'] = internalStorage\n",
    "phoneDf['Primary Camera'] = primaryCam\n",
    "phoneDf['Secondary Camera'] = secondaryCam\n",
    "phoneDf['Display Size'] = displaySize\n",
    "phoneDf['Resolution'] = res\n",
    "phoneDf['Processor'] = processorName\n",
    "phoneDf['Core Count'] = processorCore\n",
    "phoneDf['Battery'] = battery\n",
    "phoneDf['price'] = price\n",
    "phoneDf['URL'] = url\n",
    "\n",
    "phoneDf.head()"
   ]
  },
  {
   "cell_type": "code",
   "execution_count": 180,
   "metadata": {},
   "outputs": [],
   "source": [
    "#Saving to csv\n",
    "phoneDf.to_csv('PhoneInfo.csv')"
   ]
  },
  {
   "cell_type": "markdown",
   "metadata": {},
   "source": [
    "5. Google Map City Coordinates <a name = '5'></a>"
   ]
  },
  {
   "cell_type": "code",
   "execution_count": 192,
   "metadata": {},
   "outputs": [],
   "source": [
    "driver = webdriver.Chrome('./chromedriver')\n",
    "driver.get('https://maps.google.com/')"
   ]
  },
  {
   "cell_type": "code",
   "execution_count": 193,
   "metadata": {},
   "outputs": [],
   "source": [
    "locationSearchBar = driver.find_element_by_xpath('//*[@id=\"searchboxinput\"]')"
   ]
  },
  {
   "cell_type": "code",
   "execution_count": 194,
   "metadata": {},
   "outputs": [
    {
     "name": "stdout",
     "output_type": "stream",
     "text": [
      "Enter City Name: Mumbai\n"
     ]
    }
   ],
   "source": [
    "#Asking user to input city name\n",
    "city = str(input('Enter City Name: '))"
   ]
  },
  {
   "cell_type": "code",
   "execution_count": 195,
   "metadata": {},
   "outputs": [],
   "source": [
    "#Searching for the city name\n",
    "locationSearchBar.send_keys(city)"
   ]
  },
  {
   "cell_type": "code",
   "execution_count": 196,
   "metadata": {},
   "outputs": [],
   "source": [
    "driver.find_element_by_xpath('//*[@id=\"searchbox-searchbutton\"]').click()"
   ]
  },
  {
   "cell_type": "code",
   "execution_count": 197,
   "metadata": {},
   "outputs": [
    {
     "name": "stdout",
     "output_type": "stream",
     "text": [
      "The Coordinates for Mumbai are lat 26.1844946, long 91.744157\n"
     ]
    }
   ],
   "source": [
    "#Getting the coordinates from the url\n",
    "cityCorr = driver.current_url.split('/@')[1].split(',')[0:2]\n",
    "print(f'The Coordinates for {city} are lat {cityCorr[0]}, long {cityCorr[1]}')"
   ]
  },
  {
   "cell_type": "code",
   "execution_count": 228,
   "metadata": {},
   "outputs": [],
   "source": [
    "driver.close()"
   ]
  },
  {
   "cell_type": "markdown",
   "metadata": {},
   "source": [
    "6. Funding Details in Trak <a name = '6'></a>"
   ]
  },
  {
   "cell_type": "code",
   "execution_count": 240,
   "metadata": {},
   "outputs": [],
   "source": [
    "driver = webdriver.Chrome('./chromedriver')\n",
    "driver.get('https://www.trak.in')"
   ]
  },
  {
   "cell_type": "code",
   "execution_count": 241,
   "metadata": {},
   "outputs": [],
   "source": [
    "#Clicking on the fundings tab\n",
    "driver.find_element_by_xpath('//*[@id=\"menu-item-51510\"]/a').click()"
   ]
  },
  {
   "cell_type": "code",
   "execution_count": 243,
   "metadata": {},
   "outputs": [],
   "source": [
    "#Getting the July 2020 table\n",
    "tableJuly2020 = driver.find_element_by_xpath('//*[@id=\"tablepress-48_wrapper\"]/div[3]').get_attribute('outerHTML')"
   ]
  },
  {
   "cell_type": "code",
   "execution_count": 252,
   "metadata": {},
   "outputs": [
    {
     "data": {
      "text/html": [
       "<div>\n",
       "<style scoped>\n",
       "    .dataframe tbody tr th:only-of-type {\n",
       "        vertical-align: middle;\n",
       "    }\n",
       "\n",
       "    .dataframe tbody tr th {\n",
       "        vertical-align: top;\n",
       "    }\n",
       "\n",
       "    .dataframe thead th {\n",
       "        text-align: right;\n",
       "    }\n",
       "</style>\n",
       "<table border=\"1\" class=\"dataframe\">\n",
       "  <thead>\n",
       "    <tr style=\"text-align: right;\">\n",
       "      <th></th>\n",
       "      <th>Sr. No.</th>\n",
       "      <th>Date (dd/mm/yyyy)</th>\n",
       "      <th>Startup Name</th>\n",
       "      <th>Industry / Vertical</th>\n",
       "      <th>Sub-Vertical</th>\n",
       "      <th>City / Location</th>\n",
       "      <th>Investors' Name</th>\n",
       "      <th>Investment Type</th>\n",
       "      <th>Amount (In USD)</th>\n",
       "    </tr>\n",
       "  </thead>\n",
       "  <tbody>\n",
       "    <tr>\n",
       "      <th>0</th>\n",
       "      <td>1</td>\n",
       "      <td>15/07/2020</td>\n",
       "      <td>Flipkart</td>\n",
       "      <td>E-commerce</td>\n",
       "      <td>E-commerce</td>\n",
       "      <td>Bangalore</td>\n",
       "      <td>Walmart Inc</td>\n",
       "      <td>M&amp;A</td>\n",
       "      <td>1200000000</td>\n",
       "    </tr>\n",
       "    <tr>\n",
       "      <th>1</th>\n",
       "      <td>2</td>\n",
       "      <td>16/07/2020</td>\n",
       "      <td>Vedantu</td>\n",
       "      <td>EduTech</td>\n",
       "      <td>Online Tutoring</td>\n",
       "      <td>Bangalore</td>\n",
       "      <td>Coatue Management</td>\n",
       "      <td>Series D</td>\n",
       "      <td>100000000</td>\n",
       "    </tr>\n",
       "    <tr>\n",
       "      <th>2</th>\n",
       "      <td>3</td>\n",
       "      <td>16/07/2020</td>\n",
       "      <td>Crio</td>\n",
       "      <td>EduTech</td>\n",
       "      <td>Learning Platform for Developers</td>\n",
       "      <td>Bangalore</td>\n",
       "      <td>021 Capital</td>\n",
       "      <td>pre-Series A</td>\n",
       "      <td>934160</td>\n",
       "    </tr>\n",
       "    <tr>\n",
       "      <th>3</th>\n",
       "      <td>4</td>\n",
       "      <td>14/07/2020</td>\n",
       "      <td>goDutch</td>\n",
       "      <td>FinTech</td>\n",
       "      <td>Group Payments</td>\n",
       "      <td>Mumbai</td>\n",
       "      <td>Matrix India,Y Combinator, Global Founders Cap...</td>\n",
       "      <td>Seed</td>\n",
       "      <td>1700000</td>\n",
       "    </tr>\n",
       "    <tr>\n",
       "      <th>4</th>\n",
       "      <td>5</td>\n",
       "      <td>13/07/2020</td>\n",
       "      <td>Mystifly</td>\n",
       "      <td>Airfare Marketplace</td>\n",
       "      <td>Ticketing, Airline Retailing, and Post-Ticketi...</td>\n",
       "      <td>Singapore and Bangalore</td>\n",
       "      <td>Recruit Co. Ltd.</td>\n",
       "      <td>pre-Series B</td>\n",
       "      <td>3300000</td>\n",
       "    </tr>\n",
       "    <tr>\n",
       "      <th>5</th>\n",
       "      <td>6</td>\n",
       "      <td>09/07/2020</td>\n",
       "      <td>JetSynthesys</td>\n",
       "      <td>Gaming and Entertainment</td>\n",
       "      <td>Gaming and Entertainment</td>\n",
       "      <td>Pune</td>\n",
       "      <td>Adar Poonawalla and Kris Gopalakrishnan.</td>\n",
       "      <td>Venture-Series Unknown</td>\n",
       "      <td>400000</td>\n",
       "    </tr>\n",
       "    <tr>\n",
       "      <th>6</th>\n",
       "      <td>7</td>\n",
       "      <td>10/07/2020</td>\n",
       "      <td>gigIndia</td>\n",
       "      <td>Marketplace</td>\n",
       "      <td>Crowd Sourcing, Freelance</td>\n",
       "      <td>Pune</td>\n",
       "      <td>Incubate Fund India and Beyond Next Ventures</td>\n",
       "      <td>pre-Series A</td>\n",
       "      <td>974200</td>\n",
       "    </tr>\n",
       "    <tr>\n",
       "      <th>7</th>\n",
       "      <td>8</td>\n",
       "      <td>15/07/2020</td>\n",
       "      <td>PumPumPum</td>\n",
       "      <td>Automotive Rental</td>\n",
       "      <td>Used Car-leasing platform</td>\n",
       "      <td>Gurgaon</td>\n",
       "      <td>Early Adapters Syndicate</td>\n",
       "      <td>Seed</td>\n",
       "      <td>292800</td>\n",
       "    </tr>\n",
       "    <tr>\n",
       "      <th>8</th>\n",
       "      <td>9</td>\n",
       "      <td>14/07/2020</td>\n",
       "      <td>FLYX</td>\n",
       "      <td>OTT Player</td>\n",
       "      <td>Streaming Social Network</td>\n",
       "      <td>New York and Delhi</td>\n",
       "      <td>Raj Mishra, founder of AIT Global Inc</td>\n",
       "      <td>pre-Seed</td>\n",
       "      <td>200000</td>\n",
       "    </tr>\n",
       "    <tr>\n",
       "      <th>9</th>\n",
       "      <td>10</td>\n",
       "      <td>13/07/2020</td>\n",
       "      <td>Open Appliances Pvt. Ltd.</td>\n",
       "      <td>Information Technology</td>\n",
       "      <td>Internet-of-Things Security Solutions</td>\n",
       "      <td>Bangalore</td>\n",
       "      <td>Unicorn India Ventures</td>\n",
       "      <td>Venture-Series Unknown</td>\n",
       "      <td>500000</td>\n",
       "    </tr>\n",
       "  </tbody>\n",
       "</table>\n",
       "</div>"
      ],
      "text/plain": [
       "   Sr. No. Date (dd/mm/yyyy)               Startup Name  \\\n",
       "0        1        15/07/2020                   Flipkart   \n",
       "1        2        16/07/2020                    Vedantu   \n",
       "2        3        16/07/2020                       Crio   \n",
       "3        4        14/07/2020                    goDutch   \n",
       "4        5        13/07/2020                   Mystifly   \n",
       "5        6        09/07/2020               JetSynthesys   \n",
       "6        7        10/07/2020                   gigIndia   \n",
       "7        8        15/07/2020                  PumPumPum   \n",
       "8        9        14/07/2020                       FLYX   \n",
       "9       10        13/07/2020  Open Appliances Pvt. Ltd.   \n",
       "\n",
       "        Industry / Vertical  \\\n",
       "0                E-commerce   \n",
       "1                   EduTech   \n",
       "2                   EduTech   \n",
       "3                   FinTech   \n",
       "4       Airfare Marketplace   \n",
       "5  Gaming and Entertainment   \n",
       "6               Marketplace   \n",
       "7         Automotive Rental   \n",
       "8                OTT Player   \n",
       "9    Information Technology   \n",
       "\n",
       "                                        Sub-Vertical          City / Location  \\\n",
       "0                                         E-commerce                Bangalore   \n",
       "1                                    Online Tutoring                Bangalore   \n",
       "2                   Learning Platform for Developers                Bangalore   \n",
       "3                                     Group Payments                   Mumbai   \n",
       "4  Ticketing, Airline Retailing, and Post-Ticketi...  Singapore and Bangalore   \n",
       "5                           Gaming and Entertainment                     Pune   \n",
       "6                          Crowd Sourcing, Freelance                     Pune   \n",
       "7                          Used Car-leasing platform                  Gurgaon   \n",
       "8                           Streaming Social Network       New York and Delhi   \n",
       "9              Internet-of-Things Security Solutions                Bangalore   \n",
       "\n",
       "                                     Investors' Name         Investment Type  \\\n",
       "0                                        Walmart Inc                     M&A   \n",
       "1                                  Coatue Management                Series D   \n",
       "2                                        021 Capital            pre-Series A   \n",
       "3  Matrix India,Y Combinator, Global Founders Cap...                    Seed   \n",
       "4                                   Recruit Co. Ltd.            pre-Series B   \n",
       "5           Adar Poonawalla and Kris Gopalakrishnan.  Venture-Series Unknown   \n",
       "6       Incubate Fund India and Beyond Next Ventures            pre-Series A   \n",
       "7                           Early Adapters Syndicate                    Seed   \n",
       "8              Raj Mishra, founder of AIT Global Inc                pre-Seed   \n",
       "9                             Unicorn India Ventures  Venture-Series Unknown   \n",
       "\n",
       "   Amount (In USD)  \n",
       "0       1200000000  \n",
       "1        100000000  \n",
       "2           934160  \n",
       "3          1700000  \n",
       "4          3300000  \n",
       "5           400000  \n",
       "6           974200  \n",
       "7           292800  \n",
       "8           200000  \n",
       "9           500000  "
      ]
     },
     "execution_count": 252,
     "metadata": {},
     "output_type": "execute_result"
    }
   ],
   "source": [
    "#Making a dataframe for July 2020\n",
    "julyFundingDf = pd.read_html(tableJuly2020)\n",
    "julyFundingDf = julyFundingDf[1]\n",
    "julyFundingDf"
   ]
  },
  {
   "cell_type": "code",
   "execution_count": 245,
   "metadata": {},
   "outputs": [],
   "source": [
    "#Getting the August 2020 table\n",
    "tableAugust2020 = driver.find_element_by_xpath('//*[@id=\"tablepress-49_wrapper\"]/div[3]').get_attribute('outerHTML')"
   ]
  },
  {
   "cell_type": "code",
   "execution_count": 246,
   "metadata": {},
   "outputs": [
    {
     "data": {
      "text/html": [
       "<div>\n",
       "<style scoped>\n",
       "    .dataframe tbody tr th:only-of-type {\n",
       "        vertical-align: middle;\n",
       "    }\n",
       "\n",
       "    .dataframe tbody tr th {\n",
       "        vertical-align: top;\n",
       "    }\n",
       "\n",
       "    .dataframe thead th {\n",
       "        text-align: right;\n",
       "    }\n",
       "</style>\n",
       "<table border=\"1\" class=\"dataframe\">\n",
       "  <thead>\n",
       "    <tr style=\"text-align: right;\">\n",
       "      <th></th>\n",
       "      <th>Sr. No.</th>\n",
       "      <th>Date (dd/mm/yyyy)</th>\n",
       "      <th>Startup Name</th>\n",
       "      <th>Industry / Vertical</th>\n",
       "      <th>Sub-Vertical</th>\n",
       "      <th>City / Location</th>\n",
       "      <th>Investors' Name</th>\n",
       "      <th>Investment Type</th>\n",
       "      <th>Amount (In USD)</th>\n",
       "    </tr>\n",
       "  </thead>\n",
       "  <tbody>\n",
       "    <tr>\n",
       "      <th>0</th>\n",
       "      <td>1</td>\n",
       "      <td>15/08/2020</td>\n",
       "      <td>Practo</td>\n",
       "      <td>HealthTech</td>\n",
       "      <td>Health care and Wellness</td>\n",
       "      <td>Bangalore</td>\n",
       "      <td>A1A Company</td>\n",
       "      <td>Series F</td>\n",
       "      <td>32000000</td>\n",
       "    </tr>\n",
       "    <tr>\n",
       "      <th>1</th>\n",
       "      <td>2</td>\n",
       "      <td>13/08/2020</td>\n",
       "      <td>Medlife</td>\n",
       "      <td>E-commerce</td>\n",
       "      <td>Online Pharmacy</td>\n",
       "      <td>Bangalore</td>\n",
       "      <td>Prasid Uno Family Trust and SC Credit Fund</td>\n",
       "      <td>NaN</td>\n",
       "      <td>23000000</td>\n",
       "    </tr>\n",
       "    <tr>\n",
       "      <th>2</th>\n",
       "      <td>3</td>\n",
       "      <td>13/08/2020</td>\n",
       "      <td>HungerBox</td>\n",
       "      <td>FoodTech</td>\n",
       "      <td>Online Food Delivery Service</td>\n",
       "      <td>Bangalore</td>\n",
       "      <td>One97, Sabre Partners Trust, Pratithi Investme...</td>\n",
       "      <td>Series D1</td>\n",
       "      <td>1560000</td>\n",
       "    </tr>\n",
       "    <tr>\n",
       "      <th>3</th>\n",
       "      <td>4</td>\n",
       "      <td>04/08/2020</td>\n",
       "      <td>Dunzo</td>\n",
       "      <td>Hyper-local Logistics</td>\n",
       "      <td>Online Delivery Services</td>\n",
       "      <td>Bangalore</td>\n",
       "      <td>Existing Backers</td>\n",
       "      <td>In Progress</td>\n",
       "      <td>30000000</td>\n",
       "    </tr>\n",
       "    <tr>\n",
       "      <th>4</th>\n",
       "      <td>5</td>\n",
       "      <td>11/08/2020</td>\n",
       "      <td>Terra.do</td>\n",
       "      <td>EduTech</td>\n",
       "      <td>Online Climate School, E-learning</td>\n",
       "      <td>Stanford, California,</td>\n",
       "      <td>Stanford Angels and Entrepreneurs (India), BEE...</td>\n",
       "      <td>Seed</td>\n",
       "      <td>1400000</td>\n",
       "    </tr>\n",
       "    <tr>\n",
       "      <th>5</th>\n",
       "      <td>6</td>\n",
       "      <td>12/08/2020</td>\n",
       "      <td>Classplus</td>\n",
       "      <td>EduTech</td>\n",
       "      <td>E-learning, Online Tutoring</td>\n",
       "      <td>Noida</td>\n",
       "      <td>Falcon Edge</td>\n",
       "      <td>In Progress</td>\n",
       "      <td>upto 15,000,000</td>\n",
       "    </tr>\n",
       "    <tr>\n",
       "      <th>6</th>\n",
       "      <td>7</td>\n",
       "      <td>14/08/2020</td>\n",
       "      <td>Niyo</td>\n",
       "      <td>FinTech</td>\n",
       "      <td>Financial Services</td>\n",
       "      <td>Bangalore</td>\n",
       "      <td>Niyo Solutions Inc.</td>\n",
       "      <td>NaN</td>\n",
       "      <td>6000000</td>\n",
       "    </tr>\n",
       "    <tr>\n",
       "      <th>7</th>\n",
       "      <td>8</td>\n",
       "      <td>10/08/2020</td>\n",
       "      <td>ZestMoney</td>\n",
       "      <td>FinTech</td>\n",
       "      <td>Financial Services</td>\n",
       "      <td>Bangalore</td>\n",
       "      <td>Primrose Hills Ventures</td>\n",
       "      <td>NaN</td>\n",
       "      <td>10670000</td>\n",
       "    </tr>\n",
       "    <tr>\n",
       "      <th>8</th>\n",
       "      <td>9</td>\n",
       "      <td>07/08/2020</td>\n",
       "      <td>FreshToHome</td>\n",
       "      <td>E-commerce</td>\n",
       "      <td>Food Delivery</td>\n",
       "      <td>Bangalore</td>\n",
       "      <td>Ascent Capital</td>\n",
       "      <td>Venture</td>\n",
       "      <td>16200000</td>\n",
       "    </tr>\n",
       "    <tr>\n",
       "      <th>9</th>\n",
       "      <td>10</td>\n",
       "      <td>13/08/2020</td>\n",
       "      <td>Eduvanz</td>\n",
       "      <td>FinTech</td>\n",
       "      <td>Financial Services</td>\n",
       "      <td>Mumbai</td>\n",
       "      <td>Sequoia India, Unitus</td>\n",
       "      <td>Series A</td>\n",
       "      <td>5000000</td>\n",
       "    </tr>\n",
       "  </tbody>\n",
       "</table>\n",
       "</div>"
      ],
      "text/plain": [
       "   Sr. No. Date (dd/mm/yyyy) Startup Name    Industry / Vertical  \\\n",
       "0        1        15/08/2020       Practo             HealthTech   \n",
       "1        2        13/08/2020      Medlife             E-commerce   \n",
       "2        3        13/08/2020    HungerBox               FoodTech   \n",
       "3        4        04/08/2020        Dunzo  Hyper-local Logistics   \n",
       "4        5        11/08/2020     Terra.do                EduTech   \n",
       "5        6        12/08/2020    Classplus                EduTech   \n",
       "6        7        14/08/2020         Niyo                FinTech   \n",
       "7        8        10/08/2020    ZestMoney                FinTech   \n",
       "8        9        07/08/2020  FreshToHome             E-commerce   \n",
       "9       10        13/08/2020      Eduvanz                FinTech   \n",
       "\n",
       "                        Sub-Vertical        City / Location  \\\n",
       "0           Health care and Wellness              Bangalore   \n",
       "1                    Online Pharmacy              Bangalore   \n",
       "2       Online Food Delivery Service              Bangalore   \n",
       "3           Online Delivery Services              Bangalore   \n",
       "4  Online Climate School, E-learning  Stanford, California,   \n",
       "5        E-learning, Online Tutoring                  Noida   \n",
       "6                 Financial Services              Bangalore   \n",
       "7                 Financial Services              Bangalore   \n",
       "8                      Food Delivery              Bangalore   \n",
       "9                 Financial Services                 Mumbai   \n",
       "\n",
       "                                     Investors' Name Investment Type  \\\n",
       "0                                        A1A Company        Series F   \n",
       "1         Prasid Uno Family Trust and SC Credit Fund             NaN   \n",
       "2  One97, Sabre Partners Trust, Pratithi Investme...       Series D1   \n",
       "3                                   Existing Backers     In Progress   \n",
       "4  Stanford Angels and Entrepreneurs (India), BEE...            Seed   \n",
       "5                                        Falcon Edge     In Progress   \n",
       "6                                Niyo Solutions Inc.             NaN   \n",
       "7                            Primrose Hills Ventures             NaN   \n",
       "8                                     Ascent Capital         Venture   \n",
       "9                              Sequoia India, Unitus        Series A   \n",
       "\n",
       "   Amount (In USD)  \n",
       "0         32000000  \n",
       "1         23000000  \n",
       "2          1560000  \n",
       "3         30000000  \n",
       "4          1400000  \n",
       "5  upto 15,000,000  \n",
       "6          6000000  \n",
       "7         10670000  \n",
       "8         16200000  \n",
       "9          5000000  "
      ]
     },
     "execution_count": 246,
     "metadata": {},
     "output_type": "execute_result"
    }
   ],
   "source": [
    "#Making a dataframe for August 2020\n",
    "augustFundingDf = pd.read_html(tableAugust2020)\n",
    "augustFundingDf = augustFundingDf[1]\n",
    "augustFundingDf"
   ]
  },
  {
   "cell_type": "code",
   "execution_count": 247,
   "metadata": {},
   "outputs": [],
   "source": [
    "#Getting the September 2020 table\n",
    "tableSept2020 = driver.find_element_by_xpath('//*[@id=\"tablepress-50_wrapper\"]/div[3]').get_attribute('outerHTML')"
   ]
  },
  {
   "cell_type": "code",
   "execution_count": 248,
   "metadata": {},
   "outputs": [
    {
     "data": {
      "text/html": [
       "<div>\n",
       "<style scoped>\n",
       "    .dataframe tbody tr th:only-of-type {\n",
       "        vertical-align: middle;\n",
       "    }\n",
       "\n",
       "    .dataframe tbody tr th {\n",
       "        vertical-align: top;\n",
       "    }\n",
       "\n",
       "    .dataframe thead th {\n",
       "        text-align: right;\n",
       "    }\n",
       "</style>\n",
       "<table border=\"1\" class=\"dataframe\">\n",
       "  <thead>\n",
       "    <tr style=\"text-align: right;\">\n",
       "      <th></th>\n",
       "      <th>Sr. No.</th>\n",
       "      <th>Date (dd/mm/yyyy)</th>\n",
       "      <th>Startup Name</th>\n",
       "      <th>Industry / Vertical</th>\n",
       "      <th>Sub-Vertical</th>\n",
       "      <th>City / Location</th>\n",
       "      <th>Investors' Name</th>\n",
       "      <th>Investment Type</th>\n",
       "      <th>Amount (In USD)</th>\n",
       "    </tr>\n",
       "  </thead>\n",
       "  <tbody>\n",
       "    <tr>\n",
       "      <th>0</th>\n",
       "      <td>1</td>\n",
       "      <td>08/09/2020</td>\n",
       "      <td>Byju’s</td>\n",
       "      <td>EduTech</td>\n",
       "      <td>Online Tutoring</td>\n",
       "      <td>Bangalore</td>\n",
       "      <td>Silver Lake, Tiger Global, General Atlantic an...</td>\n",
       "      <td>Private Equity</td>\n",
       "      <td>500000000</td>\n",
       "    </tr>\n",
       "    <tr>\n",
       "      <th>1</th>\n",
       "      <td>2</td>\n",
       "      <td>12/09/2020</td>\n",
       "      <td>mCaffeine</td>\n",
       "      <td>Personal Care</td>\n",
       "      <td>Skincare &amp; Haircare</td>\n",
       "      <td>Mumbai</td>\n",
       "      <td>Amicus Capital Private Equity I LLP, Amicus Ca...</td>\n",
       "      <td>Series B</td>\n",
       "      <td>3000000</td>\n",
       "    </tr>\n",
       "    <tr>\n",
       "      <th>2</th>\n",
       "      <td>3</td>\n",
       "      <td>09/09/2020</td>\n",
       "      <td>Qshala</td>\n",
       "      <td>EduTech</td>\n",
       "      <td>Online Curiosity Platform for Kids</td>\n",
       "      <td>Bangalore</td>\n",
       "      <td>Rainmatter Capital</td>\n",
       "      <td>Angel</td>\n",
       "      <td>370000</td>\n",
       "    </tr>\n",
       "    <tr>\n",
       "      <th>3</th>\n",
       "      <td>4</td>\n",
       "      <td>02/09/2020</td>\n",
       "      <td>Winzo</td>\n",
       "      <td>Online Gaming</td>\n",
       "      <td>Online Gaming</td>\n",
       "      <td>New Delhi</td>\n",
       "      <td>Kalaari Capital Partners, IndigoEdge Managemen...</td>\n",
       "      <td>Series B</td>\n",
       "      <td>15500000</td>\n",
       "    </tr>\n",
       "    <tr>\n",
       "      <th>4</th>\n",
       "      <td>5</td>\n",
       "      <td>09/09/2020</td>\n",
       "      <td>Hippo Video</td>\n",
       "      <td>Video Customer Experience(CX) Platform</td>\n",
       "      <td>Video Customer Experience(CX) Platform</td>\n",
       "      <td>Newark, Delaware, United States of Amercia</td>\n",
       "      <td>Alpha Wave Incubation, Exfinity Venture Partne...</td>\n",
       "      <td>Series A</td>\n",
       "      <td>4500000</td>\n",
       "    </tr>\n",
       "    <tr>\n",
       "      <th>5</th>\n",
       "      <td>6</td>\n",
       "      <td>07/09/2020</td>\n",
       "      <td>Melorra</td>\n",
       "      <td>E-commerce</td>\n",
       "      <td>Online Jewelry Store</td>\n",
       "      <td>Bangalore</td>\n",
       "      <td>Shadow Holdings, Lightbox.</td>\n",
       "      <td>Debt Financing</td>\n",
       "      <td>upto 8,900,000</td>\n",
       "    </tr>\n",
       "    <tr>\n",
       "      <th>6</th>\n",
       "      <td>7</td>\n",
       "      <td>07/09/2020</td>\n",
       "      <td>1mg</td>\n",
       "      <td>E-commerce</td>\n",
       "      <td>Online Pharmacy</td>\n",
       "      <td>Gurgaon</td>\n",
       "      <td>Gaja Capital, Tata Capital, Partners Group</td>\n",
       "      <td>In Progress</td>\n",
       "      <td>100000000</td>\n",
       "    </tr>\n",
       "    <tr>\n",
       "      <th>7</th>\n",
       "      <td>8</td>\n",
       "      <td>31/08/2020</td>\n",
       "      <td>mfine</td>\n",
       "      <td>HealthTech</td>\n",
       "      <td>On-Demand Healthcare Services</td>\n",
       "      <td>Bangalore</td>\n",
       "      <td>Caretech Pte Inc</td>\n",
       "      <td>Series B</td>\n",
       "      <td>5400000</td>\n",
       "    </tr>\n",
       "    <tr>\n",
       "      <th>8</th>\n",
       "      <td>9</td>\n",
       "      <td>31/08/2020</td>\n",
       "      <td>Apna</td>\n",
       "      <td>Human Resources</td>\n",
       "      <td>Recruitment Platform</td>\n",
       "      <td>Bangalore</td>\n",
       "      <td>Lightspeed India and Sequoia Capital India</td>\n",
       "      <td>Series A</td>\n",
       "      <td>8000000</td>\n",
       "    </tr>\n",
       "    <tr>\n",
       "      <th>9</th>\n",
       "      <td>10</td>\n",
       "      <td>03/09/2020</td>\n",
       "      <td>Railofy</td>\n",
       "      <td>Transportation</td>\n",
       "      <td>WL &amp; RAC protection platform</td>\n",
       "      <td>Mumbai</td>\n",
       "      <td>Chiratae Ventures</td>\n",
       "      <td>Seed</td>\n",
       "      <td>950000</td>\n",
       "    </tr>\n",
       "  </tbody>\n",
       "</table>\n",
       "</div>"
      ],
      "text/plain": [
       "   Sr. No. Date (dd/mm/yyyy) Startup Name  \\\n",
       "0        1        08/09/2020       Byju’s   \n",
       "1        2        12/09/2020    mCaffeine   \n",
       "2        3        09/09/2020       Qshala   \n",
       "3        4        02/09/2020        Winzo   \n",
       "4        5        09/09/2020  Hippo Video   \n",
       "5        6        07/09/2020      Melorra   \n",
       "6        7        07/09/2020          1mg   \n",
       "7        8        31/08/2020        mfine   \n",
       "8        9        31/08/2020         Apna   \n",
       "9       10        03/09/2020      Railofy   \n",
       "\n",
       "                      Industry / Vertical  \\\n",
       "0                                 EduTech   \n",
       "1                           Personal Care   \n",
       "2                                 EduTech   \n",
       "3                           Online Gaming   \n",
       "4  Video Customer Experience(CX) Platform   \n",
       "5                              E-commerce   \n",
       "6                              E-commerce   \n",
       "7                              HealthTech   \n",
       "8                         Human Resources   \n",
       "9                          Transportation   \n",
       "\n",
       "                             Sub-Vertical  \\\n",
       "0                         Online Tutoring   \n",
       "1                     Skincare & Haircare   \n",
       "2      Online Curiosity Platform for Kids   \n",
       "3                           Online Gaming   \n",
       "4  Video Customer Experience(CX) Platform   \n",
       "5                    Online Jewelry Store   \n",
       "6                         Online Pharmacy   \n",
       "7           On-Demand Healthcare Services   \n",
       "8                    Recruitment Platform   \n",
       "9            WL & RAC protection platform   \n",
       "\n",
       "                              City / Location  \\\n",
       "0                                   Bangalore   \n",
       "1                                      Mumbai   \n",
       "2                                   Bangalore   \n",
       "3                                   New Delhi   \n",
       "4  Newark, Delaware, United States of Amercia   \n",
       "5                                   Bangalore   \n",
       "6                                     Gurgaon   \n",
       "7                                   Bangalore   \n",
       "8                                   Bangalore   \n",
       "9                                      Mumbai   \n",
       "\n",
       "                                     Investors' Name Investment Type  \\\n",
       "0  Silver Lake, Tiger Global, General Atlantic an...  Private Equity   \n",
       "1  Amicus Capital Private Equity I LLP, Amicus Ca...        Series B   \n",
       "2                                 Rainmatter Capital           Angel   \n",
       "3  Kalaari Capital Partners, IndigoEdge Managemen...        Series B   \n",
       "4  Alpha Wave Incubation, Exfinity Venture Partne...        Series A   \n",
       "5                         Shadow Holdings, Lightbox.  Debt Financing   \n",
       "6         Gaja Capital, Tata Capital, Partners Group     In Progress   \n",
       "7                                   Caretech Pte Inc        Series B   \n",
       "8         Lightspeed India and Sequoia Capital India        Series A   \n",
       "9                                  Chiratae Ventures            Seed   \n",
       "\n",
       "  Amount (In USD)  \n",
       "0       500000000  \n",
       "1         3000000  \n",
       "2          370000  \n",
       "3        15500000  \n",
       "4         4500000  \n",
       "5  upto 8,900,000  \n",
       "6       100000000  \n",
       "7         5400000  \n",
       "8         8000000  \n",
       "9          950000  "
      ]
     },
     "execution_count": 248,
     "metadata": {},
     "output_type": "execute_result"
    }
   ],
   "source": [
    "#Making a dataframe for September 2020\n",
    "septFundingDf = pd.read_html(tableSept2020)\n",
    "septFundingDf = septFundingDf[1]\n",
    "septFundingDf"
   ]
  },
  {
   "cell_type": "code",
   "execution_count": 253,
   "metadata": {},
   "outputs": [],
   "source": [
    "#Adding a new column containing information about funding month\n",
    "julyFundingDf['Funding Month'] = 'July'\n",
    "augustFundingDf['Funding Month'] = 'August'\n",
    "septFundingDf['Funding Month'] = 'September'"
   ]
  },
  {
   "cell_type": "code",
   "execution_count": 254,
   "metadata": {},
   "outputs": [],
   "source": [
    "dfList = [julyFundingDf, augustFundingDf, septFundingDf]"
   ]
  },
  {
   "cell_type": "code",
   "execution_count": 255,
   "metadata": {},
   "outputs": [
    {
     "data": {
      "text/html": [
       "<div>\n",
       "<style scoped>\n",
       "    .dataframe tbody tr th:only-of-type {\n",
       "        vertical-align: middle;\n",
       "    }\n",
       "\n",
       "    .dataframe tbody tr th {\n",
       "        vertical-align: top;\n",
       "    }\n",
       "\n",
       "    .dataframe thead th {\n",
       "        text-align: right;\n",
       "    }\n",
       "</style>\n",
       "<table border=\"1\" class=\"dataframe\">\n",
       "  <thead>\n",
       "    <tr style=\"text-align: right;\">\n",
       "      <th></th>\n",
       "      <th>Sr. No.</th>\n",
       "      <th>Date (dd/mm/yyyy)</th>\n",
       "      <th>Startup Name</th>\n",
       "      <th>Industry / Vertical</th>\n",
       "      <th>Sub-Vertical</th>\n",
       "      <th>City / Location</th>\n",
       "      <th>Investors' Name</th>\n",
       "      <th>Investment Type</th>\n",
       "      <th>Amount (In USD)</th>\n",
       "      <th>Funding Month</th>\n",
       "    </tr>\n",
       "  </thead>\n",
       "  <tbody>\n",
       "    <tr>\n",
       "      <th>0</th>\n",
       "      <td>1</td>\n",
       "      <td>15/07/2020</td>\n",
       "      <td>Flipkart</td>\n",
       "      <td>E-commerce</td>\n",
       "      <td>E-commerce</td>\n",
       "      <td>Bangalore</td>\n",
       "      <td>Walmart Inc</td>\n",
       "      <td>M&amp;A</td>\n",
       "      <td>1200000000</td>\n",
       "      <td>July</td>\n",
       "    </tr>\n",
       "    <tr>\n",
       "      <th>1</th>\n",
       "      <td>2</td>\n",
       "      <td>16/07/2020</td>\n",
       "      <td>Vedantu</td>\n",
       "      <td>EduTech</td>\n",
       "      <td>Online Tutoring</td>\n",
       "      <td>Bangalore</td>\n",
       "      <td>Coatue Management</td>\n",
       "      <td>Series D</td>\n",
       "      <td>100000000</td>\n",
       "      <td>July</td>\n",
       "    </tr>\n",
       "    <tr>\n",
       "      <th>2</th>\n",
       "      <td>3</td>\n",
       "      <td>16/07/2020</td>\n",
       "      <td>Crio</td>\n",
       "      <td>EduTech</td>\n",
       "      <td>Learning Platform for Developers</td>\n",
       "      <td>Bangalore</td>\n",
       "      <td>021 Capital</td>\n",
       "      <td>pre-Series A</td>\n",
       "      <td>934160</td>\n",
       "      <td>July</td>\n",
       "    </tr>\n",
       "    <tr>\n",
       "      <th>3</th>\n",
       "      <td>4</td>\n",
       "      <td>14/07/2020</td>\n",
       "      <td>goDutch</td>\n",
       "      <td>FinTech</td>\n",
       "      <td>Group Payments</td>\n",
       "      <td>Mumbai</td>\n",
       "      <td>Matrix India,Y Combinator, Global Founders Cap...</td>\n",
       "      <td>Seed</td>\n",
       "      <td>1700000</td>\n",
       "      <td>July</td>\n",
       "    </tr>\n",
       "    <tr>\n",
       "      <th>4</th>\n",
       "      <td>5</td>\n",
       "      <td>13/07/2020</td>\n",
       "      <td>Mystifly</td>\n",
       "      <td>Airfare Marketplace</td>\n",
       "      <td>Ticketing, Airline Retailing, and Post-Ticketi...</td>\n",
       "      <td>Singapore and Bangalore</td>\n",
       "      <td>Recruit Co. Ltd.</td>\n",
       "      <td>pre-Series B</td>\n",
       "      <td>3300000</td>\n",
       "      <td>July</td>\n",
       "    </tr>\n",
       "    <tr>\n",
       "      <th>5</th>\n",
       "      <td>6</td>\n",
       "      <td>09/07/2020</td>\n",
       "      <td>JetSynthesys</td>\n",
       "      <td>Gaming and Entertainment</td>\n",
       "      <td>Gaming and Entertainment</td>\n",
       "      <td>Pune</td>\n",
       "      <td>Adar Poonawalla and Kris Gopalakrishnan.</td>\n",
       "      <td>Venture-Series Unknown</td>\n",
       "      <td>400000</td>\n",
       "      <td>July</td>\n",
       "    </tr>\n",
       "    <tr>\n",
       "      <th>6</th>\n",
       "      <td>7</td>\n",
       "      <td>10/07/2020</td>\n",
       "      <td>gigIndia</td>\n",
       "      <td>Marketplace</td>\n",
       "      <td>Crowd Sourcing, Freelance</td>\n",
       "      <td>Pune</td>\n",
       "      <td>Incubate Fund India and Beyond Next Ventures</td>\n",
       "      <td>pre-Series A</td>\n",
       "      <td>974200</td>\n",
       "      <td>July</td>\n",
       "    </tr>\n",
       "    <tr>\n",
       "      <th>7</th>\n",
       "      <td>8</td>\n",
       "      <td>15/07/2020</td>\n",
       "      <td>PumPumPum</td>\n",
       "      <td>Automotive Rental</td>\n",
       "      <td>Used Car-leasing platform</td>\n",
       "      <td>Gurgaon</td>\n",
       "      <td>Early Adapters Syndicate</td>\n",
       "      <td>Seed</td>\n",
       "      <td>292800</td>\n",
       "      <td>July</td>\n",
       "    </tr>\n",
       "    <tr>\n",
       "      <th>8</th>\n",
       "      <td>9</td>\n",
       "      <td>14/07/2020</td>\n",
       "      <td>FLYX</td>\n",
       "      <td>OTT Player</td>\n",
       "      <td>Streaming Social Network</td>\n",
       "      <td>New York and Delhi</td>\n",
       "      <td>Raj Mishra, founder of AIT Global Inc</td>\n",
       "      <td>pre-Seed</td>\n",
       "      <td>200000</td>\n",
       "      <td>July</td>\n",
       "    </tr>\n",
       "    <tr>\n",
       "      <th>9</th>\n",
       "      <td>10</td>\n",
       "      <td>13/07/2020</td>\n",
       "      <td>Open Appliances Pvt. Ltd.</td>\n",
       "      <td>Information Technology</td>\n",
       "      <td>Internet-of-Things Security Solutions</td>\n",
       "      <td>Bangalore</td>\n",
       "      <td>Unicorn India Ventures</td>\n",
       "      <td>Venture-Series Unknown</td>\n",
       "      <td>500000</td>\n",
       "      <td>July</td>\n",
       "    </tr>\n",
       "    <tr>\n",
       "      <th>0</th>\n",
       "      <td>1</td>\n",
       "      <td>15/08/2020</td>\n",
       "      <td>Practo</td>\n",
       "      <td>HealthTech</td>\n",
       "      <td>Health care and Wellness</td>\n",
       "      <td>Bangalore</td>\n",
       "      <td>A1A Company</td>\n",
       "      <td>Series F</td>\n",
       "      <td>32000000</td>\n",
       "      <td>August</td>\n",
       "    </tr>\n",
       "    <tr>\n",
       "      <th>1</th>\n",
       "      <td>2</td>\n",
       "      <td>13/08/2020</td>\n",
       "      <td>Medlife</td>\n",
       "      <td>E-commerce</td>\n",
       "      <td>Online Pharmacy</td>\n",
       "      <td>Bangalore</td>\n",
       "      <td>Prasid Uno Family Trust and SC Credit Fund</td>\n",
       "      <td>NaN</td>\n",
       "      <td>23000000</td>\n",
       "      <td>August</td>\n",
       "    </tr>\n",
       "    <tr>\n",
       "      <th>2</th>\n",
       "      <td>3</td>\n",
       "      <td>13/08/2020</td>\n",
       "      <td>HungerBox</td>\n",
       "      <td>FoodTech</td>\n",
       "      <td>Online Food Delivery Service</td>\n",
       "      <td>Bangalore</td>\n",
       "      <td>One97, Sabre Partners Trust, Pratithi Investme...</td>\n",
       "      <td>Series D1</td>\n",
       "      <td>1560000</td>\n",
       "      <td>August</td>\n",
       "    </tr>\n",
       "    <tr>\n",
       "      <th>3</th>\n",
       "      <td>4</td>\n",
       "      <td>04/08/2020</td>\n",
       "      <td>Dunzo</td>\n",
       "      <td>Hyper-local Logistics</td>\n",
       "      <td>Online Delivery Services</td>\n",
       "      <td>Bangalore</td>\n",
       "      <td>Existing Backers</td>\n",
       "      <td>In Progress</td>\n",
       "      <td>30000000</td>\n",
       "      <td>August</td>\n",
       "    </tr>\n",
       "    <tr>\n",
       "      <th>4</th>\n",
       "      <td>5</td>\n",
       "      <td>11/08/2020</td>\n",
       "      <td>Terra.do</td>\n",
       "      <td>EduTech</td>\n",
       "      <td>Online Climate School, E-learning</td>\n",
       "      <td>Stanford, California,</td>\n",
       "      <td>Stanford Angels and Entrepreneurs (India), BEE...</td>\n",
       "      <td>Seed</td>\n",
       "      <td>1400000</td>\n",
       "      <td>August</td>\n",
       "    </tr>\n",
       "    <tr>\n",
       "      <th>5</th>\n",
       "      <td>6</td>\n",
       "      <td>12/08/2020</td>\n",
       "      <td>Classplus</td>\n",
       "      <td>EduTech</td>\n",
       "      <td>E-learning, Online Tutoring</td>\n",
       "      <td>Noida</td>\n",
       "      <td>Falcon Edge</td>\n",
       "      <td>In Progress</td>\n",
       "      <td>upto 15,000,000</td>\n",
       "      <td>August</td>\n",
       "    </tr>\n",
       "    <tr>\n",
       "      <th>6</th>\n",
       "      <td>7</td>\n",
       "      <td>14/08/2020</td>\n",
       "      <td>Niyo</td>\n",
       "      <td>FinTech</td>\n",
       "      <td>Financial Services</td>\n",
       "      <td>Bangalore</td>\n",
       "      <td>Niyo Solutions Inc.</td>\n",
       "      <td>NaN</td>\n",
       "      <td>6000000</td>\n",
       "      <td>August</td>\n",
       "    </tr>\n",
       "    <tr>\n",
       "      <th>7</th>\n",
       "      <td>8</td>\n",
       "      <td>10/08/2020</td>\n",
       "      <td>ZestMoney</td>\n",
       "      <td>FinTech</td>\n",
       "      <td>Financial Services</td>\n",
       "      <td>Bangalore</td>\n",
       "      <td>Primrose Hills Ventures</td>\n",
       "      <td>NaN</td>\n",
       "      <td>10670000</td>\n",
       "      <td>August</td>\n",
       "    </tr>\n",
       "    <tr>\n",
       "      <th>8</th>\n",
       "      <td>9</td>\n",
       "      <td>07/08/2020</td>\n",
       "      <td>FreshToHome</td>\n",
       "      <td>E-commerce</td>\n",
       "      <td>Food Delivery</td>\n",
       "      <td>Bangalore</td>\n",
       "      <td>Ascent Capital</td>\n",
       "      <td>Venture</td>\n",
       "      <td>16200000</td>\n",
       "      <td>August</td>\n",
       "    </tr>\n",
       "    <tr>\n",
       "      <th>9</th>\n",
       "      <td>10</td>\n",
       "      <td>13/08/2020</td>\n",
       "      <td>Eduvanz</td>\n",
       "      <td>FinTech</td>\n",
       "      <td>Financial Services</td>\n",
       "      <td>Mumbai</td>\n",
       "      <td>Sequoia India, Unitus</td>\n",
       "      <td>Series A</td>\n",
       "      <td>5000000</td>\n",
       "      <td>August</td>\n",
       "    </tr>\n",
       "    <tr>\n",
       "      <th>0</th>\n",
       "      <td>1</td>\n",
       "      <td>08/09/2020</td>\n",
       "      <td>Byju’s</td>\n",
       "      <td>EduTech</td>\n",
       "      <td>Online Tutoring</td>\n",
       "      <td>Bangalore</td>\n",
       "      <td>Silver Lake, Tiger Global, General Atlantic an...</td>\n",
       "      <td>Private Equity</td>\n",
       "      <td>500000000</td>\n",
       "      <td>September</td>\n",
       "    </tr>\n",
       "    <tr>\n",
       "      <th>1</th>\n",
       "      <td>2</td>\n",
       "      <td>12/09/2020</td>\n",
       "      <td>mCaffeine</td>\n",
       "      <td>Personal Care</td>\n",
       "      <td>Skincare &amp; Haircare</td>\n",
       "      <td>Mumbai</td>\n",
       "      <td>Amicus Capital Private Equity I LLP, Amicus Ca...</td>\n",
       "      <td>Series B</td>\n",
       "      <td>3000000</td>\n",
       "      <td>September</td>\n",
       "    </tr>\n",
       "    <tr>\n",
       "      <th>2</th>\n",
       "      <td>3</td>\n",
       "      <td>09/09/2020</td>\n",
       "      <td>Qshala</td>\n",
       "      <td>EduTech</td>\n",
       "      <td>Online Curiosity Platform for Kids</td>\n",
       "      <td>Bangalore</td>\n",
       "      <td>Rainmatter Capital</td>\n",
       "      <td>Angel</td>\n",
       "      <td>370000</td>\n",
       "      <td>September</td>\n",
       "    </tr>\n",
       "    <tr>\n",
       "      <th>3</th>\n",
       "      <td>4</td>\n",
       "      <td>02/09/2020</td>\n",
       "      <td>Winzo</td>\n",
       "      <td>Online Gaming</td>\n",
       "      <td>Online Gaming</td>\n",
       "      <td>New Delhi</td>\n",
       "      <td>Kalaari Capital Partners, IndigoEdge Managemen...</td>\n",
       "      <td>Series B</td>\n",
       "      <td>15500000</td>\n",
       "      <td>September</td>\n",
       "    </tr>\n",
       "    <tr>\n",
       "      <th>4</th>\n",
       "      <td>5</td>\n",
       "      <td>09/09/2020</td>\n",
       "      <td>Hippo Video</td>\n",
       "      <td>Video Customer Experience(CX) Platform</td>\n",
       "      <td>Video Customer Experience(CX) Platform</td>\n",
       "      <td>Newark, Delaware, United States of Amercia</td>\n",
       "      <td>Alpha Wave Incubation, Exfinity Venture Partne...</td>\n",
       "      <td>Series A</td>\n",
       "      <td>4500000</td>\n",
       "      <td>September</td>\n",
       "    </tr>\n",
       "    <tr>\n",
       "      <th>5</th>\n",
       "      <td>6</td>\n",
       "      <td>07/09/2020</td>\n",
       "      <td>Melorra</td>\n",
       "      <td>E-commerce</td>\n",
       "      <td>Online Jewelry Store</td>\n",
       "      <td>Bangalore</td>\n",
       "      <td>Shadow Holdings, Lightbox.</td>\n",
       "      <td>Debt Financing</td>\n",
       "      <td>upto 8,900,000</td>\n",
       "      <td>September</td>\n",
       "    </tr>\n",
       "    <tr>\n",
       "      <th>6</th>\n",
       "      <td>7</td>\n",
       "      <td>07/09/2020</td>\n",
       "      <td>1mg</td>\n",
       "      <td>E-commerce</td>\n",
       "      <td>Online Pharmacy</td>\n",
       "      <td>Gurgaon</td>\n",
       "      <td>Gaja Capital, Tata Capital, Partners Group</td>\n",
       "      <td>In Progress</td>\n",
       "      <td>100000000</td>\n",
       "      <td>September</td>\n",
       "    </tr>\n",
       "    <tr>\n",
       "      <th>7</th>\n",
       "      <td>8</td>\n",
       "      <td>31/08/2020</td>\n",
       "      <td>mfine</td>\n",
       "      <td>HealthTech</td>\n",
       "      <td>On-Demand Healthcare Services</td>\n",
       "      <td>Bangalore</td>\n",
       "      <td>Caretech Pte Inc</td>\n",
       "      <td>Series B</td>\n",
       "      <td>5400000</td>\n",
       "      <td>September</td>\n",
       "    </tr>\n",
       "    <tr>\n",
       "      <th>8</th>\n",
       "      <td>9</td>\n",
       "      <td>31/08/2020</td>\n",
       "      <td>Apna</td>\n",
       "      <td>Human Resources</td>\n",
       "      <td>Recruitment Platform</td>\n",
       "      <td>Bangalore</td>\n",
       "      <td>Lightspeed India and Sequoia Capital India</td>\n",
       "      <td>Series A</td>\n",
       "      <td>8000000</td>\n",
       "      <td>September</td>\n",
       "    </tr>\n",
       "    <tr>\n",
       "      <th>9</th>\n",
       "      <td>10</td>\n",
       "      <td>03/09/2020</td>\n",
       "      <td>Railofy</td>\n",
       "      <td>Transportation</td>\n",
       "      <td>WL &amp; RAC protection platform</td>\n",
       "      <td>Mumbai</td>\n",
       "      <td>Chiratae Ventures</td>\n",
       "      <td>Seed</td>\n",
       "      <td>950000</td>\n",
       "      <td>September</td>\n",
       "    </tr>\n",
       "  </tbody>\n",
       "</table>\n",
       "</div>"
      ],
      "text/plain": [
       "   Sr. No. Date (dd/mm/yyyy)               Startup Name  \\\n",
       "0        1        15/07/2020                   Flipkart   \n",
       "1        2        16/07/2020                    Vedantu   \n",
       "2        3        16/07/2020                       Crio   \n",
       "3        4        14/07/2020                    goDutch   \n",
       "4        5        13/07/2020                   Mystifly   \n",
       "5        6        09/07/2020               JetSynthesys   \n",
       "6        7        10/07/2020                   gigIndia   \n",
       "7        8        15/07/2020                  PumPumPum   \n",
       "8        9        14/07/2020                       FLYX   \n",
       "9       10        13/07/2020  Open Appliances Pvt. Ltd.   \n",
       "0        1        15/08/2020                     Practo   \n",
       "1        2        13/08/2020                    Medlife   \n",
       "2        3        13/08/2020                  HungerBox   \n",
       "3        4        04/08/2020                      Dunzo   \n",
       "4        5        11/08/2020                   Terra.do   \n",
       "5        6        12/08/2020                  Classplus   \n",
       "6        7        14/08/2020                       Niyo   \n",
       "7        8        10/08/2020                  ZestMoney   \n",
       "8        9        07/08/2020                FreshToHome   \n",
       "9       10        13/08/2020                    Eduvanz   \n",
       "0        1        08/09/2020                     Byju’s   \n",
       "1        2        12/09/2020                  mCaffeine   \n",
       "2        3        09/09/2020                     Qshala   \n",
       "3        4        02/09/2020                      Winzo   \n",
       "4        5        09/09/2020                Hippo Video   \n",
       "5        6        07/09/2020                    Melorra   \n",
       "6        7        07/09/2020                        1mg   \n",
       "7        8        31/08/2020                      mfine   \n",
       "8        9        31/08/2020                       Apna   \n",
       "9       10        03/09/2020                    Railofy   \n",
       "\n",
       "                      Industry / Vertical  \\\n",
       "0                              E-commerce   \n",
       "1                                 EduTech   \n",
       "2                                 EduTech   \n",
       "3                                 FinTech   \n",
       "4                     Airfare Marketplace   \n",
       "5                Gaming and Entertainment   \n",
       "6                             Marketplace   \n",
       "7                       Automotive Rental   \n",
       "8                              OTT Player   \n",
       "9                  Information Technology   \n",
       "0                              HealthTech   \n",
       "1                              E-commerce   \n",
       "2                                FoodTech   \n",
       "3                   Hyper-local Logistics   \n",
       "4                                 EduTech   \n",
       "5                                 EduTech   \n",
       "6                                 FinTech   \n",
       "7                                 FinTech   \n",
       "8                              E-commerce   \n",
       "9                                 FinTech   \n",
       "0                                 EduTech   \n",
       "1                           Personal Care   \n",
       "2                                 EduTech   \n",
       "3                           Online Gaming   \n",
       "4  Video Customer Experience(CX) Platform   \n",
       "5                              E-commerce   \n",
       "6                              E-commerce   \n",
       "7                              HealthTech   \n",
       "8                         Human Resources   \n",
       "9                          Transportation   \n",
       "\n",
       "                                        Sub-Vertical  \\\n",
       "0                                         E-commerce   \n",
       "1                                    Online Tutoring   \n",
       "2                   Learning Platform for Developers   \n",
       "3                                     Group Payments   \n",
       "4  Ticketing, Airline Retailing, and Post-Ticketi...   \n",
       "5                           Gaming and Entertainment   \n",
       "6                          Crowd Sourcing, Freelance   \n",
       "7                          Used Car-leasing platform   \n",
       "8                           Streaming Social Network   \n",
       "9              Internet-of-Things Security Solutions   \n",
       "0                           Health care and Wellness   \n",
       "1                                    Online Pharmacy   \n",
       "2                       Online Food Delivery Service   \n",
       "3                           Online Delivery Services   \n",
       "4                  Online Climate School, E-learning   \n",
       "5                        E-learning, Online Tutoring   \n",
       "6                                 Financial Services   \n",
       "7                                 Financial Services   \n",
       "8                                      Food Delivery   \n",
       "9                                 Financial Services   \n",
       "0                                    Online Tutoring   \n",
       "1                                Skincare & Haircare   \n",
       "2                 Online Curiosity Platform for Kids   \n",
       "3                                      Online Gaming   \n",
       "4             Video Customer Experience(CX) Platform   \n",
       "5                               Online Jewelry Store   \n",
       "6                                    Online Pharmacy   \n",
       "7                      On-Demand Healthcare Services   \n",
       "8                               Recruitment Platform   \n",
       "9                       WL & RAC protection platform   \n",
       "\n",
       "                              City / Location  \\\n",
       "0                                   Bangalore   \n",
       "1                                   Bangalore   \n",
       "2                                   Bangalore   \n",
       "3                                      Mumbai   \n",
       "4                     Singapore and Bangalore   \n",
       "5                                        Pune   \n",
       "6                                        Pune   \n",
       "7                                     Gurgaon   \n",
       "8                          New York and Delhi   \n",
       "9                                   Bangalore   \n",
       "0                                   Bangalore   \n",
       "1                                   Bangalore   \n",
       "2                                   Bangalore   \n",
       "3                                   Bangalore   \n",
       "4                       Stanford, California,   \n",
       "5                                       Noida   \n",
       "6                                   Bangalore   \n",
       "7                                   Bangalore   \n",
       "8                                   Bangalore   \n",
       "9                                      Mumbai   \n",
       "0                                   Bangalore   \n",
       "1                                      Mumbai   \n",
       "2                                   Bangalore   \n",
       "3                                   New Delhi   \n",
       "4  Newark, Delaware, United States of Amercia   \n",
       "5                                   Bangalore   \n",
       "6                                     Gurgaon   \n",
       "7                                   Bangalore   \n",
       "8                                   Bangalore   \n",
       "9                                      Mumbai   \n",
       "\n",
       "                                     Investors' Name         Investment Type  \\\n",
       "0                                        Walmart Inc                     M&A   \n",
       "1                                  Coatue Management                Series D   \n",
       "2                                        021 Capital            pre-Series A   \n",
       "3  Matrix India,Y Combinator, Global Founders Cap...                    Seed   \n",
       "4                                   Recruit Co. Ltd.            pre-Series B   \n",
       "5           Adar Poonawalla and Kris Gopalakrishnan.  Venture-Series Unknown   \n",
       "6       Incubate Fund India and Beyond Next Ventures            pre-Series A   \n",
       "7                           Early Adapters Syndicate                    Seed   \n",
       "8              Raj Mishra, founder of AIT Global Inc                pre-Seed   \n",
       "9                             Unicorn India Ventures  Venture-Series Unknown   \n",
       "0                                        A1A Company                Series F   \n",
       "1         Prasid Uno Family Trust and SC Credit Fund                     NaN   \n",
       "2  One97, Sabre Partners Trust, Pratithi Investme...               Series D1   \n",
       "3                                   Existing Backers             In Progress   \n",
       "4  Stanford Angels and Entrepreneurs (India), BEE...                    Seed   \n",
       "5                                        Falcon Edge             In Progress   \n",
       "6                                Niyo Solutions Inc.                     NaN   \n",
       "7                            Primrose Hills Ventures                     NaN   \n",
       "8                                     Ascent Capital                 Venture   \n",
       "9                              Sequoia India, Unitus                Series A   \n",
       "0  Silver Lake, Tiger Global, General Atlantic an...          Private Equity   \n",
       "1  Amicus Capital Private Equity I LLP, Amicus Ca...                Series B   \n",
       "2                                 Rainmatter Capital                   Angel   \n",
       "3  Kalaari Capital Partners, IndigoEdge Managemen...                Series B   \n",
       "4  Alpha Wave Incubation, Exfinity Venture Partne...                Series A   \n",
       "5                         Shadow Holdings, Lightbox.          Debt Financing   \n",
       "6         Gaja Capital, Tata Capital, Partners Group             In Progress   \n",
       "7                                   Caretech Pte Inc                Series B   \n",
       "8         Lightspeed India and Sequoia Capital India                Series A   \n",
       "9                                  Chiratae Ventures                    Seed   \n",
       "\n",
       "   Amount (In USD) Funding Month  \n",
       "0       1200000000          July  \n",
       "1        100000000          July  \n",
       "2           934160          July  \n",
       "3          1700000          July  \n",
       "4          3300000          July  \n",
       "5           400000          July  \n",
       "6           974200          July  \n",
       "7           292800          July  \n",
       "8           200000          July  \n",
       "9           500000          July  \n",
       "0         32000000        August  \n",
       "1         23000000        August  \n",
       "2          1560000        August  \n",
       "3         30000000        August  \n",
       "4          1400000        August  \n",
       "5  upto 15,000,000        August  \n",
       "6          6000000        August  \n",
       "7         10670000        August  \n",
       "8         16200000        August  \n",
       "9          5000000        August  \n",
       "0        500000000     September  \n",
       "1          3000000     September  \n",
       "2           370000     September  \n",
       "3         15500000     September  \n",
       "4          4500000     September  \n",
       "5   upto 8,900,000     September  \n",
       "6        100000000     September  \n",
       "7          5400000     September  \n",
       "8          8000000     September  \n",
       "9           950000     September  "
      ]
     },
     "execution_count": 255,
     "metadata": {},
     "output_type": "execute_result"
    }
   ],
   "source": [
    "#Making a final dataframe containing funding information for the entire quarter\n",
    "fundingDf = pd.concat(dfList)\n",
    "fundingDf"
   ]
  },
  {
   "cell_type": "code",
   "execution_count": 256,
   "metadata": {},
   "outputs": [],
   "source": [
    "driver.close()"
   ]
  },
  {
   "cell_type": "markdown",
   "metadata": {},
   "source": [
    "7. Top 10 Laptops from digit.in <a name = '7'></a>"
   ]
  },
  {
   "cell_type": "code",
   "execution_count": 231,
   "metadata": {},
   "outputs": [],
   "source": [
    "driver = webdriver.Chrome('./chromedriver')\n",
    "driver.get('https://www.digit.in')"
   ]
  },
  {
   "cell_type": "code",
   "execution_count": 232,
   "metadata": {},
   "outputs": [],
   "source": [
    "#Clicking on the Laptops tab\n",
    "driver.find_element_by_xpath('/html/body/div[1]/div[2]/div[4]/ul/li[3]/a').click()"
   ]
  },
  {
   "cell_type": "code",
   "execution_count": 234,
   "metadata": {},
   "outputs": [],
   "source": [
    "#Clicking on the Best Laptops tab\n",
    "driver.find_element_by_xpath('//*[@id=\"card_track\"]/a[2]').click()"
   ]
  },
  {
   "cell_type": "code",
   "execution_count": 235,
   "metadata": {},
   "outputs": [],
   "source": [
    "#Getting the HTML code for the laptop table\n",
    "table = driver.find_element_by_id('summtable').get_attribute('outerHTML')"
   ]
  },
  {
   "cell_type": "code",
   "execution_count": 238,
   "metadata": {},
   "outputs": [
    {
     "data": {
      "text/html": [
       "<div>\n",
       "<style scoped>\n",
       "    .dataframe tbody tr th:only-of-type {\n",
       "        vertical-align: middle;\n",
       "    }\n",
       "\n",
       "    .dataframe tbody tr th {\n",
       "        vertical-align: top;\n",
       "    }\n",
       "\n",
       "    .dataframe thead th {\n",
       "        text-align: right;\n",
       "    }\n",
       "</style>\n",
       "<table border=\"1\" class=\"dataframe\">\n",
       "  <thead>\n",
       "    <tr style=\"text-align: right;\">\n",
       "      <th></th>\n",
       "      <th>Product Name</th>\n",
       "      <th>Seller</th>\n",
       "      <th>Price</th>\n",
       "    </tr>\n",
       "  </thead>\n",
       "  <tbody>\n",
       "    <tr>\n",
       "      <th>0</th>\n",
       "      <td>Apple MacBook Pro 13-inch M1</td>\n",
       "      <td>amazon</td>\n",
       "      <td>₹119900</td>\n",
       "    </tr>\n",
       "    <tr>\n",
       "      <th>1</th>\n",
       "      <td>Dell XPS 13 (9310) - 2021</td>\n",
       "      <td>NaN</td>\n",
       "      <td>₹209990</td>\n",
       "    </tr>\n",
       "    <tr>\n",
       "      <th>2</th>\n",
       "      <td>ASUS ROG Zephyrus G14</td>\n",
       "      <td>amazon</td>\n",
       "      <td>₹164990</td>\n",
       "    </tr>\n",
       "    <tr>\n",
       "      <th>3</th>\n",
       "      <td>Apple MacBook Air M1</td>\n",
       "      <td>NaN</td>\n",
       "      <td>₹92900</td>\n",
       "    </tr>\n",
       "    <tr>\n",
       "      <th>4</th>\n",
       "      <td>HP Spectre x360 15-eb0014tx - 2021</td>\n",
       "      <td>NaN</td>\n",
       "      <td>₹194999</td>\n",
       "    </tr>\n",
       "    <tr>\n",
       "      <th>5</th>\n",
       "      <td>ASUS ExpertBook B9 (B9400)</td>\n",
       "      <td>NaN</td>\n",
       "      <td>NaN</td>\n",
       "    </tr>\n",
       "    <tr>\n",
       "      <th>6</th>\n",
       "      <td>Apple MacBook Pro 16-inch</td>\n",
       "      <td>amazon</td>\n",
       "      <td>₹195843</td>\n",
       "    </tr>\n",
       "    <tr>\n",
       "      <th>7</th>\n",
       "      <td>Acer Aspire 7 Gaming</td>\n",
       "      <td>NaN</td>\n",
       "      <td>₹56990</td>\n",
       "    </tr>\n",
       "    <tr>\n",
       "      <th>8</th>\n",
       "      <td>Lenovo ThinkPad X1 Extreme Gen 3</td>\n",
       "      <td>NaN</td>\n",
       "      <td>₹198336</td>\n",
       "    </tr>\n",
       "    <tr>\n",
       "      <th>9</th>\n",
       "      <td>HP Envy 15</td>\n",
       "      <td>amazon</td>\n",
       "      <td>₹127790</td>\n",
       "    </tr>\n",
       "  </tbody>\n",
       "</table>\n",
       "</div>"
      ],
      "text/plain": [
       "                         Product Name  Seller    Price\n",
       "0        Apple MacBook Pro 13-inch M1  amazon  ₹119900\n",
       "1           Dell XPS 13 (9310) - 2021     NaN  ₹209990\n",
       "2               ASUS ROG Zephyrus G14  amazon  ₹164990\n",
       "3                Apple MacBook Air M1     NaN   ₹92900\n",
       "4  HP Spectre x360 15-eb0014tx - 2021     NaN  ₹194999\n",
       "5          ASUS ExpertBook B9 (B9400)     NaN      NaN\n",
       "6           Apple MacBook Pro 16-inch  amazon  ₹195843\n",
       "7                Acer Aspire 7 Gaming     NaN   ₹56990\n",
       "8    Lenovo ThinkPad X1 Extreme Gen 3     NaN  ₹198336\n",
       "9                          HP Envy 15  amazon  ₹127790"
      ]
     },
     "execution_count": 238,
     "metadata": {},
     "output_type": "execute_result"
    }
   ],
   "source": [
    "#Converting HTML table into dataframe\n",
    "laptopDf = pd.read_html(table)\n",
    "laptopDf = laptopDf[0]\n",
    "laptopDf"
   ]
  },
  {
   "cell_type": "code",
   "execution_count": 337,
   "metadata": {},
   "outputs": [],
   "source": [
    "driver.close()"
   ]
  },
  {
   "cell_type": "code",
   "execution_count": null,
   "metadata": {},
   "outputs": [],
   "source": []
  }
 ],
 "metadata": {
  "kernelspec": {
   "display_name": "Python 3",
   "language": "python",
   "name": "python3"
  },
  "language_info": {
   "codemirror_mode": {
    "name": "ipython",
    "version": 3
   },
   "file_extension": ".py",
   "mimetype": "text/x-python",
   "name": "python",
   "nbconvert_exporter": "python",
   "pygments_lexer": "ipython3",
   "version": "3.7.6"
  }
 },
 "nbformat": 4,
 "nbformat_minor": 4
}
